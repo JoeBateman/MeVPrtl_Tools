{
 "cells": [
  {
   "cell_type": "markdown",
   "id": "0b699801",
   "metadata": {},
   "source": [
    "# caf Visualiser\n",
    "\n",
    "This notebook shows you the final output of the full workflow, and could be useful to compare with the output of visualiser.ipynb.\n",
    "Right now it makes use of the flatcaf, rather than caf filetype.\n",
    "\n",
    "Currently the notebook will grab the neutrino slice for each event, plot the true start and end points of a primary particle, and either the reconstructed track or shower (depending on whether cnnscore.track or cnnscore.shower is higher)."
   ]
  },
  {
   "cell_type": "code",
   "execution_count": 26,
   "id": "11753d4e",
   "metadata": {},
   "outputs": [],
   "source": [
    "from tools import *\n",
    "import uproot\n",
    "import matplotlib.pyplot as plt\n",
    "import awkward as ak\n",
    "import plotly.io as pio\n",
    "import plotly.colors as pc\n",
    "pio.templates['plotly'].layout['autosize'] = False"
   ]
  },
  {
   "cell_type": "code",
   "execution_count": 27,
   "id": "297a1732",
   "metadata": {},
   "outputs": [
    {
     "name": "stdout",
     "output_type": "stream",
     "text": [
      "['env;1', 'env/envtree;2', 'env/envtree;1', 'TotalPOT;1', 'TotalEvents;1', 'recTree;1', 'GenieEvtRecTree;1', 'metadata;1', 'metadata/metatree;1']\n"
     ]
    }
   ],
   "source": [
    "file_name = 'reco2_gen_ee_lowmass_hnl.flat.caf.root'\n",
    "caffile = uproot.open(file_name)\n",
    "print(caffile.keys())\n",
    "df = caffile['recTree'].arrays(library='pd')"
   ]
  },
  {
   "cell_type": "code",
   "execution_count": 28,
   "id": "c2d83292",
   "metadata": {},
   "outputs": [],
   "source": [
    "# Grabbing only the neutrino slice part of the dataframe\n",
    "sub_key_list = []\n",
    "for key in df.keys():\n",
    "    split_key = key.split('.')\n",
    "\n",
    "    if 'slc' == split_key[1]:\n",
    "        sub_key_list.append(key)\n",
    "\n",
    "df_red = df[sub_key_list]\n",
    "df_red.columns = df_red.columns.str.replace('rec.slc.', '')"
   ]
  },
  {
   "cell_type": "markdown",
   "id": "8db0f283",
   "metadata": {},
   "source": [
    "Defining the variables we want to grab & plot"
   ]
  },
  {
   "cell_type": "code",
   "execution_count": null,
   "id": "908b3282",
   "metadata": {},
   "outputs": [],
   "source": [
    "true_primary_vars = {\n",
    "    'start': ['truth.prim.start.x', 'truth.prim.start.y', 'truth.prim.start.z'],\n",
    "    'end': ['truth.prim.end.x', 'truth.prim.end.y', 'truth.prim.end.z'],\n",
    "    'pdg': ['truth.prim.pdg'],\n",
    "}\n",
    "\n",
    "reco_shower_vars = {\n",
    "    'start': ['reco.pfp.shw.start.x', 'reco.pfp.shw.start.y', 'reco.pfp.shw.start.z'],\n",
    "    'end': ['reco.pfp.shw.end.x', 'reco.pfp.shw.end.y', 'reco.pfp.shw.end.z'],\n",
    "    'angle': ['reco.pfp.shw.open_angle'],\n",
    "}\n",
    "\n",
    "reco_track_vars = {\n",
    "    'start': ['reco.pfp.trk.start.x', 'reco.pfp.trk.start.y', 'reco.pfp.trk.start.z'],\n",
    "    'end': ['reco.pfp.trk.end.x', 'reco.pfp.trk.end.y', 'reco.pfp.trk.end.z'],\n",
    "}\n",
    "\n",
    "track_shower_scores = ['reco.pfp.cnnscore.track', 'reco.pfp.cnnscore.shower', 'reco.pfp.trackScore']\n"
   ]
  },
  {
   "cell_type": "code",
   "execution_count": null,
   "id": "0e0181ca",
   "metadata": {},
   "outputs": [
    {
     "name": "stderr",
     "output_type": "stream",
     "text": [
      "/tmp/ipykernel_3608879/3541128311.py:41: FutureWarning:\n",
      "\n",
      "Series.__getitem__ treating keys as positions is deprecated. In a future version, integer keys will always be treated as labels (consistent with DataFrame behavior). To access a value by position, use `ser.iloc[pos]`\n",
      "\n",
      "/tmp/ipykernel_3608879/3541128311.py:42: FutureWarning:\n",
      "\n",
      "Series.__getitem__ treating keys as positions is deprecated. In a future version, integer keys will always be treated as labels (consistent with DataFrame behavior). To access a value by position, use `ser.iloc[pos]`\n",
      "\n",
      "/tmp/ipykernel_3608879/3541128311.py:43: FutureWarning:\n",
      "\n",
      "Series.__getitem__ treating keys as positions is deprecated. In a future version, integer keys will always be treated as labels (consistent with DataFrame behavior). To access a value by position, use `ser.iloc[pos]`\n",
      "\n",
      "/tmp/ipykernel_3608879/3541128311.py:45: FutureWarning:\n",
      "\n",
      "Series.__getitem__ treating keys as positions is deprecated. In a future version, integer keys will always be treated as labels (consistent with DataFrame behavior). To access a value by position, use `ser.iloc[pos]`\n",
      "\n",
      "/tmp/ipykernel_3608879/3541128311.py:46: FutureWarning:\n",
      "\n",
      "Series.__getitem__ treating keys as positions is deprecated. In a future version, integer keys will always be treated as labels (consistent with DataFrame behavior). To access a value by position, use `ser.iloc[pos]`\n",
      "\n",
      "/tmp/ipykernel_3608879/3541128311.py:84: FutureWarning:\n",
      "\n",
      "Series.__getitem__ treating keys as positions is deprecated. In a future version, integer keys will always be treated as labels (consistent with DataFrame behavior). To access a value by position, use `ser.iloc[pos]`\n",
      "\n",
      "/tmp/ipykernel_3608879/3541128311.py:89: FutureWarning:\n",
      "\n",
      "Series.__getitem__ treating keys as positions is deprecated. In a future version, integer keys will always be treated as labels (consistent with DataFrame behavior). To access a value by position, use `ser.iloc[pos]`\n",
      "\n",
      "/tmp/ipykernel_3608879/3541128311.py:90: FutureWarning:\n",
      "\n",
      "Series.__getitem__ treating keys as positions is deprecated. In a future version, integer keys will always be treated as labels (consistent with DataFrame behavior). To access a value by position, use `ser.iloc[pos]`\n",
      "\n",
      "/tmp/ipykernel_3608879/3541128311.py:100: FutureWarning:\n",
      "\n",
      "Series.__getitem__ treating keys as positions is deprecated. In a future version, integer keys will always be treated as labels (consistent with DataFrame behavior). To access a value by position, use `ser.iloc[pos]`\n",
      "\n",
      "/tmp/ipykernel_3608879/3541128311.py:101: FutureWarning:\n",
      "\n",
      "Series.__getitem__ treating keys as positions is deprecated. In a future version, integer keys will always be treated as labels (consistent with DataFrame behavior). To access a value by position, use `ser.iloc[pos]`\n",
      "\n",
      "/tmp/ipykernel_3608879/3541128311.py:115: FutureWarning:\n",
      "\n",
      "Series.__getitem__ treating keys as positions is deprecated. In a future version, integer keys will always be treated as labels (consistent with DataFrame behavior). To access a value by position, use `ser.iloc[pos]`\n",
      "\n",
      "/tmp/ipykernel_3608879/3541128311.py:116: FutureWarning:\n",
      "\n",
      "Series.__getitem__ treating keys as positions is deprecated. In a future version, integer keys will always be treated as labels (consistent with DataFrame behavior). To access a value by position, use `ser.iloc[pos]`\n",
      "\n",
      "/tmp/ipykernel_3608879/3541128311.py:41: FutureWarning:\n",
      "\n",
      "Series.__getitem__ treating keys as positions is deprecated. In a future version, integer keys will always be treated as labels (consistent with DataFrame behavior). To access a value by position, use `ser.iloc[pos]`\n",
      "\n",
      "/tmp/ipykernel_3608879/3541128311.py:42: FutureWarning:\n",
      "\n",
      "Series.__getitem__ treating keys as positions is deprecated. In a future version, integer keys will always be treated as labels (consistent with DataFrame behavior). To access a value by position, use `ser.iloc[pos]`\n",
      "\n",
      "/tmp/ipykernel_3608879/3541128311.py:43: FutureWarning:\n",
      "\n",
      "Series.__getitem__ treating keys as positions is deprecated. In a future version, integer keys will always be treated as labels (consistent with DataFrame behavior). To access a value by position, use `ser.iloc[pos]`\n",
      "\n",
      "/tmp/ipykernel_3608879/3541128311.py:45: FutureWarning:\n",
      "\n",
      "Series.__getitem__ treating keys as positions is deprecated. In a future version, integer keys will always be treated as labels (consistent with DataFrame behavior). To access a value by position, use `ser.iloc[pos]`\n",
      "\n",
      "/tmp/ipykernel_3608879/3541128311.py:46: FutureWarning:\n",
      "\n",
      "Series.__getitem__ treating keys as positions is deprecated. In a future version, integer keys will always be treated as labels (consistent with DataFrame behavior). To access a value by position, use `ser.iloc[pos]`\n",
      "\n",
      "/tmp/ipykernel_3608879/3541128311.py:84: FutureWarning:\n",
      "\n",
      "Series.__getitem__ treating keys as positions is deprecated. In a future version, integer keys will always be treated as labels (consistent with DataFrame behavior). To access a value by position, use `ser.iloc[pos]`\n",
      "\n",
      "/tmp/ipykernel_3608879/3541128311.py:89: FutureWarning:\n",
      "\n",
      "Series.__getitem__ treating keys as positions is deprecated. In a future version, integer keys will always be treated as labels (consistent with DataFrame behavior). To access a value by position, use `ser.iloc[pos]`\n",
      "\n",
      "/tmp/ipykernel_3608879/3541128311.py:90: FutureWarning:\n",
      "\n",
      "Series.__getitem__ treating keys as positions is deprecated. In a future version, integer keys will always be treated as labels (consistent with DataFrame behavior). To access a value by position, use `ser.iloc[pos]`\n",
      "\n",
      "/tmp/ipykernel_3608879/3541128311.py:100: FutureWarning:\n",
      "\n",
      "Series.__getitem__ treating keys as positions is deprecated. In a future version, integer keys will always be treated as labels (consistent with DataFrame behavior). To access a value by position, use `ser.iloc[pos]`\n",
      "\n",
      "/tmp/ipykernel_3608879/3541128311.py:101: FutureWarning:\n",
      "\n",
      "Series.__getitem__ treating keys as positions is deprecated. In a future version, integer keys will always be treated as labels (consistent with DataFrame behavior). To access a value by position, use `ser.iloc[pos]`\n",
      "\n",
      "/tmp/ipykernel_3608879/3541128311.py:115: FutureWarning:\n",
      "\n",
      "Series.__getitem__ treating keys as positions is deprecated. In a future version, integer keys will always be treated as labels (consistent with DataFrame behavior). To access a value by position, use `ser.iloc[pos]`\n",
      "\n",
      "/tmp/ipykernel_3608879/3541128311.py:116: FutureWarning:\n",
      "\n",
      "Series.__getitem__ treating keys as positions is deprecated. In a future version, integer keys will always be treated as labels (consistent with DataFrame behavior). To access a value by position, use `ser.iloc[pos]`\n",
      "\n",
      "/tmp/ipykernel_3608879/3541128311.py:41: FutureWarning:\n",
      "\n",
      "Series.__getitem__ treating keys as positions is deprecated. In a future version, integer keys will always be treated as labels (consistent with DataFrame behavior). To access a value by position, use `ser.iloc[pos]`\n",
      "\n",
      "/tmp/ipykernel_3608879/3541128311.py:42: FutureWarning:\n",
      "\n",
      "Series.__getitem__ treating keys as positions is deprecated. In a future version, integer keys will always be treated as labels (consistent with DataFrame behavior). To access a value by position, use `ser.iloc[pos]`\n",
      "\n",
      "/tmp/ipykernel_3608879/3541128311.py:43: FutureWarning:\n",
      "\n",
      "Series.__getitem__ treating keys as positions is deprecated. In a future version, integer keys will always be treated as labels (consistent with DataFrame behavior). To access a value by position, use `ser.iloc[pos]`\n",
      "\n",
      "/tmp/ipykernel_3608879/3541128311.py:45: FutureWarning:\n",
      "\n",
      "Series.__getitem__ treating keys as positions is deprecated. In a future version, integer keys will always be treated as labels (consistent with DataFrame behavior). To access a value by position, use `ser.iloc[pos]`\n",
      "\n",
      "/tmp/ipykernel_3608879/3541128311.py:46: FutureWarning:\n",
      "\n",
      "Series.__getitem__ treating keys as positions is deprecated. In a future version, integer keys will always be treated as labels (consistent with DataFrame behavior). To access a value by position, use `ser.iloc[pos]`\n",
      "\n",
      "/tmp/ipykernel_3608879/3541128311.py:84: FutureWarning:\n",
      "\n",
      "Series.__getitem__ treating keys as positions is deprecated. In a future version, integer keys will always be treated as labels (consistent with DataFrame behavior). To access a value by position, use `ser.iloc[pos]`\n",
      "\n",
      "/tmp/ipykernel_3608879/3541128311.py:89: FutureWarning:\n",
      "\n",
      "Series.__getitem__ treating keys as positions is deprecated. In a future version, integer keys will always be treated as labels (consistent with DataFrame behavior). To access a value by position, use `ser.iloc[pos]`\n",
      "\n",
      "/tmp/ipykernel_3608879/3541128311.py:90: FutureWarning:\n",
      "\n",
      "Series.__getitem__ treating keys as positions is deprecated. In a future version, integer keys will always be treated as labels (consistent with DataFrame behavior). To access a value by position, use `ser.iloc[pos]`\n",
      "\n",
      "/tmp/ipykernel_3608879/3541128311.py:100: FutureWarning:\n",
      "\n",
      "Series.__getitem__ treating keys as positions is deprecated. In a future version, integer keys will always be treated as labels (consistent with DataFrame behavior). To access a value by position, use `ser.iloc[pos]`\n",
      "\n",
      "/tmp/ipykernel_3608879/3541128311.py:101: FutureWarning:\n",
      "\n",
      "Series.__getitem__ treating keys as positions is deprecated. In a future version, integer keys will always be treated as labels (consistent with DataFrame behavior). To access a value by position, use `ser.iloc[pos]`\n",
      "\n",
      "/tmp/ipykernel_3608879/3541128311.py:115: FutureWarning:\n",
      "\n",
      "Series.__getitem__ treating keys as positions is deprecated. In a future version, integer keys will always be treated as labels (consistent with DataFrame behavior). To access a value by position, use `ser.iloc[pos]`\n",
      "\n",
      "/tmp/ipykernel_3608879/3541128311.py:116: FutureWarning:\n",
      "\n",
      "Series.__getitem__ treating keys as positions is deprecated. In a future version, integer keys will always be treated as labels (consistent with DataFrame behavior). To access a value by position, use `ser.iloc[pos]`\n",
      "\n"
     ]
    },
    {
     "data": {
      "application/vnd.plotly.v1+json": {
       "config": {
        "plotlyServerURL": "https://plot.ly"
       },
       "data": [
        {
         "line": {
          "color": "lightgrey",
          "width": 2
         },
         "mode": "lines",
         "name": "Detector Box",
         "type": "scatter3d",
         "x": [
          -200,
          200,
          200,
          -200,
          -200,
          -200,
          200,
          200,
          -200,
          -200,
          -200,
          -200,
          200,
          200,
          200,
          200,
          0,
          0,
          0,
          0,
          0
         ],
         "y": [
          0,
          0,
          500,
          500,
          0,
          0,
          0,
          500,
          500,
          0,
          500,
          500,
          500,
          500,
          0,
          0,
          0,
          0,
          500,
          500,
          0
         ],
         "z": [
          -200,
          -200,
          -200,
          -200,
          -200,
          200,
          200,
          200,
          200,
          200,
          200,
          -200,
          -200,
          200,
          200,
          -200,
          -200,
          200,
          200,
          -200,
          -200
         ]
        },
        {
         "line": {
          "color": "#AF0038",
          "width": 2
         },
         "mode": "lines",
         "name": "True primary",
         "type": "scatter3d",
         "x": [
          -10000,
          -10000
         ],
         "y": [
          -10000,
          -10000
         ],
         "z": [
          -10000,
          -10000
         ]
        },
        {
         "line": {
          "color": "red",
          "dash": "dash",
          "width": 2
         },
         "mode": "lines",
         "name": "Primary nu_mu, Event0",
         "showlegend": false,
         "type": "scatter3d",
         "x": [
          82.72826385498047,
          81.16492462158203
         ],
         "y": [
          167.24131774902344,
          175.11636352539062
         ],
         "z": [
          -199.60769653320312,
          -203.7322540283203
         ]
        },
        {
         "line": {
          "color": "blue",
          "width": 2
         },
         "mode": "lines",
         "name": "Primary e-, Event0",
         "showlegend": false,
         "type": "scatter3d",
         "x": [
          82.72826385498047,
          74.74905395507812
         ],
         "y": [
          167.24131774902344,
          175.6912384033203
         ],
         "z": [
          -199.60769653320312,
          -194.1935272216797
         ]
        },
        {
         "line": {
          "color": "blue",
          "width": 2
         },
         "mode": "lines",
         "name": "Primary e-, Event0",
         "showlegend": false,
         "type": "scatter3d",
         "x": [
          82.72826385498047,
          86.01771545410156
         ],
         "y": [
          167.24131774902344,
          171.20787048339844
         ],
         "z": [
          -199.60769653320312,
          -201.1542205810547
         ]
        },
        {
         "color": "#FD3216",
         "i": [
          0,
          0,
          0,
          0,
          0,
          0,
          0,
          0,
          0,
          0,
          0,
          0,
          0,
          0,
          0,
          0,
          0,
          0,
          0,
          0,
          0,
          0,
          0,
          0,
          0,
          0,
          0,
          0,
          0,
          0,
          0,
          0,
          0,
          0,
          0,
          0,
          0,
          0,
          0,
          0,
          21,
          21,
          21,
          21,
          21,
          21,
          21,
          21,
          21,
          21,
          21,
          21,
          21,
          21,
          21,
          21,
          21,
          21,
          21,
          21
         ],
         "j": [
          2,
          3,
          4,
          5,
          6,
          7,
          8,
          9,
          10,
          11,
          12,
          13,
          14,
          15,
          16,
          17,
          18,
          19,
          20,
          1,
          2,
          3,
          4,
          5,
          6,
          7,
          8,
          9,
          10,
          11,
          12,
          13,
          14,
          15,
          16,
          17,
          18,
          19,
          20,
          1,
          1,
          2,
          3,
          4,
          5,
          6,
          7,
          8,
          9,
          10,
          11,
          12,
          13,
          14,
          15,
          16,
          17,
          18,
          19,
          20
         ],
         "k": [
          1,
          2,
          3,
          4,
          5,
          6,
          7,
          8,
          9,
          10,
          11,
          12,
          13,
          14,
          15,
          16,
          17,
          18,
          19,
          20,
          1,
          2,
          3,
          4,
          5,
          6,
          7,
          8,
          9,
          10,
          11,
          12,
          13,
          14,
          15,
          16,
          17,
          18,
          19,
          20,
          2,
          3,
          4,
          5,
          6,
          7,
          8,
          9,
          10,
          11,
          12,
          13,
          14,
          15,
          16,
          17,
          18,
          19,
          20,
          1
         ],
         "name": "Event0",
         "opacity": 0.25,
         "showlegend": true,
         "type": "mesh3d",
         "x": [
          82.71063232421875,
          85.52429862320372,
          85.68024143149395,
          85.8476847903216,
          86.01023817798976,
          86.15198973598353,
          86.25906383283755,
          86.32097930871576,
          86.33167544535763,
          86.29010523148415,
          86.20033785064996,
          86.0711603600644,
          85.91521755177418,
          85.74777419294654,
          85.58522080527835,
          85.4434692472846,
          85.33639515043058,
          85.27447967455237,
          85.26378353791048,
          85.30535375178397,
          85.39512113261816,
          85.7977294921875
         ],
         "y": [
          163.14999389648438,
          167.6699981689453,
          167.5508568074728,
          167.44337783157349,
          167.35808203209777,
          167.30331875691536,
          167.28444861797365,
          167.30331875641454,
          167.3580820311452,
          167.44337783026236,
          167.5508568059315,
          167.66999816732468,
          167.7891395287972,
          167.8966185046965,
          167.98191430417222,
          168.03667757935463,
          168.0555477182963,
          168.03667757985542,
          167.9819143051248,
          167.89661850600763,
          167.7891395303385,
          167.6699981689453
         ],
         "z": [
          -196.5877685546875,
          -198.62586403052222,
          -198.66498235846123,
          -198.6436737021387,
          -198.56402389987122,
          -198.43382962775755,
          -198.26583520793594,
          -198.07648510581296,
          -197.88431423030036,
          -197.7081336064414,
          -197.56518902054393,
          -197.46947288301683,
          -197.43035455507783,
          -197.45166321140036,
          -197.53131301366784,
          -197.66150728578148,
          -197.82950170560312,
          -198.0188518077261,
          -198.2110226832387,
          -198.38720330709765,
          -198.53014789299513,
          -198.04766845703125
         ]
        },
        {
         "color": "#FD3216",
         "i": [
          0,
          0,
          0,
          0,
          0,
          0,
          0,
          0,
          0,
          0,
          0,
          0,
          0,
          0,
          0,
          0,
          0,
          0,
          0,
          0,
          0,
          0,
          0,
          0,
          0,
          0,
          0,
          0,
          0,
          0,
          0,
          0,
          0,
          0,
          0,
          0,
          0,
          0,
          0,
          0,
          21,
          21,
          21,
          21,
          21,
          21,
          21,
          21,
          21,
          21,
          21,
          21,
          21,
          21,
          21,
          21,
          21,
          21,
          21,
          21
         ],
         "j": [
          2,
          3,
          4,
          5,
          6,
          7,
          8,
          9,
          10,
          11,
          12,
          13,
          14,
          15,
          16,
          17,
          18,
          19,
          20,
          1,
          2,
          3,
          4,
          5,
          6,
          7,
          8,
          9,
          10,
          11,
          12,
          13,
          14,
          15,
          16,
          17,
          18,
          19,
          20,
          1,
          1,
          2,
          3,
          4,
          5,
          6,
          7,
          8,
          9,
          10,
          11,
          12,
          13,
          14,
          15,
          16,
          17,
          18,
          19,
          20
         ],
         "k": [
          1,
          2,
          3,
          4,
          5,
          6,
          7,
          8,
          9,
          10,
          11,
          12,
          13,
          14,
          15,
          16,
          17,
          18,
          19,
          20,
          1,
          2,
          3,
          4,
          5,
          6,
          7,
          8,
          9,
          10,
          11,
          12,
          13,
          14,
          15,
          16,
          17,
          18,
          19,
          20,
          2,
          3,
          4,
          5,
          6,
          7,
          8,
          9,
          10,
          11,
          12,
          13,
          14,
          15,
          16,
          17,
          18,
          19,
          20,
          1
         ],
         "name": "Event0",
         "opacity": 0.25,
         "showlegend": false,
         "type": "mesh3d",
         "x": [
          82.73340606689453,
          76.20837797711114,
          75.98953352025978,
          75.72672675561513,
          75.4456830452184,
          75.17391290588719,
          74.93801908790721,
          74.76109251618044,
          74.66045199420445,
          74.64594892061966,
          74.71900296307827,
          74.87246308653368,
          75.09130754338504,
          75.3541143080297,
          75.63515801842642,
          75.90692815775763,
          76.1428219757376,
          76.31974854746439,
          76.42038906944038,
          76.43489214302517,
          76.36183810056654,
          75.54042053222656
         ],
         "y": [
          162.65000915527344,
          170.81431579589844,
          170.55900133945713,
          170.32867884565883,
          170.14589388577656,
          170.02853872147455,
          169.9881008886627,
          170.02853872175805,
          170.1458938863158,
          170.32867884640106,
          170.55900134032967,
          170.8143157968159,
          171.0696302532572,
          171.2999527470555,
          171.48273770693777,
          171.60009287123978,
          171.64053070405163,
          171.60009287095627,
          171.48273770639852,
          171.29995274631327,
          171.06963025238466,
          170.81431579589844
         ],
         "z": [
          -197.1073760986328,
          -190.84510856981453,
          -190.75002485223538,
          -190.7518772163783,
          -190.85048433471525,
          -191.0361938493693,
          -191.29082721718282,
          -191.5894591537859,
          -191.90285749095685,
          -192.2003446196241,
          -192.45280042489767,
          -192.635512767473,
          -192.73059648505213,
          -192.72874412090923,
          -192.63013700257224,
          -192.44442748791818,
          -192.1897941201047,
          -191.89116218350162,
          -191.57776384633064,
          -191.2802767176634,
          -191.02782091238984,
          -191.7403106689453
         ]
        },
        {
         "color": "#FD3216",
         "i": [
          0,
          0,
          0,
          0,
          0,
          0,
          0,
          0,
          0,
          0,
          0,
          0,
          0,
          0,
          0,
          0,
          0,
          0,
          0,
          0,
          0,
          0,
          0,
          0,
          0,
          0,
          0,
          0,
          0,
          0,
          0,
          0,
          0,
          0,
          0,
          0,
          0,
          0,
          0,
          0,
          21,
          21,
          21,
          21,
          21,
          21,
          21,
          21,
          21,
          21,
          21,
          21,
          21,
          21,
          21,
          21,
          21,
          21,
          21,
          21
         ],
         "j": [
          2,
          3,
          4,
          5,
          6,
          7,
          8,
          9,
          10,
          11,
          12,
          13,
          14,
          15,
          16,
          17,
          18,
          19,
          20,
          1,
          2,
          3,
          4,
          5,
          6,
          7,
          8,
          9,
          10,
          11,
          12,
          13,
          14,
          15,
          16,
          17,
          18,
          19,
          20,
          1,
          1,
          2,
          3,
          4,
          5,
          6,
          7,
          8,
          9,
          10,
          11,
          12,
          13,
          14,
          15,
          16,
          17,
          18,
          19,
          20
         ],
         "k": [
          1,
          2,
          3,
          4,
          5,
          6,
          7,
          8,
          9,
          10,
          11,
          12,
          13,
          14,
          15,
          16,
          17,
          18,
          19,
          20,
          1,
          2,
          3,
          4,
          5,
          6,
          7,
          8,
          9,
          10,
          11,
          12,
          13,
          14,
          15,
          16,
          17,
          18,
          19,
          20,
          2,
          3,
          4,
          5,
          6,
          7,
          8,
          9,
          10,
          11,
          12,
          13,
          14,
          15,
          16,
          17,
          18,
          19,
          20,
          1
         ],
         "name": "Event0",
         "opacity": 0.25,
         "showlegend": false,
         "type": "mesh3d",
         "x": [
          115.68952178955078,
          120.1650886694612,
          120.27597103812272,
          120.33098162784138,
          120.32473562186209,
          120.25784442773744,
          120.1368558244,
          119.97361301763651,
          119.78409534597823,
          119.58685411564696,
          119.40119667268532,
          119.24529646527421,
          119.13441409661269,
          119.07940350689404,
          119.08564951287332,
          119.15254070699798,
          119.27352931033542,
          119.43677211709891,
          119.62628978875718,
          119.82353101908846,
          120.0091884620501,
          119.70519256591797
         ],
         "y": [
          254.15000915527344,
          268.4063720703125,
          268.33194287538953,
          268.26479933083965,
          268.21151391491685,
          268.17730257405066,
          268.16551415077447,
          268.17730257723156,
          268.21151392096726,
          268.2647993391674,
          268.33194288517944,
          268.40637208060616,
          268.48080127552913,
          268.547944820079,
          268.60123023600187,
          268.63544157686806,
          268.6472300001442,
          268.6354415736871,
          268.6012302299514,
          268.5479448117513,
          268.4808012657393,
          268.4063720703125
         ],
         "z": [
          -177.88160705566406,
          -174.36878197375864,
          -174.21394269808917,
          -174.0288065750483,
          -173.8314960224204,
          -173.64132517204536,
          -173.47690926785546,
          -173.35434247931505,
          -173.28562249592835,
          -173.27747611122507,
          -173.33070075506984,
          -173.4400864315728,
          -173.59492570724228,
          -173.78006183028316,
          -173.97737238291106,
          -174.1675432332861,
          -174.331959137476,
          -174.4545259260164,
          -174.5232459094031,
          -174.53139229410635,
          -174.4781676502616,
          -173.90443420410156
         ]
        },
        {
         "line": {
          "color": "red",
          "dash": "dash",
          "width": 2
         },
         "mode": "lines",
         "name": "Primary nu_mu, Event1",
         "showlegend": false,
         "type": "scatter3d",
         "x": [
          38.081512451171875,
          38.081512451171875
         ],
         "y": [
          114.73397064208984,
          114.73397064208984
         ],
         "z": [
          152.12266540527344,
          152.12266540527344
         ]
        },
        {
         "line": {
          "color": "blue",
          "width": 2
         },
         "mode": "lines",
         "name": "Primary e-, Event1",
         "showlegend": false,
         "type": "scatter3d",
         "x": [
          38.081512451171875,
          37.005821228027344
         ],
         "y": [
          114.73397064208984,
          168.28744506835938
         ],
         "z": [
          152.12266540527344,
          151.12548828125
         ]
        },
        {
         "line": {
          "color": "blue",
          "width": 2
         },
         "mode": "lines",
         "name": "Primary e-, Event1",
         "showlegend": false,
         "type": "scatter3d",
         "x": [
          38.081512451171875,
          40.744903564453125
         ],
         "y": [
          114.73397064208984,
          120.8690414428711
         ],
         "z": [
          152.12266540527344,
          150.94456481933594
         ]
        },
        {
         "color": "#00FE35",
         "i": [
          0,
          0,
          0,
          0,
          0,
          0,
          0,
          0,
          0,
          0,
          0,
          0,
          0,
          0,
          0,
          0,
          0,
          0,
          0,
          0,
          0,
          0,
          0,
          0,
          0,
          0,
          0,
          0,
          0,
          0,
          0,
          0,
          0,
          0,
          0,
          0,
          0,
          0,
          0,
          0,
          21,
          21,
          21,
          21,
          21,
          21,
          21,
          21,
          21,
          21,
          21,
          21,
          21,
          21,
          21,
          21,
          21,
          21,
          21,
          21
         ],
         "j": [
          2,
          3,
          4,
          5,
          6,
          7,
          8,
          9,
          10,
          11,
          12,
          13,
          14,
          15,
          16,
          17,
          18,
          19,
          20,
          1,
          2,
          3,
          4,
          5,
          6,
          7,
          8,
          9,
          10,
          11,
          12,
          13,
          14,
          15,
          16,
          17,
          18,
          19,
          20,
          1,
          1,
          2,
          3,
          4,
          5,
          6,
          7,
          8,
          9,
          10,
          11,
          12,
          13,
          14,
          15,
          16,
          17,
          18,
          19,
          20
         ],
         "k": [
          1,
          2,
          3,
          4,
          5,
          6,
          7,
          8,
          9,
          10,
          11,
          12,
          13,
          14,
          15,
          16,
          17,
          18,
          19,
          20,
          1,
          2,
          3,
          4,
          5,
          6,
          7,
          8,
          9,
          10,
          11,
          12,
          13,
          14,
          15,
          16,
          17,
          18,
          19,
          20,
          2,
          3,
          4,
          5,
          6,
          7,
          8,
          9,
          10,
          11,
          12,
          13,
          14,
          15,
          16,
          17,
          18,
          19,
          20,
          1
         ],
         "name": "Event1",
         "opacity": 0.25,
         "showlegend": true,
         "type": "mesh3d",
         "x": [
          37.96355438232422,
          39.69895310593634,
          39.801431532311845,
          39.90399081320617,
          39.99659173115781,
          40.07016986359954,
          40.11752287130704,
          40.13401551269622,
          40.118033372956596,
          40.07114089435338,
          39.99792823848238,
          39.90556197003738,
          39.80308354366188,
          39.70052426276755,
          39.607923344815916,
          39.53434521237418,
          39.48699220466668,
          39.47049956327749,
          39.48648170301712,
          39.533374181620346,
          39.606586837491335,
          39.8022575378418
         ],
         "y": [
          111.8499984741211,
          116.50779724121094,
          116.46581008944332,
          116.42793293304837,
          116.39787345206638,
          116.37857407763104,
          116.37192396655753,
          116.37857407785816,
          116.39787345249837,
          116.42793293364295,
          116.4658100901423,
          116.50779724194588,
          116.5497843937135,
          116.58766155010846,
          116.61772103109044,
          116.63702040552577,
          116.64367051659929,
          116.63702040529867,
          116.61772103065846,
          116.58766154951388,
          116.54978439301452,
          116.50779724121094
         ],
         "z": [
          149.64918518066406,
          148.7511778729028,
          148.73835813362797,
          148.7601757700547,
          148.81449511890682,
          148.8959990228847,
          148.99670931186725,
          149.10676776189672,
          149.21540108615167,
          149.3119754984247,
          149.38703762182402,
          149.43323985161868,
          149.44605959089353,
          149.4242419544668,
          149.36992260561468,
          149.2884187016368,
          149.18770841265425,
          149.07764996262478,
          148.96901663836982,
          148.8724422260968,
          148.79738010269747,
          149.0922088623047
         ]
        },
        {
         "color": "#00FE35",
         "i": [
          0,
          0,
          0,
          0,
          0,
          0,
          0,
          0,
          0,
          0,
          0,
          0,
          0,
          0,
          0,
          0,
          0,
          0,
          0,
          0,
          0,
          0,
          0,
          0,
          0,
          0,
          0,
          0,
          0,
          0,
          0,
          0,
          0,
          0,
          0,
          0,
          0,
          0,
          0,
          0,
          21,
          21,
          21,
          21,
          21,
          21,
          21,
          21,
          21,
          21,
          21,
          21,
          21,
          21,
          21,
          21,
          21,
          21,
          21,
          21
         ],
         "j": [
          2,
          3,
          4,
          5,
          6,
          7,
          8,
          9,
          10,
          11,
          12,
          13,
          14,
          15,
          16,
          17,
          18,
          19,
          20,
          1,
          2,
          3,
          4,
          5,
          6,
          7,
          8,
          9,
          10,
          11,
          12,
          13,
          14,
          15,
          16,
          17,
          18,
          19,
          20,
          1,
          1,
          2,
          3,
          4,
          5,
          6,
          7,
          8,
          9,
          10,
          11,
          12,
          13,
          14,
          15,
          16,
          17,
          18,
          19,
          20
         ],
         "k": [
          1,
          2,
          3,
          4,
          5,
          6,
          7,
          8,
          9,
          10,
          11,
          12,
          13,
          14,
          15,
          16,
          17,
          18,
          19,
          20,
          1,
          2,
          3,
          4,
          5,
          6,
          7,
          8,
          9,
          10,
          11,
          12,
          13,
          14,
          15,
          16,
          17,
          18,
          19,
          20,
          2,
          3,
          4,
          5,
          6,
          7,
          8,
          9,
          10,
          11,
          12,
          13,
          14,
          15,
          16,
          17,
          18,
          19,
          20,
          1
         ],
         "name": "Event1",
         "opacity": 0.25,
         "showlegend": false,
         "type": "mesh3d",
         "x": [
          37.67791748046875,
          51.389890881676955,
          52.10212107061405,
          52.00050095792937,
          51.09497787366577,
          49.47419077769565,
          47.296793618505546,
          44.775925167072394,
          42.15834553678656,
          39.70028162925459,
          37.64234588495817,
          36.18598344557389,
          35.4737532566368,
          35.575373369321476,
          36.480896453585075,
          38.1016835495552,
          40.2790807087453,
          42.79994916017845,
          45.41752879046428,
          47.875592697996254,
          49.933528442292676,
          43.78793716430664
         ],
         "y": [
          112.14999389648438,
          225.5023193359375,
          225.17394513576036,
          224.87771449515148,
          224.642624534258,
          224.49168749152014,
          224.43967812947687,
          224.4916874837095,
          224.6426245194013,
          224.87771447470297,
          225.17394511172168,
          225.50231931066176,
          225.8306935108389,
          226.12692415144775,
          226.36201411234126,
          226.51295115507912,
          226.5649605171224,
          226.51295116288975,
          226.36201412719797,
          226.12692417189626,
          225.83069353487755,
          225.5023193359375
         ],
         "z": [
          150.8616180419922,
          160.45488355186177,
          162.95820593537047,
          165.5627490777564,
          168.013562118847,
          170.07074242082174,
          171.53291889468304,
          172.25696356246544,
          172.17200188559963,
          171.2863504600197,
          169.68670296687446,
          167.52964403310094,
          165.02632164959223,
          162.4217785072063,
          159.9709654661157,
          157.91378516414096,
          156.45160869027967,
          155.72756402249726,
          155.81252569936308,
          156.69817712494302,
          158.29782461808824,
          163.9922637939453
         ]
        },
        {
         "line": {
          "color": "red",
          "dash": "dash",
          "width": 2
         },
         "mode": "lines",
         "name": "Primary nu_mu, Event2",
         "showlegend": false,
         "type": "scatter3d",
         "x": [
          85.16836547851562,
          85.16836547851562
         ],
         "y": [
          303.3518371582031,
          303.3518371582031
         ],
         "z": [
          90.72284698486328,
          90.72284698486328
         ]
        },
        {
         "line": {
          "color": "blue",
          "width": 2
         },
         "mode": "lines",
         "name": "Primary e-, Event2",
         "showlegend": false,
         "type": "scatter3d",
         "x": [
          85.16836547851562,
          87.91358947753906
         ],
         "y": [
          303.3518371582031,
          313.9353332519531
         ],
         "z": [
          90.72284698486328,
          94.30916595458984
         ]
        },
        {
         "line": {
          "color": "blue",
          "width": 2
         },
         "mode": "lines",
         "name": "Primary e-, Event2",
         "showlegend": false,
         "type": "scatter3d",
         "x": [
          85.16836547851562,
          90.88556671142578
         ],
         "y": [
          303.3518371582031,
          311.4794006347656
         ],
         "z": [
          90.72284698486328,
          83.7882308959961
         ]
        },
        {
         "color": "#6A76FC",
         "i": [
          0,
          0,
          0,
          0,
          0,
          0,
          0,
          0,
          0,
          0,
          0,
          0,
          0,
          0,
          0,
          0,
          0,
          0,
          0,
          0,
          0,
          0,
          0,
          0,
          0,
          0,
          0,
          0,
          0,
          0,
          0,
          0,
          0,
          0,
          0,
          0,
          0,
          0,
          0,
          0,
          21,
          21,
          21,
          21,
          21,
          21,
          21,
          21,
          21,
          21,
          21,
          21,
          21,
          21,
          21,
          21,
          21,
          21,
          21,
          21
         ],
         "j": [
          2,
          3,
          4,
          5,
          6,
          7,
          8,
          9,
          10,
          11,
          12,
          13,
          14,
          15,
          16,
          17,
          18,
          19,
          20,
          1,
          2,
          3,
          4,
          5,
          6,
          7,
          8,
          9,
          10,
          11,
          12,
          13,
          14,
          15,
          16,
          17,
          18,
          19,
          20,
          1,
          1,
          2,
          3,
          4,
          5,
          6,
          7,
          8,
          9,
          10,
          11,
          12,
          13,
          14,
          15,
          16,
          17,
          18,
          19,
          20
         ],
         "k": [
          1,
          2,
          3,
          4,
          5,
          6,
          7,
          8,
          9,
          10,
          11,
          12,
          13,
          14,
          15,
          16,
          17,
          18,
          19,
          20,
          1,
          2,
          3,
          4,
          5,
          6,
          7,
          8,
          9,
          10,
          11,
          12,
          13,
          14,
          15,
          16,
          17,
          18,
          19,
          20,
          2,
          3,
          4,
          5,
          6,
          7,
          8,
          9,
          10,
          11,
          12,
          13,
          14,
          15,
          16,
          17,
          18,
          19,
          20,
          1
         ],
         "name": "Event2",
         "opacity": 0.25,
         "showlegend": true,
         "type": "mesh3d",
         "x": [
          84.43634796142578,
          90.06667088305544,
          90.08557375619758,
          90.11128139628012,
          90.14127736029387,
          90.17262543426163,
          90.20225705034107,
          90.22727165958173,
          90.24522065779396,
          90.25434707194626,
          90.25375754495064,
          90.2435097837475,
          90.22460691060535,
          90.1988992705228,
          90.16890330650905,
          90.13755523254129,
          90.10792361646186,
          90.08290900722119,
          90.06496000900897,
          90.05583359485668,
          90.05642312185228,
          90.15509033203125
         ],
         "y": [
          299.6241760253906,
          306.36529541015625,
          306.33664244707785,
          306.3107942358924,
          306.29028097961833,
          306.27711065864713,
          306.2725724756789,
          306.27711065964536,
          306.29028098151707,
          306.31079423850576,
          306.3366424501501,
          306.3652954133866,
          306.393948376465,
          306.41979658765047,
          306.4403098439245,
          306.4534801648957,
          306.45801834786397,
          306.4534801638975,
          306.4403098420258,
          306.4197965850371,
          306.39394837339273,
          306.36529541015625
         ],
         "z": [
          90.61407470703125,
          83.9734152203898,
          83.96045707223489,
          83.9563083706698,
          83.96137521945073,
          83.9751616400356,
          83.99631812148594,
          84.02277372002979,
          84.05193877743568,
          84.08095841473671,
          84.1069919876281,
          84.12749114853521,
          84.14044929669014,
          84.14459799825521,
          84.1395311494743,
          84.12574472888943,
          84.10458824743908,
          84.07813264889522,
          84.04896759148934,
          84.0199479541883,
          83.99391438129692,
          84.05045318603516
         ]
        },
        {
         "color": "#6A76FC",
         "i": [
          0,
          0,
          0,
          0,
          0,
          0,
          0,
          0,
          0,
          0,
          0,
          0,
          0,
          0,
          0,
          0,
          0,
          0,
          0,
          0,
          0,
          0,
          0,
          0,
          0,
          0,
          0,
          0,
          0,
          0,
          0,
          0,
          0,
          0,
          0,
          0,
          0,
          0,
          0,
          0,
          21,
          21,
          21,
          21,
          21,
          21,
          21,
          21,
          21,
          21,
          21,
          21,
          21,
          21,
          21,
          21,
          21,
          21,
          21,
          21
         ],
         "j": [
          2,
          3,
          4,
          5,
          6,
          7,
          8,
          9,
          10,
          11,
          12,
          13,
          14,
          15,
          16,
          17,
          18,
          19,
          20,
          1,
          2,
          3,
          4,
          5,
          6,
          7,
          8,
          9,
          10,
          11,
          12,
          13,
          14,
          15,
          16,
          17,
          18,
          19,
          20,
          1,
          1,
          2,
          3,
          4,
          5,
          6,
          7,
          8,
          9,
          10,
          11,
          12,
          13,
          14,
          15,
          16,
          17,
          18,
          19,
          20
         ],
         "k": [
          1,
          2,
          3,
          4,
          5,
          6,
          7,
          8,
          9,
          10,
          11,
          12,
          13,
          14,
          15,
          16,
          17,
          18,
          19,
          20,
          1,
          2,
          3,
          4,
          5,
          6,
          7,
          8,
          9,
          10,
          11,
          12,
          13,
          14,
          15,
          16,
          17,
          18,
          19,
          20,
          2,
          3,
          4,
          5,
          6,
          7,
          8,
          9,
          10,
          11,
          12,
          13,
          14,
          15,
          16,
          17,
          18,
          19,
          20,
          1
         ],
         "name": "Event2",
         "opacity": 0.25,
         "showlegend": false,
         "type": "mesh3d",
         "x": [
          84.05204010009766,
          89.72128497143554,
          89.86968555354709,
          89.95564658621014,
          89.97075360220308,
          89.91352781702287,
          89.78957088634264,
          89.61101657931277,
          89.39534303977487,
          89.16366190029555,
          88.93865172531925,
          88.74233807502654,
          88.59393749291497,
          88.50797646025192,
          88.49286944425899,
          88.5500952294392,
          88.67405216011942,
          88.85260646714929,
          89.06828000668719,
          89.29996114616651,
          89.52497132114281,
          89.2318115234375
         ],
         "y": [
          298.4465026855469,
          325.34747314453125,
          325.29026267844523,
          325.23865237027644,
          325.19769419640176,
          325.17139742905164,
          325.16233618015104,
          325.17139742838896,
          325.1976941951412,
          325.23865236854147,
          325.29026267640563,
          325.34747314238666,
          325.4046836084727,
          325.45629391664147,
          325.49725209051616,
          325.5235488578663,
          325.53261010676687,
          325.523548858529,
          325.4972520917767,
          325.45629391837645,
          325.4046836105123,
          325.34747314453125
         ],
         "z": [
          90.18120574951172,
          94.01286556752353,
          94.18766513255675,
          94.40166918989263,
          94.63392953526747,
          94.86171090825802,
          95.06271647761888,
          95.21727041328806,
          95.31024389738748,
          95.33253603982114,
          95.28196473490132,
          95.16348025732046,
          94.98868069228723,
          94.77467663495136,
          94.54241628957651,
          94.31463491658596,
          94.11362934722511,
          93.95907541155592,
          93.86610192745651,
          93.84380978502286,
          93.89438108994267,
          94.58817291259766
         ]
        }
       ],
       "layout": {
        "height": 800,
        "scene": {
         "aspectmode": "manual",
         "aspectratio": {
          "x": 1,
          "y": 1,
          "z": 1
         },
         "xaxis": {
          "range": [
           -240,
           240
          ],
          "title": {
           "text": "X (cm)"
          }
         },
         "yaxis": {
          "range": [
           -50,
           550
          ],
          "title": {
           "text": "Z (cm)"
          }
         },
         "zaxis": {
          "range": [
           -240,
           240
          ],
          "title": {
           "text": "Y (cm)"
          }
         }
        },
        "template": {
         "data": {
          "bar": [
           {
            "error_x": {
             "color": "#2a3f5f"
            },
            "error_y": {
             "color": "#2a3f5f"
            },
            "marker": {
             "line": {
              "color": "#E5ECF6",
              "width": 0.5
             },
             "pattern": {
              "fillmode": "overlay",
              "size": 10,
              "solidity": 0.2
             }
            },
            "type": "bar"
           }
          ],
          "barpolar": [
           {
            "marker": {
             "line": {
              "color": "#E5ECF6",
              "width": 0.5
             },
             "pattern": {
              "fillmode": "overlay",
              "size": 10,
              "solidity": 0.2
             }
            },
            "type": "barpolar"
           }
          ],
          "carpet": [
           {
            "aaxis": {
             "endlinecolor": "#2a3f5f",
             "gridcolor": "white",
             "linecolor": "white",
             "minorgridcolor": "white",
             "startlinecolor": "#2a3f5f"
            },
            "baxis": {
             "endlinecolor": "#2a3f5f",
             "gridcolor": "white",
             "linecolor": "white",
             "minorgridcolor": "white",
             "startlinecolor": "#2a3f5f"
            },
            "type": "carpet"
           }
          ],
          "choropleth": [
           {
            "colorbar": {
             "outlinewidth": 0,
             "ticks": ""
            },
            "type": "choropleth"
           }
          ],
          "contour": [
           {
            "colorbar": {
             "outlinewidth": 0,
             "ticks": ""
            },
            "colorscale": [
             [
              0,
              "#0d0887"
             ],
             [
              0.1111111111111111,
              "#46039f"
             ],
             [
              0.2222222222222222,
              "#7201a8"
             ],
             [
              0.3333333333333333,
              "#9c179e"
             ],
             [
              0.4444444444444444,
              "#bd3786"
             ],
             [
              0.5555555555555556,
              "#d8576b"
             ],
             [
              0.6666666666666666,
              "#ed7953"
             ],
             [
              0.7777777777777778,
              "#fb9f3a"
             ],
             [
              0.8888888888888888,
              "#fdca26"
             ],
             [
              1,
              "#f0f921"
             ]
            ],
            "type": "contour"
           }
          ],
          "contourcarpet": [
           {
            "colorbar": {
             "outlinewidth": 0,
             "ticks": ""
            },
            "type": "contourcarpet"
           }
          ],
          "heatmap": [
           {
            "colorbar": {
             "outlinewidth": 0,
             "ticks": ""
            },
            "colorscale": [
             [
              0,
              "#0d0887"
             ],
             [
              0.1111111111111111,
              "#46039f"
             ],
             [
              0.2222222222222222,
              "#7201a8"
             ],
             [
              0.3333333333333333,
              "#9c179e"
             ],
             [
              0.4444444444444444,
              "#bd3786"
             ],
             [
              0.5555555555555556,
              "#d8576b"
             ],
             [
              0.6666666666666666,
              "#ed7953"
             ],
             [
              0.7777777777777778,
              "#fb9f3a"
             ],
             [
              0.8888888888888888,
              "#fdca26"
             ],
             [
              1,
              "#f0f921"
             ]
            ],
            "type": "heatmap"
           }
          ],
          "heatmapgl": [
           {
            "colorbar": {
             "outlinewidth": 0,
             "ticks": ""
            },
            "colorscale": [
             [
              0,
              "#0d0887"
             ],
             [
              0.1111111111111111,
              "#46039f"
             ],
             [
              0.2222222222222222,
              "#7201a8"
             ],
             [
              0.3333333333333333,
              "#9c179e"
             ],
             [
              0.4444444444444444,
              "#bd3786"
             ],
             [
              0.5555555555555556,
              "#d8576b"
             ],
             [
              0.6666666666666666,
              "#ed7953"
             ],
             [
              0.7777777777777778,
              "#fb9f3a"
             ],
             [
              0.8888888888888888,
              "#fdca26"
             ],
             [
              1,
              "#f0f921"
             ]
            ],
            "type": "heatmapgl"
           }
          ],
          "histogram": [
           {
            "marker": {
             "pattern": {
              "fillmode": "overlay",
              "size": 10,
              "solidity": 0.2
             }
            },
            "type": "histogram"
           }
          ],
          "histogram2d": [
           {
            "colorbar": {
             "outlinewidth": 0,
             "ticks": ""
            },
            "colorscale": [
             [
              0,
              "#0d0887"
             ],
             [
              0.1111111111111111,
              "#46039f"
             ],
             [
              0.2222222222222222,
              "#7201a8"
             ],
             [
              0.3333333333333333,
              "#9c179e"
             ],
             [
              0.4444444444444444,
              "#bd3786"
             ],
             [
              0.5555555555555556,
              "#d8576b"
             ],
             [
              0.6666666666666666,
              "#ed7953"
             ],
             [
              0.7777777777777778,
              "#fb9f3a"
             ],
             [
              0.8888888888888888,
              "#fdca26"
             ],
             [
              1,
              "#f0f921"
             ]
            ],
            "type": "histogram2d"
           }
          ],
          "histogram2dcontour": [
           {
            "colorbar": {
             "outlinewidth": 0,
             "ticks": ""
            },
            "colorscale": [
             [
              0,
              "#0d0887"
             ],
             [
              0.1111111111111111,
              "#46039f"
             ],
             [
              0.2222222222222222,
              "#7201a8"
             ],
             [
              0.3333333333333333,
              "#9c179e"
             ],
             [
              0.4444444444444444,
              "#bd3786"
             ],
             [
              0.5555555555555556,
              "#d8576b"
             ],
             [
              0.6666666666666666,
              "#ed7953"
             ],
             [
              0.7777777777777778,
              "#fb9f3a"
             ],
             [
              0.8888888888888888,
              "#fdca26"
             ],
             [
              1,
              "#f0f921"
             ]
            ],
            "type": "histogram2dcontour"
           }
          ],
          "mesh3d": [
           {
            "colorbar": {
             "outlinewidth": 0,
             "ticks": ""
            },
            "type": "mesh3d"
           }
          ],
          "parcoords": [
           {
            "line": {
             "colorbar": {
              "outlinewidth": 0,
              "ticks": ""
             }
            },
            "type": "parcoords"
           }
          ],
          "pie": [
           {
            "automargin": true,
            "type": "pie"
           }
          ],
          "scatter": [
           {
            "fillpattern": {
             "fillmode": "overlay",
             "size": 10,
             "solidity": 0.2
            },
            "type": "scatter"
           }
          ],
          "scatter3d": [
           {
            "line": {
             "colorbar": {
              "outlinewidth": 0,
              "ticks": ""
             }
            },
            "marker": {
             "colorbar": {
              "outlinewidth": 0,
              "ticks": ""
             }
            },
            "type": "scatter3d"
           }
          ],
          "scattercarpet": [
           {
            "marker": {
             "colorbar": {
              "outlinewidth": 0,
              "ticks": ""
             }
            },
            "type": "scattercarpet"
           }
          ],
          "scattergeo": [
           {
            "marker": {
             "colorbar": {
              "outlinewidth": 0,
              "ticks": ""
             }
            },
            "type": "scattergeo"
           }
          ],
          "scattergl": [
           {
            "marker": {
             "colorbar": {
              "outlinewidth": 0,
              "ticks": ""
             }
            },
            "type": "scattergl"
           }
          ],
          "scattermapbox": [
           {
            "marker": {
             "colorbar": {
              "outlinewidth": 0,
              "ticks": ""
             }
            },
            "type": "scattermapbox"
           }
          ],
          "scatterpolar": [
           {
            "marker": {
             "colorbar": {
              "outlinewidth": 0,
              "ticks": ""
             }
            },
            "type": "scatterpolar"
           }
          ],
          "scatterpolargl": [
           {
            "marker": {
             "colorbar": {
              "outlinewidth": 0,
              "ticks": ""
             }
            },
            "type": "scatterpolargl"
           }
          ],
          "scatterternary": [
           {
            "marker": {
             "colorbar": {
              "outlinewidth": 0,
              "ticks": ""
             }
            },
            "type": "scatterternary"
           }
          ],
          "surface": [
           {
            "colorbar": {
             "outlinewidth": 0,
             "ticks": ""
            },
            "colorscale": [
             [
              0,
              "#0d0887"
             ],
             [
              0.1111111111111111,
              "#46039f"
             ],
             [
              0.2222222222222222,
              "#7201a8"
             ],
             [
              0.3333333333333333,
              "#9c179e"
             ],
             [
              0.4444444444444444,
              "#bd3786"
             ],
             [
              0.5555555555555556,
              "#d8576b"
             ],
             [
              0.6666666666666666,
              "#ed7953"
             ],
             [
              0.7777777777777778,
              "#fb9f3a"
             ],
             [
              0.8888888888888888,
              "#fdca26"
             ],
             [
              1,
              "#f0f921"
             ]
            ],
            "type": "surface"
           }
          ],
          "table": [
           {
            "cells": {
             "fill": {
              "color": "#EBF0F8"
             },
             "line": {
              "color": "white"
             }
            },
            "header": {
             "fill": {
              "color": "#C8D4E3"
             },
             "line": {
              "color": "white"
             }
            },
            "type": "table"
           }
          ]
         },
         "layout": {
          "annotationdefaults": {
           "arrowcolor": "#2a3f5f",
           "arrowhead": 0,
           "arrowwidth": 1
          },
          "autosize": false,
          "autotypenumbers": "strict",
          "coloraxis": {
           "colorbar": {
            "outlinewidth": 0,
            "ticks": ""
           }
          },
          "colorscale": {
           "diverging": [
            [
             0,
             "#8e0152"
            ],
            [
             0.1,
             "#c51b7d"
            ],
            [
             0.2,
             "#de77ae"
            ],
            [
             0.3,
             "#f1b6da"
            ],
            [
             0.4,
             "#fde0ef"
            ],
            [
             0.5,
             "#f7f7f7"
            ],
            [
             0.6,
             "#e6f5d0"
            ],
            [
             0.7,
             "#b8e186"
            ],
            [
             0.8,
             "#7fbc41"
            ],
            [
             0.9,
             "#4d9221"
            ],
            [
             1,
             "#276419"
            ]
           ],
           "sequential": [
            [
             0,
             "#0d0887"
            ],
            [
             0.1111111111111111,
             "#46039f"
            ],
            [
             0.2222222222222222,
             "#7201a8"
            ],
            [
             0.3333333333333333,
             "#9c179e"
            ],
            [
             0.4444444444444444,
             "#bd3786"
            ],
            [
             0.5555555555555556,
             "#d8576b"
            ],
            [
             0.6666666666666666,
             "#ed7953"
            ],
            [
             0.7777777777777778,
             "#fb9f3a"
            ],
            [
             0.8888888888888888,
             "#fdca26"
            ],
            [
             1,
             "#f0f921"
            ]
           ],
           "sequentialminus": [
            [
             0,
             "#0d0887"
            ],
            [
             0.1111111111111111,
             "#46039f"
            ],
            [
             0.2222222222222222,
             "#7201a8"
            ],
            [
             0.3333333333333333,
             "#9c179e"
            ],
            [
             0.4444444444444444,
             "#bd3786"
            ],
            [
             0.5555555555555556,
             "#d8576b"
            ],
            [
             0.6666666666666666,
             "#ed7953"
            ],
            [
             0.7777777777777778,
             "#fb9f3a"
            ],
            [
             0.8888888888888888,
             "#fdca26"
            ],
            [
             1,
             "#f0f921"
            ]
           ]
          },
          "colorway": [
           "#636efa",
           "#EF553B",
           "#00cc96",
           "#ab63fa",
           "#FFA15A",
           "#19d3f3",
           "#FF6692",
           "#B6E880",
           "#FF97FF",
           "#FECB52"
          ],
          "font": {
           "color": "#2a3f5f"
          },
          "geo": {
           "bgcolor": "white",
           "lakecolor": "white",
           "landcolor": "#E5ECF6",
           "showlakes": true,
           "showland": true,
           "subunitcolor": "white"
          },
          "hoverlabel": {
           "align": "left"
          },
          "hovermode": "closest",
          "mapbox": {
           "style": "light"
          },
          "paper_bgcolor": "white",
          "plot_bgcolor": "#E5ECF6",
          "polar": {
           "angularaxis": {
            "gridcolor": "white",
            "linecolor": "white",
            "ticks": ""
           },
           "bgcolor": "#E5ECF6",
           "radialaxis": {
            "gridcolor": "white",
            "linecolor": "white",
            "ticks": ""
           }
          },
          "scene": {
           "xaxis": {
            "backgroundcolor": "#E5ECF6",
            "gridcolor": "white",
            "gridwidth": 2,
            "linecolor": "white",
            "showbackground": true,
            "ticks": "",
            "zerolinecolor": "white"
           },
           "yaxis": {
            "backgroundcolor": "#E5ECF6",
            "gridcolor": "white",
            "gridwidth": 2,
            "linecolor": "white",
            "showbackground": true,
            "ticks": "",
            "zerolinecolor": "white"
           },
           "zaxis": {
            "backgroundcolor": "#E5ECF6",
            "gridcolor": "white",
            "gridwidth": 2,
            "linecolor": "white",
            "showbackground": true,
            "ticks": "",
            "zerolinecolor": "white"
           }
          },
          "shapedefaults": {
           "line": {
            "color": "#2a3f5f"
           }
          },
          "ternary": {
           "aaxis": {
            "gridcolor": "white",
            "linecolor": "white",
            "ticks": ""
           },
           "baxis": {
            "gridcolor": "white",
            "linecolor": "white",
            "ticks": ""
           },
           "bgcolor": "#E5ECF6",
           "caxis": {
            "gridcolor": "white",
            "linecolor": "white",
            "ticks": ""
           }
          },
          "title": {
           "x": 0.05
          },
          "xaxis": {
           "automargin": true,
           "gridcolor": "white",
           "linecolor": "white",
           "ticks": "",
           "title": {
            "standoff": 15
           },
           "zerolinecolor": "white",
           "zerolinewidth": 2
          },
          "yaxis": {
           "automargin": true,
           "gridcolor": "white",
           "linecolor": "white",
           "ticks": "",
           "title": {
            "standoff": 15
           },
           "zerolinecolor": "white",
           "zerolinewidth": 2
          }
         }
        },
        "width": 1200
       }
      },
      "text/html": [
       "<div>                            <div id=\"1f9330c6-f800-43f4-b0a8-21bb3e64bca0\" class=\"plotly-graph-div\" style=\"height:800px; width:1200px;\"></div>            <script type=\"text/javascript\">                require([\"plotly\"], function(Plotly) {                    window.PLOTLYENV=window.PLOTLYENV || {};                                    if (document.getElementById(\"1f9330c6-f800-43f4-b0a8-21bb3e64bca0\")) {                    Plotly.newPlot(                        \"1f9330c6-f800-43f4-b0a8-21bb3e64bca0\",                        [{\"line\":{\"color\":\"lightgrey\",\"width\":2},\"mode\":\"lines\",\"name\":\"Detector Box\",\"x\":[-200,200,200,-200,-200,-200,200,200,-200,-200,-200,-200,200,200,200,200,0,0,0,0,0],\"y\":[0,0,500,500,0,0,0,500,500,0,500,500,500,500,0,0,0,0,500,500,0],\"z\":[-200,-200,-200,-200,-200,200,200,200,200,200,200,-200,-200,200,200,-200,-200,200,200,-200,-200],\"type\":\"scatter3d\"},{\"line\":{\"color\":\"#AF0038\",\"width\":2},\"mode\":\"lines\",\"name\":\"True primary\",\"x\":[-10000,-10000],\"y\":[-10000,-10000],\"z\":[-10000,-10000],\"type\":\"scatter3d\"},{\"line\":{\"color\":\"red\",\"dash\":\"dash\",\"width\":2},\"mode\":\"lines\",\"name\":\"Primary nu_mu, Event0\",\"showlegend\":false,\"x\":[82.72826385498047,81.16492462158203],\"y\":[167.24131774902344,175.11636352539062],\"z\":[-199.60769653320312,-203.7322540283203],\"type\":\"scatter3d\"},{\"line\":{\"color\":\"blue\",\"width\":2},\"mode\":\"lines\",\"name\":\"Primary e-, Event0\",\"showlegend\":false,\"x\":[82.72826385498047,74.74905395507812],\"y\":[167.24131774902344,175.6912384033203],\"z\":[-199.60769653320312,-194.1935272216797],\"type\":\"scatter3d\"},{\"line\":{\"color\":\"blue\",\"width\":2},\"mode\":\"lines\",\"name\":\"Primary e-, Event0\",\"showlegend\":false,\"x\":[82.72826385498047,86.01771545410156],\"y\":[167.24131774902344,171.20787048339844],\"z\":[-199.60769653320312,-201.1542205810547],\"type\":\"scatter3d\"},{\"color\":\"#FD3216\",\"i\":[0,0,0,0,0,0,0,0,0,0,0,0,0,0,0,0,0,0,0,0,0,0,0,0,0,0,0,0,0,0,0,0,0,0,0,0,0,0,0,0,21,21,21,21,21,21,21,21,21,21,21,21,21,21,21,21,21,21,21,21],\"j\":[2,3,4,5,6,7,8,9,10,11,12,13,14,15,16,17,18,19,20,1,2,3,4,5,6,7,8,9,10,11,12,13,14,15,16,17,18,19,20,1,1,2,3,4,5,6,7,8,9,10,11,12,13,14,15,16,17,18,19,20],\"k\":[1,2,3,4,5,6,7,8,9,10,11,12,13,14,15,16,17,18,19,20,1,2,3,4,5,6,7,8,9,10,11,12,13,14,15,16,17,18,19,20,2,3,4,5,6,7,8,9,10,11,12,13,14,15,16,17,18,19,20,1],\"name\":\"Event0\",\"opacity\":0.25,\"showlegend\":true,\"x\":[82.71063232421875,85.52429862320372,85.68024143149395,85.8476847903216,86.01023817798976,86.15198973598353,86.25906383283755,86.32097930871576,86.33167544535763,86.29010523148415,86.20033785064996,86.0711603600644,85.91521755177418,85.74777419294654,85.58522080527835,85.4434692472846,85.33639515043058,85.27447967455237,85.26378353791048,85.30535375178397,85.39512113261816,85.7977294921875],\"y\":[163.14999389648438,167.6699981689453,167.5508568074728,167.44337783157349,167.35808203209777,167.30331875691536,167.28444861797365,167.30331875641454,167.3580820311452,167.44337783026236,167.5508568059315,167.66999816732468,167.7891395287972,167.8966185046965,167.98191430417222,168.03667757935463,168.0555477182963,168.03667757985542,167.9819143051248,167.89661850600763,167.7891395303385,167.6699981689453],\"z\":[-196.5877685546875,-198.62586403052222,-198.66498235846123,-198.6436737021387,-198.56402389987122,-198.43382962775755,-198.26583520793594,-198.07648510581296,-197.88431423030036,-197.7081336064414,-197.56518902054393,-197.46947288301683,-197.43035455507783,-197.45166321140036,-197.53131301366784,-197.66150728578148,-197.82950170560312,-198.0188518077261,-198.2110226832387,-198.38720330709765,-198.53014789299513,-198.04766845703125],\"type\":\"mesh3d\"},{\"color\":\"#FD3216\",\"i\":[0,0,0,0,0,0,0,0,0,0,0,0,0,0,0,0,0,0,0,0,0,0,0,0,0,0,0,0,0,0,0,0,0,0,0,0,0,0,0,0,21,21,21,21,21,21,21,21,21,21,21,21,21,21,21,21,21,21,21,21],\"j\":[2,3,4,5,6,7,8,9,10,11,12,13,14,15,16,17,18,19,20,1,2,3,4,5,6,7,8,9,10,11,12,13,14,15,16,17,18,19,20,1,1,2,3,4,5,6,7,8,9,10,11,12,13,14,15,16,17,18,19,20],\"k\":[1,2,3,4,5,6,7,8,9,10,11,12,13,14,15,16,17,18,19,20,1,2,3,4,5,6,7,8,9,10,11,12,13,14,15,16,17,18,19,20,2,3,4,5,6,7,8,9,10,11,12,13,14,15,16,17,18,19,20,1],\"name\":\"Event0\",\"opacity\":0.25,\"showlegend\":false,\"x\":[82.73340606689453,76.20837797711114,75.98953352025978,75.72672675561513,75.4456830452184,75.17391290588719,74.93801908790721,74.76109251618044,74.66045199420445,74.64594892061966,74.71900296307827,74.87246308653368,75.09130754338504,75.3541143080297,75.63515801842642,75.90692815775763,76.1428219757376,76.31974854746439,76.42038906944038,76.43489214302517,76.36183810056654,75.54042053222656],\"y\":[162.65000915527344,170.81431579589844,170.55900133945713,170.32867884565883,170.14589388577656,170.02853872147455,169.9881008886627,170.02853872175805,170.1458938863158,170.32867884640106,170.55900134032967,170.8143157968159,171.0696302532572,171.2999527470555,171.48273770693777,171.60009287123978,171.64053070405163,171.60009287095627,171.48273770639852,171.29995274631327,171.06963025238466,170.81431579589844],\"z\":[-197.1073760986328,-190.84510856981453,-190.75002485223538,-190.7518772163783,-190.85048433471525,-191.0361938493693,-191.29082721718282,-191.5894591537859,-191.90285749095685,-192.2003446196241,-192.45280042489767,-192.635512767473,-192.73059648505213,-192.72874412090923,-192.63013700257224,-192.44442748791818,-192.1897941201047,-191.89116218350162,-191.57776384633064,-191.2802767176634,-191.02782091238984,-191.7403106689453],\"type\":\"mesh3d\"},{\"color\":\"#FD3216\",\"i\":[0,0,0,0,0,0,0,0,0,0,0,0,0,0,0,0,0,0,0,0,0,0,0,0,0,0,0,0,0,0,0,0,0,0,0,0,0,0,0,0,21,21,21,21,21,21,21,21,21,21,21,21,21,21,21,21,21,21,21,21],\"j\":[2,3,4,5,6,7,8,9,10,11,12,13,14,15,16,17,18,19,20,1,2,3,4,5,6,7,8,9,10,11,12,13,14,15,16,17,18,19,20,1,1,2,3,4,5,6,7,8,9,10,11,12,13,14,15,16,17,18,19,20],\"k\":[1,2,3,4,5,6,7,8,9,10,11,12,13,14,15,16,17,18,19,20,1,2,3,4,5,6,7,8,9,10,11,12,13,14,15,16,17,18,19,20,2,3,4,5,6,7,8,9,10,11,12,13,14,15,16,17,18,19,20,1],\"name\":\"Event0\",\"opacity\":0.25,\"showlegend\":false,\"x\":[115.68952178955078,120.1650886694612,120.27597103812272,120.33098162784138,120.32473562186209,120.25784442773744,120.1368558244,119.97361301763651,119.78409534597823,119.58685411564696,119.40119667268532,119.24529646527421,119.13441409661269,119.07940350689404,119.08564951287332,119.15254070699798,119.27352931033542,119.43677211709891,119.62628978875718,119.82353101908846,120.0091884620501,119.70519256591797],\"y\":[254.15000915527344,268.4063720703125,268.33194287538953,268.26479933083965,268.21151391491685,268.17730257405066,268.16551415077447,268.17730257723156,268.21151392096726,268.2647993391674,268.33194288517944,268.40637208060616,268.48080127552913,268.547944820079,268.60123023600187,268.63544157686806,268.6472300001442,268.6354415736871,268.6012302299514,268.5479448117513,268.4808012657393,268.4063720703125],\"z\":[-177.88160705566406,-174.36878197375864,-174.21394269808917,-174.0288065750483,-173.8314960224204,-173.64132517204536,-173.47690926785546,-173.35434247931505,-173.28562249592835,-173.27747611122507,-173.33070075506984,-173.4400864315728,-173.59492570724228,-173.78006183028316,-173.97737238291106,-174.1675432332861,-174.331959137476,-174.4545259260164,-174.5232459094031,-174.53139229410635,-174.4781676502616,-173.90443420410156],\"type\":\"mesh3d\"},{\"line\":{\"color\":\"red\",\"dash\":\"dash\",\"width\":2},\"mode\":\"lines\",\"name\":\"Primary nu_mu, Event1\",\"showlegend\":false,\"x\":[38.081512451171875,38.081512451171875],\"y\":[114.73397064208984,114.73397064208984],\"z\":[152.12266540527344,152.12266540527344],\"type\":\"scatter3d\"},{\"line\":{\"color\":\"blue\",\"width\":2},\"mode\":\"lines\",\"name\":\"Primary e-, Event1\",\"showlegend\":false,\"x\":[38.081512451171875,37.005821228027344],\"y\":[114.73397064208984,168.28744506835938],\"z\":[152.12266540527344,151.12548828125],\"type\":\"scatter3d\"},{\"line\":{\"color\":\"blue\",\"width\":2},\"mode\":\"lines\",\"name\":\"Primary e-, Event1\",\"showlegend\":false,\"x\":[38.081512451171875,40.744903564453125],\"y\":[114.73397064208984,120.8690414428711],\"z\":[152.12266540527344,150.94456481933594],\"type\":\"scatter3d\"},{\"color\":\"#00FE35\",\"i\":[0,0,0,0,0,0,0,0,0,0,0,0,0,0,0,0,0,0,0,0,0,0,0,0,0,0,0,0,0,0,0,0,0,0,0,0,0,0,0,0,21,21,21,21,21,21,21,21,21,21,21,21,21,21,21,21,21,21,21,21],\"j\":[2,3,4,5,6,7,8,9,10,11,12,13,14,15,16,17,18,19,20,1,2,3,4,5,6,7,8,9,10,11,12,13,14,15,16,17,18,19,20,1,1,2,3,4,5,6,7,8,9,10,11,12,13,14,15,16,17,18,19,20],\"k\":[1,2,3,4,5,6,7,8,9,10,11,12,13,14,15,16,17,18,19,20,1,2,3,4,5,6,7,8,9,10,11,12,13,14,15,16,17,18,19,20,2,3,4,5,6,7,8,9,10,11,12,13,14,15,16,17,18,19,20,1],\"name\":\"Event1\",\"opacity\":0.25,\"showlegend\":true,\"x\":[37.96355438232422,39.69895310593634,39.801431532311845,39.90399081320617,39.99659173115781,40.07016986359954,40.11752287130704,40.13401551269622,40.118033372956596,40.07114089435338,39.99792823848238,39.90556197003738,39.80308354366188,39.70052426276755,39.607923344815916,39.53434521237418,39.48699220466668,39.47049956327749,39.48648170301712,39.533374181620346,39.606586837491335,39.8022575378418],\"y\":[111.8499984741211,116.50779724121094,116.46581008944332,116.42793293304837,116.39787345206638,116.37857407763104,116.37192396655753,116.37857407785816,116.39787345249837,116.42793293364295,116.4658100901423,116.50779724194588,116.5497843937135,116.58766155010846,116.61772103109044,116.63702040552577,116.64367051659929,116.63702040529867,116.61772103065846,116.58766154951388,116.54978439301452,116.50779724121094],\"z\":[149.64918518066406,148.7511778729028,148.73835813362797,148.7601757700547,148.81449511890682,148.8959990228847,148.99670931186725,149.10676776189672,149.21540108615167,149.3119754984247,149.38703762182402,149.43323985161868,149.44605959089353,149.4242419544668,149.36992260561468,149.2884187016368,149.18770841265425,149.07764996262478,148.96901663836982,148.8724422260968,148.79738010269747,149.0922088623047],\"type\":\"mesh3d\"},{\"color\":\"#00FE35\",\"i\":[0,0,0,0,0,0,0,0,0,0,0,0,0,0,0,0,0,0,0,0,0,0,0,0,0,0,0,0,0,0,0,0,0,0,0,0,0,0,0,0,21,21,21,21,21,21,21,21,21,21,21,21,21,21,21,21,21,21,21,21],\"j\":[2,3,4,5,6,7,8,9,10,11,12,13,14,15,16,17,18,19,20,1,2,3,4,5,6,7,8,9,10,11,12,13,14,15,16,17,18,19,20,1,1,2,3,4,5,6,7,8,9,10,11,12,13,14,15,16,17,18,19,20],\"k\":[1,2,3,4,5,6,7,8,9,10,11,12,13,14,15,16,17,18,19,20,1,2,3,4,5,6,7,8,9,10,11,12,13,14,15,16,17,18,19,20,2,3,4,5,6,7,8,9,10,11,12,13,14,15,16,17,18,19,20,1],\"name\":\"Event1\",\"opacity\":0.25,\"showlegend\":false,\"x\":[37.67791748046875,51.389890881676955,52.10212107061405,52.00050095792937,51.09497787366577,49.47419077769565,47.296793618505546,44.775925167072394,42.15834553678656,39.70028162925459,37.64234588495817,36.18598344557389,35.4737532566368,35.575373369321476,36.480896453585075,38.1016835495552,40.2790807087453,42.79994916017845,45.41752879046428,47.875592697996254,49.933528442292676,43.78793716430664],\"y\":[112.14999389648438,225.5023193359375,225.17394513576036,224.87771449515148,224.642624534258,224.49168749152014,224.43967812947687,224.4916874837095,224.6426245194013,224.87771447470297,225.17394511172168,225.50231931066176,225.8306935108389,226.12692415144775,226.36201411234126,226.51295115507912,226.5649605171224,226.51295116288975,226.36201412719797,226.12692417189626,225.83069353487755,225.5023193359375],\"z\":[150.8616180419922,160.45488355186177,162.95820593537047,165.5627490777564,168.013562118847,170.07074242082174,171.53291889468304,172.25696356246544,172.17200188559963,171.2863504600197,169.68670296687446,167.52964403310094,165.02632164959223,162.4217785072063,159.9709654661157,157.91378516414096,156.45160869027967,155.72756402249726,155.81252569936308,156.69817712494302,158.29782461808824,163.9922637939453],\"type\":\"mesh3d\"},{\"line\":{\"color\":\"red\",\"dash\":\"dash\",\"width\":2},\"mode\":\"lines\",\"name\":\"Primary nu_mu, Event2\",\"showlegend\":false,\"x\":[85.16836547851562,85.16836547851562],\"y\":[303.3518371582031,303.3518371582031],\"z\":[90.72284698486328,90.72284698486328],\"type\":\"scatter3d\"},{\"line\":{\"color\":\"blue\",\"width\":2},\"mode\":\"lines\",\"name\":\"Primary e-, Event2\",\"showlegend\":false,\"x\":[85.16836547851562,87.91358947753906],\"y\":[303.3518371582031,313.9353332519531],\"z\":[90.72284698486328,94.30916595458984],\"type\":\"scatter3d\"},{\"line\":{\"color\":\"blue\",\"width\":2},\"mode\":\"lines\",\"name\":\"Primary e-, Event2\",\"showlegend\":false,\"x\":[85.16836547851562,90.88556671142578],\"y\":[303.3518371582031,311.4794006347656],\"z\":[90.72284698486328,83.7882308959961],\"type\":\"scatter3d\"},{\"color\":\"#6A76FC\",\"i\":[0,0,0,0,0,0,0,0,0,0,0,0,0,0,0,0,0,0,0,0,0,0,0,0,0,0,0,0,0,0,0,0,0,0,0,0,0,0,0,0,21,21,21,21,21,21,21,21,21,21,21,21,21,21,21,21,21,21,21,21],\"j\":[2,3,4,5,6,7,8,9,10,11,12,13,14,15,16,17,18,19,20,1,2,3,4,5,6,7,8,9,10,11,12,13,14,15,16,17,18,19,20,1,1,2,3,4,5,6,7,8,9,10,11,12,13,14,15,16,17,18,19,20],\"k\":[1,2,3,4,5,6,7,8,9,10,11,12,13,14,15,16,17,18,19,20,1,2,3,4,5,6,7,8,9,10,11,12,13,14,15,16,17,18,19,20,2,3,4,5,6,7,8,9,10,11,12,13,14,15,16,17,18,19,20,1],\"name\":\"Event2\",\"opacity\":0.25,\"showlegend\":true,\"x\":[84.43634796142578,90.06667088305544,90.08557375619758,90.11128139628012,90.14127736029387,90.17262543426163,90.20225705034107,90.22727165958173,90.24522065779396,90.25434707194626,90.25375754495064,90.2435097837475,90.22460691060535,90.1988992705228,90.16890330650905,90.13755523254129,90.10792361646186,90.08290900722119,90.06496000900897,90.05583359485668,90.05642312185228,90.15509033203125],\"y\":[299.6241760253906,306.36529541015625,306.33664244707785,306.3107942358924,306.29028097961833,306.27711065864713,306.2725724756789,306.27711065964536,306.29028098151707,306.31079423850576,306.3366424501501,306.3652954133866,306.393948376465,306.41979658765047,306.4403098439245,306.4534801648957,306.45801834786397,306.4534801638975,306.4403098420258,306.4197965850371,306.39394837339273,306.36529541015625],\"z\":[90.61407470703125,83.9734152203898,83.96045707223489,83.9563083706698,83.96137521945073,83.9751616400356,83.99631812148594,84.02277372002979,84.05193877743568,84.08095841473671,84.1069919876281,84.12749114853521,84.14044929669014,84.14459799825521,84.1395311494743,84.12574472888943,84.10458824743908,84.07813264889522,84.04896759148934,84.0199479541883,83.99391438129692,84.05045318603516],\"type\":\"mesh3d\"},{\"color\":\"#6A76FC\",\"i\":[0,0,0,0,0,0,0,0,0,0,0,0,0,0,0,0,0,0,0,0,0,0,0,0,0,0,0,0,0,0,0,0,0,0,0,0,0,0,0,0,21,21,21,21,21,21,21,21,21,21,21,21,21,21,21,21,21,21,21,21],\"j\":[2,3,4,5,6,7,8,9,10,11,12,13,14,15,16,17,18,19,20,1,2,3,4,5,6,7,8,9,10,11,12,13,14,15,16,17,18,19,20,1,1,2,3,4,5,6,7,8,9,10,11,12,13,14,15,16,17,18,19,20],\"k\":[1,2,3,4,5,6,7,8,9,10,11,12,13,14,15,16,17,18,19,20,1,2,3,4,5,6,7,8,9,10,11,12,13,14,15,16,17,18,19,20,2,3,4,5,6,7,8,9,10,11,12,13,14,15,16,17,18,19,20,1],\"name\":\"Event2\",\"opacity\":0.25,\"showlegend\":false,\"x\":[84.05204010009766,89.72128497143554,89.86968555354709,89.95564658621014,89.97075360220308,89.91352781702287,89.78957088634264,89.61101657931277,89.39534303977487,89.16366190029555,88.93865172531925,88.74233807502654,88.59393749291497,88.50797646025192,88.49286944425899,88.5500952294392,88.67405216011942,88.85260646714929,89.06828000668719,89.29996114616651,89.52497132114281,89.2318115234375],\"y\":[298.4465026855469,325.34747314453125,325.29026267844523,325.23865237027644,325.19769419640176,325.17139742905164,325.16233618015104,325.17139742838896,325.1976941951412,325.23865236854147,325.29026267640563,325.34747314238666,325.4046836084727,325.45629391664147,325.49725209051616,325.5235488578663,325.53261010676687,325.523548858529,325.4972520917767,325.45629391837645,325.4046836105123,325.34747314453125],\"z\":[90.18120574951172,94.01286556752353,94.18766513255675,94.40166918989263,94.63392953526747,94.86171090825802,95.06271647761888,95.21727041328806,95.31024389738748,95.33253603982114,95.28196473490132,95.16348025732046,94.98868069228723,94.77467663495136,94.54241628957651,94.31463491658596,94.11362934722511,93.95907541155592,93.86610192745651,93.84380978502286,93.89438108994267,94.58817291259766],\"type\":\"mesh3d\"}],                        {\"template\":{\"data\":{\"histogram2dcontour\":[{\"type\":\"histogram2dcontour\",\"colorbar\":{\"outlinewidth\":0,\"ticks\":\"\"},\"colorscale\":[[0.0,\"#0d0887\"],[0.1111111111111111,\"#46039f\"],[0.2222222222222222,\"#7201a8\"],[0.3333333333333333,\"#9c179e\"],[0.4444444444444444,\"#bd3786\"],[0.5555555555555556,\"#d8576b\"],[0.6666666666666666,\"#ed7953\"],[0.7777777777777778,\"#fb9f3a\"],[0.8888888888888888,\"#fdca26\"],[1.0,\"#f0f921\"]]}],\"choropleth\":[{\"type\":\"choropleth\",\"colorbar\":{\"outlinewidth\":0,\"ticks\":\"\"}}],\"histogram2d\":[{\"type\":\"histogram2d\",\"colorbar\":{\"outlinewidth\":0,\"ticks\":\"\"},\"colorscale\":[[0.0,\"#0d0887\"],[0.1111111111111111,\"#46039f\"],[0.2222222222222222,\"#7201a8\"],[0.3333333333333333,\"#9c179e\"],[0.4444444444444444,\"#bd3786\"],[0.5555555555555556,\"#d8576b\"],[0.6666666666666666,\"#ed7953\"],[0.7777777777777778,\"#fb9f3a\"],[0.8888888888888888,\"#fdca26\"],[1.0,\"#f0f921\"]]}],\"heatmap\":[{\"type\":\"heatmap\",\"colorbar\":{\"outlinewidth\":0,\"ticks\":\"\"},\"colorscale\":[[0.0,\"#0d0887\"],[0.1111111111111111,\"#46039f\"],[0.2222222222222222,\"#7201a8\"],[0.3333333333333333,\"#9c179e\"],[0.4444444444444444,\"#bd3786\"],[0.5555555555555556,\"#d8576b\"],[0.6666666666666666,\"#ed7953\"],[0.7777777777777778,\"#fb9f3a\"],[0.8888888888888888,\"#fdca26\"],[1.0,\"#f0f921\"]]}],\"heatmapgl\":[{\"type\":\"heatmapgl\",\"colorbar\":{\"outlinewidth\":0,\"ticks\":\"\"},\"colorscale\":[[0.0,\"#0d0887\"],[0.1111111111111111,\"#46039f\"],[0.2222222222222222,\"#7201a8\"],[0.3333333333333333,\"#9c179e\"],[0.4444444444444444,\"#bd3786\"],[0.5555555555555556,\"#d8576b\"],[0.6666666666666666,\"#ed7953\"],[0.7777777777777778,\"#fb9f3a\"],[0.8888888888888888,\"#fdca26\"],[1.0,\"#f0f921\"]]}],\"contourcarpet\":[{\"type\":\"contourcarpet\",\"colorbar\":{\"outlinewidth\":0,\"ticks\":\"\"}}],\"contour\":[{\"type\":\"contour\",\"colorbar\":{\"outlinewidth\":0,\"ticks\":\"\"},\"colorscale\":[[0.0,\"#0d0887\"],[0.1111111111111111,\"#46039f\"],[0.2222222222222222,\"#7201a8\"],[0.3333333333333333,\"#9c179e\"],[0.4444444444444444,\"#bd3786\"],[0.5555555555555556,\"#d8576b\"],[0.6666666666666666,\"#ed7953\"],[0.7777777777777778,\"#fb9f3a\"],[0.8888888888888888,\"#fdca26\"],[1.0,\"#f0f921\"]]}],\"surface\":[{\"type\":\"surface\",\"colorbar\":{\"outlinewidth\":0,\"ticks\":\"\"},\"colorscale\":[[0.0,\"#0d0887\"],[0.1111111111111111,\"#46039f\"],[0.2222222222222222,\"#7201a8\"],[0.3333333333333333,\"#9c179e\"],[0.4444444444444444,\"#bd3786\"],[0.5555555555555556,\"#d8576b\"],[0.6666666666666666,\"#ed7953\"],[0.7777777777777778,\"#fb9f3a\"],[0.8888888888888888,\"#fdca26\"],[1.0,\"#f0f921\"]]}],\"mesh3d\":[{\"type\":\"mesh3d\",\"colorbar\":{\"outlinewidth\":0,\"ticks\":\"\"}}],\"scatter\":[{\"fillpattern\":{\"fillmode\":\"overlay\",\"size\":10,\"solidity\":0.2},\"type\":\"scatter\"}],\"parcoords\":[{\"type\":\"parcoords\",\"line\":{\"colorbar\":{\"outlinewidth\":0,\"ticks\":\"\"}}}],\"scatterpolargl\":[{\"type\":\"scatterpolargl\",\"marker\":{\"colorbar\":{\"outlinewidth\":0,\"ticks\":\"\"}}}],\"bar\":[{\"error_x\":{\"color\":\"#2a3f5f\"},\"error_y\":{\"color\":\"#2a3f5f\"},\"marker\":{\"line\":{\"color\":\"#E5ECF6\",\"width\":0.5},\"pattern\":{\"fillmode\":\"overlay\",\"size\":10,\"solidity\":0.2}},\"type\":\"bar\"}],\"scattergeo\":[{\"type\":\"scattergeo\",\"marker\":{\"colorbar\":{\"outlinewidth\":0,\"ticks\":\"\"}}}],\"scatterpolar\":[{\"type\":\"scatterpolar\",\"marker\":{\"colorbar\":{\"outlinewidth\":0,\"ticks\":\"\"}}}],\"histogram\":[{\"marker\":{\"pattern\":{\"fillmode\":\"overlay\",\"size\":10,\"solidity\":0.2}},\"type\":\"histogram\"}],\"scattergl\":[{\"type\":\"scattergl\",\"marker\":{\"colorbar\":{\"outlinewidth\":0,\"ticks\":\"\"}}}],\"scatter3d\":[{\"type\":\"scatter3d\",\"line\":{\"colorbar\":{\"outlinewidth\":0,\"ticks\":\"\"}},\"marker\":{\"colorbar\":{\"outlinewidth\":0,\"ticks\":\"\"}}}],\"scattermapbox\":[{\"type\":\"scattermapbox\",\"marker\":{\"colorbar\":{\"outlinewidth\":0,\"ticks\":\"\"}}}],\"scatterternary\":[{\"type\":\"scatterternary\",\"marker\":{\"colorbar\":{\"outlinewidth\":0,\"ticks\":\"\"}}}],\"scattercarpet\":[{\"type\":\"scattercarpet\",\"marker\":{\"colorbar\":{\"outlinewidth\":0,\"ticks\":\"\"}}}],\"carpet\":[{\"aaxis\":{\"endlinecolor\":\"#2a3f5f\",\"gridcolor\":\"white\",\"linecolor\":\"white\",\"minorgridcolor\":\"white\",\"startlinecolor\":\"#2a3f5f\"},\"baxis\":{\"endlinecolor\":\"#2a3f5f\",\"gridcolor\":\"white\",\"linecolor\":\"white\",\"minorgridcolor\":\"white\",\"startlinecolor\":\"#2a3f5f\"},\"type\":\"carpet\"}],\"table\":[{\"cells\":{\"fill\":{\"color\":\"#EBF0F8\"},\"line\":{\"color\":\"white\"}},\"header\":{\"fill\":{\"color\":\"#C8D4E3\"},\"line\":{\"color\":\"white\"}},\"type\":\"table\"}],\"barpolar\":[{\"marker\":{\"line\":{\"color\":\"#E5ECF6\",\"width\":0.5},\"pattern\":{\"fillmode\":\"overlay\",\"size\":10,\"solidity\":0.2}},\"type\":\"barpolar\"}],\"pie\":[{\"automargin\":true,\"type\":\"pie\"}]},\"layout\":{\"autotypenumbers\":\"strict\",\"colorway\":[\"#636efa\",\"#EF553B\",\"#00cc96\",\"#ab63fa\",\"#FFA15A\",\"#19d3f3\",\"#FF6692\",\"#B6E880\",\"#FF97FF\",\"#FECB52\"],\"font\":{\"color\":\"#2a3f5f\"},\"hovermode\":\"closest\",\"hoverlabel\":{\"align\":\"left\"},\"paper_bgcolor\":\"white\",\"plot_bgcolor\":\"#E5ECF6\",\"polar\":{\"bgcolor\":\"#E5ECF6\",\"angularaxis\":{\"gridcolor\":\"white\",\"linecolor\":\"white\",\"ticks\":\"\"},\"radialaxis\":{\"gridcolor\":\"white\",\"linecolor\":\"white\",\"ticks\":\"\"}},\"ternary\":{\"bgcolor\":\"#E5ECF6\",\"aaxis\":{\"gridcolor\":\"white\",\"linecolor\":\"white\",\"ticks\":\"\"},\"baxis\":{\"gridcolor\":\"white\",\"linecolor\":\"white\",\"ticks\":\"\"},\"caxis\":{\"gridcolor\":\"white\",\"linecolor\":\"white\",\"ticks\":\"\"}},\"coloraxis\":{\"colorbar\":{\"outlinewidth\":0,\"ticks\":\"\"}},\"colorscale\":{\"sequential\":[[0.0,\"#0d0887\"],[0.1111111111111111,\"#46039f\"],[0.2222222222222222,\"#7201a8\"],[0.3333333333333333,\"#9c179e\"],[0.4444444444444444,\"#bd3786\"],[0.5555555555555556,\"#d8576b\"],[0.6666666666666666,\"#ed7953\"],[0.7777777777777778,\"#fb9f3a\"],[0.8888888888888888,\"#fdca26\"],[1.0,\"#f0f921\"]],\"sequentialminus\":[[0.0,\"#0d0887\"],[0.1111111111111111,\"#46039f\"],[0.2222222222222222,\"#7201a8\"],[0.3333333333333333,\"#9c179e\"],[0.4444444444444444,\"#bd3786\"],[0.5555555555555556,\"#d8576b\"],[0.6666666666666666,\"#ed7953\"],[0.7777777777777778,\"#fb9f3a\"],[0.8888888888888888,\"#fdca26\"],[1.0,\"#f0f921\"]],\"diverging\":[[0,\"#8e0152\"],[0.1,\"#c51b7d\"],[0.2,\"#de77ae\"],[0.3,\"#f1b6da\"],[0.4,\"#fde0ef\"],[0.5,\"#f7f7f7\"],[0.6,\"#e6f5d0\"],[0.7,\"#b8e186\"],[0.8,\"#7fbc41\"],[0.9,\"#4d9221\"],[1,\"#276419\"]]},\"xaxis\":{\"gridcolor\":\"white\",\"linecolor\":\"white\",\"ticks\":\"\",\"title\":{\"standoff\":15},\"zerolinecolor\":\"white\",\"automargin\":true,\"zerolinewidth\":2},\"yaxis\":{\"gridcolor\":\"white\",\"linecolor\":\"white\",\"ticks\":\"\",\"title\":{\"standoff\":15},\"zerolinecolor\":\"white\",\"automargin\":true,\"zerolinewidth\":2},\"scene\":{\"xaxis\":{\"backgroundcolor\":\"#E5ECF6\",\"gridcolor\":\"white\",\"linecolor\":\"white\",\"showbackground\":true,\"ticks\":\"\",\"zerolinecolor\":\"white\",\"gridwidth\":2},\"yaxis\":{\"backgroundcolor\":\"#E5ECF6\",\"gridcolor\":\"white\",\"linecolor\":\"white\",\"showbackground\":true,\"ticks\":\"\",\"zerolinecolor\":\"white\",\"gridwidth\":2},\"zaxis\":{\"backgroundcolor\":\"#E5ECF6\",\"gridcolor\":\"white\",\"linecolor\":\"white\",\"showbackground\":true,\"ticks\":\"\",\"zerolinecolor\":\"white\",\"gridwidth\":2}},\"shapedefaults\":{\"line\":{\"color\":\"#2a3f5f\"}},\"annotationdefaults\":{\"arrowcolor\":\"#2a3f5f\",\"arrowhead\":0,\"arrowwidth\":1},\"geo\":{\"bgcolor\":\"white\",\"landcolor\":\"#E5ECF6\",\"subunitcolor\":\"white\",\"showland\":true,\"showlakes\":true,\"lakecolor\":\"white\"},\"title\":{\"x\":0.05},\"mapbox\":{\"style\":\"light\"},\"autosize\":false}},\"scene\":{\"xaxis\":{\"title\":{\"text\":\"X (cm)\"},\"range\":[-240.0,240.0]},\"yaxis\":{\"title\":{\"text\":\"Z (cm)\"},\"range\":[-50.0,550.0]},\"zaxis\":{\"title\":{\"text\":\"Y (cm)\"},\"range\":[-240.0,240.0]},\"aspectratio\":{\"x\":1,\"y\":1,\"z\":1},\"aspectmode\":\"manual\"},\"height\":800,\"width\":1200},                        {\"responsive\": true}                    ).then(function(){\n",
       "                            \n",
       "var gd = document.getElementById('1f9330c6-f800-43f4-b0a8-21bb3e64bca0');\n",
       "var x = new MutationObserver(function (mutations, observer) {{\n",
       "        var display = window.getComputedStyle(gd).display;\n",
       "        if (!display || display === 'none') {{\n",
       "            console.log([gd, 'removed!']);\n",
       "            Plotly.purge(gd);\n",
       "            observer.disconnect();\n",
       "        }}\n",
       "}});\n",
       "\n",
       "// Listen for the removal of the full notebook cells\n",
       "var notebookContainer = gd.closest('#notebook-container');\n",
       "if (notebookContainer) {{\n",
       "    x.observe(notebookContainer, {childList: true});\n",
       "}}\n",
       "\n",
       "// Listen for the clearing of the current output cell\n",
       "var outputEl = gd.closest('.output');\n",
       "if (outputEl) {{\n",
       "    x.observe(outputEl, {childList: true});\n",
       "}}\n",
       "\n",
       "                        })                };                });            </script>        </div>"
      ]
     },
     "metadata": {},
     "output_type": "display_data"
    }
   ],
   "source": [
    "\n",
    "N_events = 3 # len(df_red.index)\n",
    "\n",
    "fig = go.Figure()\n",
    "fig = make_detector_box(fig)\n",
    "\n",
    "fig.add_trace(go.Scatter3d(\n",
    "    x=[-10000, -10000],\n",
    "    y=[-10000, -10000],\n",
    "    z=[-10000, -10000],\n",
    "    mode='lines',\n",
    "    line=dict(color=pc.qualitative.Dark24[-1], width=2),\n",
    "    name=f'True primary',\n",
    "    hoverinfo=None,\n",
    "))\n",
    "\n",
    "for i in range(N_events):\n",
    "    event = df_red.iloc[i]\n",
    "    \n",
    "    \n",
    "    true_start_all = event[true_primary_vars['start']]\n",
    "    true_end_all = event[true_primary_vars['end']]\n",
    "    pdg_all = event[true_primary_vars['pdg']][0]\n",
    "    for primary in range(len(true_start_all[0])):\n",
    "        if np.isnan(true_start_all[0][primary]) or np.isnan(true_end_all[0][primary]):\n",
    "            continue  # Skip if start or end is NaN\n",
    "        start = [true_start_all[0][primary], true_start_all[1][primary], true_start_all[2][primary]]\n",
    "        end = [true_end_all[0][primary], true_end_all[1][primary], true_end_all[2][primary]]\n",
    "        pdg = pdg_all[primary] # Get the PDG code for the primary particle\n",
    "\n",
    "        if np.abs(pdg) in pdg_color_name_dict.keys():\n",
    "            pid = pdg_color_name_dict[np.abs(pdg)][-1]\n",
    "            color = pdg_color_name_dict[np.abs(pdg)][0]\n",
    "        else:\n",
    "            pid = f'Unknown ({pdg})'\n",
    "            color = 'black'  # Default color for unknown particles\n",
    "\n",
    "        if 'nu' in pid:\n",
    "            fig.add_trace(go.Scatter3d(\n",
    "                x=[start[0], end[0]],\n",
    "                y=[start[2], end[2]],\n",
    "                z=[start[1], end[1]],\n",
    "                mode='lines',\n",
    "                line=dict(dash='dash',color=color, width=2),\n",
    "                name=f'Primary {pid}, Event{i}',\n",
    "                hoverinfo=None,\n",
    "                showlegend=False\n",
    "            ))\n",
    "        else:\n",
    "            fig.add_trace(go.Scatter3d(\n",
    "                x=[start[0], end[0]],\n",
    "                y=[start[2], end[2]],\n",
    "                z=[start[1], end[1]],\n",
    "                mode='lines',\n",
    "                line=dict(color=color, width=2),\n",
    "                name=f'Primary {pid}, Event{i}',\n",
    "                hoverinfo=None,\n",
    "                showlegend=False\n",
    "            ))\n",
    "\n",
    "\n",
    "    # Looping over all reco showers in each event\n",
    "    \n",
    "    reco_start_all = event[reco_shower_vars['start']]\n",
    "    reco_end_all = event[reco_shower_vars['end']]\n",
    "    opening_angle_all = event[reco_shower_vars['angle']][0]  # Opening angle in degrees\n",
    "\n",
    "    addLegend = True\n",
    "    color = pc.qualitative.Light24[i]  # Use a different color for reco showers\n",
    "\n",
    "    for shr in range(len(reco_start_all[0])):\n",
    "        if np.isnan(reco_start_all[0][shr]) or np.isnan(reco_end_all[0][shr]):\n",
    "            continue\n",
    "        scores = [event[track_shower_scores[0]][shr], event[track_shower_scores[1]][shr], event[track_shower_scores[2]][shr]]\n",
    "\n",
    "        shower_score = scores[1]\n",
    "        track_score = scores[0]\n",
    "        \n",
    "        if track_score > shower_score:\n",
    "            continue  # Skip if the track score is greater than the shower score\n",
    "        \n",
    "        start = [reco_start_all[0][shr], reco_start_all[1][shr], reco_start_all[2][shr]]\n",
    "        end = [reco_end_all[0][shr], reco_end_all[1][shr], reco_end_all[2][shr]]\n",
    "        opening_angle = opening_angle_all[shr]  # Opening angle in radians\n",
    "\n",
    "        opening_angle = np.degrees(opening_angle)  # Convert to degrees\n",
    "\n",
    "        fig = plot_shower_cone(fig, start, end, opening_angle, shower_name=f'Event{i}', color=color, addLegend=addLegend)\n",
    "        addLegend = False\n",
    "\n",
    "    # Looping over all reco tracks in each event\n",
    "    reco_start_all = event[reco_track_vars['start']]\n",
    "    reco_end_all = event[reco_track_vars['end']]\n",
    "\n",
    "    for trk in range(len(reco_start_all[0])):\n",
    "        if np.isnan(reco_start_all[0][trk]) or np.isnan(reco_end_all[0][trk]):\n",
    "            continue\n",
    "        scores = [event[track_shower_scores[0]][shr], event[track_shower_scores[1]][shr], event[track_shower_scores[2]][shr]]\n",
    "\n",
    "        shower_score = scores[1] \n",
    "        track_score = scores[0] \n",
    "        if track_score < shower_score:\n",
    "            continue  # Skip if the track score is less than the shower score\n",
    "\n",
    "        start = [reco_start_all[0][trk], reco_start_all[1][trk], reco_start_all[2][trk]]\n",
    "        end = [reco_end_all[0][trk], reco_end_all[1][trk], reco_end_all[2][trk]]\n",
    "\n",
    "        fig.add_trace(go.Scatter3d(\n",
    "            x=[start[0], end[0]],\n",
    "            y=[start[2], end[2]],\n",
    "            z=[start[1], end[1]],\n",
    "            mode='lines',\n",
    "            line=dict(color=pc.qualitative.Light24[i], width=2),\n",
    "            name=f'Reco track Event{i}',\n",
    "            hoverinfo=None,\n",
    "            showlegend=False\n",
    "        ))\n",
    "\n",
    "\n",
    "width_x = sbnd_det_box['x'][1] - sbnd_det_box['x'][0]\n",
    "width_y = sbnd_det_box['y'][1] - sbnd_det_box['y'][0]\n",
    "width_z = sbnd_det_box['z'][1] - sbnd_det_box['z'][0]\n",
    "\n",
    "x_lims = [sbnd_det_box['x'][0]-0.1*width_x, sbnd_det_box['x'][1]+0.1*width_x]\n",
    "y_lims = [sbnd_det_box['y'][0]-0.1*width_y, sbnd_det_box['y'][1]+0.1*width_y]\n",
    "z_lims = [sbnd_det_box['z'][0]-0.1*width_z, sbnd_det_box['z'][1]+0.1*width_z]\n",
    "\n",
    "fig.update_scenes(xaxis_title_text='X (cm)',  \n",
    "        yaxis_title_text='Z (cm)',  \n",
    "        zaxis_title_text='Y (cm)',\n",
    "        xaxis=dict(range=x_lims),\n",
    "        yaxis=dict(range=z_lims),\n",
    "        zaxis=dict(range=y_lims),\n",
    "        aspectmode='manual',\n",
    "        aspectratio=dict(x=1, y=1, z=1)\n",
    "),\n",
    "\n",
    "fig.layout.height = 800\n",
    "fig.layout.width = 1200\n",
    "fig.show()\n",
    "\n",
    "\n"
   ]
  },
  {
   "cell_type": "code",
   "execution_count": null,
   "id": "b1da5e01",
   "metadata": {},
   "outputs": [],
   "source": []
  }
 ],
 "metadata": {
  "kernelspec": {
   "display_name": "crt",
   "language": "python",
   "name": "python3"
  },
  "language_info": {
   "codemirror_mode": {
    "name": "ipython",
    "version": 3
   },
   "file_extension": ".py",
   "mimetype": "text/x-python",
   "name": "python",
   "nbconvert_exporter": "python",
   "pygments_lexer": "ipython3",
   "version": "3.10.0"
  }
 },
 "nbformat": 4,
 "nbformat_minor": 5
}

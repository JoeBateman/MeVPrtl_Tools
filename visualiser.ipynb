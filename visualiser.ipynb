{
 "cells": [
  {
   "cell_type": "markdown",
   "id": "95adc29f",
   "metadata": {},
   "source": [
    "# Visualiser\n",
    "\n",
    "This is notebook works as a speedy test to check that your mevprtl sample is producing what you expect. To try it out, run \n",
    "\n",
    "`lar -c ./mevprtl_hnl_test.fcl -n 3`\n",
    "\n",
    "to generate 3 hnl events, decaying to one of the final states specified in the .fcl. Then assign `hist_name` to be the output hist ntuple (not the artroot file), and take a look at what you've generated!\n",
    "\n",
    "Once you're happy, you may want to start looking at the `standard_workflow.sh` script to start simulating the decay products, the detector, and reconstruction chain."
   ]
  },
  {
   "cell_type": "code",
   "execution_count": 1,
   "id": "fcc2c21c",
   "metadata": {},
   "outputs": [],
   "source": [
    "from tools import *\n",
    "import uproot\n",
    "import matplotlib.pyplot as plt\n",
    "import awkward as ak\n",
    "import plotly.io as pio\n",
    "pio.templates['plotly'].layout['autosize'] = False # <---This did the trick.\n"
   ]
  },
  {
   "cell_type": "code",
   "execution_count": 25,
   "id": "f0fdabb9",
   "metadata": {},
   "outputs": [],
   "source": [
    "hist_name = \"hist_gen_mixed_fs_highstats.root\"\n",
    "# Open the ROOT file\n",
    "root_file = uproot.open(hist_name)\n",
    "path = 'generator/mevprtl_gen/'\n",
    "df = root_file[path].arrays(library=\"pd\")"
   ]
  },
  {
   "cell_type": "code",
   "execution_count": 26,
   "id": "4e9461fd",
   "metadata": {},
   "outputs": [
    {
     "name": "stdout",
     "output_type": "stream",
     "text": [
      "Index(['meson_dmom', 'meson_dmom_beamcoord', 'meson_dpos_beamcoord',\n",
      "       'meson_pdg', 'mevprtl_mom_beamcoord', 'mevprtl_mom', 'mevprtl_start',\n",
      "       'equiv_enu', 'mevprtl_enter', 'mevprtl_exit', 'decay_pos',\n",
      "       'daughter_mom', 'daughter_e', 'daughter_pdg', 'pot', 'flux_weight',\n",
      "       'ray_weight', 'decay_weight', 'mass', 'C1', 'C2', 'C3', 'C4', 'C5',\n",
      "       'total_decay_width', 'total_mean_lifetime', 'total_mean_distance',\n",
      "       'allowed_decay_fraction', 'gen'],\n",
      "      dtype='object')\n",
      "{fX: 0.0414, fY: 0.00113, fZ: 1.72}\n"
     ]
    }
   ],
   "source": [
    "# Taking a quick look at what your file\n",
    "print(df.keys())\n",
    "print(df['mevprtl_mom'][0]['fP'])"
   ]
  },
  {
   "cell_type": "code",
   "execution_count": 27,
   "id": "f6e7bc02",
   "metadata": {},
   "outputs": [],
   "source": [
    "def convert_beamcoords(vec):\n",
    "    # Some of the output vectors are given as \"beamcoords\", so we need to convert them to the detector frame.\n",
    "    # Thankfully, for the BNB this is a simple translation.\n",
    "    sbnd_bnb_beam_origin = [-73.78, 0, -11000] # cm - beam origin in detector frame\n",
    "    return vec + np.array(sbnd_bnb_beam_origin)"
   ]
  },
  {
   "cell_type": "code",
   "execution_count": 28,
   "id": "4c861fb6",
   "metadata": {},
   "outputs": [],
   "source": [
    "pdg_color_name_dict = {\n",
    "    11: ['blue',  'e-'],\n",
    "    12: ['blue',  'nu_e'],\n",
    "    13: ['red',   'mu-'],\n",
    "    14: ['red',   'nu_mu'],\n",
    "    211: ['green', 'pi+'],\n",
    "    111: ['darkgreen', 'pi0'],\n",
    "    321: ['orange', 'K+'],\n",
    "    311: ['yellow', 'K0L'],\n",
    "    221: ['purple', 'eta'],\n",
    "    22: ['black', 'gamma'],\n",
    "}"
   ]
  },
  {
   "cell_type": "code",
   "execution_count": 29,
   "id": "b14df383",
   "metadata": {},
   "outputs": [],
   "source": [
    "def get_parent_decay_point(df):\n",
    "    dpos_key = 'meson_dpos_beamcoord'\n",
    "    d_pos_arr = []\n",
    "    df[dpos_key].apply(lambda x: d_pos_arr.append([x['fP']['fX'], x['fP']['fY'], x['fP']['fZ'], x['fE']]))\n",
    "    d_pos_arr = np.array(d_pos_arr)\n",
    "    d_pos_arr[:, :3] = convert_beamcoords(d_pos_arr[:, :3])\n",
    "    df['parent_dpos'] = list(d_pos_arr[:, :3])\n",
    "    df['parent_dT'] = d_pos_arr[:, 3]\n",
    "    return df\n",
    "\n",
    "def get_mevprtl_decay_point(df):\n",
    "    dpos_key = 'decay_pos'\n",
    "    d_pos_arr = []\n",
    "    df[dpos_key].apply(lambda x: d_pos_arr.append([x['fP']['fX'], x['fP']['fY'], x['fP']['fZ'], x['fE']]))\n",
    "    d_pos_arr = np.array(d_pos_arr)\n",
    "    df['mevprtl_dpos'] = list(d_pos_arr[:, :3])\n",
    "    df['mevprtl_dT'] = d_pos_arr[:, 3]\n",
    "\n",
    "    return df\n",
    "\n",
    "def get_mevprtl_mom(df):\n",
    "    # Convert to awkward array for vectorized operations\n",
    "    mevprtl_mom_ak = ak.Array(df['mevprtl_mom'])\n",
    "    \n",
    "    # Extract momentum components vectorized\n",
    "    mass = df['mass']\n",
    "    px = mevprtl_mom_ak['fP']['fX']\n",
    "    py = mevprtl_mom_ak['fP']['fY'] \n",
    "    pz = mevprtl_mom_ak['fP']['fZ']\n",
    "    E = np.sqrt(px**2 + py**2 + pz**2 + mass**2)  # Calculate energy from momentum and mass\n",
    "    # Add momentum components as new columns\n",
    "    df['mevprtl_px'] = px.to_list()\n",
    "    df['mevprtl_py'] = py.to_list()\n",
    "    df['mevprtl_pz'] = pz.to_list()\n",
    "    df['mevprtl_E'] = E.to_list()\n",
    "    return df\n",
    "\n",
    "def get_child_mom(df):\n",
    "    \"\"\"Extract daughter momentum using vectorized awkward array operations\"\"\"\n",
    "    # Convert to awkward array for vectorized operations\n",
    "    daughter_mom_ak = ak.Array(df['daughter_mom'])\n",
    "    \n",
    "    # Extract momentum components vectorized\n",
    "    px = daughter_mom_ak['fX']\n",
    "    py = daughter_mom_ak['fY'] \n",
    "    pz = daughter_mom_ak['fZ']\n",
    "    \n",
    "    # Add momentum components as new columns\n",
    "    df['daughter_px'] = daughter_mom_ak['fX'].to_list()\n",
    "    df['daughter_py'] = daughter_mom_ak['fY'].to_list()\n",
    "    df['daughter_pz'] = daughter_mom_ak['fZ'].to_list()\n",
    "    return df\n",
    "\n",
    "def plot_3d(df, event_list=None, vector_scale=1000):\n",
    "    if event_list is None:\n",
    "        event_list = df_temp.index.tolist()\n",
    "    elif type(event_list) is list:\n",
    "        pass\n",
    "    elif type(event_list) is not list and type(event_list) is int:\n",
    "        event_list = [event_list]\n",
    "    else:\n",
    "        raise ValueError(\"event_list must be a list, integer or None\")\n",
    "    \n",
    "    df_temp = get_parent_decay_point(df.copy())\n",
    "    df_temp = get_mevprtl_decay_point(df_temp)\n",
    "    df_temp = get_child_mom(df_temp)\n",
    "    df_temp = get_mevprtl_mom(df_temp)\n",
    "\n",
    "    fig = go.Figure()\n",
    "    fig = make_detector_box(fig)\n",
    "\n",
    "    label_decay = True\n",
    "    legend_exists_arr = []\n",
    "    \n",
    "    for event in event_list:\n",
    "        parent_coords = df_temp['parent_dpos'][event]\n",
    "        mevprtl_coords = df_temp['mevprtl_dpos'][event]\n",
    "\n",
    "        \n",
    "        \n",
    "        # Create a 3D scatter plot\n",
    "        fig.add_trace(go.Scatter3d(\n",
    "            x=[mevprtl_coords[0]],\n",
    "            y=[mevprtl_coords[2]],\n",
    "            z=[mevprtl_coords[1]],\n",
    "            mode='markers',\n",
    "            marker=dict(size=6, color='blue',symbol='cross'),\n",
    "            name='MeVPRTL Decay Point',\n",
    "            showlegend=label_decay\n",
    "        ))\n",
    "\n",
    "\n",
    "        fig.add_trace(go.Scatter3d(\n",
    "            x=[parent_coords[0]],\n",
    "            y=[parent_coords[2]],\n",
    "            z=[parent_coords[1]],\n",
    "            mode='markers',\n",
    "            marker=dict(size=5, color='red'),\n",
    "            name='Parent Decay Point',\n",
    "            showlegend=label_decay\n",
    "        ))\n",
    "\n",
    "        decay_vector = np.array(mevprtl_coords) - np.array(parent_coords)\n",
    "        len_decay = np.linalg.norm(decay_vector)\n",
    "        decay_norm = decay_vector / len_decay\n",
    "        \n",
    "        mevprtl_E = df_temp['mevprtl_E'][event]\n",
    "\n",
    "        decay_norm *= vector_scale * mevprtl_E  # Scale the decay vector by energy for visibility\n",
    "\n",
    "        fig.add_trace(go.Scatter3d(\n",
    "            x=[mevprtl_coords[0]-decay_norm[0], mevprtl_coords[0]],\n",
    "            y=[mevprtl_coords[2]-decay_norm[2], mevprtl_coords[2]],\n",
    "            z=[mevprtl_coords[1]-decay_norm[1], mevprtl_coords[1]],\n",
    "            mode='lines',\n",
    "            line=dict(color='black', dash='dot', width=4),\n",
    "            name='Decay Path',\n",
    "            showlegend=label_decay\n",
    "        ))\n",
    "\n",
    "        nchildren = len(df_temp['daughter_pdg'][event])\n",
    "\n",
    "        for child in range(nchildren):\n",
    "            pdg = df_temp['daughter_pdg'][event][child]\n",
    "            if np.abs(pdg) in pdg_color_name_dict:\n",
    "                daughter_color, name = pdg_color_name_dict[np.abs(pdg)]\n",
    "            else:\n",
    "                daughter_color = 'grey'\n",
    "                name = f'Unknown ({pdg})'\n",
    "            child_vec = np.array([df_temp['daughter_px'][event][child], df_temp['daughter_py'][event][child], df_temp['daughter_pz'][event][child]])\n",
    "            \n",
    "            \n",
    "            \n",
    "            vec_len = np.linalg.norm(child_vec)\n",
    "            child_vec = child_vec / vec_len  # Scale the vector for visibility\n",
    "            \n",
    "            child_energy = df_temp['daughter_e'][event][child]\n",
    "            child_vec *= vector_scale*child_energy  # Scale the vector by energy for visibility\n",
    "            \n",
    "            if 'nu' in name:\n",
    "                if name in legend_exists_arr:\n",
    "                    showlegend = False\n",
    "                else:\n",
    "                    showlegend = True\n",
    "                    legend_exists_arr.append(name)\n",
    "                name += f' ({event})'\n",
    "                fig.add_trace(go.Scatter3d(\n",
    "                    x=[mevprtl_coords[0],mevprtl_coords[0]+child_vec[0]],\n",
    "                    y=[mevprtl_coords[2],mevprtl_coords[2]+child_vec[2]],\n",
    "                    z=[mevprtl_coords[1],mevprtl_coords[1]+child_vec[1]],\n",
    "                    mode='lines',\n",
    "                    line=dict(color=daughter_color, width=4, dash='dash'),\n",
    "                    name=name,\n",
    "                    showlegend=showlegend\n",
    "                ))\n",
    "            else:\n",
    "                if name in legend_exists_arr:\n",
    "                    showlegend = False\n",
    "                else:\n",
    "                    showlegend = True\n",
    "                    legend_exists_arr.append(name)\n",
    "                name += f' ({event})'\n",
    "                fig.add_trace(go.Scatter3d(\n",
    "                    x=[mevprtl_coords[0],mevprtl_coords[0]+child_vec[0]],\n",
    "                    y=[mevprtl_coords[2],mevprtl_coords[2]+child_vec[2]],\n",
    "                    z=[mevprtl_coords[1],mevprtl_coords[1]+child_vec[1]],\n",
    "                    mode='lines',\n",
    "                    line=dict(color=daughter_color, width=4),\n",
    "                    name=name,\n",
    "                    showlegend=showlegend\n",
    "                ))\n",
    "            label_decay = False\n",
    "\n",
    "\n",
    "        \n",
    "\n",
    "        \n",
    "        \n",
    "        width_x = sbnd_det_box['x'][1] - sbnd_det_box['x'][0]\n",
    "        width_y = sbnd_det_box['y'][1] - sbnd_det_box['y'][0]\n",
    "        width_z = sbnd_det_box['z'][1] - sbnd_det_box['z'][0]\n",
    "\n",
    "        x_lims = [sbnd_det_box['x'][0]-0.1*width_x, sbnd_det_box['x'][1]+0.1*width_x]\n",
    "        y_lims = [sbnd_det_box['y'][0]-0.1*width_y, sbnd_det_box['y'][1]+0.1*width_y]\n",
    "        z_lims = [sbnd_det_box['z'][0]-0.1*width_z, sbnd_det_box['z'][1]+0.1*width_z]\n",
    "        \n",
    "    fig.update_scenes(xaxis_title_text='X (cm)',  \n",
    "                yaxis_title_text='Z (cm)',  \n",
    "                zaxis_title_text='Y (cm)',\n",
    "                xaxis=dict(range=x_lims),\n",
    "                yaxis=dict(range=z_lims),\n",
    "                zaxis=dict(range=y_lims),\n",
    "                aspectmode='manual',\n",
    "                aspectratio=dict(x=1, y=1, z=1)\n",
    "    ),\n",
    "    camera = dict(\n",
    "        up=dict(x=0, y=0, z=1),\n",
    "        center=dict(x=0, y=0, z=0),\n",
    "        eye=dict(x=1.25, y=-1.25, z=1.25)\n",
    "    )\n",
    "\n",
    "    fig.update_layout(scene_camera=camera)\n",
    "    fig.layout.height = 800\n",
    "    fig.layout.width = 1200\n",
    "\n",
    "    fig.show()\n",
    "\n",
    "def plot_decay_path(df, event_list=None):\n",
    "    if event_list is None:\n",
    "        event_list = df_temp.index.tolist()\n",
    "    elif type(event_list) is list:\n",
    "        pass\n",
    "    elif type(event_list) is not list and type(event_list) is int:\n",
    "        event_list = [event_list]\n",
    "    else:\n",
    "        raise ValueError(\"event_list must be a list, integer or None\")\n",
    "\n",
    "    df_temp = get_parent_decay_point(df.copy())\n",
    "    df_temp = get_mevprtl_decay_point(df_temp)\n",
    "\n",
    "    fig = go.Figure()\n",
    "    fig = make_detector_box(fig)\n",
    "    for event in event_list:\n",
    "        parent_coords = df_temp['parent_dpos'][event]\n",
    "        mevprtl_coords = df_temp['mevprtl_dpos'][event]\n",
    "\n",
    "        fig.add_trace(go.Scatter3d(\n",
    "            x=[parent_coords[0], mevprtl_coords[0]],\n",
    "            y=[parent_coords[2], mevprtl_coords[2]],\n",
    "            z=[parent_coords[1], mevprtl_coords[1]],\n",
    "            mode='lines',\n",
    "            line=dict(dash='dot'),\n",
    "            name='Event: {}'.format(event),\n",
    "        ))\n",
    "\n",
    "    camera = dict(\n",
    "        up=dict(x=0, y=0, z=1),\n",
    "        center=dict(x=0, y=0, z=0),\n",
    "        eye=dict(x=1.25, y=-1.25, z=1.25)\n",
    "    )\n",
    "\n",
    "    fig.update_layout(scene_camera=camera)\n",
    "    fig.update_scenes(\n",
    "                aspectmode='manual',\n",
    "                aspectratio=dict(x=1, y=5, z=1),\n",
    "                xaxis_title_text='X (cm)',  \n",
    "                yaxis_title_text='Z (cm)',  \n",
    "                zaxis_title_text='Y (cm)',)\n",
    "    fig.layout.height = 800\n",
    "    fig.layout.width = 1200\n",
    "\n",
    "\n",
    "    fig.show()"
   ]
  },
  {
   "cell_type": "code",
   "execution_count": 30,
   "id": "00d01f29",
   "metadata": {},
   "outputs": [
    {
     "data": {
      "application/vnd.plotly.v1+json": {
       "config": {
        "plotlyServerURL": "https://plot.ly"
       },
       "data": [
        {
         "line": {
          "color": "lightgrey",
          "width": 2
         },
         "mode": "lines",
         "name": "Detector Box",
         "type": "scatter3d",
         "x": [
          -200,
          200,
          200,
          -200,
          -200,
          -200,
          200,
          200,
          -200,
          -200,
          -200,
          -200,
          200,
          200,
          200,
          200,
          0,
          0,
          0,
          0,
          0
         ],
         "y": [
          0,
          0,
          500,
          500,
          0,
          0,
          0,
          500,
          500,
          0,
          500,
          500,
          500,
          500,
          0,
          0,
          0,
          0,
          500,
          500,
          0
         ],
         "z": [
          -200,
          -200,
          -200,
          -200,
          -200,
          200,
          200,
          200,
          200,
          200,
          200,
          -200,
          -200,
          200,
          200,
          -200,
          -200,
          200,
          200,
          -200,
          -200
         ]
        },
        {
         "line": {
          "dash": "dot"
         },
         "mode": "lines",
         "name": "Event: 0",
         "type": "scatter3d",
         "x": [
          -88.10411670684815,
          173.96912316867596
         ],
         "y": [
          -10748.019989013672,
          175.5183630259362
         ],
         "z": [
          0.8224661946296692,
          7.958934626802683
         ]
        },
        {
         "line": {
          "dash": "dot"
         },
         "mode": "lines",
         "name": "Event: 1",
         "type": "scatter3d",
         "x": [
          15.239813537597655,
          96.93109598959188
         ],
         "y": [
          -7538.174072265625,
          40.77348702267682
         ],
         "z": [
          -15.181720733642578,
          54.77963053165668
         ]
        },
        {
         "line": {
          "dash": "dot"
         },
         "mode": "lines",
         "name": "Event: 2",
         "type": "scatter3d",
         "x": [
          -45.89623001098633,
          -186.88032270829837
         ],
         "y": [
          -10796.98942565918,
          198.43118414813216
         ],
         "z": [
          -25.210966110229492,
          -88.85684917890936
         ]
        },
        {
         "line": {
          "dash": "dot"
         },
         "mode": "lines",
         "name": "Event: 3",
         "type": "scatter3d",
         "x": [
          -77.7878182220459,
          -72.15978307416052
         ],
         "y": [
          -10865.16683959961,
          249.91224061929643
         ],
         "z": [
          2.2654407024383545,
          -55.15809283114445
         ]
        },
        {
         "line": {
          "dash": "dot"
         },
         "mode": "lines",
         "name": "Event: 4",
         "type": "scatter3d",
         "x": [
          -121.6876156616211,
          88.70922987745118
         ],
         "y": [
          -10624.900970458984,
          355.92736876052186
         ],
         "z": [
          -34.05895233154297,
          -99.2476562027975
         ]
        },
        {
         "line": {
          "dash": "dot"
         },
         "mode": "lines",
         "name": "Event: 5",
         "type": "scatter3d",
         "x": [
          -72.6819900560379,
          89.26889650057325
         ],
         "y": [
          -10745.599822998047,
          509.2601632988062
         ],
         "z": [
          4.354379653930664,
          -209.41259565349384
         ]
        },
        {
         "line": {
          "dash": "dot"
         },
         "mode": "lines",
         "name": "Event: 6",
         "type": "scatter3d",
         "x": [
          -81.42864540100098,
          29.608043561753092
         ],
         "y": [
          -10926.445289611816,
          205.96965752142205
         ],
         "z": [
          -3.7898151874542236,
          184.54654132366562
         ]
        },
        {
         "line": {
          "dash": "dot"
         },
         "mode": "lines",
         "name": "Event: 7",
         "type": "scatter3d",
         "x": [
          -75.49351706981659,
          -15.77078690829287
         ],
         "y": [
          -10273.532531738281,
          101.16884011346338
         ],
         "z": [
          -1.9533271789550781,
          62.30092221779428
         ]
        },
        {
         "line": {
          "dash": "dot"
         },
         "mode": "lines",
         "name": "Event: 8",
         "type": "scatter3d",
         "x": [
          -17.664490966796876,
          -57.919463776690584
         ],
         "y": [
          -5889.74365234375,
          201.4362603075042
         ],
         "z": [
          -59.72340774536133,
          103.45812999680848
         ]
        },
        {
         "line": {
          "dash": "dot"
         },
         "mode": "lines",
         "name": "Event: 9",
         "type": "scatter3d",
         "x": [
          -83.65480163574219,
          -107.88799834337985
         ],
         "y": [
          -10769.182907104492,
          144.97594193147052
         ],
         "z": [
          2.596592426300049,
          -56.25972578299318
         ]
        },
        {
         "line": {
          "dash": "dot"
         },
         "mode": "lines",
         "name": "Event: 10",
         "type": "scatter3d",
         "x": [
          -38.67751434326172,
          77.65357757916826
         ],
         "y": [
          -8665.193115234375,
          204.8297609282381
         ],
         "z": [
          29.35749053955078,
          -141.78128560420978
         ]
        },
        {
         "line": {
          "dash": "dot"
         },
         "mode": "lines",
         "name": "Event: 11",
         "type": "scatter3d",
         "x": [
          -100.7464134979248,
          -13.829529816671865
         ],
         "y": [
          -9934.623168945312,
          398.5909103740487
         ],
         "z": [
          -41.60801696777344,
          -80.43982456424038
         ]
        },
        {
         "line": {
          "dash": "dot"
         },
         "mode": "lines",
         "name": "Event: 12",
         "type": "scatter3d",
         "x": [
          -50.60486724853516,
          -16.004065448223827
         ],
         "y": [
          -9953.1142578125,
          461.9202823494452
         ],
         "z": [
          4.8438520431518555,
          -82.0184554281892
         ]
        },
        {
         "line": {
          "dash": "dot"
         },
         "mode": "lines",
         "name": "Event: 13",
         "type": "scatter3d",
         "x": [
          -72.97007962942124,
          3.4968295217480687
         ],
         "y": [
          -10508.336242675781,
          230.29925950223515
         ],
         "z": [
          9.325315475463867,
          177.47766587361644
         ]
        },
        {
         "line": {
          "dash": "dot"
         },
         "mode": "lines",
         "name": "Event: 14",
         "type": "scatter3d",
         "x": [
          -104.47806671142578,
          -45.11774061666781
         ],
         "y": [
          -10704.03384399414,
          231.25507261082385
         ],
         "z": [
          38.854305267333984,
          79.36659475704172
         ]
        },
        {
         "line": {
          "dash": "dot"
         },
         "mode": "lines",
         "name": "Event: 15",
         "type": "scatter3d",
         "x": [
          -53.98966339111328,
          -209.16428625339253
         ],
         "y": [
          -10716.013275146484,
          0.644912000900149
         ],
         "z": [
          67.80176544189453,
          143.41781595551336
         ]
        },
        {
         "line": {
          "dash": "dot"
         },
         "mode": "lines",
         "name": "Event: 16",
         "type": "scatter3d",
         "x": [
          -71.51653984069824,
          127.03682828879704
         ],
         "y": [
          -10928.214981079102,
          436.33969030053413
         ],
         "z": [
          3.367506742477417,
          206.19172043133622
         ]
        },
        {
         "line": {
          "dash": "dot"
         },
         "mode": "lines",
         "name": "Event: 17",
         "type": "scatter3d",
         "x": [
          5.408407897949218,
          -85.15317604711944
         ],
         "y": [
          -6930.60205078125,
          86.26315039663405
         ],
         "z": [
          100.21456146240234,
          2.2372444736509465
         ]
        },
        {
         "line": {
          "dash": "dot"
         },
         "mode": "lines",
         "name": "Event: 18",
         "type": "scatter3d",
         "x": [
          -82.30094650268555,
          -144.87111376492163
         ],
         "y": [
          -10827.264877319336,
          234.27159324222157
         ],
         "z": [
          -3.4962222576141357,
          56.65030608623266
         ]
        },
        {
         "line": {
          "dash": "dot"
         },
         "mode": "lines",
         "name": "Event: 19",
         "type": "scatter3d",
         "x": [
          -97.12054565429688,
          166.16069220028194
         ],
         "y": [
          -9873.344360351562,
          334.34351534513735
         ],
         "z": [
          38.78080368041992,
          157.64341914565074
         ]
        },
        {
         "line": {
          "dash": "dot"
         },
         "mode": "lines",
         "name": "Event: 20",
         "type": "scatter3d",
         "x": [
          -63.85404613494873,
          7.475584447754088
         ],
         "y": [
          -10660.154235839844,
          76.77242606862819
         ],
         "z": [
          1.9522255659103394,
          86.4727198539376
         ]
        },
        {
         "line": {
          "dash": "dot"
         },
         "mode": "lines",
         "name": "Event: 21",
         "type": "scatter3d",
         "x": [
          -73.38474249720574,
          170.3810396594658
         ],
         "y": [
          -10615.138732910156,
          426.9862209053972
         ],
         "z": [
          -1.2070890665054321,
          134.28323745086783
         ]
        },
        {
         "line": {
          "dash": "dot"
         },
         "mode": "lines",
         "name": "Event: 22",
         "type": "scatter3d",
         "x": [
          -63.836504249572755,
          -142.7019490537217
         ],
         "y": [
          -10569.820678710938,
          232.91899572685543
         ],
         "z": [
          7.840574264526367,
          51.42944955631099
         ]
        },
        {
         "line": {
          "dash": "dot"
         },
         "mode": "lines",
         "name": "Event: 23",
         "type": "scatter3d",
         "x": [
          -65.18880393981934,
          -3.955947116653064
         ],
         "y": [
          -10393.817565917969,
          -9.091057851772348
         ],
         "z": [
          -7.17985200881958,
          179.28293580672081
         ]
        },
        {
         "line": {
          "dash": "dot"
         },
         "mode": "lines",
         "name": "Event: 24",
         "type": "scatter3d",
         "x": [
          -66.95170715332031,
          -35.21432421781115
         ],
         "y": [
          -10762.520965576172,
          151.0361434170918
         ],
         "z": [
          46.571571350097656,
          93.39170642458647
         ]
        },
        {
         "line": {
          "dash": "dot"
         },
         "mode": "lines",
         "name": "Event: 25",
         "type": "scatter3d",
         "x": [
          -103.64544227600098,
          48.95478532302633
         ],
         "y": [
          -9392.251220703125,
          46.76904798893338
         ],
         "z": [
          -77.32392883300781,
          70.62750997487564
         ]
        },
        {
         "line": {
          "dash": "dot"
         },
         "mode": "lines",
         "name": "Event: 26",
         "type": "scatter3d",
         "x": [
          -76.55125859260559,
          206.9567831024124
         ],
         "y": [
          -10526.023223876953,
          152.55357055417517
         ],
         "z": [
          -30.986494064331055,
          9.126794595971134
         ]
        },
        {
         "line": {
          "dash": "dot"
         },
         "mode": "lines",
         "name": "Event: 27",
         "type": "scatter3d",
         "x": [
          -37.76484802246094,
          66.8159985739985
         ],
         "y": [
          -9566.917358398438,
          43.850530953188354
         ],
         "z": [
          63.84428787231445,
          1.0849451071834508
         ]
        },
        {
         "line": {
          "dash": "dot"
         },
         "mode": "lines",
         "name": "Event: 28",
         "type": "scatter3d",
         "x": [
          -90.292113571167,
          200.10991825904605
         ],
         "y": [
          -10456.563903808594,
          7.825539134173596
         ],
         "z": [
          30.81542205810547,
          175.73062857183484
         ]
        },
        {
         "line": {
          "dash": "dot"
         },
         "mode": "lines",
         "name": "Event: 29",
         "type": "scatter3d",
         "x": [
          -4.455781250000001,
          -104.51960455314506
         ],
         "y": [
          -9853.111572265625,
          353.5939963101464
         ],
         "z": [
          -50.16044998168945,
          125.86102648072526
         ]
        },
        {
         "line": {
          "dash": "dot"
         },
         "mode": "lines",
         "name": "Event: 30",
         "type": "scatter3d",
         "x": [
          -73.06771847486496,
          -117.84784441239783
         ],
         "y": [
          -10856.460891723633,
          155.80845939239043
         ],
         "z": [
          13.74860954284668,
          27.927978300582446
         ]
        },
        {
         "line": {
          "dash": "dot"
         },
         "mode": "lines",
         "name": "Event: 31",
         "type": "scatter3d",
         "x": [
          -69.09466770172119,
          193.65418137340507
         ],
         "y": [
          -10788.534896850586,
          263.44564348030326
         ],
         "z": [
          -6.377176761627197,
          194.5803596146729
         ]
        },
        {
         "line": {
          "dash": "dot"
         },
         "mode": "lines",
         "name": "Event: 32",
         "type": "scatter3d",
         "x": [
          -79.73168542861939,
          208.75435697888324
         ],
         "y": [
          -10603.126770019531,
          171.4079446301712
         ],
         "z": [
          -5.463525772094727,
          -202.94844465257898
         ]
        },
        {
         "line": {
          "dash": "dot"
         },
         "mode": "lines",
         "name": "Event: 33",
         "type": "scatter3d",
         "x": [
          -59.13690498352051,
          -50.93536754956098
         ],
         "y": [
          -10461.209106445312,
          11.643253533708048
         ],
         "z": [
          34.51724624633789,
          -158.60060306291328
         ]
        },
        {
         "line": {
          "dash": "dot"
         },
         "mode": "lines",
         "name": "Event: 34",
         "type": "scatter3d",
         "x": [
          -86.5772526550293,
          -88.78376077152721
         ],
         "y": [
          -10866.194381713867,
          11.733698194233511
         ],
         "z": [
          -3.1782941818237305,
          -209.07282889129877
         ]
        },
        {
         "line": {
          "dash": "dot"
         },
         "mode": "lines",
         "name": "Event: 35",
         "type": "scatter3d",
         "x": [
          -51.95685699462891,
          145.42000410296438
         ],
         "y": [
          -10634.396667480469,
          194.25814858111153
         ],
         "z": [
          -9.256425857543945,
          -129.25220254228404
         ]
        },
        {
         "line": {
          "dash": "dot"
         },
         "mode": "lines",
         "name": "Event: 36",
         "type": "scatter3d",
         "x": [
          -7.173531799316407,
          50.41055454689541
         ],
         "y": [
          -10689.994598388672,
          37.18986813328411
         ],
         "z": [
          -7.545459270477295,
          -208.98658907286287
         ]
        },
        {
         "line": {
          "dash": "dot"
         },
         "mode": "lines",
         "name": "Event: 37",
         "type": "scatter3d",
         "x": [
          -77.07632353782654,
          -7.121890921049726
         ],
         "y": [
          -10974.726392745972,
          369.2418055930211
         ],
         "z": [
          -0.4842665195465088,
          -183.79244182655248
         ]
        },
        {
         "line": {
          "dash": "dot"
         },
         "mode": "lines",
         "name": "Event: 38",
         "type": "scatter3d",
         "x": [
          -116.75526550292969,
          157.43328985640326
         ],
         "y": [
          -9921.122680664062,
          320.39716977551325
         ],
         "z": [
          -54.95256042480469,
          147.14236509601
         ]
        },
        {
         "line": {
          "dash": "dot"
         },
         "mode": "lines",
         "name": "Event: 39",
         "type": "scatter3d",
         "x": [
          -136.4571469116211,
          54.67978535555872
         ],
         "y": [
          -10873.606323242188,
          483.31518134500584
         ],
         "z": [
          2.3528127670288086,
          -122.34379021904907
         ]
        },
        {
         "line": {
          "dash": "dot"
         },
         "mode": "lines",
         "name": "Event: 40",
         "type": "scatter3d",
         "x": [
          -81.33653524398804,
          33.84013740399968
         ],
         "y": [
          -10895.510353088379,
          409.9177526059284
         ],
         "z": [
          -60.444828033447266,
          -144.67126138430683
         ]
        },
        {
         "line": {
          "dash": "dot"
         },
         "mode": "lines",
         "name": "Event: 41",
         "type": "scatter3d",
         "x": [
          -53.17601707458496,
          -209.59538256884497
         ],
         "y": [
          -10682.145629882812,
          446.4157463092288
         ],
         "z": [
          44.121856689453125,
          32.06000180936084
         ]
        },
        {
         "line": {
          "dash": "dot"
         },
         "mode": "lines",
         "name": "Event: 42",
         "type": "scatter3d",
         "x": [
          -108.80911758422852,
          101.8900655696201
         ],
         "y": [
          -10666.032958984375,
          18.078172640580306
         ],
         "z": [
          -121.34376525878906,
          -45.81760688102304
         ]
        },
        {
         "line": {
          "dash": "dot"
         },
         "mode": "lines",
         "name": "Event: 43",
         "type": "scatter3d",
         "x": [
          -55.0638306427002,
          14.279975548436653
         ],
         "y": [
          -10555.641418457031,
          36.802713860692165
         ],
         "z": [
          -22.350446701049805,
          93.34065272904309
         ]
        },
        {
         "line": {
          "dash": "dot"
         },
         "mode": "lines",
         "name": "Event: 44",
         "type": "scatter3d",
         "x": [
          -48.65921524047852,
          171.9226370172823
         ],
         "y": [
          -10915.880073547363,
          326.8416532923002
         ],
         "z": [
          34.936614990234375,
          14.705593884030794
         ]
        },
        {
         "line": {
          "dash": "dot"
         },
         "mode": "lines",
         "name": "Event: 45",
         "type": "scatter3d",
         "x": [
          -39.60268524169922,
          202.0121840817872
         ],
         "y": [
          -8286.88427734375,
          71.96193704620964
         ],
         "z": [
          56.61178970336914,
          9.684745946787153
         ]
        },
        {
         "line": {
          "dash": "dot"
         },
         "mode": "lines",
         "name": "Event: 46",
         "type": "scatter3d",
         "x": [
          -65.15566089630127,
          43.38136941386742
         ],
         "y": [
          -10771.94384765625,
          355.0526462705402
         ],
         "z": [
          16.916770935058594,
          -159.7610072873056
         ]
        },
        {
         "line": {
          "dash": "dot"
         },
         "mode": "lines",
         "name": "Event: 47",
         "type": "scatter3d",
         "x": [
          -75.47700050354004,
          -51.65534850248583
         ],
         "y": [
          -10278.644836425781,
          74.67923618881832
         ],
         "z": [
          13.538534164428711,
          -147.04231043748595
         ]
        },
        {
         "line": {
          "dash": "dot"
         },
         "mode": "lines",
         "name": "Event: 48",
         "type": "scatter3d",
         "x": [
          -93.64581420898438,
          198.4326251219882
         ],
         "y": [
          -10162.055541992188,
          97.68140388533538
         ],
         "z": [
          13.194009780883789,
          -33.730777057989755
         ]
        },
        {
         "line": {
          "dash": "dot"
         },
         "mode": "lines",
         "name": "Event: 49",
         "type": "scatter3d",
         "x": [
          -75.02555659294129,
          -183.69793162800744
         ],
         "y": [
          -10055.663696289062,
          183.99521573202765
         ],
         "z": [
          1.056585431098938,
          -4.910083917045059
         ]
        },
        {
         "line": {
          "dash": "dot"
         },
         "mode": "lines",
         "name": "Event: 50",
         "type": "scatter3d",
         "x": [
          -70.51897457122803,
          -125.62242446734467
         ],
         "y": [
          -8760.524169921875,
          40.34571418456653
         ],
         "z": [
          30.119403839111328,
          115.59643314129436
         ]
        },
        {
         "line": {
          "dash": "dot"
         },
         "mode": "lines",
         "name": "Event: 51",
         "type": "scatter3d",
         "x": [
          -67.17376544952393,
          205.79602990541943
         ],
         "y": [
          -10873.769989013672,
          252.70667624703128
         ],
         "z": [
          5.884728908538818,
          -172.0987884485921
         ]
        },
        {
         "line": {
          "dash": "dot"
         },
         "mode": "lines",
         "name": "Event: 52",
         "type": "scatter3d",
         "x": [
          -144.56477478027344,
          -209.94611358480512
         ],
         "y": [
          -10731.69985961914,
          42.1219605125043
         ],
         "z": [
          40.3938102722168,
          -185.32771262280667
         ]
        },
        {
         "line": {
          "dash": "dot"
         },
         "mode": "lines",
         "name": "Event: 53",
         "type": "scatter3d",
         "x": [
          -117.58804061889649,
          92.89713728180678
         ],
         "y": [
          -10760.233032226562,
          369.41949791160005
         ],
         "z": [
          -36.135047912597656,
          -114.30501529022924
         ]
        },
        {
         "line": {
          "dash": "dot"
         },
         "mode": "lines",
         "name": "Event: 54",
         "type": "scatter3d",
         "x": [
          -92.26227310180664,
          31.36341671859259
         ],
         "y": [
          -10655.502258300781,
          158.9931653485819
         ],
         "z": [
          11.928625106811523,
          -24.37160272560255
         ]
        },
        {
         "line": {
          "dash": "dot"
         },
         "mode": "lines",
         "name": "Event: 55",
         "type": "scatter3d",
         "x": [
          -56.67455795288086,
          130.3788895585554
         ],
         "y": [
          -9637.356567382812,
          162.70840904262332
         ],
         "z": [
          -5.792165756225586,
          168.16850291268273
         ]
        },
        {
         "line": {
          "dash": "dot"
         },
         "mode": "lines",
         "name": "Event: 56",
         "type": "scatter3d",
         "x": [
          -69.92501357078552,
          -177.94308980668438
         ],
         "y": [
          -8424.053955078125,
          355.1201579763456
         ],
         "z": [
          -19.778825759887695,
          -204.2105813083791
         ]
        },
        {
         "line": {
          "dash": "dot"
         },
         "mode": "lines",
         "name": "Event: 57",
         "type": "scatter3d",
         "x": [
          -43.49490859985352,
          -195.45515590305712
         ],
         "y": [
          -8018.421142578125,
          89.37087682899983
         ],
         "z": [
          -60.93623733520508,
          -165.56192593729347
         ]
        },
        {
         "line": {
          "dash": "dot"
         },
         "mode": "lines",
         "name": "Event: 58",
         "type": "scatter3d",
         "x": [
          -109.58889129638672,
          -16.441305795446496
         ],
         "y": [
          -9443.989379882812,
          296.16056505149754
         ],
         "z": [
          -55.31975173950195,
          -140.46344352445962
         ]
        },
        {
         "line": {
          "dash": "dot"
         },
         "mode": "lines",
         "name": "Event: 59",
         "type": "scatter3d",
         "x": [
          -119.25645568847656,
          -207.0915688880578
         ],
         "y": [
          -8933.9140625,
          30.21731151972199
         ],
         "z": [
          40.1910400390625,
          -170.01648711654545
         ]
        },
        {
         "line": {
          "dash": "dot"
         },
         "mode": "lines",
         "name": "Event: 60",
         "type": "scatter3d",
         "x": [
          -85.90090587615967,
          -117.21291111664624
         ],
         "y": [
          -10778.682922363281,
          380.83000537689804
         ],
         "z": [
          32.013458251953125,
          159.74693304260288
         ]
        },
        {
         "line": {
          "dash": "dot"
         },
         "mode": "lines",
         "name": "Event: 61",
         "type": "scatter3d",
         "x": [
          -53.9627449798584,
          154.31881560034728
         ],
         "y": [
          -8939.98046875,
          420.7187247200709
         ],
         "z": [
          -58.3922119140625,
          -150.4860936886534
         ]
        },
        {
         "line": {
          "dash": "dot"
         },
         "mode": "lines",
         "name": "Event: 62",
         "type": "scatter3d",
         "x": [
          -85.80254104614258,
          54.23346761725685
         ],
         "y": [
          -10802.012649536133,
          353.41729036220204
         ],
         "z": [
          6.914638519287109,
          -130.4068408026358
         ]
        },
        {
         "line": {
          "dash": "dot"
         },
         "mode": "lines",
         "name": "Event: 63",
         "type": "scatter3d",
         "x": [
          -62.66618755340576,
          138.71028501744962
         ],
         "y": [
          -10427.774841308594,
          307.2364161765927
         ],
         "z": [
          -0.9044979810714722,
          12.756207024741238
         ]
        },
        {
         "line": {
          "dash": "dot"
         },
         "mode": "lines",
         "name": "Event: 64",
         "type": "scatter3d",
         "x": [
          -69.70713403701782,
          209.92117038464872
         ],
         "y": [
          -10784.67268371582,
          6.076412880942371
         ],
         "z": [
          -29.744754791259766,
          176.61934961578964
         ]
        },
        {
         "line": {
          "dash": "dot"
         },
         "mode": "lines",
         "name": "Event: 65",
         "type": "scatter3d",
         "x": [
          -75.56041470050812,
          74.7514762600577
         ],
         "y": [
          -10415.905944824219,
          372.97232189614806
         ],
         "z": [
          -5.645276069641113,
          144.92410712950672
         ]
        },
        {
         "line": {
          "dash": "dot"
         },
         "mode": "lines",
         "name": "Event: 66",
         "type": "scatter3d",
         "x": [
          -48.09930732727051,
          155.6358856079056
         ],
         "y": [
          -10446.477783203125,
          448.86667196227245
         ],
         "z": [
          -18.844518661499023,
          130.7528794314754
         ]
        },
        {
         "line": {
          "dash": "dot"
         },
         "mode": "lines",
         "name": "Event: 67",
         "type": "scatter3d",
         "x": [
          -83.9550602722168,
          156.34754948652323
         ],
         "y": [
          -10713.04946899414,
          155.20544408766727
         ],
         "z": [
          -42.593685150146484,
          -202.88851953291964
         ]
        },
        {
         "line": {
          "dash": "dot"
         },
         "mode": "lines",
         "name": "Event: 68",
         "type": "scatter3d",
         "x": [
          -96.00665786743164,
          -191.00538391916484
         ],
         "y": [
          -8856.544677734375,
          213.15600652876492
         ],
         "z": [
          -139.56814575195312,
          -129.1519239931492
         ]
        },
        {
         "line": {
          "dash": "dot"
         },
         "mode": "lines",
         "name": "Event: 69",
         "type": "scatter3d",
         "x": [
          -95.75458076477051,
          90.4988780030221
         ],
         "y": [
          -10527.444732666016,
          175.97245426834525
         ],
         "z": [
          -20.600563049316406,
          -68.48868494484275
         ]
        },
        {
         "line": {
          "dash": "dot"
         },
         "mode": "lines",
         "name": "Event: 70",
         "type": "scatter3d",
         "x": [
          -86.37714794158936,
          -102.0417190067039
         ],
         "y": [
          -6700.6982421875,
          344.66202889322176
         ],
         "z": [
          68.54013061523438,
          207.6623089757715
         ]
        },
        {
         "line": {
          "dash": "dot"
         },
         "mode": "lines",
         "name": "Event: 71",
         "type": "scatter3d",
         "x": [
          -77.60717275619507,
          40.38709550868242
         ],
         "y": [
          -10833.751235961914,
          21.189142143453864
         ],
         "z": [
          -37.34639358520508,
          -168.6454607585985
         ]
        },
        {
         "line": {
          "dash": "dot"
         },
         "mode": "lines",
         "name": "Event: 72",
         "type": "scatter3d",
         "x": [
          -63.05605152130127,
          -195.5834452383044
         ],
         "y": [
          -10652.208679199219,
          -3.698742808406678
         ],
         "z": [
          15.518548011779785,
          197.11827776213897
         ]
        },
        {
         "line": {
          "dash": "dot"
         },
         "mode": "lines",
         "name": "Event: 73",
         "type": "scatter3d",
         "x": [
          -70.28248646736145,
          87.38440835997415
         ],
         "y": [
          -8599.58740234375,
          493.47700033100773
         ],
         "z": [
          7.552052974700928,
          -80.91012643380208
         ]
        },
        {
         "line": {
          "dash": "dot"
         },
         "mode": "lines",
         "name": "Event: 74",
         "type": "scatter3d",
         "x": [
          -62.731648712158204,
          -200.38518135995102
         ],
         "y": [
          -10200.817504882812,
          8.460015960821693
         ],
         "z": [
          -23.985332489013672,
          -209.75693047647172
         ]
        },
        {
         "line": {
          "dash": "dot"
         },
         "mode": "lines",
         "name": "Event: 75",
         "type": "scatter3d",
         "x": [
          -39.825669555664064,
          135.19340748959675
         ],
         "y": [
          -8874.6025390625,
          249.04939674984234
         ],
         "z": [
          -9.024043083190918,
          -46.00638597081973
         ]
        },
        {
         "line": {
          "dash": "dot"
         },
         "mode": "lines",
         "name": "Event: 76",
         "type": "scatter3d",
         "x": [
          -142.87325408935547,
          147.72695899156233
         ],
         "y": [
          -8844.686767578125,
          24.190743997809477
         ],
         "z": [
          85.09402465820312,
          39.74311775036404
         ]
        },
        {
         "line": {
          "dash": "dot"
         },
         "mode": "lines",
         "name": "Event: 77",
         "type": "scatter3d",
         "x": [
          -68.11301210403442,
          -143.63097051816058
         ],
         "y": [
          -10939.267078399658,
          252.84910822348684
         ],
         "z": [
          -4.171996116638184,
          65.83003909113623
         ]
        },
        {
         "line": {
          "dash": "dot"
         },
         "mode": "lines",
         "name": "Event: 78",
         "type": "scatter3d",
         "x": [
          -46.36571243286133,
          -174.844502160788
         ],
         "y": [
          -7632.59765625,
          127.03145193356704
         ],
         "z": [
          27.263378143310547,
          4.287158687872388
         ]
        },
        {
         "line": {
          "dash": "dot"
         },
         "mode": "lines",
         "name": "Event: 79",
         "type": "scatter3d",
         "x": [
          -22.148072509765626,
          206.79665991574976
         ],
         "y": [
          -8574.93798828125,
          333.86836515558025
         ],
         "z": [
          -75.76314544677734,
          66.6708566601234
         ]
        },
        {
         "line": {
          "dash": "dot"
         },
         "mode": "lines",
         "name": "Event: 80",
         "type": "scatter3d",
         "x": [
          -70.32714751243591,
          83.40702912879203
         ],
         "y": [
          -10161.001831054688,
          174.7271934945784
         ],
         "z": [
          -0.20221106708049774,
          -90.5223428107171
         ]
        },
        {
         "line": {
          "dash": "dot"
         },
         "mode": "lines",
         "name": "Event: 81",
         "type": "scatter3d",
         "x": [
          -81.23359992980957,
          58.14036899536336
         ],
         "y": [
          -10713.123992919922,
          345.9403507108382
         ],
         "z": [
          23.25461196899414,
          -45.36193409670301
         ]
        },
        {
         "line": {
          "dash": "dot"
         },
         "mode": "lines",
         "name": "Event: 82",
         "type": "scatter3d",
         "x": [
          -73.50408497333527,
          163.24703042625993
         ],
         "y": [
          -10897.157470703125,
          391.22078938976483
         ],
         "z": [
          4.496582984924316,
          161.95536192267207
         ]
        },
        {
         "line": {
          "dash": "dot"
         },
         "mode": "lines",
         "name": "Event: 83",
         "type": "scatter3d",
         "x": [
          -20.821236877441407,
          -59.24665230882294
         ],
         "y": [
          -10042.885986328125,
          471.4310110723909
         ],
         "z": [
          33.96223068237305,
          -205.80794051335957
         ]
        },
        {
         "line": {
          "dash": "dot"
         },
         "mode": "lines",
         "name": "Event: 84",
         "type": "scatter3d",
         "x": [
          -91.94779899597168,
          159.8957744892679
         ],
         "y": [
          -10792.473449707031,
          392.6100809801628
         ],
         "z": [
          -34.04615783691406,
          53.8604347400275
         ]
        },
        {
         "line": {
          "dash": "dot"
         },
         "mode": "lines",
         "name": "Event: 85",
         "type": "scatter3d",
         "x": [
          -109.42068603515625,
          -192.97287380821547
         ],
         "y": [
          -10545.103454589844,
          18.69852900684964
         ],
         "z": [
          0.8521835803985596,
          68.80071463244485
         ]
        },
        {
         "line": {
          "dash": "dot"
         },
         "mode": "lines",
         "name": "Event: 86",
         "type": "scatter3d",
         "x": [
          -102.44225242614746,
          -126.32982990326752
         ],
         "y": [
          -8200.324462890625,
          104.0355414559217
         ],
         "z": [
          -44.70653533935547,
          -169.72595340318264
         ]
        },
        {
         "line": {
          "dash": "dot"
         },
         "mode": "lines",
         "name": "Event: 87",
         "type": "scatter3d",
         "x": [
          -64.11966064453125,
          -164.53209488958956
         ],
         "y": [
          -10751.178237915039,
          281.3574448874606
         ],
         "z": [
          0.4323851466178894,
          -92.43196037284837
         ]
        },
        {
         "line": {
          "dash": "dot"
         },
         "mode": "lines",
         "name": "Event: 88",
         "type": "scatter3d",
         "x": [
          -112.946748046875,
          -195.07095675876076
         ],
         "y": [
          -6189.54345703125,
          434.73616431449136
         ],
         "z": [
          73.32205963134766,
          204.32745764479847
         ]
        },
        {
         "line": {
          "dash": "dot"
         },
         "mode": "lines",
         "name": "Event: 89",
         "type": "scatter3d",
         "x": [
          -83.71874263763428,
          174.32498125240394
         ],
         "y": [
          -10917.84903717041,
          -9.093655869592112
         ],
         "z": [
          2.922693967819214,
          -209.70889083960654
         ]
        },
        {
         "line": {
          "dash": "dot"
         },
         "mode": "lines",
         "name": "Event: 90",
         "type": "scatter3d",
         "x": [
          -70.34068468093872,
          155.11584205757475
         ],
         "y": [
          -10932.9468460083,
          169.42503674098407
         ],
         "z": [
          -4.853102684020996,
          98.65637371636545
         ]
        },
        {
         "line": {
          "dash": "dot"
         },
         "mode": "lines",
         "name": "Event: 91",
         "type": "scatter3d",
         "x": [
          2.3112322998046864,
          -122.51048949256166
         ],
         "y": [
          -8458.05419921875,
          403.83133007095967
         ],
         "z": [
          -104.40792083740234,
          44.60357777296343
         ]
        },
        {
         "line": {
          "dash": "dot"
         },
         "mode": "lines",
         "name": "Event: 92",
         "type": "scatter3d",
         "x": [
          -59.48218086242676,
          207.89901628800763
         ],
         "y": [
          -10634.173095703125,
          508.0246013224514
         ],
         "z": [
          -46.50748825073242,
          158.9151987972717
         ]
        },
        {
         "line": {
          "dash": "dot"
         },
         "mode": "lines",
         "name": "Event: 93",
         "type": "scatter3d",
         "x": [
          -69.56828382492066,
          83.60240053604963
         ],
         "y": [
          -10905.605461120605,
          45.361693629170986
         ],
         "z": [
          -4.431676387786865,
          -18.79377409729904
         ]
        },
        {
         "line": {
          "dash": "dot"
         },
         "mode": "lines",
         "name": "Event: 94",
         "type": "scatter3d",
         "x": [
          -114.49650314331055,
          -204.04555189729936
         ],
         "y": [
          -10818.458618164062,
          429.1424893364838
         ],
         "z": [
          45.85167694091797,
          -59.49537797477359
         ]
        },
        {
         "line": {
          "dash": "dot"
         },
         "mode": "lines",
         "name": "Event: 95",
         "type": "scatter3d",
         "x": [
          -138.88128784179688,
          -106.14943588565272
         ],
         "y": [
          -8243.8154296875,
          410.0632470355886
         ],
         "z": [
          -1.0557893514633179,
          -196.51828656310536
         ]
        },
        {
         "line": {
          "dash": "dot"
         },
         "mode": "lines",
         "name": "Event: 96",
         "type": "scatter3d",
         "x": [
          -98.5888321685791,
          208.29277540663227
         ],
         "y": [
          -10520.553985595703,
          23.446986924060184
         ],
         "z": [
          3.877554416656494,
          112.37156974911069
         ]
        },
        {
         "line": {
          "dash": "dot"
         },
         "mode": "lines",
         "name": "Event: 97",
         "type": "scatter3d",
         "x": [
          -105.31178787231445,
          -20.580914858280593
         ],
         "y": [
          -10658.279266357422,
          389.96977809654527
         ],
         "z": [
          -60.21078872680664,
          -148.19257386872016
         ]
        },
        {
         "line": {
          "dash": "dot"
         },
         "mode": "lines",
         "name": "Event: 98",
         "type": "scatter3d",
         "x": [
          -98.90490463256836,
          -183.70147215633455
         ],
         "y": [
          -9097.796142578125,
          84.99899636060945
         ],
         "z": [
          -7.903017044067383,
          -51.601430075296506
         ]
        },
        {
         "line": {
          "dash": "dot"
         },
         "mode": "lines",
         "name": "Event: 99",
         "type": "scatter3d",
         "x": [
          -50.713176040649415,
          136.8135020997843
         ],
         "y": [
          -10644.370635986328,
          111.2785383902301
         ],
         "z": [
          -2.141873836517334,
          -197.1995524180409
         ]
        }
       ],
       "layout": {
        "height": 800,
        "scene": {
         "aspectmode": "manual",
         "aspectratio": {
          "x": 1,
          "y": 5,
          "z": 1
         },
         "camera": {
          "center": {
           "x": 0,
           "y": 0,
           "z": 0
          },
          "eye": {
           "x": 1.25,
           "y": -1.25,
           "z": 1.25
          },
          "up": {
           "x": 0,
           "y": 0,
           "z": 1
          }
         },
         "xaxis": {
          "title": {
           "text": "X (cm)"
          }
         },
         "yaxis": {
          "title": {
           "text": "Z (cm)"
          }
         },
         "zaxis": {
          "title": {
           "text": "Y (cm)"
          }
         }
        },
        "template": {
         "data": {
          "bar": [
           {
            "error_x": {
             "color": "#2a3f5f"
            },
            "error_y": {
             "color": "#2a3f5f"
            },
            "marker": {
             "line": {
              "color": "#E5ECF6",
              "width": 0.5
             },
             "pattern": {
              "fillmode": "overlay",
              "size": 10,
              "solidity": 0.2
             }
            },
            "type": "bar"
           }
          ],
          "barpolar": [
           {
            "marker": {
             "line": {
              "color": "#E5ECF6",
              "width": 0.5
             },
             "pattern": {
              "fillmode": "overlay",
              "size": 10,
              "solidity": 0.2
             }
            },
            "type": "barpolar"
           }
          ],
          "carpet": [
           {
            "aaxis": {
             "endlinecolor": "#2a3f5f",
             "gridcolor": "white",
             "linecolor": "white",
             "minorgridcolor": "white",
             "startlinecolor": "#2a3f5f"
            },
            "baxis": {
             "endlinecolor": "#2a3f5f",
             "gridcolor": "white",
             "linecolor": "white",
             "minorgridcolor": "white",
             "startlinecolor": "#2a3f5f"
            },
            "type": "carpet"
           }
          ],
          "choropleth": [
           {
            "colorbar": {
             "outlinewidth": 0,
             "ticks": ""
            },
            "type": "choropleth"
           }
          ],
          "contour": [
           {
            "colorbar": {
             "outlinewidth": 0,
             "ticks": ""
            },
            "colorscale": [
             [
              0,
              "#0d0887"
             ],
             [
              0.1111111111111111,
              "#46039f"
             ],
             [
              0.2222222222222222,
              "#7201a8"
             ],
             [
              0.3333333333333333,
              "#9c179e"
             ],
             [
              0.4444444444444444,
              "#bd3786"
             ],
             [
              0.5555555555555556,
              "#d8576b"
             ],
             [
              0.6666666666666666,
              "#ed7953"
             ],
             [
              0.7777777777777778,
              "#fb9f3a"
             ],
             [
              0.8888888888888888,
              "#fdca26"
             ],
             [
              1,
              "#f0f921"
             ]
            ],
            "type": "contour"
           }
          ],
          "contourcarpet": [
           {
            "colorbar": {
             "outlinewidth": 0,
             "ticks": ""
            },
            "type": "contourcarpet"
           }
          ],
          "heatmap": [
           {
            "colorbar": {
             "outlinewidth": 0,
             "ticks": ""
            },
            "colorscale": [
             [
              0,
              "#0d0887"
             ],
             [
              0.1111111111111111,
              "#46039f"
             ],
             [
              0.2222222222222222,
              "#7201a8"
             ],
             [
              0.3333333333333333,
              "#9c179e"
             ],
             [
              0.4444444444444444,
              "#bd3786"
             ],
             [
              0.5555555555555556,
              "#d8576b"
             ],
             [
              0.6666666666666666,
              "#ed7953"
             ],
             [
              0.7777777777777778,
              "#fb9f3a"
             ],
             [
              0.8888888888888888,
              "#fdca26"
             ],
             [
              1,
              "#f0f921"
             ]
            ],
            "type": "heatmap"
           }
          ],
          "heatmapgl": [
           {
            "colorbar": {
             "outlinewidth": 0,
             "ticks": ""
            },
            "colorscale": [
             [
              0,
              "#0d0887"
             ],
             [
              0.1111111111111111,
              "#46039f"
             ],
             [
              0.2222222222222222,
              "#7201a8"
             ],
             [
              0.3333333333333333,
              "#9c179e"
             ],
             [
              0.4444444444444444,
              "#bd3786"
             ],
             [
              0.5555555555555556,
              "#d8576b"
             ],
             [
              0.6666666666666666,
              "#ed7953"
             ],
             [
              0.7777777777777778,
              "#fb9f3a"
             ],
             [
              0.8888888888888888,
              "#fdca26"
             ],
             [
              1,
              "#f0f921"
             ]
            ],
            "type": "heatmapgl"
           }
          ],
          "histogram": [
           {
            "marker": {
             "pattern": {
              "fillmode": "overlay",
              "size": 10,
              "solidity": 0.2
             }
            },
            "type": "histogram"
           }
          ],
          "histogram2d": [
           {
            "colorbar": {
             "outlinewidth": 0,
             "ticks": ""
            },
            "colorscale": [
             [
              0,
              "#0d0887"
             ],
             [
              0.1111111111111111,
              "#46039f"
             ],
             [
              0.2222222222222222,
              "#7201a8"
             ],
             [
              0.3333333333333333,
              "#9c179e"
             ],
             [
              0.4444444444444444,
              "#bd3786"
             ],
             [
              0.5555555555555556,
              "#d8576b"
             ],
             [
              0.6666666666666666,
              "#ed7953"
             ],
             [
              0.7777777777777778,
              "#fb9f3a"
             ],
             [
              0.8888888888888888,
              "#fdca26"
             ],
             [
              1,
              "#f0f921"
             ]
            ],
            "type": "histogram2d"
           }
          ],
          "histogram2dcontour": [
           {
            "colorbar": {
             "outlinewidth": 0,
             "ticks": ""
            },
            "colorscale": [
             [
              0,
              "#0d0887"
             ],
             [
              0.1111111111111111,
              "#46039f"
             ],
             [
              0.2222222222222222,
              "#7201a8"
             ],
             [
              0.3333333333333333,
              "#9c179e"
             ],
             [
              0.4444444444444444,
              "#bd3786"
             ],
             [
              0.5555555555555556,
              "#d8576b"
             ],
             [
              0.6666666666666666,
              "#ed7953"
             ],
             [
              0.7777777777777778,
              "#fb9f3a"
             ],
             [
              0.8888888888888888,
              "#fdca26"
             ],
             [
              1,
              "#f0f921"
             ]
            ],
            "type": "histogram2dcontour"
           }
          ],
          "mesh3d": [
           {
            "colorbar": {
             "outlinewidth": 0,
             "ticks": ""
            },
            "type": "mesh3d"
           }
          ],
          "parcoords": [
           {
            "line": {
             "colorbar": {
              "outlinewidth": 0,
              "ticks": ""
             }
            },
            "type": "parcoords"
           }
          ],
          "pie": [
           {
            "automargin": true,
            "type": "pie"
           }
          ],
          "scatter": [
           {
            "fillpattern": {
             "fillmode": "overlay",
             "size": 10,
             "solidity": 0.2
            },
            "type": "scatter"
           }
          ],
          "scatter3d": [
           {
            "line": {
             "colorbar": {
              "outlinewidth": 0,
              "ticks": ""
             }
            },
            "marker": {
             "colorbar": {
              "outlinewidth": 0,
              "ticks": ""
             }
            },
            "type": "scatter3d"
           }
          ],
          "scattercarpet": [
           {
            "marker": {
             "colorbar": {
              "outlinewidth": 0,
              "ticks": ""
             }
            },
            "type": "scattercarpet"
           }
          ],
          "scattergeo": [
           {
            "marker": {
             "colorbar": {
              "outlinewidth": 0,
              "ticks": ""
             }
            },
            "type": "scattergeo"
           }
          ],
          "scattergl": [
           {
            "marker": {
             "colorbar": {
              "outlinewidth": 0,
              "ticks": ""
             }
            },
            "type": "scattergl"
           }
          ],
          "scattermapbox": [
           {
            "marker": {
             "colorbar": {
              "outlinewidth": 0,
              "ticks": ""
             }
            },
            "type": "scattermapbox"
           }
          ],
          "scatterpolar": [
           {
            "marker": {
             "colorbar": {
              "outlinewidth": 0,
              "ticks": ""
             }
            },
            "type": "scatterpolar"
           }
          ],
          "scatterpolargl": [
           {
            "marker": {
             "colorbar": {
              "outlinewidth": 0,
              "ticks": ""
             }
            },
            "type": "scatterpolargl"
           }
          ],
          "scatterternary": [
           {
            "marker": {
             "colorbar": {
              "outlinewidth": 0,
              "ticks": ""
             }
            },
            "type": "scatterternary"
           }
          ],
          "surface": [
           {
            "colorbar": {
             "outlinewidth": 0,
             "ticks": ""
            },
            "colorscale": [
             [
              0,
              "#0d0887"
             ],
             [
              0.1111111111111111,
              "#46039f"
             ],
             [
              0.2222222222222222,
              "#7201a8"
             ],
             [
              0.3333333333333333,
              "#9c179e"
             ],
             [
              0.4444444444444444,
              "#bd3786"
             ],
             [
              0.5555555555555556,
              "#d8576b"
             ],
             [
              0.6666666666666666,
              "#ed7953"
             ],
             [
              0.7777777777777778,
              "#fb9f3a"
             ],
             [
              0.8888888888888888,
              "#fdca26"
             ],
             [
              1,
              "#f0f921"
             ]
            ],
            "type": "surface"
           }
          ],
          "table": [
           {
            "cells": {
             "fill": {
              "color": "#EBF0F8"
             },
             "line": {
              "color": "white"
             }
            },
            "header": {
             "fill": {
              "color": "#C8D4E3"
             },
             "line": {
              "color": "white"
             }
            },
            "type": "table"
           }
          ]
         },
         "layout": {
          "annotationdefaults": {
           "arrowcolor": "#2a3f5f",
           "arrowhead": 0,
           "arrowwidth": 1
          },
          "autosize": false,
          "autotypenumbers": "strict",
          "coloraxis": {
           "colorbar": {
            "outlinewidth": 0,
            "ticks": ""
           }
          },
          "colorscale": {
           "diverging": [
            [
             0,
             "#8e0152"
            ],
            [
             0.1,
             "#c51b7d"
            ],
            [
             0.2,
             "#de77ae"
            ],
            [
             0.3,
             "#f1b6da"
            ],
            [
             0.4,
             "#fde0ef"
            ],
            [
             0.5,
             "#f7f7f7"
            ],
            [
             0.6,
             "#e6f5d0"
            ],
            [
             0.7,
             "#b8e186"
            ],
            [
             0.8,
             "#7fbc41"
            ],
            [
             0.9,
             "#4d9221"
            ],
            [
             1,
             "#276419"
            ]
           ],
           "sequential": [
            [
             0,
             "#0d0887"
            ],
            [
             0.1111111111111111,
             "#46039f"
            ],
            [
             0.2222222222222222,
             "#7201a8"
            ],
            [
             0.3333333333333333,
             "#9c179e"
            ],
            [
             0.4444444444444444,
             "#bd3786"
            ],
            [
             0.5555555555555556,
             "#d8576b"
            ],
            [
             0.6666666666666666,
             "#ed7953"
            ],
            [
             0.7777777777777778,
             "#fb9f3a"
            ],
            [
             0.8888888888888888,
             "#fdca26"
            ],
            [
             1,
             "#f0f921"
            ]
           ],
           "sequentialminus": [
            [
             0,
             "#0d0887"
            ],
            [
             0.1111111111111111,
             "#46039f"
            ],
            [
             0.2222222222222222,
             "#7201a8"
            ],
            [
             0.3333333333333333,
             "#9c179e"
            ],
            [
             0.4444444444444444,
             "#bd3786"
            ],
            [
             0.5555555555555556,
             "#d8576b"
            ],
            [
             0.6666666666666666,
             "#ed7953"
            ],
            [
             0.7777777777777778,
             "#fb9f3a"
            ],
            [
             0.8888888888888888,
             "#fdca26"
            ],
            [
             1,
             "#f0f921"
            ]
           ]
          },
          "colorway": [
           "#636efa",
           "#EF553B",
           "#00cc96",
           "#ab63fa",
           "#FFA15A",
           "#19d3f3",
           "#FF6692",
           "#B6E880",
           "#FF97FF",
           "#FECB52"
          ],
          "font": {
           "color": "#2a3f5f"
          },
          "geo": {
           "bgcolor": "white",
           "lakecolor": "white",
           "landcolor": "#E5ECF6",
           "showlakes": true,
           "showland": true,
           "subunitcolor": "white"
          },
          "hoverlabel": {
           "align": "left"
          },
          "hovermode": "closest",
          "mapbox": {
           "style": "light"
          },
          "paper_bgcolor": "white",
          "plot_bgcolor": "#E5ECF6",
          "polar": {
           "angularaxis": {
            "gridcolor": "white",
            "linecolor": "white",
            "ticks": ""
           },
           "bgcolor": "#E5ECF6",
           "radialaxis": {
            "gridcolor": "white",
            "linecolor": "white",
            "ticks": ""
           }
          },
          "scene": {
           "xaxis": {
            "backgroundcolor": "#E5ECF6",
            "gridcolor": "white",
            "gridwidth": 2,
            "linecolor": "white",
            "showbackground": true,
            "ticks": "",
            "zerolinecolor": "white"
           },
           "yaxis": {
            "backgroundcolor": "#E5ECF6",
            "gridcolor": "white",
            "gridwidth": 2,
            "linecolor": "white",
            "showbackground": true,
            "ticks": "",
            "zerolinecolor": "white"
           },
           "zaxis": {
            "backgroundcolor": "#E5ECF6",
            "gridcolor": "white",
            "gridwidth": 2,
            "linecolor": "white",
            "showbackground": true,
            "ticks": "",
            "zerolinecolor": "white"
           }
          },
          "shapedefaults": {
           "line": {
            "color": "#2a3f5f"
           }
          },
          "ternary": {
           "aaxis": {
            "gridcolor": "white",
            "linecolor": "white",
            "ticks": ""
           },
           "baxis": {
            "gridcolor": "white",
            "linecolor": "white",
            "ticks": ""
           },
           "bgcolor": "#E5ECF6",
           "caxis": {
            "gridcolor": "white",
            "linecolor": "white",
            "ticks": ""
           }
          },
          "title": {
           "x": 0.05
          },
          "xaxis": {
           "automargin": true,
           "gridcolor": "white",
           "linecolor": "white",
           "ticks": "",
           "title": {
            "standoff": 15
           },
           "zerolinecolor": "white",
           "zerolinewidth": 2
          },
          "yaxis": {
           "automargin": true,
           "gridcolor": "white",
           "linecolor": "white",
           "ticks": "",
           "title": {
            "standoff": 15
           },
           "zerolinecolor": "white",
           "zerolinewidth": 2
          }
         }
        },
        "width": 1200
       }
      },
      "text/html": [
       "<div>                            <div id=\"7c2fe9d5-8c74-4ee8-b951-0a7e23af6aed\" class=\"plotly-graph-div\" style=\"height:800px; width:1200px;\"></div>            <script type=\"text/javascript\">                require([\"plotly\"], function(Plotly) {                    window.PLOTLYENV=window.PLOTLYENV || {};                                    if (document.getElementById(\"7c2fe9d5-8c74-4ee8-b951-0a7e23af6aed\")) {                    Plotly.newPlot(                        \"7c2fe9d5-8c74-4ee8-b951-0a7e23af6aed\",                        [{\"line\":{\"color\":\"lightgrey\",\"width\":2},\"mode\":\"lines\",\"name\":\"Detector Box\",\"x\":[-200,200,200,-200,-200,-200,200,200,-200,-200,-200,-200,200,200,200,200,0,0,0,0,0],\"y\":[0,0,500,500,0,0,0,500,500,0,500,500,500,500,0,0,0,0,500,500,0],\"z\":[-200,-200,-200,-200,-200,200,200,200,200,200,200,-200,-200,200,200,-200,-200,200,200,-200,-200],\"type\":\"scatter3d\"},{\"line\":{\"dash\":\"dot\"},\"mode\":\"lines\",\"name\":\"Event: 0\",\"x\":[-88.10411670684815,173.96912316867596],\"y\":[-10748.019989013672,175.5183630259362],\"z\":[0.8224661946296692,7.958934626802683],\"type\":\"scatter3d\"},{\"line\":{\"dash\":\"dot\"},\"mode\":\"lines\",\"name\":\"Event: 1\",\"x\":[15.239813537597655,96.93109598959188],\"y\":[-7538.174072265625,40.77348702267682],\"z\":[-15.181720733642578,54.77963053165668],\"type\":\"scatter3d\"},{\"line\":{\"dash\":\"dot\"},\"mode\":\"lines\",\"name\":\"Event: 2\",\"x\":[-45.89623001098633,-186.88032270829837],\"y\":[-10796.98942565918,198.43118414813216],\"z\":[-25.210966110229492,-88.85684917890936],\"type\":\"scatter3d\"},{\"line\":{\"dash\":\"dot\"},\"mode\":\"lines\",\"name\":\"Event: 3\",\"x\":[-77.7878182220459,-72.15978307416052],\"y\":[-10865.16683959961,249.91224061929643],\"z\":[2.2654407024383545,-55.15809283114445],\"type\":\"scatter3d\"},{\"line\":{\"dash\":\"dot\"},\"mode\":\"lines\",\"name\":\"Event: 4\",\"x\":[-121.6876156616211,88.70922987745118],\"y\":[-10624.900970458984,355.92736876052186],\"z\":[-34.05895233154297,-99.2476562027975],\"type\":\"scatter3d\"},{\"line\":{\"dash\":\"dot\"},\"mode\":\"lines\",\"name\":\"Event: 5\",\"x\":[-72.6819900560379,89.26889650057325],\"y\":[-10745.599822998047,509.2601632988062],\"z\":[4.354379653930664,-209.41259565349384],\"type\":\"scatter3d\"},{\"line\":{\"dash\":\"dot\"},\"mode\":\"lines\",\"name\":\"Event: 6\",\"x\":[-81.42864540100098,29.608043561753092],\"y\":[-10926.445289611816,205.96965752142205],\"z\":[-3.7898151874542236,184.54654132366562],\"type\":\"scatter3d\"},{\"line\":{\"dash\":\"dot\"},\"mode\":\"lines\",\"name\":\"Event: 7\",\"x\":[-75.49351706981659,-15.77078690829287],\"y\":[-10273.532531738281,101.16884011346338],\"z\":[-1.9533271789550781,62.30092221779428],\"type\":\"scatter3d\"},{\"line\":{\"dash\":\"dot\"},\"mode\":\"lines\",\"name\":\"Event: 8\",\"x\":[-17.664490966796876,-57.919463776690584],\"y\":[-5889.74365234375,201.4362603075042],\"z\":[-59.72340774536133,103.45812999680848],\"type\":\"scatter3d\"},{\"line\":{\"dash\":\"dot\"},\"mode\":\"lines\",\"name\":\"Event: 9\",\"x\":[-83.65480163574219,-107.88799834337985],\"y\":[-10769.182907104492,144.97594193147052],\"z\":[2.596592426300049,-56.25972578299318],\"type\":\"scatter3d\"},{\"line\":{\"dash\":\"dot\"},\"mode\":\"lines\",\"name\":\"Event: 10\",\"x\":[-38.67751434326172,77.65357757916826],\"y\":[-8665.193115234375,204.8297609282381],\"z\":[29.35749053955078,-141.78128560420978],\"type\":\"scatter3d\"},{\"line\":{\"dash\":\"dot\"},\"mode\":\"lines\",\"name\":\"Event: 11\",\"x\":[-100.7464134979248,-13.829529816671865],\"y\":[-9934.623168945312,398.5909103740487],\"z\":[-41.60801696777344,-80.43982456424038],\"type\":\"scatter3d\"},{\"line\":{\"dash\":\"dot\"},\"mode\":\"lines\",\"name\":\"Event: 12\",\"x\":[-50.60486724853516,-16.004065448223827],\"y\":[-9953.1142578125,461.9202823494452],\"z\":[4.8438520431518555,-82.0184554281892],\"type\":\"scatter3d\"},{\"line\":{\"dash\":\"dot\"},\"mode\":\"lines\",\"name\":\"Event: 13\",\"x\":[-72.97007962942124,3.4968295217480687],\"y\":[-10508.336242675781,230.29925950223515],\"z\":[9.325315475463867,177.47766587361644],\"type\":\"scatter3d\"},{\"line\":{\"dash\":\"dot\"},\"mode\":\"lines\",\"name\":\"Event: 14\",\"x\":[-104.47806671142578,-45.11774061666781],\"y\":[-10704.03384399414,231.25507261082385],\"z\":[38.854305267333984,79.36659475704172],\"type\":\"scatter3d\"},{\"line\":{\"dash\":\"dot\"},\"mode\":\"lines\",\"name\":\"Event: 15\",\"x\":[-53.98966339111328,-209.16428625339253],\"y\":[-10716.013275146484,0.644912000900149],\"z\":[67.80176544189453,143.41781595551336],\"type\":\"scatter3d\"},{\"line\":{\"dash\":\"dot\"},\"mode\":\"lines\",\"name\":\"Event: 16\",\"x\":[-71.51653984069824,127.03682828879704],\"y\":[-10928.214981079102,436.33969030053413],\"z\":[3.367506742477417,206.19172043133622],\"type\":\"scatter3d\"},{\"line\":{\"dash\":\"dot\"},\"mode\":\"lines\",\"name\":\"Event: 17\",\"x\":[5.408407897949218,-85.15317604711944],\"y\":[-6930.60205078125,86.26315039663405],\"z\":[100.21456146240234,2.2372444736509465],\"type\":\"scatter3d\"},{\"line\":{\"dash\":\"dot\"},\"mode\":\"lines\",\"name\":\"Event: 18\",\"x\":[-82.30094650268555,-144.87111376492163],\"y\":[-10827.264877319336,234.27159324222157],\"z\":[-3.4962222576141357,56.65030608623266],\"type\":\"scatter3d\"},{\"line\":{\"dash\":\"dot\"},\"mode\":\"lines\",\"name\":\"Event: 19\",\"x\":[-97.12054565429688,166.16069220028194],\"y\":[-9873.344360351562,334.34351534513735],\"z\":[38.78080368041992,157.64341914565074],\"type\":\"scatter3d\"},{\"line\":{\"dash\":\"dot\"},\"mode\":\"lines\",\"name\":\"Event: 20\",\"x\":[-63.85404613494873,7.475584447754088],\"y\":[-10660.154235839844,76.77242606862819],\"z\":[1.9522255659103394,86.4727198539376],\"type\":\"scatter3d\"},{\"line\":{\"dash\":\"dot\"},\"mode\":\"lines\",\"name\":\"Event: 21\",\"x\":[-73.38474249720574,170.3810396594658],\"y\":[-10615.138732910156,426.9862209053972],\"z\":[-1.2070890665054321,134.28323745086783],\"type\":\"scatter3d\"},{\"line\":{\"dash\":\"dot\"},\"mode\":\"lines\",\"name\":\"Event: 22\",\"x\":[-63.836504249572755,-142.7019490537217],\"y\":[-10569.820678710938,232.91899572685543],\"z\":[7.840574264526367,51.42944955631099],\"type\":\"scatter3d\"},{\"line\":{\"dash\":\"dot\"},\"mode\":\"lines\",\"name\":\"Event: 23\",\"x\":[-65.18880393981934,-3.955947116653064],\"y\":[-10393.817565917969,-9.091057851772348],\"z\":[-7.17985200881958,179.28293580672081],\"type\":\"scatter3d\"},{\"line\":{\"dash\":\"dot\"},\"mode\":\"lines\",\"name\":\"Event: 24\",\"x\":[-66.95170715332031,-35.21432421781115],\"y\":[-10762.520965576172,151.0361434170918],\"z\":[46.571571350097656,93.39170642458647],\"type\":\"scatter3d\"},{\"line\":{\"dash\":\"dot\"},\"mode\":\"lines\",\"name\":\"Event: 25\",\"x\":[-103.64544227600098,48.95478532302633],\"y\":[-9392.251220703125,46.76904798893338],\"z\":[-77.32392883300781,70.62750997487564],\"type\":\"scatter3d\"},{\"line\":{\"dash\":\"dot\"},\"mode\":\"lines\",\"name\":\"Event: 26\",\"x\":[-76.55125859260559,206.9567831024124],\"y\":[-10526.023223876953,152.55357055417517],\"z\":[-30.986494064331055,9.126794595971134],\"type\":\"scatter3d\"},{\"line\":{\"dash\":\"dot\"},\"mode\":\"lines\",\"name\":\"Event: 27\",\"x\":[-37.76484802246094,66.8159985739985],\"y\":[-9566.917358398438,43.850530953188354],\"z\":[63.84428787231445,1.0849451071834508],\"type\":\"scatter3d\"},{\"line\":{\"dash\":\"dot\"},\"mode\":\"lines\",\"name\":\"Event: 28\",\"x\":[-90.292113571167,200.10991825904605],\"y\":[-10456.563903808594,7.825539134173596],\"z\":[30.81542205810547,175.73062857183484],\"type\":\"scatter3d\"},{\"line\":{\"dash\":\"dot\"},\"mode\":\"lines\",\"name\":\"Event: 29\",\"x\":[-4.455781250000001,-104.51960455314506],\"y\":[-9853.111572265625,353.5939963101464],\"z\":[-50.16044998168945,125.86102648072526],\"type\":\"scatter3d\"},{\"line\":{\"dash\":\"dot\"},\"mode\":\"lines\",\"name\":\"Event: 30\",\"x\":[-73.06771847486496,-117.84784441239783],\"y\":[-10856.460891723633,155.80845939239043],\"z\":[13.74860954284668,27.927978300582446],\"type\":\"scatter3d\"},{\"line\":{\"dash\":\"dot\"},\"mode\":\"lines\",\"name\":\"Event: 31\",\"x\":[-69.09466770172119,193.65418137340507],\"y\":[-10788.534896850586,263.44564348030326],\"z\":[-6.377176761627197,194.5803596146729],\"type\":\"scatter3d\"},{\"line\":{\"dash\":\"dot\"},\"mode\":\"lines\",\"name\":\"Event: 32\",\"x\":[-79.73168542861939,208.75435697888324],\"y\":[-10603.126770019531,171.4079446301712],\"z\":[-5.463525772094727,-202.94844465257898],\"type\":\"scatter3d\"},{\"line\":{\"dash\":\"dot\"},\"mode\":\"lines\",\"name\":\"Event: 33\",\"x\":[-59.13690498352051,-50.93536754956098],\"y\":[-10461.209106445312,11.643253533708048],\"z\":[34.51724624633789,-158.60060306291328],\"type\":\"scatter3d\"},{\"line\":{\"dash\":\"dot\"},\"mode\":\"lines\",\"name\":\"Event: 34\",\"x\":[-86.5772526550293,-88.78376077152721],\"y\":[-10866.194381713867,11.733698194233511],\"z\":[-3.1782941818237305,-209.07282889129877],\"type\":\"scatter3d\"},{\"line\":{\"dash\":\"dot\"},\"mode\":\"lines\",\"name\":\"Event: 35\",\"x\":[-51.95685699462891,145.42000410296438],\"y\":[-10634.396667480469,194.25814858111153],\"z\":[-9.256425857543945,-129.25220254228404],\"type\":\"scatter3d\"},{\"line\":{\"dash\":\"dot\"},\"mode\":\"lines\",\"name\":\"Event: 36\",\"x\":[-7.173531799316407,50.41055454689541],\"y\":[-10689.994598388672,37.18986813328411],\"z\":[-7.545459270477295,-208.98658907286287],\"type\":\"scatter3d\"},{\"line\":{\"dash\":\"dot\"},\"mode\":\"lines\",\"name\":\"Event: 37\",\"x\":[-77.07632353782654,-7.121890921049726],\"y\":[-10974.726392745972,369.2418055930211],\"z\":[-0.4842665195465088,-183.79244182655248],\"type\":\"scatter3d\"},{\"line\":{\"dash\":\"dot\"},\"mode\":\"lines\",\"name\":\"Event: 38\",\"x\":[-116.75526550292969,157.43328985640326],\"y\":[-9921.122680664062,320.39716977551325],\"z\":[-54.95256042480469,147.14236509601],\"type\":\"scatter3d\"},{\"line\":{\"dash\":\"dot\"},\"mode\":\"lines\",\"name\":\"Event: 39\",\"x\":[-136.4571469116211,54.67978535555872],\"y\":[-10873.606323242188,483.31518134500584],\"z\":[2.3528127670288086,-122.34379021904907],\"type\":\"scatter3d\"},{\"line\":{\"dash\":\"dot\"},\"mode\":\"lines\",\"name\":\"Event: 40\",\"x\":[-81.33653524398804,33.84013740399968],\"y\":[-10895.510353088379,409.9177526059284],\"z\":[-60.444828033447266,-144.67126138430683],\"type\":\"scatter3d\"},{\"line\":{\"dash\":\"dot\"},\"mode\":\"lines\",\"name\":\"Event: 41\",\"x\":[-53.17601707458496,-209.59538256884497],\"y\":[-10682.145629882812,446.4157463092288],\"z\":[44.121856689453125,32.06000180936084],\"type\":\"scatter3d\"},{\"line\":{\"dash\":\"dot\"},\"mode\":\"lines\",\"name\":\"Event: 42\",\"x\":[-108.80911758422852,101.8900655696201],\"y\":[-10666.032958984375,18.078172640580306],\"z\":[-121.34376525878906,-45.81760688102304],\"type\":\"scatter3d\"},{\"line\":{\"dash\":\"dot\"},\"mode\":\"lines\",\"name\":\"Event: 43\",\"x\":[-55.0638306427002,14.279975548436653],\"y\":[-10555.641418457031,36.802713860692165],\"z\":[-22.350446701049805,93.34065272904309],\"type\":\"scatter3d\"},{\"line\":{\"dash\":\"dot\"},\"mode\":\"lines\",\"name\":\"Event: 44\",\"x\":[-48.65921524047852,171.9226370172823],\"y\":[-10915.880073547363,326.8416532923002],\"z\":[34.936614990234375,14.705593884030794],\"type\":\"scatter3d\"},{\"line\":{\"dash\":\"dot\"},\"mode\":\"lines\",\"name\":\"Event: 45\",\"x\":[-39.60268524169922,202.0121840817872],\"y\":[-8286.88427734375,71.96193704620964],\"z\":[56.61178970336914,9.684745946787153],\"type\":\"scatter3d\"},{\"line\":{\"dash\":\"dot\"},\"mode\":\"lines\",\"name\":\"Event: 46\",\"x\":[-65.15566089630127,43.38136941386742],\"y\":[-10771.94384765625,355.0526462705402],\"z\":[16.916770935058594,-159.7610072873056],\"type\":\"scatter3d\"},{\"line\":{\"dash\":\"dot\"},\"mode\":\"lines\",\"name\":\"Event: 47\",\"x\":[-75.47700050354004,-51.65534850248583],\"y\":[-10278.644836425781,74.67923618881832],\"z\":[13.538534164428711,-147.04231043748595],\"type\":\"scatter3d\"},{\"line\":{\"dash\":\"dot\"},\"mode\":\"lines\",\"name\":\"Event: 48\",\"x\":[-93.64581420898438,198.4326251219882],\"y\":[-10162.055541992188,97.68140388533538],\"z\":[13.194009780883789,-33.730777057989755],\"type\":\"scatter3d\"},{\"line\":{\"dash\":\"dot\"},\"mode\":\"lines\",\"name\":\"Event: 49\",\"x\":[-75.02555659294129,-183.69793162800744],\"y\":[-10055.663696289062,183.99521573202765],\"z\":[1.056585431098938,-4.910083917045059],\"type\":\"scatter3d\"},{\"line\":{\"dash\":\"dot\"},\"mode\":\"lines\",\"name\":\"Event: 50\",\"x\":[-70.51897457122803,-125.62242446734467],\"y\":[-8760.524169921875,40.34571418456653],\"z\":[30.119403839111328,115.59643314129436],\"type\":\"scatter3d\"},{\"line\":{\"dash\":\"dot\"},\"mode\":\"lines\",\"name\":\"Event: 51\",\"x\":[-67.17376544952393,205.79602990541943],\"y\":[-10873.769989013672,252.70667624703128],\"z\":[5.884728908538818,-172.0987884485921],\"type\":\"scatter3d\"},{\"line\":{\"dash\":\"dot\"},\"mode\":\"lines\",\"name\":\"Event: 52\",\"x\":[-144.56477478027344,-209.94611358480512],\"y\":[-10731.69985961914,42.1219605125043],\"z\":[40.3938102722168,-185.32771262280667],\"type\":\"scatter3d\"},{\"line\":{\"dash\":\"dot\"},\"mode\":\"lines\",\"name\":\"Event: 53\",\"x\":[-117.58804061889649,92.89713728180678],\"y\":[-10760.233032226562,369.41949791160005],\"z\":[-36.135047912597656,-114.30501529022924],\"type\":\"scatter3d\"},{\"line\":{\"dash\":\"dot\"},\"mode\":\"lines\",\"name\":\"Event: 54\",\"x\":[-92.26227310180664,31.36341671859259],\"y\":[-10655.502258300781,158.9931653485819],\"z\":[11.928625106811523,-24.37160272560255],\"type\":\"scatter3d\"},{\"line\":{\"dash\":\"dot\"},\"mode\":\"lines\",\"name\":\"Event: 55\",\"x\":[-56.67455795288086,130.3788895585554],\"y\":[-9637.356567382812,162.70840904262332],\"z\":[-5.792165756225586,168.16850291268273],\"type\":\"scatter3d\"},{\"line\":{\"dash\":\"dot\"},\"mode\":\"lines\",\"name\":\"Event: 56\",\"x\":[-69.92501357078552,-177.94308980668438],\"y\":[-8424.053955078125,355.1201579763456],\"z\":[-19.778825759887695,-204.2105813083791],\"type\":\"scatter3d\"},{\"line\":{\"dash\":\"dot\"},\"mode\":\"lines\",\"name\":\"Event: 57\",\"x\":[-43.49490859985352,-195.45515590305712],\"y\":[-8018.421142578125,89.37087682899983],\"z\":[-60.93623733520508,-165.56192593729347],\"type\":\"scatter3d\"},{\"line\":{\"dash\":\"dot\"},\"mode\":\"lines\",\"name\":\"Event: 58\",\"x\":[-109.58889129638672,-16.441305795446496],\"y\":[-9443.989379882812,296.16056505149754],\"z\":[-55.31975173950195,-140.46344352445962],\"type\":\"scatter3d\"},{\"line\":{\"dash\":\"dot\"},\"mode\":\"lines\",\"name\":\"Event: 59\",\"x\":[-119.25645568847656,-207.0915688880578],\"y\":[-8933.9140625,30.21731151972199],\"z\":[40.1910400390625,-170.01648711654545],\"type\":\"scatter3d\"},{\"line\":{\"dash\":\"dot\"},\"mode\":\"lines\",\"name\":\"Event: 60\",\"x\":[-85.90090587615967,-117.21291111664624],\"y\":[-10778.682922363281,380.83000537689804],\"z\":[32.013458251953125,159.74693304260288],\"type\":\"scatter3d\"},{\"line\":{\"dash\":\"dot\"},\"mode\":\"lines\",\"name\":\"Event: 61\",\"x\":[-53.9627449798584,154.31881560034728],\"y\":[-8939.98046875,420.7187247200709],\"z\":[-58.3922119140625,-150.4860936886534],\"type\":\"scatter3d\"},{\"line\":{\"dash\":\"dot\"},\"mode\":\"lines\",\"name\":\"Event: 62\",\"x\":[-85.80254104614258,54.23346761725685],\"y\":[-10802.012649536133,353.41729036220204],\"z\":[6.914638519287109,-130.4068408026358],\"type\":\"scatter3d\"},{\"line\":{\"dash\":\"dot\"},\"mode\":\"lines\",\"name\":\"Event: 63\",\"x\":[-62.66618755340576,138.71028501744962],\"y\":[-10427.774841308594,307.2364161765927],\"z\":[-0.9044979810714722,12.756207024741238],\"type\":\"scatter3d\"},{\"line\":{\"dash\":\"dot\"},\"mode\":\"lines\",\"name\":\"Event: 64\",\"x\":[-69.70713403701782,209.92117038464872],\"y\":[-10784.67268371582,6.076412880942371],\"z\":[-29.744754791259766,176.61934961578964],\"type\":\"scatter3d\"},{\"line\":{\"dash\":\"dot\"},\"mode\":\"lines\",\"name\":\"Event: 65\",\"x\":[-75.56041470050812,74.7514762600577],\"y\":[-10415.905944824219,372.97232189614806],\"z\":[-5.645276069641113,144.92410712950672],\"type\":\"scatter3d\"},{\"line\":{\"dash\":\"dot\"},\"mode\":\"lines\",\"name\":\"Event: 66\",\"x\":[-48.09930732727051,155.6358856079056],\"y\":[-10446.477783203125,448.86667196227245],\"z\":[-18.844518661499023,130.7528794314754],\"type\":\"scatter3d\"},{\"line\":{\"dash\":\"dot\"},\"mode\":\"lines\",\"name\":\"Event: 67\",\"x\":[-83.9550602722168,156.34754948652323],\"y\":[-10713.04946899414,155.20544408766727],\"z\":[-42.593685150146484,-202.88851953291964],\"type\":\"scatter3d\"},{\"line\":{\"dash\":\"dot\"},\"mode\":\"lines\",\"name\":\"Event: 68\",\"x\":[-96.00665786743164,-191.00538391916484],\"y\":[-8856.544677734375,213.15600652876492],\"z\":[-139.56814575195312,-129.1519239931492],\"type\":\"scatter3d\"},{\"line\":{\"dash\":\"dot\"},\"mode\":\"lines\",\"name\":\"Event: 69\",\"x\":[-95.75458076477051,90.4988780030221],\"y\":[-10527.444732666016,175.97245426834525],\"z\":[-20.600563049316406,-68.48868494484275],\"type\":\"scatter3d\"},{\"line\":{\"dash\":\"dot\"},\"mode\":\"lines\",\"name\":\"Event: 70\",\"x\":[-86.37714794158936,-102.0417190067039],\"y\":[-6700.6982421875,344.66202889322176],\"z\":[68.54013061523438,207.6623089757715],\"type\":\"scatter3d\"},{\"line\":{\"dash\":\"dot\"},\"mode\":\"lines\",\"name\":\"Event: 71\",\"x\":[-77.60717275619507,40.38709550868242],\"y\":[-10833.751235961914,21.189142143453864],\"z\":[-37.34639358520508,-168.6454607585985],\"type\":\"scatter3d\"},{\"line\":{\"dash\":\"dot\"},\"mode\":\"lines\",\"name\":\"Event: 72\",\"x\":[-63.05605152130127,-195.5834452383044],\"y\":[-10652.208679199219,-3.698742808406678],\"z\":[15.518548011779785,197.11827776213897],\"type\":\"scatter3d\"},{\"line\":{\"dash\":\"dot\"},\"mode\":\"lines\",\"name\":\"Event: 73\",\"x\":[-70.28248646736145,87.38440835997415],\"y\":[-8599.58740234375,493.47700033100773],\"z\":[7.552052974700928,-80.91012643380208],\"type\":\"scatter3d\"},{\"line\":{\"dash\":\"dot\"},\"mode\":\"lines\",\"name\":\"Event: 74\",\"x\":[-62.731648712158204,-200.38518135995102],\"y\":[-10200.817504882812,8.460015960821693],\"z\":[-23.985332489013672,-209.75693047647172],\"type\":\"scatter3d\"},{\"line\":{\"dash\":\"dot\"},\"mode\":\"lines\",\"name\":\"Event: 75\",\"x\":[-39.825669555664064,135.19340748959675],\"y\":[-8874.6025390625,249.04939674984234],\"z\":[-9.024043083190918,-46.00638597081973],\"type\":\"scatter3d\"},{\"line\":{\"dash\":\"dot\"},\"mode\":\"lines\",\"name\":\"Event: 76\",\"x\":[-142.87325408935547,147.72695899156233],\"y\":[-8844.686767578125,24.190743997809477],\"z\":[85.09402465820312,39.74311775036404],\"type\":\"scatter3d\"},{\"line\":{\"dash\":\"dot\"},\"mode\":\"lines\",\"name\":\"Event: 77\",\"x\":[-68.11301210403442,-143.63097051816058],\"y\":[-10939.267078399658,252.84910822348684],\"z\":[-4.171996116638184,65.83003909113623],\"type\":\"scatter3d\"},{\"line\":{\"dash\":\"dot\"},\"mode\":\"lines\",\"name\":\"Event: 78\",\"x\":[-46.36571243286133,-174.844502160788],\"y\":[-7632.59765625,127.03145193356704],\"z\":[27.263378143310547,4.287158687872388],\"type\":\"scatter3d\"},{\"line\":{\"dash\":\"dot\"},\"mode\":\"lines\",\"name\":\"Event: 79\",\"x\":[-22.148072509765626,206.79665991574976],\"y\":[-8574.93798828125,333.86836515558025],\"z\":[-75.76314544677734,66.6708566601234],\"type\":\"scatter3d\"},{\"line\":{\"dash\":\"dot\"},\"mode\":\"lines\",\"name\":\"Event: 80\",\"x\":[-70.32714751243591,83.40702912879203],\"y\":[-10161.001831054688,174.7271934945784],\"z\":[-0.20221106708049774,-90.5223428107171],\"type\":\"scatter3d\"},{\"line\":{\"dash\":\"dot\"},\"mode\":\"lines\",\"name\":\"Event: 81\",\"x\":[-81.23359992980957,58.14036899536336],\"y\":[-10713.123992919922,345.9403507108382],\"z\":[23.25461196899414,-45.36193409670301],\"type\":\"scatter3d\"},{\"line\":{\"dash\":\"dot\"},\"mode\":\"lines\",\"name\":\"Event: 82\",\"x\":[-73.50408497333527,163.24703042625993],\"y\":[-10897.157470703125,391.22078938976483],\"z\":[4.496582984924316,161.95536192267207],\"type\":\"scatter3d\"},{\"line\":{\"dash\":\"dot\"},\"mode\":\"lines\",\"name\":\"Event: 83\",\"x\":[-20.821236877441407,-59.24665230882294],\"y\":[-10042.885986328125,471.4310110723909],\"z\":[33.96223068237305,-205.80794051335957],\"type\":\"scatter3d\"},{\"line\":{\"dash\":\"dot\"},\"mode\":\"lines\",\"name\":\"Event: 84\",\"x\":[-91.94779899597168,159.8957744892679],\"y\":[-10792.473449707031,392.6100809801628],\"z\":[-34.04615783691406,53.8604347400275],\"type\":\"scatter3d\"},{\"line\":{\"dash\":\"dot\"},\"mode\":\"lines\",\"name\":\"Event: 85\",\"x\":[-109.42068603515625,-192.97287380821547],\"y\":[-10545.103454589844,18.69852900684964],\"z\":[0.8521835803985596,68.80071463244485],\"type\":\"scatter3d\"},{\"line\":{\"dash\":\"dot\"},\"mode\":\"lines\",\"name\":\"Event: 86\",\"x\":[-102.44225242614746,-126.32982990326752],\"y\":[-8200.324462890625,104.0355414559217],\"z\":[-44.70653533935547,-169.72595340318264],\"type\":\"scatter3d\"},{\"line\":{\"dash\":\"dot\"},\"mode\":\"lines\",\"name\":\"Event: 87\",\"x\":[-64.11966064453125,-164.53209488958956],\"y\":[-10751.178237915039,281.3574448874606],\"z\":[0.4323851466178894,-92.43196037284837],\"type\":\"scatter3d\"},{\"line\":{\"dash\":\"dot\"},\"mode\":\"lines\",\"name\":\"Event: 88\",\"x\":[-112.946748046875,-195.07095675876076],\"y\":[-6189.54345703125,434.73616431449136],\"z\":[73.32205963134766,204.32745764479847],\"type\":\"scatter3d\"},{\"line\":{\"dash\":\"dot\"},\"mode\":\"lines\",\"name\":\"Event: 89\",\"x\":[-83.71874263763428,174.32498125240394],\"y\":[-10917.84903717041,-9.093655869592112],\"z\":[2.922693967819214,-209.70889083960654],\"type\":\"scatter3d\"},{\"line\":{\"dash\":\"dot\"},\"mode\":\"lines\",\"name\":\"Event: 90\",\"x\":[-70.34068468093872,155.11584205757475],\"y\":[-10932.9468460083,169.42503674098407],\"z\":[-4.853102684020996,98.65637371636545],\"type\":\"scatter3d\"},{\"line\":{\"dash\":\"dot\"},\"mode\":\"lines\",\"name\":\"Event: 91\",\"x\":[2.3112322998046864,-122.51048949256166],\"y\":[-8458.05419921875,403.83133007095967],\"z\":[-104.40792083740234,44.60357777296343],\"type\":\"scatter3d\"},{\"line\":{\"dash\":\"dot\"},\"mode\":\"lines\",\"name\":\"Event: 92\",\"x\":[-59.48218086242676,207.89901628800763],\"y\":[-10634.173095703125,508.0246013224514],\"z\":[-46.50748825073242,158.9151987972717],\"type\":\"scatter3d\"},{\"line\":{\"dash\":\"dot\"},\"mode\":\"lines\",\"name\":\"Event: 93\",\"x\":[-69.56828382492066,83.60240053604963],\"y\":[-10905.605461120605,45.361693629170986],\"z\":[-4.431676387786865,-18.79377409729904],\"type\":\"scatter3d\"},{\"line\":{\"dash\":\"dot\"},\"mode\":\"lines\",\"name\":\"Event: 94\",\"x\":[-114.49650314331055,-204.04555189729936],\"y\":[-10818.458618164062,429.1424893364838],\"z\":[45.85167694091797,-59.49537797477359],\"type\":\"scatter3d\"},{\"line\":{\"dash\":\"dot\"},\"mode\":\"lines\",\"name\":\"Event: 95\",\"x\":[-138.88128784179688,-106.14943588565272],\"y\":[-8243.8154296875,410.0632470355886],\"z\":[-1.0557893514633179,-196.51828656310536],\"type\":\"scatter3d\"},{\"line\":{\"dash\":\"dot\"},\"mode\":\"lines\",\"name\":\"Event: 96\",\"x\":[-98.5888321685791,208.29277540663227],\"y\":[-10520.553985595703,23.446986924060184],\"z\":[3.877554416656494,112.37156974911069],\"type\":\"scatter3d\"},{\"line\":{\"dash\":\"dot\"},\"mode\":\"lines\",\"name\":\"Event: 97\",\"x\":[-105.31178787231445,-20.580914858280593],\"y\":[-10658.279266357422,389.96977809654527],\"z\":[-60.21078872680664,-148.19257386872016],\"type\":\"scatter3d\"},{\"line\":{\"dash\":\"dot\"},\"mode\":\"lines\",\"name\":\"Event: 98\",\"x\":[-98.90490463256836,-183.70147215633455],\"y\":[-9097.796142578125,84.99899636060945],\"z\":[-7.903017044067383,-51.601430075296506],\"type\":\"scatter3d\"},{\"line\":{\"dash\":\"dot\"},\"mode\":\"lines\",\"name\":\"Event: 99\",\"x\":[-50.713176040649415,136.8135020997843],\"y\":[-10644.370635986328,111.2785383902301],\"z\":[-2.141873836517334,-197.1995524180409],\"type\":\"scatter3d\"}],                        {\"template\":{\"data\":{\"histogram2dcontour\":[{\"type\":\"histogram2dcontour\",\"colorbar\":{\"outlinewidth\":0,\"ticks\":\"\"},\"colorscale\":[[0.0,\"#0d0887\"],[0.1111111111111111,\"#46039f\"],[0.2222222222222222,\"#7201a8\"],[0.3333333333333333,\"#9c179e\"],[0.4444444444444444,\"#bd3786\"],[0.5555555555555556,\"#d8576b\"],[0.6666666666666666,\"#ed7953\"],[0.7777777777777778,\"#fb9f3a\"],[0.8888888888888888,\"#fdca26\"],[1.0,\"#f0f921\"]]}],\"choropleth\":[{\"type\":\"choropleth\",\"colorbar\":{\"outlinewidth\":0,\"ticks\":\"\"}}],\"histogram2d\":[{\"type\":\"histogram2d\",\"colorbar\":{\"outlinewidth\":0,\"ticks\":\"\"},\"colorscale\":[[0.0,\"#0d0887\"],[0.1111111111111111,\"#46039f\"],[0.2222222222222222,\"#7201a8\"],[0.3333333333333333,\"#9c179e\"],[0.4444444444444444,\"#bd3786\"],[0.5555555555555556,\"#d8576b\"],[0.6666666666666666,\"#ed7953\"],[0.7777777777777778,\"#fb9f3a\"],[0.8888888888888888,\"#fdca26\"],[1.0,\"#f0f921\"]]}],\"heatmap\":[{\"type\":\"heatmap\",\"colorbar\":{\"outlinewidth\":0,\"ticks\":\"\"},\"colorscale\":[[0.0,\"#0d0887\"],[0.1111111111111111,\"#46039f\"],[0.2222222222222222,\"#7201a8\"],[0.3333333333333333,\"#9c179e\"],[0.4444444444444444,\"#bd3786\"],[0.5555555555555556,\"#d8576b\"],[0.6666666666666666,\"#ed7953\"],[0.7777777777777778,\"#fb9f3a\"],[0.8888888888888888,\"#fdca26\"],[1.0,\"#f0f921\"]]}],\"heatmapgl\":[{\"type\":\"heatmapgl\",\"colorbar\":{\"outlinewidth\":0,\"ticks\":\"\"},\"colorscale\":[[0.0,\"#0d0887\"],[0.1111111111111111,\"#46039f\"],[0.2222222222222222,\"#7201a8\"],[0.3333333333333333,\"#9c179e\"],[0.4444444444444444,\"#bd3786\"],[0.5555555555555556,\"#d8576b\"],[0.6666666666666666,\"#ed7953\"],[0.7777777777777778,\"#fb9f3a\"],[0.8888888888888888,\"#fdca26\"],[1.0,\"#f0f921\"]]}],\"contourcarpet\":[{\"type\":\"contourcarpet\",\"colorbar\":{\"outlinewidth\":0,\"ticks\":\"\"}}],\"contour\":[{\"type\":\"contour\",\"colorbar\":{\"outlinewidth\":0,\"ticks\":\"\"},\"colorscale\":[[0.0,\"#0d0887\"],[0.1111111111111111,\"#46039f\"],[0.2222222222222222,\"#7201a8\"],[0.3333333333333333,\"#9c179e\"],[0.4444444444444444,\"#bd3786\"],[0.5555555555555556,\"#d8576b\"],[0.6666666666666666,\"#ed7953\"],[0.7777777777777778,\"#fb9f3a\"],[0.8888888888888888,\"#fdca26\"],[1.0,\"#f0f921\"]]}],\"surface\":[{\"type\":\"surface\",\"colorbar\":{\"outlinewidth\":0,\"ticks\":\"\"},\"colorscale\":[[0.0,\"#0d0887\"],[0.1111111111111111,\"#46039f\"],[0.2222222222222222,\"#7201a8\"],[0.3333333333333333,\"#9c179e\"],[0.4444444444444444,\"#bd3786\"],[0.5555555555555556,\"#d8576b\"],[0.6666666666666666,\"#ed7953\"],[0.7777777777777778,\"#fb9f3a\"],[0.8888888888888888,\"#fdca26\"],[1.0,\"#f0f921\"]]}],\"mesh3d\":[{\"type\":\"mesh3d\",\"colorbar\":{\"outlinewidth\":0,\"ticks\":\"\"}}],\"scatter\":[{\"fillpattern\":{\"fillmode\":\"overlay\",\"size\":10,\"solidity\":0.2},\"type\":\"scatter\"}],\"parcoords\":[{\"type\":\"parcoords\",\"line\":{\"colorbar\":{\"outlinewidth\":0,\"ticks\":\"\"}}}],\"scatterpolargl\":[{\"type\":\"scatterpolargl\",\"marker\":{\"colorbar\":{\"outlinewidth\":0,\"ticks\":\"\"}}}],\"bar\":[{\"error_x\":{\"color\":\"#2a3f5f\"},\"error_y\":{\"color\":\"#2a3f5f\"},\"marker\":{\"line\":{\"color\":\"#E5ECF6\",\"width\":0.5},\"pattern\":{\"fillmode\":\"overlay\",\"size\":10,\"solidity\":0.2}},\"type\":\"bar\"}],\"scattergeo\":[{\"type\":\"scattergeo\",\"marker\":{\"colorbar\":{\"outlinewidth\":0,\"ticks\":\"\"}}}],\"scatterpolar\":[{\"type\":\"scatterpolar\",\"marker\":{\"colorbar\":{\"outlinewidth\":0,\"ticks\":\"\"}}}],\"histogram\":[{\"marker\":{\"pattern\":{\"fillmode\":\"overlay\",\"size\":10,\"solidity\":0.2}},\"type\":\"histogram\"}],\"scattergl\":[{\"type\":\"scattergl\",\"marker\":{\"colorbar\":{\"outlinewidth\":0,\"ticks\":\"\"}}}],\"scatter3d\":[{\"type\":\"scatter3d\",\"line\":{\"colorbar\":{\"outlinewidth\":0,\"ticks\":\"\"}},\"marker\":{\"colorbar\":{\"outlinewidth\":0,\"ticks\":\"\"}}}],\"scattermapbox\":[{\"type\":\"scattermapbox\",\"marker\":{\"colorbar\":{\"outlinewidth\":0,\"ticks\":\"\"}}}],\"scatterternary\":[{\"type\":\"scatterternary\",\"marker\":{\"colorbar\":{\"outlinewidth\":0,\"ticks\":\"\"}}}],\"scattercarpet\":[{\"type\":\"scattercarpet\",\"marker\":{\"colorbar\":{\"outlinewidth\":0,\"ticks\":\"\"}}}],\"carpet\":[{\"aaxis\":{\"endlinecolor\":\"#2a3f5f\",\"gridcolor\":\"white\",\"linecolor\":\"white\",\"minorgridcolor\":\"white\",\"startlinecolor\":\"#2a3f5f\"},\"baxis\":{\"endlinecolor\":\"#2a3f5f\",\"gridcolor\":\"white\",\"linecolor\":\"white\",\"minorgridcolor\":\"white\",\"startlinecolor\":\"#2a3f5f\"},\"type\":\"carpet\"}],\"table\":[{\"cells\":{\"fill\":{\"color\":\"#EBF0F8\"},\"line\":{\"color\":\"white\"}},\"header\":{\"fill\":{\"color\":\"#C8D4E3\"},\"line\":{\"color\":\"white\"}},\"type\":\"table\"}],\"barpolar\":[{\"marker\":{\"line\":{\"color\":\"#E5ECF6\",\"width\":0.5},\"pattern\":{\"fillmode\":\"overlay\",\"size\":10,\"solidity\":0.2}},\"type\":\"barpolar\"}],\"pie\":[{\"automargin\":true,\"type\":\"pie\"}]},\"layout\":{\"autotypenumbers\":\"strict\",\"colorway\":[\"#636efa\",\"#EF553B\",\"#00cc96\",\"#ab63fa\",\"#FFA15A\",\"#19d3f3\",\"#FF6692\",\"#B6E880\",\"#FF97FF\",\"#FECB52\"],\"font\":{\"color\":\"#2a3f5f\"},\"hovermode\":\"closest\",\"hoverlabel\":{\"align\":\"left\"},\"paper_bgcolor\":\"white\",\"plot_bgcolor\":\"#E5ECF6\",\"polar\":{\"bgcolor\":\"#E5ECF6\",\"angularaxis\":{\"gridcolor\":\"white\",\"linecolor\":\"white\",\"ticks\":\"\"},\"radialaxis\":{\"gridcolor\":\"white\",\"linecolor\":\"white\",\"ticks\":\"\"}},\"ternary\":{\"bgcolor\":\"#E5ECF6\",\"aaxis\":{\"gridcolor\":\"white\",\"linecolor\":\"white\",\"ticks\":\"\"},\"baxis\":{\"gridcolor\":\"white\",\"linecolor\":\"white\",\"ticks\":\"\"},\"caxis\":{\"gridcolor\":\"white\",\"linecolor\":\"white\",\"ticks\":\"\"}},\"coloraxis\":{\"colorbar\":{\"outlinewidth\":0,\"ticks\":\"\"}},\"colorscale\":{\"sequential\":[[0.0,\"#0d0887\"],[0.1111111111111111,\"#46039f\"],[0.2222222222222222,\"#7201a8\"],[0.3333333333333333,\"#9c179e\"],[0.4444444444444444,\"#bd3786\"],[0.5555555555555556,\"#d8576b\"],[0.6666666666666666,\"#ed7953\"],[0.7777777777777778,\"#fb9f3a\"],[0.8888888888888888,\"#fdca26\"],[1.0,\"#f0f921\"]],\"sequentialminus\":[[0.0,\"#0d0887\"],[0.1111111111111111,\"#46039f\"],[0.2222222222222222,\"#7201a8\"],[0.3333333333333333,\"#9c179e\"],[0.4444444444444444,\"#bd3786\"],[0.5555555555555556,\"#d8576b\"],[0.6666666666666666,\"#ed7953\"],[0.7777777777777778,\"#fb9f3a\"],[0.8888888888888888,\"#fdca26\"],[1.0,\"#f0f921\"]],\"diverging\":[[0,\"#8e0152\"],[0.1,\"#c51b7d\"],[0.2,\"#de77ae\"],[0.3,\"#f1b6da\"],[0.4,\"#fde0ef\"],[0.5,\"#f7f7f7\"],[0.6,\"#e6f5d0\"],[0.7,\"#b8e186\"],[0.8,\"#7fbc41\"],[0.9,\"#4d9221\"],[1,\"#276419\"]]},\"xaxis\":{\"gridcolor\":\"white\",\"linecolor\":\"white\",\"ticks\":\"\",\"title\":{\"standoff\":15},\"zerolinecolor\":\"white\",\"automargin\":true,\"zerolinewidth\":2},\"yaxis\":{\"gridcolor\":\"white\",\"linecolor\":\"white\",\"ticks\":\"\",\"title\":{\"standoff\":15},\"zerolinecolor\":\"white\",\"automargin\":true,\"zerolinewidth\":2},\"scene\":{\"xaxis\":{\"backgroundcolor\":\"#E5ECF6\",\"gridcolor\":\"white\",\"linecolor\":\"white\",\"showbackground\":true,\"ticks\":\"\",\"zerolinecolor\":\"white\",\"gridwidth\":2},\"yaxis\":{\"backgroundcolor\":\"#E5ECF6\",\"gridcolor\":\"white\",\"linecolor\":\"white\",\"showbackground\":true,\"ticks\":\"\",\"zerolinecolor\":\"white\",\"gridwidth\":2},\"zaxis\":{\"backgroundcolor\":\"#E5ECF6\",\"gridcolor\":\"white\",\"linecolor\":\"white\",\"showbackground\":true,\"ticks\":\"\",\"zerolinecolor\":\"white\",\"gridwidth\":2}},\"shapedefaults\":{\"line\":{\"color\":\"#2a3f5f\"}},\"annotationdefaults\":{\"arrowcolor\":\"#2a3f5f\",\"arrowhead\":0,\"arrowwidth\":1},\"geo\":{\"bgcolor\":\"white\",\"landcolor\":\"#E5ECF6\",\"subunitcolor\":\"white\",\"showland\":true,\"showlakes\":true,\"lakecolor\":\"white\"},\"title\":{\"x\":0.05},\"mapbox\":{\"style\":\"light\"},\"autosize\":false}},\"scene\":{\"camera\":{\"up\":{\"x\":0,\"y\":0,\"z\":1},\"center\":{\"x\":0,\"y\":0,\"z\":0},\"eye\":{\"x\":1.25,\"y\":-1.25,\"z\":1.25}},\"aspectratio\":{\"x\":1,\"y\":5,\"z\":1},\"xaxis\":{\"title\":{\"text\":\"X (cm)\"}},\"yaxis\":{\"title\":{\"text\":\"Z (cm)\"}},\"zaxis\":{\"title\":{\"text\":\"Y (cm)\"}},\"aspectmode\":\"manual\"},\"height\":800,\"width\":1200},                        {\"responsive\": true}                    ).then(function(){\n",
       "                            \n",
       "var gd = document.getElementById('7c2fe9d5-8c74-4ee8-b951-0a7e23af6aed');\n",
       "var x = new MutationObserver(function (mutations, observer) {{\n",
       "        var display = window.getComputedStyle(gd).display;\n",
       "        if (!display || display === 'none') {{\n",
       "            console.log([gd, 'removed!']);\n",
       "            Plotly.purge(gd);\n",
       "            observer.disconnect();\n",
       "        }}\n",
       "}});\n",
       "\n",
       "// Listen for the removal of the full notebook cells\n",
       "var notebookContainer = gd.closest('#notebook-container');\n",
       "if (notebookContainer) {{\n",
       "    x.observe(notebookContainer, {childList: true});\n",
       "}}\n",
       "\n",
       "// Listen for the clearing of the current output cell\n",
       "var outputEl = gd.closest('.output');\n",
       "if (outputEl) {{\n",
       "    x.observe(outputEl, {childList: true});\n",
       "}}\n",
       "\n",
       "                        })                };                });            </script>        </div>"
      ]
     },
     "metadata": {},
     "output_type": "display_data"
    },
    {
     "data": {
      "application/vnd.plotly.v1+json": {
       "config": {
        "plotlyServerURL": "https://plot.ly"
       },
       "data": [
        {
         "line": {
          "color": "lightgrey",
          "width": 2
         },
         "mode": "lines",
         "name": "Detector Box",
         "type": "scatter3d",
         "x": [
          -200,
          200,
          200,
          -200,
          -200,
          -200,
          200,
          200,
          -200,
          -200,
          -200,
          -200,
          200,
          200,
          200,
          200,
          0,
          0,
          0,
          0,
          0
         ],
         "y": [
          0,
          0,
          500,
          500,
          0,
          0,
          0,
          500,
          500,
          0,
          500,
          500,
          500,
          500,
          0,
          0,
          0,
          0,
          500,
          500,
          0
         ],
         "z": [
          -200,
          -200,
          -200,
          -200,
          -200,
          200,
          200,
          200,
          200,
          200,
          200,
          -200,
          -200,
          200,
          200,
          -200,
          -200,
          200,
          200,
          -200,
          -200
         ]
        },
        {
         "marker": {
          "color": "blue",
          "size": 6,
          "symbol": "cross"
         },
         "mode": "markers",
         "name": "MeVPRTL Decay Point",
         "showlegend": true,
         "type": "scatter3d",
         "x": [
          173.96912316867596
         ],
         "y": [
          175.5183630259362
         ],
         "z": [
          7.958934626802683
         ]
        },
        {
         "marker": {
          "color": "red",
          "size": 5
         },
         "mode": "markers",
         "name": "Parent Decay Point",
         "showlegend": true,
         "type": "scatter3d",
         "x": [
          -88.10411670684815
         ],
         "y": [
          -10748.019989013672
         ],
         "z": [
          0.8224661946296692
         ]
        },
        {
         "line": {
          "color": "black",
          "dash": "dot",
          "width": 4
         },
         "mode": "lines",
         "name": "Decay Path",
         "showlegend": true,
         "type": "scatter3d",
         "x": [
          153.07532487821734,
          173.96912316867596
         ],
         "y": [
          -695.3611172827284,
          175.5183630259362
         ],
         "z": [
          7.389979429397295,
          7.958934626802683
         ]
        },
        {
         "line": {
          "color": "red",
          "dash": "dash",
          "width": 4
         },
         "mode": "lines",
         "name": "nu_mu (0)",
         "showlegend": true,
         "type": "scatter3d",
         "x": [
          173.96912316867596,
          194.18024161055797
         ],
         "y": [
          175.5183630259362,
          454.59472530737395
         ],
         "z": [
          7.958934626802683,
          64.47068803378659
         ]
        },
        {
         "line": {
          "color": "blue",
          "width": 4
         },
         "mode": "lines",
         "name": "e- (0)",
         "showlegend": true,
         "type": "scatter3d",
         "x": [
          173.96912316867596,
          180.29629285984456
         ],
         "y": [
          175.5183630259362,
          335.4266629592212
         ],
         "z": [
          7.958934626802683,
          -10.3845227942405
         ]
        },
        {
         "line": {
          "color": "blue",
          "width": 4
         },
         "mode": "lines",
         "name": "e- (0)",
         "showlegend": false,
         "type": "scatter3d",
         "x": [
          173.96912316867596,
          168.10842105250714
         ],
         "y": [
          175.5183630259362,
          598.4011750387331
         ],
         "z": [
          7.958934626802683,
          -29.646323869961268
         ]
        },
        {
         "marker": {
          "color": "blue",
          "size": 6,
          "symbol": "cross"
         },
         "mode": "markers",
         "name": "MeVPRTL Decay Point",
         "showlegend": false,
         "type": "scatter3d",
         "x": [
          96.93109598959188
         ],
         "y": [
          40.77348702267682
         ],
         "z": [
          54.77963053165668
         ]
        },
        {
         "marker": {
          "color": "red",
          "size": 5
         },
         "mode": "markers",
         "name": "Parent Decay Point",
         "showlegend": false,
         "type": "scatter3d",
         "x": [
          15.239813537597655
         ],
         "y": [
          -7538.174072265625
         ],
         "z": [
          -15.181720733642578
         ]
        },
        {
         "line": {
          "color": "black",
          "dash": "dot",
          "width": 4
         },
         "mode": "lines",
         "name": "Decay Path",
         "showlegend": false,
         "type": "scatter3d",
         "x": [
          93.77509713746825,
          96.93109598959188
         ],
         "y": [
          -252.02580660421762,
          40.77348702267682
         ],
         "z": [
          52.07679691638012,
          54.77963053165668
         ]
        },
        {
         "line": {
          "color": "red",
          "width": 4
         },
         "mode": "lines",
         "name": "mu- (1)",
         "showlegend": true,
         "type": "scatter3d",
         "x": [
          96.93109598959188,
          108.18363590332855
         ],
         "y": [
          40.77348702267682,
          176.74788060934824
         ],
         "z": [
          54.77963053165668,
          63.08556566769089
         ]
        },
        {
         "line": {
          "color": "green",
          "width": 4
         },
         "mode": "lines",
         "name": "pi+ (1)",
         "showlegend": true,
         "type": "scatter3d",
         "x": [
          96.93109598959188,
          88.52007092520934
         ],
         "y": [
          40.77348702267682,
          196.57468176570927
         ],
         "z": [
          54.77963053165668,
          48.94846579751609
         ]
        },
        {
         "marker": {
          "color": "blue",
          "size": 6,
          "symbol": "cross"
         },
         "mode": "markers",
         "name": "MeVPRTL Decay Point",
         "showlegend": false,
         "type": "scatter3d",
         "x": [
          -186.88032270829837
         ],
         "y": [
          198.43118414813216
         ],
         "z": [
          -88.85684917890936
         ]
        },
        {
         "marker": {
          "color": "red",
          "size": 5
         },
         "mode": "markers",
         "name": "Parent Decay Point",
         "showlegend": false,
         "type": "scatter3d",
         "x": [
          -45.89623001098633
         ],
         "y": [
          -10796.98942565918
         ],
         "z": [
          -25.210966110229492
         ]
        },
        {
         "line": {
          "color": "black",
          "dash": "dot",
          "width": 4
         },
         "mode": "lines",
         "name": "Decay Path",
         "showlegend": false,
         "type": "scatter3d",
         "x": [
          -181.99754380271375,
          -186.88032270829837
         ],
         "y": [
          -182.3792093113928,
          198.43118414813216
         ],
         "z": [
          -86.65256662951377,
          -88.85684917890936
         ]
        },
        {
         "line": {
          "color": "red",
          "width": 4
         },
         "mode": "lines",
         "name": "mu- (2)",
         "showlegend": false,
         "type": "scatter3d",
         "x": [
          -186.88032270829837,
          -187.84603509146564
         ],
         "y": [
          198.43118414813216,
          337.56447154292766
         ],
         "z": [
          -88.85684917890936,
          -98.38156925424866
         ]
        },
        {
         "line": {
          "color": "green",
          "width": 4
         },
         "mode": "lines",
         "name": "pi+ (2)",
         "showlegend": false,
         "type": "scatter3d",
         "x": [
          -186.88032270829837,
          -190.76473868787227
         ],
         "y": [
          198.43118414813216,
          439.68324041818073
         ],
         "z": [
          -88.85684917890936,
          -81.82379776177197
         ]
        },
        {
         "marker": {
          "color": "blue",
          "size": 6,
          "symbol": "cross"
         },
         "mode": "markers",
         "name": "MeVPRTL Decay Point",
         "showlegend": false,
         "type": "scatter3d",
         "x": [
          -72.15978307416052
         ],
         "y": [
          249.91224061929643
         ],
         "z": [
          -55.15809283114445
         ]
        },
        {
         "marker": {
          "color": "red",
          "size": 5
         },
         "mode": "markers",
         "name": "Parent Decay Point",
         "showlegend": false,
         "type": "scatter3d",
         "x": [
          -77.7878182220459
         ],
         "y": [
          -10865.16683959961
         ],
         "z": [
          2.2654407024383545
         ]
        },
        {
         "line": {
          "color": "black",
          "dash": "dot",
          "width": 4
         },
         "mode": "lines",
         "name": "Decay Path",
         "showlegend": false,
         "type": "scatter3d",
         "x": [
          -72.54713696526979,
          -72.15978307416052
         ],
         "y": [
          -515.0917116619557,
          249.91224061929643
         ],
         "z": [
          -51.20587352707084,
          -55.15809283114445
         ]
        },
        {
         "line": {
          "color": "red",
          "width": 4
         },
         "mode": "lines",
         "name": "mu- (3)",
         "showlegend": false,
         "type": "scatter3d",
         "x": [
          -72.15978307416052,
          -66.6418101253437
         ],
         "y": [
          249.91224061929643,
          519.8094613392436
         ],
         "z": [
          -55.15809283114445,
          -60.227913895141214
         ]
        },
        {
         "line": {
          "color": "green",
          "width": 4
         },
         "mode": "lines",
         "name": "pi+ (3)",
         "showlegend": false,
         "type": "scatter3d",
         "x": [
          -72.15978307416052,
          -77.23968561455825
         ],
         "y": [
          249.91224061929643,
          744.8980241690647
         ],
         "z": [
          -55.15809283114445,
          -54.074547635918364
         ]
        },
        {
         "marker": {
          "color": "blue",
          "size": 6,
          "symbol": "cross"
         },
         "mode": "markers",
         "name": "MeVPRTL Decay Point",
         "showlegend": false,
         "type": "scatter3d",
         "x": [
          88.70922987745118
         ],
         "y": [
          355.92736876052186
         ],
         "z": [
          -99.2476562027975
         ]
        },
        {
         "marker": {
          "color": "red",
          "size": 5
         },
         "mode": "markers",
         "name": "Parent Decay Point",
         "showlegend": false,
         "type": "scatter3d",
         "x": [
          -121.6876156616211
         ],
         "y": [
          -10624.900970458984
         ],
         "z": [
          -34.05895233154297
         ]
        },
        {
         "line": {
          "color": "black",
          "dash": "dot",
          "width": 4
         },
         "mode": "lines",
         "name": "Decay Path",
         "showlegend": false,
         "type": "scatter3d",
         "x": [
          75.02940532836024,
          88.70922987745118
         ],
         "y": [
          -358.03678169682064,
          355.92736876052186
         ],
         "z": [
          -95.00914193583432,
          -99.2476562027975
         ]
        },
        {
         "line": {
          "color": "red",
          "width": 4
         },
         "mode": "lines",
         "name": "mu- (4)",
         "showlegend": false,
         "type": "scatter3d",
         "x": [
          88.70922987745118,
          90.77250528918945
         ],
         "y": [
          355.92736876052186,
          638.3388659648449
         ],
         "z": [
          -99.2476562027975,
          -90.19215236280007
         ]
        },
        {
         "line": {
          "color": "green",
          "width": 4
         },
         "mode": "lines",
         "name": "pi+ (4)",
         "showlegend": false,
         "type": "scatter3d",
         "x": [
          88.70922987745118,
          100.30355587536192
         ],
         "y": [
          355.92736876052186,
          787.1118601661975
         ],
         "z": [
          -99.2476562027975,
          -112.4908617807752
         ]
        },
        {
         "marker": {
          "color": "blue",
          "size": 6,
          "symbol": "cross"
         },
         "mode": "markers",
         "name": "MeVPRTL Decay Point",
         "showlegend": false,
         "type": "scatter3d",
         "x": [
          89.26889650057325
         ],
         "y": [
          509.2601632988062
         ],
         "z": [
          -209.41259565349384
         ]
        },
        {
         "marker": {
          "color": "red",
          "size": 5
         },
         "mode": "markers",
         "name": "Parent Decay Point",
         "showlegend": false,
         "type": "scatter3d",
         "x": [
          -72.6819900560379
         ],
         "y": [
          -10745.599822998047
         ],
         "z": [
          4.354379653930664
         ]
        },
        {
         "line": {
          "color": "black",
          "dash": "dot",
          "width": 4
         },
         "mode": "lines",
         "name": "Decay Path",
         "showlegend": false,
         "type": "scatter3d",
         "x": [
          73.03351191895032,
          89.26889650057325
         ],
         "y": [
          -619.0262213884123,
          509.2601632988062
         ],
         "z": [
          -187.9827095395135,
          -209.41259565349384
         ]
        },
        {
         "line": {
          "color": "red",
          "width": 4
         },
         "mode": "lines",
         "name": "mu- (5)",
         "showlegend": false,
         "type": "scatter3d",
         "x": [
          89.26889650057325,
          92.40035980638379
         ],
         "y": [
          509.2601632988062,
          1009.2322411622742
         ],
         "z": [
          -209.41259565349384,
          -207.56368539282997
         ]
        },
        {
         "line": {
          "color": "green",
          "width": 4
         },
         "mode": "lines",
         "name": "pi+ (5)",
         "showlegend": false,
         "type": "scatter3d",
         "x": [
          89.26889650057325,
          102.37144862495964
         ],
         "y": [
          509.2601632988062,
          1137.3136262478065
         ],
         "z": [
          -209.41259565349384,
          -232.69309546187893
         ]
        },
        {
         "marker": {
          "color": "blue",
          "size": 6,
          "symbol": "cross"
         },
         "mode": "markers",
         "name": "MeVPRTL Decay Point",
         "showlegend": false,
         "type": "scatter3d",
         "x": [
          29.608043561753092
         ],
         "y": [
          205.96965752142205
         ],
         "z": [
          184.54654132366562
         ]
        },
        {
         "marker": {
          "color": "red",
          "size": 5
         },
         "mode": "markers",
         "name": "Parent Decay Point",
         "showlegend": false,
         "type": "scatter3d",
         "x": [
          -81.42864540100098
         ],
         "y": [
          -10926.445289611816
         ],
         "z": [
          -3.7898151874542236
         ]
        },
        {
         "line": {
          "color": "black",
          "dash": "dot",
          "width": 4
         },
         "mode": "lines",
         "name": "Decay Path",
         "showlegend": false,
         "type": "scatter3d",
         "x": [
          23.3185103804864,
          29.608043561753092
         ],
         "y": [
          -424.6119443949533,
          205.96965752142205
         ],
         "z": [
          173.87846598225389,
          184.54654132366562
         ]
        },
        {
         "line": {
          "color": "red",
          "width": 4
         },
         "mode": "lines",
         "name": "mu- (6)",
         "showlegend": false,
         "type": "scatter3d",
         "x": [
          29.608043561753092,
          43.98922229269647
         ],
         "y": [
          205.96965752142205,
          495.79518643674544
         ],
         "z": [
          184.54654132366562,
          191.8721599380312
         ]
        },
        {
         "line": {
          "color": "green",
          "width": 4
         },
         "mode": "lines",
         "name": "pi+ (6)",
         "showlegend": false,
         "type": "scatter3d",
         "x": [
          29.608043561753092,
          21.458752765001037
         ],
         "y": [
          205.96965752142205,
          546.284509555531
         ],
         "z": [
          184.54654132366562,
          187.870308600275
         ]
        },
        {
         "marker": {
          "color": "blue",
          "size": 6,
          "symbol": "cross"
         },
         "mode": "markers",
         "name": "MeVPRTL Decay Point",
         "showlegend": false,
         "type": "scatter3d",
         "x": [
          -15.77078690829287
         ],
         "y": [
          101.16884011346338
         ],
         "z": [
          62.30092221779428
         ]
        },
        {
         "marker": {
          "color": "red",
          "size": 5
         },
         "mode": "markers",
         "name": "Parent Decay Point",
         "showlegend": false,
         "type": "scatter3d",
         "x": [
          -75.49351706981659
         ],
         "y": [
          -10273.532531738281
         ],
         "z": [
          -1.9533271789550781
         ]
        },
        {
         "line": {
          "color": "black",
          "dash": "dot",
          "width": 4
         },
         "mode": "lines",
         "name": "Decay Path",
         "showlegend": false,
         "type": "scatter3d",
         "x": [
          -21.843764859438608,
          -15.77078690829287
         ],
         "y": [
          -953.7951997181945,
          101.16884011346338
         ],
         "z": [
          55.7671512599275,
          62.30092221779428
         ]
        },
        {
         "line": {
          "color": "red",
          "width": 4
         },
         "mode": "lines",
         "name": "mu- (7)",
         "showlegend": false,
         "type": "scatter3d",
         "x": [
          -15.77078690829287,
          -8.000662694372533
         ],
         "y": [
          101.16884011346338,
          645.7738613415863
         ],
         "z": [
          62.30092221779428,
          61.776675711886305
         ]
        },
        {
         "line": {
          "color": "green",
          "width": 4
         },
         "mode": "lines",
         "name": "pi+ (7)",
         "showlegend": false,
         "type": "scatter3d",
         "x": [
          -15.77078690829287,
          -17.49022525587655
         ],
         "y": [
          101.16884011346338,
          611.4579371385139
         ],
         "z": [
          62.30092221779428,
          69.37691147211864
         ]
        },
        {
         "marker": {
          "color": "blue",
          "size": 6,
          "symbol": "cross"
         },
         "mode": "markers",
         "name": "MeVPRTL Decay Point",
         "showlegend": false,
         "type": "scatter3d",
         "x": [
          -57.919463776690584
         ],
         "y": [
          201.4362603075042
         ],
         "z": [
          103.45812999680848
         ]
        },
        {
         "marker": {
          "color": "red",
          "size": 5
         },
         "mode": "markers",
         "name": "Parent Decay Point",
         "showlegend": false,
         "type": "scatter3d",
         "x": [
          -17.664490966796876
         ],
         "y": [
          -5889.74365234375
         ],
         "z": [
          -59.72340774536133
         ]
        },
        {
         "line": {
          "color": "black",
          "dash": "dot",
          "width": 4
         },
         "mode": "lines",
         "name": "Decay Path",
         "showlegend": false,
         "type": "scatter3d",
         "x": [
          -56.71274172631812,
          -57.919463776690584
         ],
         "y": [
          18.84115216783229,
          201.4362603075042
         ],
         "z": [
          98.56644218628371,
          103.45812999680848
         ]
        },
        {
         "line": {
          "color": "red",
          "width": 4
         },
         "mode": "lines",
         "name": "mu- (8)",
         "showlegend": false,
         "type": "scatter3d",
         "x": [
          -57.919463776690584,
          -55.84067836088333
         ],
         "y": [
          201.4362603075042,
          273.5006163213017
         ],
         "z": [
          103.45812999680848,
          120.98588149303285
         ]
        },
        {
         "line": {
          "color": "green",
          "width": 4
         },
         "mode": "lines",
         "name": "pi+ (8)",
         "showlegend": false,
         "type": "scatter3d",
         "x": [
          -57.919463776690584,
          -60.9754137058607
         ],
         "y": [
          201.4362603075042,
          309.2606711940424
         ],
         "z": [
          103.45812999680848,
          92.04170964792202
         ]
        },
        {
         "marker": {
          "color": "blue",
          "size": 6,
          "symbol": "cross"
         },
         "mode": "markers",
         "name": "MeVPRTL Decay Point",
         "showlegend": false,
         "type": "scatter3d",
         "x": [
          -107.88799834337985
         ],
         "y": [
          144.97594193147052
         ],
         "z": [
          -56.25972578299318
         ]
        },
        {
         "marker": {
          "color": "red",
          "size": 5
         },
         "mode": "markers",
         "name": "Parent Decay Point",
         "showlegend": false,
         "type": "scatter3d",
         "x": [
          -83.65480163574219
         ],
         "y": [
          -10769.182907104492
         ],
         "z": [
          2.596592426300049
         ]
        },
        {
         "line": {
          "color": "black",
          "dash": "dot",
          "width": 4
         },
         "mode": "lines",
         "name": "Decay Path",
         "showlegend": false,
         "type": "scatter3d",
         "x": [
          -105.56721720587313,
          -107.88799834337985
         ],
         "y": [
          -900.2585887902419,
          144.97594193147052
         ],
         "z": [
          -50.623134178049455,
          -56.25972578299318
         ]
        },
        {
         "line": {
          "color": "red",
          "width": 4
         },
         "mode": "lines",
         "name": "mu- (9)",
         "showlegend": false,
         "type": "scatter3d",
         "x": [
          -107.88799834337985,
          -98.23985698171491
         ],
         "y": [
          144.97594193147052,
          549.1818793739521
         ],
         "z": [
          -56.25972578299318,
          -57.35770874741941
         ]
        },
        {
         "line": {
          "color": "green",
          "width": 4
         },
         "mode": "lines",
         "name": "pi+ (9)",
         "showlegend": false,
         "type": "scatter3d",
         "x": [
          -107.88799834337985,
          -119.82854268167436
         ],
         "y": [
          144.97594193147052,
          785.7784078925418
         ],
         "z": [
          -56.25972578299318,
          -60.794255490170414
         ]
        },
        {
         "marker": {
          "color": "blue",
          "size": 6,
          "symbol": "cross"
         },
         "mode": "markers",
         "name": "MeVPRTL Decay Point",
         "showlegend": false,
         "type": "scatter3d",
         "x": [
          77.65357757916826
         ],
         "y": [
          204.8297609282381
         ],
         "z": [
          -141.78128560420978
         ]
        },
        {
         "marker": {
          "color": "red",
          "size": 5
         },
         "mode": "markers",
         "name": "Parent Decay Point",
         "showlegend": false,
         "type": "scatter3d",
         "x": [
          -38.67751434326172
         ],
         "y": [
          -8665.193115234375
         ],
         "z": [
          29.35749053955078
         ]
        },
        {
         "line": {
          "color": "black",
          "dash": "dot",
          "width": 4
         },
         "mode": "lines",
         "name": "Decay Path",
         "showlegend": false,
         "type": "scatter3d",
         "x": [
          73.0766152507449,
          77.65357757916826
         ],
         "y": [
          -144.15484744731583,
          204.8297609282381
         ],
         "z": [
          -135.04795474314662,
          -141.78128560420978
         ]
        },
        {
         "line": {
          "color": "red",
          "width": 4
         },
         "mode": "lines",
         "name": "mu- (10)",
         "showlegend": false,
         "type": "scatter3d",
         "x": [
          77.65357757916826,
          83.57435888596827
         ],
         "y": [
          204.8297609282381,
          374.47139230984754
         ],
         "z": [
          -141.78128560420978,
          -154.46966472944322
         ]
        },
        {
         "line": {
          "color": "green",
          "width": 4
         },
         "mode": "lines",
         "name": "pi+ (10)",
         "showlegend": false,
         "type": "scatter3d",
         "x": [
          77.65357757916826,
          76.18200267427883
         ],
         "y": [
          204.8297609282381,
          383.5747769441098
         ],
         "z": [
          -141.78128560420978,
          -135.50922179310788
         ]
        },
        {
         "marker": {
          "color": "blue",
          "size": 6,
          "symbol": "cross"
         },
         "mode": "markers",
         "name": "MeVPRTL Decay Point",
         "showlegend": false,
         "type": "scatter3d",
         "x": [
          -13.829529816671865
         ],
         "y": [
          398.5909103740487
         ],
         "z": [
          -80.43982456424038
         ]
        },
        {
         "marker": {
          "color": "red",
          "size": 5
         },
         "mode": "markers",
         "name": "Parent Decay Point",
         "showlegend": false,
         "type": "scatter3d",
         "x": [
          -100.7464134979248
         ],
         "y": [
          -9934.623168945312
         ],
         "z": [
          -41.60801696777344
         ]
        },
        {
         "line": {
          "color": "black",
          "dash": "dot",
          "width": 4
         },
         "mode": "lines",
         "name": "Decay Path",
         "showlegend": false,
         "type": "scatter3d",
         "x": [
          -27.328342065220077,
          -13.829529816671865
         ],
         "y": [
          -1206.2309708650362,
          398.5909103740487
         ],
         "z": [
          -74.4089677523605,
          -80.43982456424038
         ]
        },
        {
         "line": {
          "color": "red",
          "width": 4
         },
         "mode": "lines",
         "name": "mu- (11)",
         "showlegend": false,
         "type": "scatter3d",
         "x": [
          -13.829529816671865,
          -0.012921864211421052
         ],
         "y": [
          398.5909103740487,
          1014.1272269902356
         ],
         "z": [
          -80.43982456424038,
          -77.08895058961555
         ]
        },
        {
         "line": {
          "color": "green",
          "width": 4
         },
         "mode": "lines",
         "name": "pi+ (11)",
         "showlegend": false,
         "type": "scatter3d",
         "x": [
          -13.829529816671865,
          -14.138146787429317
         ],
         "y": [
          398.5909103740487,
          1387.7359424687302
         ],
         "z": [
          -80.43982456424038,
          -89.81423438399702
         ]
        },
        {
         "marker": {
          "color": "blue",
          "size": 6,
          "symbol": "cross"
         },
         "mode": "markers",
         "name": "MeVPRTL Decay Point",
         "showlegend": false,
         "type": "scatter3d",
         "x": [
          -16.004065448223827
         ],
         "y": [
          461.9202823494452
         ],
         "z": [
          -82.0184554281892
         ]
        },
        {
         "marker": {
          "color": "red",
          "size": 5
         },
         "mode": "markers",
         "name": "Parent Decay Point",
         "showlegend": false,
         "type": "scatter3d",
         "x": [
          -50.60486724853516
         ],
         "y": [
          -9953.1142578125
         ],
         "z": [
          4.8438520431518555
         ]
        },
        {
         "line": {
          "color": "black",
          "dash": "dot",
          "width": 4
         },
         "mode": "lines",
         "name": "Decay Path",
         "showlegend": false,
         "type": "scatter3d",
         "x": [
          -20.306408360374302,
          -16.004065448223827
         ],
         "y": [
          -833.1089569228348,
          461.9202823494452
         ],
         "z": [
          -71.21779725156287,
          -82.0184554281892
         ]
        },
        {
         "line": {
          "color": "red",
          "width": 4
         },
         "mode": "lines",
         "name": "mu- (12)",
         "showlegend": false,
         "type": "scatter3d",
         "x": [
          -16.004065448223827,
          -25.645426789910513
         ],
         "y": [
          461.9202823494452,
          985.0205026255395
         ],
         "z": [
          -82.0184554281892,
          -84.6150933422595
         ]
        },
        {
         "line": {
          "color": "green",
          "width": 4
         },
         "mode": "lines",
         "name": "pi+ (12)",
         "showlegend": false,
         "type": "scatter3d",
         "x": [
          -16.004065448223827,
          -2.0726721331909914
         ],
         "y": [
          461.9202823494452,
          1233.63689968486
         ],
         "z": [
          -82.0184554281892,
          -90.21890308787542
         ]
        },
        {
         "marker": {
          "color": "blue",
          "size": 6,
          "symbol": "cross"
         },
         "mode": "markers",
         "name": "MeVPRTL Decay Point",
         "showlegend": false,
         "type": "scatter3d",
         "x": [
          3.4968295217480687
         ],
         "y": [
          230.29925950223515
         ],
         "z": [
          177.47766587361644
         ]
        },
        {
         "marker": {
          "color": "red",
          "size": 5
         },
         "mode": "markers",
         "name": "Parent Decay Point",
         "showlegend": false,
         "type": "scatter3d",
         "x": [
          -72.97007962942124
         ],
         "y": [
          -10508.336242675781
         ],
         "z": [
          9.325315475463867
         ]
        },
        {
         "line": {
          "color": "black",
          "dash": "dot",
          "width": 4
         },
         "mode": "lines",
         "name": "Decay Path",
         "showlegend": false,
         "type": "scatter3d",
         "x": [
          -5.5758213806191055,
          3.4968295217480687
         ],
         "y": [
          -1043.819076919863,
          230.29925950223515
         ],
         "z": [
          157.5267146646564,
          177.47766587361644
         ]
        },
        {
         "line": {
          "color": "red",
          "width": 4
         },
         "mode": "lines",
         "name": "mu- (13)",
         "showlegend": false,
         "type": "scatter3d",
         "x": [
          3.4968295217480687,
          2.4134798434050566
         ],
         "y": [
          230.29925950223515,
          718.9873741252347
         ],
         "z": [
          177.47766587361644,
          194.42288341400786
         ]
        },
        {
         "line": {
          "color": "green",
          "width": 4
         },
         "mode": "lines",
         "name": "pi+ (13)",
         "showlegend": false,
         "type": "scatter3d",
         "x": [
          3.4968295217480687,
          13.642872187711326
         ],
         "y": [
          230.29925950223515,
          1015.5517190512064
         ],
         "z": [
          177.47766587361644,
          180.49831780102383
         ]
        },
        {
         "marker": {
          "color": "blue",
          "size": 6,
          "symbol": "cross"
         },
         "mode": "markers",
         "name": "MeVPRTL Decay Point",
         "showlegend": false,
         "type": "scatter3d",
         "x": [
          -45.11774061666781
         ],
         "y": [
          231.25507261082385
         ],
         "z": [
          79.36659475704172
         ]
        },
        {
         "marker": {
          "color": "red",
          "size": 5
         },
         "mode": "markers",
         "name": "Parent Decay Point",
         "showlegend": false,
         "type": "scatter3d",
         "x": [
          -104.47806671142578
         ],
         "y": [
          -10704.03384399414
         ],
         "z": [
          38.854305267333984
         ]
        },
        {
         "line": {
          "color": "black",
          "dash": "dot",
          "width": 4
         },
         "mode": "lines",
         "name": "Decay Path",
         "showlegend": false,
         "type": "scatter3d",
         "x": [
          -47.06111837378658,
          -45.11774061666781
         ],
         "y": [
          -126.75167442546268,
          231.25507261082385
         ],
         "z": [
          78.04027653300476,
          79.36659475704172
         ]
        },
        {
         "line": {
          "color": "red",
          "width": 4
         },
         "mode": "lines",
         "name": "mu- (14)",
         "showlegend": false,
         "type": "scatter3d",
         "x": [
          -45.11774061666781,
          -37.193088521603464
         ],
         "y": [
          231.25507261082385,
          360.776436873968
         ],
         "z": [
          79.36659475704172,
          83.67113374406037
         ]
        },
        {
         "line": {
          "color": "green",
          "width": 4
         },
         "mode": "lines",
         "name": "pi+ (14)",
         "showlegend": false,
         "type": "scatter3d",
         "x": [
          -45.11774061666781,
          -50.80830046769901
         ],
         "y": [
          231.25507261082385,
          459.34614808523315
         ],
         "z": [
          79.36659475704172,
          76.54201544378746
         ]
        },
        {
         "marker": {
          "color": "blue",
          "size": 6,
          "symbol": "cross"
         },
         "mode": "markers",
         "name": "MeVPRTL Decay Point",
         "showlegend": false,
         "type": "scatter3d",
         "x": [
          -209.16428625339253
         ],
         "y": [
          0.644912000900149
         ],
         "z": [
          143.41781595551336
         ]
        },
        {
         "marker": {
          "color": "red",
          "size": 5
         },
         "mode": "markers",
         "name": "Parent Decay Point",
         "showlegend": false,
         "type": "scatter3d",
         "x": [
          -53.98966339111328
         ],
         "y": [
          -10716.013275146484
         ],
         "z": [
          67.80176544189453
         ]
        },
        {
         "line": {
          "color": "black",
          "dash": "dot",
          "width": 4
         },
         "mode": "lines",
         "name": "Decay Path",
         "showlegend": false,
         "type": "scatter3d",
         "x": [
          -204.94375044005375,
          -209.16428625339253
         ],
         "y": [
          -290.83341637440736,
          0.644912000900149
         ],
         "z": [
          141.36116362815952,
          143.41781595551336
         ]
        },
        {
         "line": {
          "color": "red",
          "width": 4
         },
         "mode": "lines",
         "name": "mu- (15)",
         "showlegend": false,
         "type": "scatter3d",
         "x": [
          -209.16428625339253,
          -203.07372425415357
         ],
         "y": [
          0.644912000900149,
          109.35744258077709
         ],
         "z": [
          143.41781595551336,
          137.6812583601868
         ]
        },
        {
         "line": {
          "color": "green",
          "width": 4
         },
         "mode": "lines",
         "name": "pi+ (15)",
         "showlegend": false,
         "type": "scatter3d",
         "x": [
          -209.16428625339253,
          -219.05700031827695
         ],
         "y": [
          0.644912000900149,
          182.70664926674488
         ],
         "z": [
          143.41781595551336,
          150.859702464545
         ]
        },
        {
         "marker": {
          "color": "blue",
          "size": 6,
          "symbol": "cross"
         },
         "mode": "markers",
         "name": "MeVPRTL Decay Point",
         "showlegend": false,
         "type": "scatter3d",
         "x": [
          127.03682828879704
         ],
         "y": [
          436.33969030053413
         ],
         "z": [
          206.19172043133622
         ]
        },
        {
         "marker": {
          "color": "red",
          "size": 5
         },
         "mode": "markers",
         "name": "Parent Decay Point",
         "showlegend": false,
         "type": "scatter3d",
         "x": [
          -71.51653984069824
         ],
         "y": [
          -10928.214981079102
         ],
         "z": [
          3.367506742477417
         ]
        },
        {
         "line": {
          "color": "black",
          "dash": "dot",
          "width": 4
         },
         "mode": "lines",
         "name": "Decay Path",
         "showlegend": false,
         "type": "scatter3d",
         "x": [
          109.61463392490052,
          127.03682828879704
         ],
         "y": [
          -560.8505473124223,
          436.33969030053413
         ],
         "z": [
          188.39477794740333,
          206.19172043133622
         ]
        },
        {
         "line": {
          "color": "red",
          "width": 4
         },
         "mode": "lines",
         "name": "mu- (16)",
         "showlegend": false,
         "type": "scatter3d",
         "x": [
          127.03682828879704,
          134.09233353301525
         ],
         "y": [
          436.33969030053413,
          957.3439616501391
         ],
         "z": [
          206.19172043133622,
          211.5550688494879
         ]
        },
        {
         "line": {
          "color": "green",
          "width": 4
         },
         "mode": "lines",
         "name": "pi+ (16)",
         "showlegend": false,
         "type": "scatter3d",
         "x": [
          127.03682828879704,
          137.4144706676539
         ],
         "y": [
          436.33969030053413,
          912.4853232211019
         ],
         "z": [
          206.19172043133622,
          218.64700416546614
         ]
        },
        {
         "marker": {
          "color": "blue",
          "size": 6,
          "symbol": "cross"
         },
         "mode": "markers",
         "name": "MeVPRTL Decay Point",
         "showlegend": false,
         "type": "scatter3d",
         "x": [
          -85.15317604711944
         ],
         "y": [
          86.26315039663405
         ],
         "z": [
          2.2372444736509465
         ]
        },
        {
         "marker": {
          "color": "red",
          "size": 5
         },
         "mode": "markers",
         "name": "Parent Decay Point",
         "showlegend": false,
         "type": "scatter3d",
         "x": [
          5.408407897949218
         ],
         "y": [
          -6930.60205078125
         ],
         "z": [
          100.21456146240234
         ]
        },
        {
         "line": {
          "color": "black",
          "dash": "dot",
          "width": 4
         },
         "mode": "lines",
         "name": "Decay Path",
         "showlegend": false,
         "type": "scatter3d",
         "x": [
          -83.22511865920185,
          -85.15317604711944
         ],
         "y": [
          -63.126007807124694,
          86.26315039663405
         ],
         "z": [
          4.323182921713967,
          2.2372444736509465
         ]
        },
        {
         "line": {
          "color": "red",
          "width": 4
         },
         "mode": "lines",
         "name": "mu- (17)",
         "showlegend": false,
         "type": "scatter3d",
         "x": [
          -85.15317604711944,
          -80.25557622489774
         ],
         "y": [
          86.26315039663405,
          151.47821464013077
         ],
         "z": [
          2.2372444736509465,
          -15.506220317922285
         ]
        },
        {
         "line": {
          "color": "green",
          "width": 4
         },
         "mode": "lines",
         "name": "pi+ (17)",
         "showlegend": false,
         "type": "scatter3d",
         "x": [
          -85.15317604711944,
          -93.09503566580334
         ],
         "y": [
          86.26315039663405,
          165.22822921919936
         ],
         "z": [
          2.2372444736509465,
          21.438414563219258
         ]
        },
        {
         "marker": {
          "color": "blue",
          "size": 6,
          "symbol": "cross"
         },
         "mode": "markers",
         "name": "MeVPRTL Decay Point",
         "showlegend": false,
         "type": "scatter3d",
         "x": [
          -144.87111376492163
         ],
         "y": [
          234.27159324222157
         ],
         "z": [
          56.65030608623266
         ]
        },
        {
         "marker": {
          "color": "red",
          "size": 5
         },
         "mode": "markers",
         "name": "Parent Decay Point",
         "showlegend": false,
         "type": "scatter3d",
         "x": [
          -82.30094650268555
         ],
         "y": [
          -10827.264877319336
         ],
         "z": [
          -3.4962222576141357
         ]
        },
        {
         "line": {
          "color": "black",
          "dash": "dot",
          "width": 4
         },
         "mode": "lines",
         "name": "Decay Path",
         "showlegend": false,
         "type": "scatter3d",
         "x": [
          -139.65130128904502,
          -144.87111376492163
         ],
         "y": [
          -688.518749149102,
          234.27159324222157
         ],
         "z": [
          51.63268166924693,
          56.65030608623266
         ]
        },
        {
         "line": {
          "color": "red",
          "width": 4
         },
         "mode": "lines",
         "name": "mu- (18)",
         "showlegend": false,
         "type": "scatter3d",
         "x": [
          -144.87111376492163,
          -139.79380641874823
         ],
         "y": [
          234.27159324222157,
          586.0580298513577
         ],
         "z": [
          56.65030608623266,
          65.92337686787769
         ]
        },
        {
         "line": {
          "color": "green",
          "width": 4
         },
         "mode": "lines",
         "name": "pi+ (18)",
         "showlegend": false,
         "type": "scatter3d",
         "x": [
          -144.87111376492163,
          -155.13961040180342
         ],
         "y": [
          234.27159324222157,
          805.037059141497
         ],
         "z": [
          56.65030608623266,
          52.42196859940664
         ]
        },
        {
         "marker": {
          "color": "blue",
          "size": 6,
          "symbol": "cross"
         },
         "mode": "markers",
         "name": "MeVPRTL Decay Point",
         "showlegend": false,
         "type": "scatter3d",
         "x": [
          166.16069220028194
         ],
         "y": [
          334.34351534513735
         ],
         "z": [
          157.64341914565074
         ]
        },
        {
         "marker": {
          "color": "red",
          "size": 5
         },
         "mode": "markers",
         "name": "Parent Decay Point",
         "showlegend": false,
         "type": "scatter3d",
         "x": [
          -97.12054565429688
         ],
         "y": [
          -9873.344360351562
         ],
         "z": [
          38.78080368041992
         ]
        },
        {
         "line": {
          "color": "black",
          "dash": "dot",
          "width": 4
         },
         "mode": "lines",
         "name": "Decay Path",
         "showlegend": false,
         "type": "scatter3d",
         "x": [
          124.67714941277174,
          166.16069220028194
         ],
         "y": [
          -1274.0166557161324,
          334.34351534513735
         ],
         "z": [
          138.914996130522,
          157.64341914565074
         ]
        },
        {
         "line": {
          "color": "red",
          "width": 4
         },
         "mode": "lines",
         "name": "mu- (19)",
         "showlegend": false,
         "type": "scatter3d",
         "x": [
          166.16069220028194,
          183.72692049626357
         ],
         "y": [
          334.34351534513735,
          1064.4564422466594
         ],
         "z": [
          157.64341914565074,
          177.86803752988257
         ]
        },
        {
         "line": {
          "color": "green",
          "width": 4
         },
         "mode": "lines",
         "name": "pi+ (19)",
         "showlegend": false,
         "type": "scatter3d",
         "x": [
          166.16069220028194,
          190.0742019786224
         ],
         "y": [
          334.34351534513735,
          1212.4165222505362
         ],
         "z": [
          157.64341914565074,
          156.13880800959782
         ]
        },
        {
         "marker": {
          "color": "blue",
          "size": 6,
          "symbol": "cross"
         },
         "mode": "markers",
         "name": "MeVPRTL Decay Point",
         "showlegend": false,
         "type": "scatter3d",
         "x": [
          7.475584447754088
         ],
         "y": [
          76.77242606862819
         ],
         "z": [
          86.4727198539376
         ]
        },
        {
         "marker": {
          "color": "red",
          "size": 5
         },
         "mode": "markers",
         "name": "Parent Decay Point",
         "showlegend": false,
         "type": "scatter3d",
         "x": [
          -63.85404613494873
         ],
         "y": [
          -10660.154235839844
         ],
         "z": [
          1.9522255659103394
         ]
        },
        {
         "line": {
          "color": "black",
          "dash": "dot",
          "width": 4
         },
         "mode": "lines",
         "name": "Decay Path",
         "showlegend": false,
         "type": "scatter3d",
         "x": [
          -2.222289351325557,
          7.475584447754088
         ],
         "y": [
          -1383.0046526368917,
          76.77242606862819
         ],
         "z": [
          74.98143523147263,
          86.4727198539376
         ]
        },
        {
         "line": {
          "color": "red",
          "width": 4
         },
         "mode": "lines",
         "name": "mu- (20)",
         "showlegend": false,
         "type": "scatter3d",
         "x": [
          7.475584447754088,
          12.701358364932982
         ],
         "y": [
          76.77242606862819,
          847.7543403224612
         ],
         "z": [
          86.4727198539376,
          94.49853534122819
         ]
        },
        {
         "line": {
          "color": "green",
          "width": 4
         },
         "mode": "lines",
         "name": "pi+ (20)",
         "showlegend": false,
         "type": "scatter3d",
         "x": [
          7.475584447754088,
          11.947357716996713
         ],
         "y": [
          76.77242606862819,
          765.5623439432492
         ],
         "z": [
          86.4727198539376,
          89.9326498827093
         ]
        },
        {
         "marker": {
          "color": "blue",
          "size": 6,
          "symbol": "cross"
         },
         "mode": "markers",
         "name": "MeVPRTL Decay Point",
         "showlegend": false,
         "type": "scatter3d",
         "x": [
          170.3810396594658
         ],
         "y": [
          426.9862209053972
         ],
         "z": [
          134.28323745086783
         ]
        },
        {
         "marker": {
          "color": "red",
          "size": 5
         },
         "mode": "markers",
         "name": "Parent Decay Point",
         "showlegend": false,
         "type": "scatter3d",
         "x": [
          -73.38474249720574
         ],
         "y": [
          -10615.138732910156
         ],
         "z": [
          -1.2070890665054321
         ]
        },
        {
         "line": {
          "color": "black",
          "dash": "dot",
          "width": 4
         },
         "mode": "lines",
         "name": "Decay Path",
         "showlegend": false,
         "type": "scatter3d",
         "x": [
          158.32346855635566,
          170.3810396594658
         ],
         "y": [
          -119.19875051313522,
          426.9862209053972
         ],
         "z": [
          127.58137703669023,
          134.28323745086783
         ]
        },
        {
         "line": {
          "color": "red",
          "width": 4
         },
         "mode": "lines",
         "name": "mu- (21)",
         "showlegend": false,
         "type": "scatter3d",
         "x": [
          170.3810396594658,
          174.14977699794827
         ],
         "y": [
          426.9862209053972,
          612.5551537538054
         ],
         "z": [
          134.28323745086783,
          136.46547675214342
         ]
        },
        {
         "line": {
          "color": "green",
          "width": 4
         },
         "mode": "lines",
         "name": "pi+ (21)",
         "showlegend": false,
         "type": "scatter3d",
         "x": [
          170.3810396594658,
          178.66235923792956
         ],
         "y": [
          426.9862209053972,
          787.601984250062
         ],
         "z": [
          134.28323745086783,
          138.8006855182641
         ]
        },
        {
         "marker": {
          "color": "blue",
          "size": 6,
          "symbol": "cross"
         },
         "mode": "markers",
         "name": "MeVPRTL Decay Point",
         "showlegend": false,
         "type": "scatter3d",
         "x": [
          -142.7019490537217
         ],
         "y": [
          232.91899572685543
         ],
         "z": [
          51.42944955631099
         ]
        },
        {
         "marker": {
          "color": "red",
          "size": 5
         },
         "mode": "markers",
         "name": "Parent Decay Point",
         "showlegend": false,
         "type": "scatter3d",
         "x": [
          -63.836504249572755
         ],
         "y": [
          -10569.820678710938
         ],
         "z": [
          7.840574264526367
         ]
        },
        {
         "line": {
          "color": "black",
          "dash": "dot",
          "width": 4
         },
         "mode": "lines",
         "name": "Decay Path",
         "showlegend": false,
         "type": "scatter3d",
         "x": [
          -136.53432974530028,
          -142.7019490537217
         ],
         "y": [
          -611.9020277945601,
          232.91899572685543
         ],
         "z": [
          48.02061074801403,
          51.42944955631099
         ]
        },
        {
         "line": {
          "color": "red",
          "width": 4
         },
         "mode": "lines",
         "name": "mu- (22)",
         "showlegend": false,
         "type": "scatter3d",
         "x": [
          -142.7019490537217,
          -151.26605649954897
         ],
         "y": [
          232.91899572685543,
          595.4260439941588
         ],
         "z": [
          51.42944955631099,
          42.27117777623442
         ]
        },
        {
         "line": {
          "color": "green",
          "width": 4
         },
         "mode": "lines",
         "name": "pi+ (22)",
         "showlegend": false,
         "type": "scatter3d",
         "x": [
          -142.7019490537217,
          -140.30364485198024
         ],
         "y": [
          232.91899572685543,
          714.8758703762294
         ],
         "z": [
          51.42944955631099,
          63.993699648267395
         ]
        },
        {
         "marker": {
          "color": "blue",
          "size": 6,
          "symbol": "cross"
         },
         "mode": "markers",
         "name": "MeVPRTL Decay Point",
         "showlegend": false,
         "type": "scatter3d",
         "x": [
          -3.955947116653064
         ],
         "y": [
          -9.091057851772348
         ],
         "z": [
          179.28293580672081
         ]
        },
        {
         "marker": {
          "color": "red",
          "size": 5
         },
         "mode": "markers",
         "name": "Parent Decay Point",
         "showlegend": false,
         "type": "scatter3d",
         "x": [
          -65.18880393981934
         ],
         "y": [
          -10393.817565917969
         ],
         "z": [
          -7.17985200881958
         ]
        },
        {
         "line": {
          "color": "black",
          "dash": "dot",
          "width": 4
         },
         "mode": "lines",
         "name": "Decay Path",
         "showlegend": false,
         "type": "scatter3d",
         "x": [
          -15.426821905951446,
          -3.955947116653064
         ],
         "y": [
          -1954.4828568845373,
          -9.091057851772348
         ],
         "z": [
          144.35248501830736,
          179.28293580672081
         ]
        },
        {
         "line": {
          "color": "red",
          "width": 4
         },
         "mode": "lines",
         "name": "mu- (23)",
         "showlegend": false,
         "type": "scatter3d",
         "x": [
          -3.955947116653064,
          1.351979451649207
         ],
         "y": [
          -9.091057851772348,
          963.0427218767701
         ],
         "z": [
          179.28293580672081,
          205.45466413518682
         ]
        },
        {
         "line": {
          "color": "green",
          "width": 4
         },
         "mode": "lines",
         "name": "pi+ (23)",
         "showlegend": false,
         "type": "scatter3d",
         "x": [
          -3.955947116653064,
          2.2070069644048838
         ],
         "y": [
          -9.091057851772348,
          964.0887986616622
         ],
         "z": [
          179.28293580672081,
          188.03066397403592
         ]
        },
        {
         "marker": {
          "color": "blue",
          "size": 6,
          "symbol": "cross"
         },
         "mode": "markers",
         "name": "MeVPRTL Decay Point",
         "showlegend": false,
         "type": "scatter3d",
         "x": [
          -35.21432421781115
         ],
         "y": [
          151.0361434170918
         ],
         "z": [
          93.39170642458647
         ]
        },
        {
         "marker": {
          "color": "red",
          "size": 5
         },
         "mode": "markers",
         "name": "Parent Decay Point",
         "showlegend": false,
         "type": "scatter3d",
         "x": [
          -66.95170715332031
         ],
         "y": [
          -10762.520965576172
         ],
         "z": [
          46.571571350097656
         ]
        },
        {
         "line": {
          "color": "black",
          "dash": "dot",
          "width": 4
         },
         "mode": "lines",
         "name": "Decay Path",
         "showlegend": false,
         "type": "scatter3d",
         "x": [
          -36.524576699370996,
          -35.21432421781115
         ],
         "y": [
          -299.5213368187648,
          151.0361434170918
         ],
         "z": [
          91.45877457910406,
          93.39170642458647
         ]
        },
        {
         "line": {
          "color": "red",
          "dash": "dash",
          "width": 4
         },
         "mode": "lines",
         "name": "nu_mu (24)",
         "showlegend": false,
         "type": "scatter3d",
         "x": [
          -35.21432421781115,
          -61.801915854243546
         ],
         "y": [
          151.0361434170918,
          221.3561313080476
         ],
         "z": [
          93.39170642458647,
          86.59119672508865
         ]
        },
        {
         "line": {
          "color": "blue",
          "width": 4
         },
         "mode": "lines",
         "name": "e- (24)",
         "showlegend": false,
         "type": "scatter3d",
         "x": [
          -35.21432421781115,
          -3.1929428811478644
         ],
         "y": [
          151.0361434170918,
          238.24949146757996
         ],
         "z": [
          93.39170642458647,
          126.48997405211178
         ]
        },
        {
         "line": {
          "color": "blue",
          "width": 4
         },
         "mode": "lines",
         "name": "e- (24)",
         "showlegend": false,
         "type": "scatter3d",
         "x": [
          -35.21432421781115,
          -39.389188745176334
         ],
         "y": [
          151.0361434170918,
          426.3744026008717
         ],
         "z": [
          93.39170642458647,
          68.95110518128094
         ]
        },
        {
         "marker": {
          "color": "blue",
          "size": 6,
          "symbol": "cross"
         },
         "mode": "markers",
         "name": "MeVPRTL Decay Point",
         "showlegend": false,
         "type": "scatter3d",
         "x": [
          48.95478532302633
         ],
         "y": [
          46.76904798893338
         ],
         "z": [
          70.62750997487564
         ]
        },
        {
         "marker": {
          "color": "red",
          "size": 5
         },
         "mode": "markers",
         "name": "Parent Decay Point",
         "showlegend": false,
         "type": "scatter3d",
         "x": [
          -103.64544227600098
         ],
         "y": [
          -9392.251220703125
         ],
         "z": [
          -77.32392883300781
         ]
        },
        {
         "line": {
          "color": "black",
          "dash": "dot",
          "width": 4
         },
         "mode": "lines",
         "name": "Decay Path",
         "showlegend": false,
         "type": "scatter3d",
         "x": [
          43.41467526605796,
          48.95478532302633
         ],
         "y": [
          -295.9120340859562,
          46.76904798893338
         ],
         "z": [
          65.25617293967636,
          70.62750997487564
         ]
        },
        {
         "line": {
          "color": "red",
          "width": 4
         },
         "mode": "lines",
         "name": "mu- (25)",
         "showlegend": false,
         "type": "scatter3d",
         "x": [
          48.95478532302633,
          61.27579340659307
         ],
         "y": [
          46.76904798893338,
          182.10987628086932
         ],
         "z": [
          70.62750997487564,
          66.47911222644193
         ]
        },
        {
         "line": {
          "color": "green",
          "width": 4
         },
         "mode": "lines",
         "name": "pi+ (25)",
         "showlegend": false,
         "type": "scatter3d",
         "x": [
          48.95478532302633,
          42.37450094245703
         ],
         "y": [
          46.76904798893338,
          253.25582374404397
         ],
         "z": [
          70.62750997487564,
          80.00119919452602
         ]
        },
        {
         "marker": {
          "color": "blue",
          "size": 6,
          "symbol": "cross"
         },
         "mode": "markers",
         "name": "MeVPRTL Decay Point",
         "showlegend": false,
         "type": "scatter3d",
         "x": [
          206.9567831024124
         ],
         "y": [
          152.55357055417517
         ],
         "z": [
          9.126794595971134
         ]
        },
        {
         "marker": {
          "color": "red",
          "size": 5
         },
         "mode": "markers",
         "name": "Parent Decay Point",
         "showlegend": false,
         "type": "scatter3d",
         "x": [
          -76.55125859260559
         ],
         "y": [
          -10526.023223876953
         ],
         "z": [
          -30.986494064331055
         ]
        },
        {
         "line": {
          "color": "black",
          "dash": "dot",
          "width": 4
         },
         "mode": "lines",
         "name": "Decay Path",
         "showlegend": false,
         "type": "scatter3d",
         "x": [
          179.44669759863024,
          206.9567831024124
         ],
         "y": [
          -883.6377096548154,
          152.55357055417517
         ],
         "z": [
          5.2344182306124605,
          9.126794595971134
         ]
        },
        {
         "line": {
          "color": "red",
          "width": 4
         },
         "mode": "lines",
         "name": "mu- (26)",
         "showlegend": false,
         "type": "scatter3d",
         "x": [
          206.9567831024124,
          231.12095449046416
         ],
         "y": [
          152.55357055417517,
          607.8438148688756
         ],
         "z": [
          9.126794595971134,
          11.571686749993786
         ]
        },
        {
         "line": {
          "color": "green",
          "width": 4
         },
         "mode": "lines",
         "name": "pi+ (26)",
         "showlegend": false,
         "type": "scatter3d",
         "x": [
          206.9567831024124,
          210.28884996892558
         ],
         "y": [
          152.55357055417517,
          733.1683229271104
         ],
         "z": [
          9.126794595971134,
          10.572823415742443
         ]
        },
        {
         "marker": {
          "color": "blue",
          "size": 6,
          "symbol": "cross"
         },
         "mode": "markers",
         "name": "MeVPRTL Decay Point",
         "showlegend": false,
         "type": "scatter3d",
         "x": [
          66.8159985739985
         ],
         "y": [
          43.850530953188354
         ],
         "z": [
          1.0849451071834508
         ]
        },
        {
         "marker": {
          "color": "red",
          "size": 5
         },
         "mode": "markers",
         "name": "Parent Decay Point",
         "showlegend": false,
         "type": "scatter3d",
         "x": [
          -37.76484802246094
         ],
         "y": [
          -9566.917358398438
         ],
         "z": [
          63.84428787231445
         ]
        },
        {
         "line": {
          "color": "black",
          "dash": "dot",
          "width": 4
         },
         "mode": "lines",
         "name": "Decay Path",
         "showlegend": false,
         "type": "scatter3d",
         "x": [
          51.440291499984035,
          66.8159985739985
         ],
         "y": [
          -1369.1457932515314,
          43.850530953188354
         ],
         "z": [
          10.311962308887688,
          1.0849451071834508
         ]
        },
        {
         "line": {
          "color": "red",
          "width": 4
         },
         "mode": "lines",
         "name": "mu- (27)",
         "showlegend": false,
         "type": "scatter3d",
         "x": [
          66.8159985739985,
          65.47951430502678
         ],
         "y": [
          43.850530953188354,
          563.0293296651131
         ],
         "z": [
          1.0849451071834508,
          3.008017007703386
         ]
        },
        {
         "line": {
          "color": "green",
          "width": 4
         },
         "mode": "lines",
         "name": "pi+ (27)",
         "showlegend": false,
         "type": "scatter3d",
         "x": [
          66.8159985739985,
          83.51193237079735
         ],
         "y": [
          43.850530953188354,
          937.5512222351567
         ],
         "z": [
          1.0849451071834508,
          -10.052982947855067
         ]
        },
        {
         "marker": {
          "color": "blue",
          "size": 6,
          "symbol": "cross"
         },
         "mode": "markers",
         "name": "MeVPRTL Decay Point",
         "showlegend": false,
         "type": "scatter3d",
         "x": [
          200.10991825904605
         ],
         "y": [
          7.825539134173596
         ],
         "z": [
          175.73062857183484
         ]
        },
        {
         "marker": {
          "color": "red",
          "size": 5
         },
         "mode": "markers",
         "name": "Parent Decay Point",
         "showlegend": false,
         "type": "scatter3d",
         "x": [
          -90.292113571167
         ],
         "y": [
          -10456.563903808594
         ],
         "z": [
          30.81542205810547
         ]
        },
        {
         "line": {
          "color": "black",
          "dash": "dot",
          "width": 4
         },
         "mode": "lines",
         "name": "Decay Path",
         "showlegend": false,
         "type": "scatter3d",
         "x": [
          190.45951631894442,
          200.10991825904605
         ],
         "y": [
          -339.918460953251,
          7.825539134173596
         ],
         "z": [
          170.91492538519884,
          175.73062857183484
         ]
        },
        {
         "line": {
          "color": "red",
          "width": 4
         },
         "mode": "lines",
         "name": "mu- (28)",
         "showlegend": false,
         "type": "scatter3d",
         "x": [
          200.10991825904605,
          214.83436276096717
         ],
         "y": [
          7.825539134173596,
          160.6390087131995
         ],
         "z": [
          175.73062857183484,
          185.1327562747387
         ]
        },
        {
         "line": {
          "color": "green",
          "width": 4
         },
         "mode": "lines",
         "name": "pi+ (28)",
         "showlegend": false,
         "type": "scatter3d",
         "x": [
          200.10991825904605,
          194.9417124180664
         ],
         "y": [
          7.825539134173596,
          201.80342514249202
         ],
         "z": [
          175.73062857183484,
          171.08394336395207
         ]
        },
        {
         "marker": {
          "color": "blue",
          "size": 6,
          "symbol": "cross"
         },
         "mode": "markers",
         "name": "MeVPRTL Decay Point",
         "showlegend": false,
         "type": "scatter3d",
         "x": [
          -104.51960455314506
         ],
         "y": [
          353.5939963101464
         ],
         "z": [
          125.86102648072526
         ]
        },
        {
         "marker": {
          "color": "red",
          "size": 5
         },
         "mode": "markers",
         "name": "Parent Decay Point",
         "showlegend": false,
         "type": "scatter3d",
         "x": [
          -4.455781250000001
         ],
         "y": [
          -9853.111572265625
         ],
         "z": [
          -50.16044998168945
         ]
        },
        {
         "line": {
          "color": "black",
          "dash": "dot",
          "width": 4
         },
         "mode": "lines",
         "name": "Decay Path",
         "showlegend": false,
         "type": "scatter3d",
         "x": [
          -101.53587574697823,
          -104.51960455314506
         ],
         "y": [
          49.24782587888308,
          353.5939963101464
         ],
         "z": [
          120.61237284659599,
          125.86102648072526
         ]
        },
        {
         "line": {
          "color": "red",
          "width": 4
         },
         "mode": "lines",
         "name": "mu- (29)",
         "showlegend": false,
         "type": "scatter3d",
         "x": [
          -104.51960455314506,
          -112.00843400251144
         ],
         "y": [
          353.5939963101464,
          506.3395752117908
         ],
         "z": [
          125.86102648072526,
          123.28522167576664
         ]
        },
        {
         "line": {
          "color": "green",
          "width": 4
         },
         "mode": "lines",
         "name": "pi+ (29)",
         "showlegend": false,
         "type": "scatter3d",
         "x": [
          -104.51960455314506,
          -99.66635184398176
         ],
         "y": [
          353.5939963101464,
          504.75380952484306
         ],
         "z": [
          125.86102648072526,
          133.9768743299344
         ]
        },
        {
         "marker": {
          "color": "blue",
          "size": 6,
          "symbol": "cross"
         },
         "mode": "markers",
         "name": "MeVPRTL Decay Point",
         "showlegend": false,
         "type": "scatter3d",
         "x": [
          -117.84784441239783
         ],
         "y": [
          155.80845939239043
         ],
         "z": [
          27.927978300582446
         ]
        },
        {
         "marker": {
          "color": "red",
          "size": 5
         },
         "mode": "markers",
         "name": "Parent Decay Point",
         "showlegend": false,
         "type": "scatter3d",
         "x": [
          -73.06771847486496
         ],
         "y": [
          -10856.460891723633
         ],
         "z": [
          13.74860954284668
         ]
        },
        {
         "line": {
          "color": "black",
          "dash": "dot",
          "width": 4
         },
         "mode": "lines",
         "name": "Decay Path",
         "showlegend": false,
         "type": "scatter3d",
         "x": [
          -116.75826294207101,
          -117.84784441239783
         ],
         "y": [
          -112.13997487422921,
          155.80845939239043
         ],
         "z": [
          27.582968608539336,
          27.927978300582446
         ]
        },
        {
         "line": {
          "color": "red",
          "width": 4
         },
         "mode": "lines",
         "name": "mu- (30)",
         "showlegend": false,
         "type": "scatter3d",
         "x": [
          -117.84784441239783,
          -128.15128330372102
         ],
         "y": [
          155.80845939239043,
          279.97985271012715
         ],
         "z": [
          27.927978300582446,
          35.507667442840436
         ]
        },
        {
         "line": {
          "color": "green",
          "width": 4
         },
         "mode": "lines",
         "name": "pi+ (30)",
         "showlegend": false,
         "type": "scatter3d",
         "x": [
          -117.84784441239783,
          -108.25932998558362
         ],
         "y": [
          155.80845939239043,
          298.4113596897479
         ],
         "z": [
          27.927978300582446,
          20.411697867286534
         ]
        },
        {
         "marker": {
          "color": "blue",
          "size": 6,
          "symbol": "cross"
         },
         "mode": "markers",
         "name": "MeVPRTL Decay Point",
         "showlegend": false,
         "type": "scatter3d",
         "x": [
          193.65418137340507
         ],
         "y": [
          263.44564348030326
         ],
         "z": [
          194.5803596146729
         ]
        },
        {
         "marker": {
          "color": "red",
          "size": 5
         },
         "mode": "markers",
         "name": "Parent Decay Point",
         "showlegend": false,
         "type": "scatter3d",
         "x": [
          -69.09466770172119
         ],
         "y": [
          -10788.534896850586
         ],
         "z": [
          -6.377176761627197
         ]
        },
        {
         "line": {
          "color": "black",
          "dash": "dot",
          "width": 4
         },
         "mode": "lines",
         "name": "Decay Path",
         "showlegend": false,
         "type": "scatter3d",
         "x": [
          173.3849720341219,
          193.65418137340507
         ],
         "y": [
          -589.136234515286,
          263.44564348030326
         ],
         "z": [
          179.0779116022243,
          194.5803596146729
         ]
        },
        {
         "line": {
          "color": "red",
          "width": 4
         },
         "mode": "lines",
         "name": "mu- (31)",
         "showlegend": false,
         "type": "scatter3d",
         "x": [
          193.65418137340507,
          193.93993054849437
         ],
         "y": [
          263.44564348030326,
          645.9570566919278
         ],
         "z": [
          194.5803596146729,
          193.37022947667973
         ]
        },
        {
         "line": {
          "color": "green",
          "width": 4
         },
         "mode": "lines",
         "name": "pi+ (31)",
         "showlegend": false,
         "type": "scatter3d",
         "x": [
          193.65418137340507,
          213.64268051880345
         ],
         "y": [
          263.44564348030326,
          733.1736237312846
         ],
         "z": [
          194.5803596146729,
          211.29892972474488
         ]
        },
        {
         "marker": {
          "color": "blue",
          "size": 6,
          "symbol": "cross"
         },
         "mode": "markers",
         "name": "MeVPRTL Decay Point",
         "showlegend": false,
         "type": "scatter3d",
         "x": [
          208.75435697888324
         ],
         "y": [
          171.4079446301712
         ],
         "z": [
          -202.94844465257898
         ]
        },
        {
         "marker": {
          "color": "red",
          "size": 5
         },
         "mode": "markers",
         "name": "Parent Decay Point",
         "showlegend": false,
         "type": "scatter3d",
         "x": [
          -79.73168542861939
         ],
         "y": [
          -10603.126770019531
         ],
         "z": [
          -5.463525772094727
         ]
        },
        {
         "line": {
          "color": "black",
          "dash": "dot",
          "width": 4
         },
         "mode": "lines",
         "name": "Decay Path",
         "showlegend": false,
         "type": "scatter3d",
         "x": [
          193.83865662693935,
          208.75435697888324
         ],
         "y": [
          -385.6718013920665,
          171.4079446301712
         ],
         "z": [
          -192.73780898553903,
          -202.94844465257898
         ]
        },
        {
         "line": {
          "color": "red",
          "width": 4
         },
         "mode": "lines",
         "name": "mu- (32)",
         "showlegend": false,
         "type": "scatter3d",
         "x": [
          208.75435697888324,
          209.0967459023861
         ],
         "y": [
          171.4079446301712,
          451.80981476797405
         ],
         "z": [
          -202.94844465257898,
          -204.04240149005747
         ]
        },
        {
         "line": {
          "color": "green",
          "width": 4
         },
         "mode": "lines",
         "name": "pi+ (32)",
         "showlegend": false,
         "type": "scatter3d",
         "x": [
          208.75435697888324,
          223.4272497676035
         ],
         "y": [
          171.4079446301712,
          447.8355965204449
         ],
         "z": [
          -202.94844465257898,
          -212.12054273479242
         ]
        },
        {
         "marker": {
          "color": "blue",
          "size": 6,
          "symbol": "cross"
         },
         "mode": "markers",
         "name": "MeVPRTL Decay Point",
         "showlegend": false,
         "type": "scatter3d",
         "x": [
          -50.93536754956098
         ],
         "y": [
          11.643253533708048
         ],
         "z": [
          -158.60060306291328
         ]
        },
        {
         "marker": {
          "color": "red",
          "size": 5
         },
         "mode": "markers",
         "name": "Parent Decay Point",
         "showlegend": false,
         "type": "scatter3d",
         "x": [
          -59.13690498352051
         ],
         "y": [
          -10461.209106445312
         ],
         "z": [
          34.51724624633789
         ]
        },
        {
         "line": {
          "color": "black",
          "dash": "dot",
          "width": 4
         },
         "mode": "lines",
         "name": "Decay Path",
         "showlegend": false,
         "type": "scatter3d",
         "x": [
          -51.049840455479846,
          -50.93536754956098
         ],
         "y": [
          -134.53151583844016,
          11.643253533708048
         ],
         "z": [
          -155.9051619248047,
          -158.60060306291328
         ]
        },
        {
         "line": {
          "color": "red",
          "width": 4
         },
         "mode": "lines",
         "name": "mu- (33)",
         "showlegend": false,
         "type": "scatter3d",
         "x": [
          -50.93536754956098,
          -65.35650458233528
         ],
         "y": [
          11.643253533708048,
          67.821034579853
         ],
         "z": [
          -158.60060306291328,
          -177.2279072955982
         ]
        },
        {
         "line": {
          "color": "green",
          "width": 4
         },
         "mode": "lines",
         "name": "pi+ (33)",
         "showlegend": false,
         "type": "scatter3d",
         "x": [
          -50.93536754956098,
          -38.340528113545794
         ],
         "y": [
          11.643253533708048,
          94.87018089375867
         ],
         "z": [
          -158.60060306291328,
          -144.897671135393
         ]
        },
        {
         "marker": {
          "color": "blue",
          "size": 6,
          "symbol": "cross"
         },
         "mode": "markers",
         "name": "MeVPRTL Decay Point",
         "showlegend": false,
         "type": "scatter3d",
         "x": [
          -88.78376077152721
         ],
         "y": [
          11.733698194233511
         ],
         "z": [
          -209.07282889129877
         ]
        },
        {
         "marker": {
          "color": "red",
          "size": 5
         },
         "mode": "markers",
         "name": "Parent Decay Point",
         "showlegend": false,
         "type": "scatter3d",
         "x": [
          -86.5772526550293
         ],
         "y": [
          -10866.194381713867
         ],
         "z": [
          -3.1782941818237305
         ]
        },
        {
         "line": {
          "color": "black",
          "dash": "dot",
          "width": 4
         },
         "mode": "lines",
         "name": "Decay Path",
         "showlegend": false,
         "type": "scatter3d",
         "x": [
          -88.73613252933751,
          -88.78376077152721
         ],
         "y": [
          -223.07014831703478,
          11.733698194233511
         ],
         "z": [
          -204.62852402273404,
          -209.07282889129877
         ]
        },
        {
         "line": {
          "color": "red",
          "width": 4
         },
         "mode": "lines",
         "name": "mu- (34)",
         "showlegend": false,
         "type": "scatter3d",
         "x": [
          -88.78376077152721,
          -82.3523377578736
         ],
         "y": [
          11.733698194233511,
          103.08330461356881
         ],
         "z": [
          -209.07282889129877,
          -221.87143164779857
         ]
        },
        {
         "line": {
          "color": "green",
          "width": 4
         },
         "mode": "lines",
         "name": "pi+ (34)",
         "showlegend": false,
         "type": "scatter3d",
         "x": [
          -88.78376077152721,
          -94.8856370526825
         ],
         "y": [
          11.733698194233511,
          153.77261139328155
         ],
         "z": [
          -209.07282889129877,
          -201.33856600090104
         ]
        },
        {
         "marker": {
          "color": "blue",
          "size": 6,
          "symbol": "cross"
         },
         "mode": "markers",
         "name": "MeVPRTL Decay Point",
         "showlegend": false,
         "type": "scatter3d",
         "x": [
          145.42000410296438
         ],
         "y": [
          194.25814858111153
         ],
         "z": [
          -129.25220254228404
         ]
        },
        {
         "marker": {
          "color": "red",
          "size": 5
         },
         "mode": "markers",
         "name": "Parent Decay Point",
         "showlegend": false,
         "type": "scatter3d",
         "x": [
          -51.95685699462891
         ],
         "y": [
          -10634.396667480469
         ],
         "z": [
          -9.256425857543945
         ]
        },
        {
         "line": {
          "color": "black",
          "dash": "dot",
          "width": 4
         },
         "mode": "lines",
         "name": "Decay Path",
         "showlegend": false,
         "type": "scatter3d",
         "x": [
          119.2911241217883,
          145.42000410296438
         ],
         "y": [
          -1239.2463689851954,
          194.25814858111153
         ],
         "z": [
          -113.36708191665356,
          -129.25220254228404
         ]
        },
        {
         "line": {
          "color": "red",
          "width": 4
         },
         "mode": "lines",
         "name": "mu- (35)",
         "showlegend": false,
         "type": "scatter3d",
         "x": [
          145.42000410296438,
          149.1926395084842
         ],
         "y": [
          194.25814858111153,
          846.3636978459879
         ],
         "z": [
          -129.25220254228404,
          -127.93830261941399
         ]
        },
        {
         "line": {
          "color": "green",
          "width": 4
         },
         "mode": "lines",
         "name": "pi+ (35)",
         "showlegend": false,
         "type": "scatter3d",
         "x": [
          145.42000410296438,
          167.77843839393594
         ],
         "y": [
          194.25814858111153,
          975.4617848303502
         ],
         "z": [
          -129.25220254228404,
          -146.45511098815328
         ]
        },
        {
         "marker": {
          "color": "blue",
          "size": 6,
          "symbol": "cross"
         },
         "mode": "markers",
         "name": "MeVPRTL Decay Point",
         "showlegend": false,
         "type": "scatter3d",
         "x": [
          50.41055454689541
         ],
         "y": [
          37.18986813328411
         ],
         "z": [
          -208.98658907286287
         ]
        },
        {
         "marker": {
          "color": "red",
          "size": 5
         },
         "mode": "markers",
         "name": "Parent Decay Point",
         "showlegend": false,
         "type": "scatter3d",
         "x": [
          -7.173531799316407
         ],
         "y": [
          -10689.994598388672
         ],
         "z": [
          -7.545459270477295
         ]
        },
        {
         "line": {
          "color": "black",
          "dash": "dot",
          "width": 4
         },
         "mode": "lines",
         "name": "Decay Path",
         "showlegend": false,
         "type": "scatter3d",
         "x": [
          49.28407217966725,
          50.41055454689541
         ],
         "y": [
          -172.6595002996635,
          37.18986813328411
         ],
         "z": [
          -205.04591908649545,
          -208.98658907286287
         ]
        },
        {
         "line": {
          "color": "red",
          "width": 4
         },
         "mode": "lines",
         "name": "mu- (36)",
         "showlegend": false,
         "type": "scatter3d",
         "x": [
          50.41055454689541,
          55.45093468060208
         ],
         "y": [
          37.18986813328411,
          138.7178340802722
         ],
         "z": [
          -208.98658907286287,
          -201.51379724170155
         ]
        },
        {
         "line": {
          "color": "green",
          "width": 4
         },
         "mode": "lines",
         "name": "pi+ (36)",
         "showlegend": false,
         "type": "scatter3d",
         "x": [
          50.41055454689541,
          45.94718554867212
         ],
         "y": [
          37.18986813328411,
          144.3300865436865
         ],
         "z": [
          -208.98658907286287,
          -221.51108122315367
         ]
        },
        {
         "marker": {
          "color": "blue",
          "size": 6,
          "symbol": "cross"
         },
         "mode": "markers",
         "name": "MeVPRTL Decay Point",
         "showlegend": false,
         "type": "scatter3d",
         "x": [
          -7.121890921049726
         ],
         "y": [
          369.2418055930211
         ],
         "z": [
          -183.79244182655248
         ]
        },
        {
         "marker": {
          "color": "red",
          "size": 5
         },
         "mode": "markers",
         "name": "Parent Decay Point",
         "showlegend": false,
         "type": "scatter3d",
         "x": [
          -77.07632353782654
         ],
         "y": [
          -10974.726392745972
         ],
         "z": [
          -0.4842665195465088
         ]
        },
        {
         "line": {
          "color": "black",
          "dash": "dot",
          "width": 4
         },
         "mode": "lines",
         "name": "Decay Path",
         "showlegend": false,
         "type": "scatter3d",
         "x": [
          -8.89502588867047,
          -7.121890921049726
         ],
         "y": [
          81.70624949405527,
          369.2418055930211
         ],
         "z": [
          -179.1461296011617,
          -183.79244182655248
         ]
        },
        {
         "line": {
          "color": "red",
          "width": 4
         },
         "mode": "lines",
         "name": "mu- (37)",
         "showlegend": false,
         "type": "scatter3d",
         "x": [
          -7.121890921049726,
          3.5117057398733547
         ],
         "y": [
          369.2418055930211,
          506.79950757356187
         ],
         "z": [
          -183.79244182655248,
          -190.95019066711106
         ]
        },
        {
         "line": {
          "color": "green",
          "width": 4
         },
         "mode": "lines",
         "name": "pi+ (37)",
         "showlegend": false,
         "type": "scatter3d",
         "x": [
          -7.121890921049726,
          -16.42765001492735
         ],
         "y": [
          369.2418055930211,
          518.3513688762841
         ],
         "z": [
          -183.79244182655248,
          -181.04510208495645
         ]
        },
        {
         "marker": {
          "color": "blue",
          "size": 6,
          "symbol": "cross"
         },
         "mode": "markers",
         "name": "MeVPRTL Decay Point",
         "showlegend": false,
         "type": "scatter3d",
         "x": [
          157.43328985640326
         ],
         "y": [
          320.39716977551325
         ],
         "z": [
          147.14236509601
         ]
        },
        {
         "marker": {
          "color": "red",
          "size": 5
         },
         "mode": "markers",
         "name": "Parent Decay Point",
         "showlegend": false,
         "type": "scatter3d",
         "x": [
          -116.75526550292969
         ],
         "y": [
          -9921.122680664062
         ],
         "z": [
          -54.95256042480469
         ]
        },
        {
         "line": {
          "color": "black",
          "dash": "dot",
          "width": 4
         },
         "mode": "lines",
         "name": "Decay Path",
         "showlegend": false,
         "type": "scatter3d",
         "x": [
          134.22078550808655,
          157.43328985640326
         ],
         "y": [
          -546.6387418807773,
          320.39716977551325
         ],
         "z": [
          130.03322889856085,
          147.14236509601
         ]
        },
        {
         "line": {
          "color": "red",
          "width": 4
         },
         "mode": "lines",
         "name": "mu- (38)",
         "showlegend": false,
         "type": "scatter3d",
         "x": [
          157.43328985640326,
          156.7343993322514
         ],
         "y": [
          320.39716977551325,
          651.8205345270931
         ],
         "z": [
          147.14236509601,
          157.44420799399867
         ]
        },
        {
         "line": {
          "color": "green",
          "width": 4
         },
         "mode": "lines",
         "name": "pi+ (38)",
         "showlegend": false,
         "type": "scatter3d",
         "x": [
          157.43328985640326,
          181.29669839797538
         ],
         "y": [
          320.39716977551325,
          855.7533438055098
         ],
         "z": [
          147.14236509601,
          153.9607613217596
         ]
        },
        {
         "marker": {
          "color": "blue",
          "size": 6,
          "symbol": "cross"
         },
         "mode": "markers",
         "name": "MeVPRTL Decay Point",
         "showlegend": false,
         "type": "scatter3d",
         "x": [
          54.67978535555872
         ],
         "y": [
          483.31518134500584
         ],
         "z": [
          -122.34379021904907
         ]
        },
        {
         "marker": {
          "color": "red",
          "size": 5
         },
         "mode": "markers",
         "name": "Parent Decay Point",
         "showlegend": false,
         "type": "scatter3d",
         "x": [
          -136.4571469116211
         ],
         "y": [
          -10873.606323242188
         ],
         "z": [
          2.3528127670288086
         ]
        },
        {
         "line": {
          "color": "black",
          "dash": "dot",
          "width": 4
         },
         "mode": "lines",
         "name": "Decay Path",
         "showlegend": false,
         "type": "scatter3d",
         "x": [
          52.02718484040472,
          54.67978535555872
         ],
         "y": [
          325.7036958183842,
          483.31518134500584
         ],
         "z": [
          -120.61324934766762,
          -122.34379021904907
         ]
        },
        {
         "line": {
          "color": "red",
          "width": 4
         },
         "mode": "lines",
         "name": "mu- (39)",
         "showlegend": false,
         "type": "scatter3d",
         "x": [
          54.67978535555872,
          71.19089891404337
         ],
         "y": [
          483.31518134500584,
          553.0211108469501
         ],
         "z": [
          -122.34379021904907,
          -117.13641631972276
         ]
        },
        {
         "line": {
          "color": "green",
          "width": 4
         },
         "mode": "lines",
         "name": "pi+ (39)",
         "showlegend": false,
         "type": "scatter3d",
         "x": [
          54.67978535555872,
          38.23803390401147
         ],
         "y": [
          483.31518134500584,
          567.1762725863819
         ],
         "z": [
          -122.34379021904907,
          -130.21672575362047
         ]
        },
        {
         "marker": {
          "color": "blue",
          "size": 6,
          "symbol": "cross"
         },
         "mode": "markers",
         "name": "MeVPRTL Decay Point",
         "showlegend": false,
         "type": "scatter3d",
         "x": [
          33.84013740399968
         ],
         "y": [
          409.9177526059284
         ],
         "z": [
          -144.67126138430683
         ]
        },
        {
         "marker": {
          "color": "red",
          "size": 5
         },
         "mode": "markers",
         "name": "Parent Decay Point",
         "showlegend": false,
         "type": "scatter3d",
         "x": [
          -81.33653524398804
         ],
         "y": [
          -10895.510353088379
         ],
         "z": [
          -60.444828033447266
         ]
        },
        {
         "line": {
          "color": "black",
          "dash": "dot",
          "width": 4
         },
         "mode": "lines",
         "name": "Decay Path",
         "showlegend": false,
         "type": "scatter3d",
         "x": [
          31.73371820641923,
          33.84013740399968
         ],
         "y": [
          203.15738827866377,
          409.9177526059284
         ],
         "z": [
          -143.13087849187676,
          -144.67126138430683
         ]
        },
        {
         "line": {
          "color": "red",
          "width": 4
         },
         "mode": "lines",
         "name": "mu- (40)",
         "showlegend": false,
         "type": "scatter3d",
         "x": [
          33.84013740399968,
          47.81325281755939
         ],
         "y": [
          409.9177526059284,
          504.9153323972645
         ],
         "z": [
          -144.67126138430683,
          -143.16090172532702
         ]
        },
        {
         "line": {
          "color": "green",
          "width": 4
         },
         "mode": "lines",
         "name": "pi+ (40)",
         "showlegend": false,
         "type": "scatter3d",
         "x": [
          33.84013740399968,
          20.973403298839536
         ],
         "y": [
          409.9177526059284,
          519.8662973579023
         ],
         "z": [
          -144.67126138430683,
          -147.8758952837152
         ]
        },
        {
         "marker": {
          "color": "blue",
          "size": 6,
          "symbol": "cross"
         },
         "mode": "markers",
         "name": "MeVPRTL Decay Point",
         "showlegend": false,
         "type": "scatter3d",
         "x": [
          -209.59538256884497
         ],
         "y": [
          446.4157463092288
         ],
         "z": [
          32.06000180936084
         ]
        },
        {
         "marker": {
          "color": "red",
          "size": 5
         },
         "mode": "markers",
         "name": "Parent Decay Point",
         "showlegend": false,
         "type": "scatter3d",
         "x": [
          -53.17601707458496
         ],
         "y": [
          -10682.145629882812
         ],
         "z": [
          44.121856689453125
         ]
        },
        {
         "line": {
          "color": "black",
          "dash": "dot",
          "width": 4
         },
         "mode": "lines",
         "name": "Decay Path",
         "showlegend": false,
         "type": "scatter3d",
         "x": [
          -206.20429704645943,
          -209.59538256884497
         ],
         "y": [
          205.15467707692588,
          446.4157463092288
         ],
         "z": [
          32.32149616671071,
          32.06000180936084
         ]
        },
        {
         "line": {
          "color": "red",
          "width": 4
         },
         "mode": "lines",
         "name": "mu- (41)",
         "showlegend": false,
         "type": "scatter3d",
         "x": [
          -209.59538256884497,
          -210.7614689426004
         ],
         "y": [
          446.4157463092288,
          531.2161971160823
         ],
         "z": [
          32.06000180936084,
          30.31415705840679
         ]
        },
        {
         "line": {
          "color": "green",
          "width": 4
         },
         "mode": "lines",
         "name": "pi+ (41)",
         "showlegend": false,
         "type": "scatter3d",
         "x": [
          -209.59538256884497,
          -211.8168067720924
         ],
         "y": [
          446.4157463092288,
          602.8533757147048
         ],
         "z": [
          32.06000180936084,
          33.33624396510599
         ]
        },
        {
         "marker": {
          "color": "blue",
          "size": 6,
          "symbol": "cross"
         },
         "mode": "markers",
         "name": "MeVPRTL Decay Point",
         "showlegend": false,
         "type": "scatter3d",
         "x": [
          101.8900655696201
         ],
         "y": [
          18.078172640580306
         ],
         "z": [
          -45.81760688102304
         ]
        },
        {
         "marker": {
          "color": "red",
          "size": 5
         },
         "mode": "markers",
         "name": "Parent Decay Point",
         "showlegend": false,
         "type": "scatter3d",
         "x": [
          -108.80911758422852
         ],
         "y": [
          -10666.032958984375
         ],
         "z": [
          -121.34376525878906
         ]
        },
        {
         "line": {
          "color": "black",
          "dash": "dot",
          "width": 4
         },
         "mode": "lines",
         "name": "Decay Path",
         "showlegend": false,
         "type": "scatter3d",
         "x": [
          96.52566442243284,
          101.8900655696201
         ],
         "y": [
          -253.9392939355273,
          18.078172640580306
         ],
         "z": [
          -47.74050285327985,
          -45.81760688102304
         ]
        },
        {
         "line": {
          "color": "red",
          "width": 4
         },
         "mode": "lines",
         "name": "mu- (42)",
         "showlegend": false,
         "type": "scatter3d",
         "x": [
          101.8900655696201,
          116.77698557273881
         ],
         "y": [
          18.078172640580306,
          143.28887795906883
         ],
         "z": [
          -45.81760688102304,
          -45.24105841166325
         ]
        },
        {
         "line": {
          "color": "green",
          "width": 4
         },
         "mode": "lines",
         "name": "pi+ (42)",
         "showlegend": false,
         "type": "scatter3d",
         "x": [
          101.8900655696201,
          91.92513115138875
         ],
         "y": [
          18.078172640580306,
          163.71466944409732
         ],
         "z": [
          -45.81760688102304,
          -44.469111840195666
         ]
        },
        {
         "marker": {
          "color": "blue",
          "size": 6,
          "symbol": "cross"
         },
         "mode": "markers",
         "name": "MeVPRTL Decay Point",
         "showlegend": false,
         "type": "scatter3d",
         "x": [
          14.279975548436653
         ],
         "y": [
          36.802713860692165
         ],
         "z": [
          93.34065272904309
         ]
        },
        {
         "marker": {
          "color": "red",
          "size": 5
         },
         "mode": "markers",
         "name": "Parent Decay Point",
         "showlegend": false,
         "type": "scatter3d",
         "x": [
          -55.0638306427002
         ],
         "y": [
          -10555.641418457031
         ],
         "z": [
          -22.350446701049805
         ]
        },
        {
         "line": {
          "color": "black",
          "dash": "dot",
          "width": 4
         },
         "mode": "lines",
         "name": "Decay Path",
         "showlegend": false,
         "type": "scatter3d",
         "x": [
          13.42482028871019,
          14.279975548436653
         ],
         "y": [
          -93.82444392961634,
          36.802713860692165
         ],
         "z": [
          91.91393767523593,
          93.34065272904309
         ]
        },
        {
         "line": {
          "color": "red",
          "width": 4
         },
         "mode": "lines",
         "name": "mu- (43)",
         "showlegend": false,
         "type": "scatter3d",
         "x": [
          14.279975548436653,
          -16.712013231325567
         ],
         "y": [
          36.802713860692165,
          78.91633760211289
         ],
         "z": [
          93.34065272904309,
          74.25672365341703
         ]
        },
        {
         "line": {
          "color": "green",
          "width": 4
         },
         "mode": "lines",
         "name": "pi+ (43)",
         "showlegend": false,
         "type": "scatter3d",
         "x": [
          14.279975548436653,
          41.65801326812601
         ],
         "y": [
          36.802713860692165,
          104.35240365622136
         ],
         "z": [
          93.34065272904309,
          110.91469233386204
         ]
        },
        {
         "marker": {
          "color": "blue",
          "size": 6,
          "symbol": "cross"
         },
         "mode": "markers",
         "name": "MeVPRTL Decay Point",
         "showlegend": false,
         "type": "scatter3d",
         "x": [
          171.9226370172823
         ],
         "y": [
          326.8416532923002
         ],
         "z": [
          14.705593884030794
         ]
        },
        {
         "marker": {
          "color": "red",
          "size": 5
         },
         "mode": "markers",
         "name": "Parent Decay Point",
         "showlegend": false,
         "type": "scatter3d",
         "x": [
          -48.65921524047852
         ],
         "y": [
          -10915.880073547363
         ],
         "z": [
          34.936614990234375
         ]
        },
        {
         "line": {
          "color": "black",
          "dash": "dot",
          "width": 4
         },
         "mode": "lines",
         "name": "Decay Path",
         "showlegend": false,
         "type": "scatter3d",
         "x": [
          168.31793291765405,
          171.9226370172823
         ],
         "y": [
          143.11536445707344,
          326.8416532923002
         ],
         "z": [
          15.036205146810378,
          14.705593884030794
         ]
        },
        {
         "line": {
          "color": "red",
          "width": 4
         },
         "mode": "lines",
         "name": "mu- (44)",
         "showlegend": false,
         "type": "scatter3d",
         "x": [
          171.9226370172823,
          179.35226075544318
         ],
         "y": [
          326.8416532923002,
          412.6788561129037
         ],
         "z": [
          14.705593884030794,
          25.775242149233936
         ]
        },
        {
         "line": {
          "color": "green",
          "width": 4
         },
         "mode": "lines",
         "name": "pi+ (44)",
         "showlegend": false,
         "type": "scatter3d",
         "x": [
          171.9226370172823,
          167.23012801006837
         ],
         "y": [
          326.8416532923002,
          422.7443975095719
         ],
         "z": [
          14.705593884030794,
          1.690164948410228
         ]
        },
        {
         "marker": {
          "color": "blue",
          "size": 6,
          "symbol": "cross"
         },
         "mode": "markers",
         "name": "MeVPRTL Decay Point",
         "showlegend": false,
         "type": "scatter3d",
         "x": [
          202.0121840817872
         ],
         "y": [
          71.96193704620964
         ],
         "z": [
          9.684745946787153
         ]
        },
        {
         "marker": {
          "color": "red",
          "size": 5
         },
         "mode": "markers",
         "name": "Parent Decay Point",
         "showlegend": false,
         "type": "scatter3d",
         "x": [
          -39.60268524169922
         ],
         "y": [
          -8286.88427734375
         ],
         "z": [
          56.61178970336914
         ]
        },
        {
         "line": {
          "color": "black",
          "dash": "dot",
          "width": 4
         },
         "mode": "lines",
         "name": "Decay Path",
         "showlegend": false,
         "type": "scatter3d",
         "x": [
          146.83726799732162,
          202.0121840817872
         ],
         "y": [
          -1836.8553461502247,
          71.96193704620964
         ],
         "z": [
          20.400956040193726,
          9.684745946787153
         ]
        },
        {
         "line": {
          "color": "red",
          "width": 4
         },
         "mode": "lines",
         "name": "mu- (45)",
         "showlegend": false,
         "type": "scatter3d",
         "x": [
          202.0121840817872,
          221.15426742261707
         ],
         "y": [
          71.96193704620964,
          754.9623445512769
         ],
         "z": [
          9.684745946787153,
          13.272653135108321
         ]
        },
        {
         "line": {
          "color": "green",
          "width": 4
         },
         "mode": "lines",
         "name": "pi+ (45)",
         "showlegend": false,
         "type": "scatter3d",
         "x": [
          202.0121840817872,
          238.042369912305
         ],
         "y": [
          71.96193704620964,
          1297.7158008666909
         ],
         "z": [
          9.684745946787153,
          -4.6088093680449305
         ]
        },
        {
         "marker": {
          "color": "blue",
          "size": 6,
          "symbol": "cross"
         },
         "mode": "markers",
         "name": "MeVPRTL Decay Point",
         "showlegend": false,
         "type": "scatter3d",
         "x": [
          43.38136941386742
         ],
         "y": [
          355.0526462705402
         ],
         "z": [
          -159.7610072873056
         ]
        },
        {
         "marker": {
          "color": "red",
          "size": 5
         },
         "mode": "markers",
         "name": "Parent Decay Point",
         "showlegend": false,
         "type": "scatter3d",
         "x": [
          -65.15566089630127
         ],
         "y": [
          -10771.94384765625
         ],
         "z": [
          16.916770935058594
         ]
        },
        {
         "line": {
          "color": "black",
          "dash": "dot",
          "width": 4
         },
         "mode": "lines",
         "name": "Decay Path",
         "showlegend": false,
         "type": "scatter3d",
         "x": [
          40.95213652688787,
          43.38136941386742
         ],
         "y": [
          106.01261137085083,
          355.0526462705402
         ],
         "z": [
          -155.80667512961034,
          -159.7610072873056
         ]
        },
        {
         "line": {
          "color": "red",
          "width": 4
         },
         "mode": "lines",
         "name": "mu- (46)",
         "showlegend": false,
         "type": "scatter3d",
         "x": [
          43.38136941386742,
          54.761455989835234
         ],
         "y": [
          355.0526462705402,
          472.5411243160395
         ],
         "z": [
          -159.7610072873056,
          -167.25898050898763
         ]
        },
        {
         "line": {
          "color": "green",
          "width": 4
         },
         "mode": "lines",
         "name": "pi+ (46)",
         "showlegend": false,
         "type": "scatter3d",
         "x": [
          43.38136941386742,
          33.827570807215054
         ],
         "y": [
          355.0526462705402,
          485.45238573850327
         ],
         "z": [
          -159.7610072873056,
          -155.87342171261528
         ]
        },
        {
         "marker": {
          "color": "blue",
          "size": 6,
          "symbol": "cross"
         },
         "mode": "markers",
         "name": "MeVPRTL Decay Point",
         "showlegend": false,
         "type": "scatter3d",
         "x": [
          -51.65534850248583
         ],
         "y": [
          74.67923618881832
         ],
         "z": [
          -147.04231043748595
         ]
        },
        {
         "marker": {
          "color": "red",
          "size": 5
         },
         "mode": "markers",
         "name": "Parent Decay Point",
         "showlegend": false,
         "type": "scatter3d",
         "x": [
          -75.47700050354004
         ],
         "y": [
          -10278.644836425781
         ],
         "z": [
          13.538534164428711
         ]
        },
        {
         "line": {
          "color": "black",
          "dash": "dot",
          "width": 4
         },
         "mode": "lines",
         "name": "Decay Path",
         "showlegend": false,
         "type": "scatter3d",
         "x": [
          -52.50288016096836,
          -51.65534850248583
         ],
         "y": [
          -293.6734675481782,
          74.67923618881832
         ],
         "z": [
          -141.32913195851384,
          -147.04231043748595
         ]
        },
        {
         "line": {
          "color": "red",
          "width": 4
         },
         "mode": "lines",
         "name": "mu- (47)",
         "showlegend": false,
         "type": "scatter3d",
         "x": [
          -51.65534850248583,
          -58.43205131952456
         ],
         "y": [
          74.67923618881832,
          223.0776634453308
         ],
         "z": [
          -147.04231043748595,
          -159.25901649811334
         ]
        },
        {
         "line": {
          "color": "green",
          "width": 4
         },
         "mode": "lines",
         "name": "pi+ (47)",
         "showlegend": false,
         "type": "scatter3d",
         "x": [
          -51.65534850248583,
          -44.1303047670833
         ],
         "y": [
          74.67923618881832,
          293.80063990807366
         ],
         "z": [
          -147.04231043748595,
          -140.6613607330196
         ]
        },
        {
         "marker": {
          "color": "blue",
          "size": 6,
          "symbol": "cross"
         },
         "mode": "markers",
         "name": "MeVPRTL Decay Point",
         "showlegend": false,
         "type": "scatter3d",
         "x": [
          198.4326251219882
         ],
         "y": [
          97.68140388533538
         ],
         "z": [
          -33.730777057989755
         ]
        },
        {
         "marker": {
          "color": "red",
          "size": 5
         },
         "mode": "markers",
         "name": "Parent Decay Point",
         "showlegend": false,
         "type": "scatter3d",
         "x": [
          -93.64581420898438
         ],
         "y": [
          -10162.055541992188
         ],
         "z": [
          13.194009780883789
         ]
        },
        {
         "line": {
          "color": "black",
          "dash": "dot",
          "width": 4
         },
         "mode": "lines",
         "name": "Decay Path",
         "showlegend": false,
         "type": "scatter3d",
         "x": [
          176.3186561789938,
          198.4326251219882
         ],
         "y": [
          -679.1082307899295,
          97.68140388533538
         ],
         "z": [
          -30.177987330721987,
          -33.730777057989755
         ]
        },
        {
         "line": {
          "color": "red",
          "dash": "dash",
          "width": 4
         },
         "mode": "lines",
         "name": "nu_mu (48)",
         "showlegend": false,
         "type": "scatter3d",
         "x": [
          198.4326251219882,
          189.09112334460812
         ],
         "y": [
          97.68140388533538,
          379.6678275636028
         ],
         "z": [
          -33.730777057989755,
          19.882993935467006
         ]
        },
        {
         "line": {
          "color": "blue",
          "width": 4
         },
         "mode": "lines",
         "name": "e- (48)",
         "showlegend": false,
         "type": "scatter3d",
         "x": [
          198.4326251219882,
          228.99419235531826
         ],
         "y": [
          97.68140388533538,
          538.5051883368939
         ],
         "z": [
          -33.730777057989755,
          -77.38599781912924
         ]
        },
        {
         "line": {
          "color": "blue",
          "width": 4
         },
         "mode": "lines",
         "name": "e- (48)",
         "showlegend": false,
         "type": "scatter3d",
         "x": [
          198.4326251219882,
          199.0385872887385
         ],
         "y": [
          97.68140388533538,
          141.54666185773473
         ],
         "z": [
          -33.730777057989755,
          -47.196070507941386
         ]
        },
        {
         "marker": {
          "color": "blue",
          "size": 6,
          "symbol": "cross"
         },
         "mode": "markers",
         "name": "MeVPRTL Decay Point",
         "showlegend": false,
         "type": "scatter3d",
         "x": [
          -183.69793162800744
         ],
         "y": [
          183.99521573202765
         ],
         "z": [
          -4.910083917045059
         ]
        },
        {
         "marker": {
          "color": "red",
          "size": 5
         },
         "mode": "markers",
         "name": "Parent Decay Point",
         "showlegend": false,
         "type": "scatter3d",
         "x": [
          -75.02555659294129
         ],
         "y": [
          -10055.663696289062
         ],
         "z": [
          1.056585431098938
         ]
        },
        {
         "line": {
          "color": "black",
          "dash": "dot",
          "width": 4
         },
         "mode": "lines",
         "name": "Decay Path",
         "showlegend": false,
         "type": "scatter3d",
         "x": [
          -168.53344464005016,
          -183.69793162800744
         ],
         "y": [
          -1244.8791811177648,
          183.99521573202765
         ],
         "z": [
          -4.077476001167847,
          -4.910083917045059
         ]
        },
        {
         "line": {
          "color": "red",
          "width": 4
         },
         "mode": "lines",
         "name": "mu- (49)",
         "showlegend": false,
         "type": "scatter3d",
         "x": [
          -183.69793162800744,
          -190.78346349730916
         ],
         "y": [
          183.99521573202765,
          677.0653450552059
         ],
         "z": [
          -4.910083917045059,
          -9.538293495924874
         ]
        },
        {
         "line": {
          "color": "green",
          "width": 4
         },
         "mode": "lines",
         "name": "pi+ (49)",
         "showlegend": false,
         "type": "scatter3d",
         "x": [
          -183.69793162800744,
          -191.7820391719112
         ],
         "y": [
          183.99521573202765,
          1119.7650029348833
         ],
         "z": [
          -4.910083917045059,
          -1.1273922129093208
         ]
        },
        {
         "marker": {
          "color": "blue",
          "size": 6,
          "symbol": "cross"
         },
         "mode": "markers",
         "name": "MeVPRTL Decay Point",
         "showlegend": false,
         "type": "scatter3d",
         "x": [
          -125.62242446734467
         ],
         "y": [
          40.34571418456653
         ],
         "z": [
          115.59643314129436
         ]
        },
        {
         "marker": {
          "color": "red",
          "size": 5
         },
         "mode": "markers",
         "name": "Parent Decay Point",
         "showlegend": false,
         "type": "scatter3d",
         "x": [
          -70.51897457122803
         ],
         "y": [
          -8760.524169921875
         ],
         "z": [
          30.119403839111328
         ]
        },
        {
         "line": {
          "color": "black",
          "dash": "dot",
          "width": 4
         },
         "mode": "lines",
         "name": "Decay Path",
         "showlegend": false,
         "type": "scatter3d",
         "x": [
          -114.4260742474109,
          -125.62242446734467
         ],
         "y": [
          -1747.8839093379365,
          40.34571418456653
         ],
         "z": [
          98.22854133722367,
          115.59643314129436
         ]
        },
        {
         "line": {
          "color": "red",
          "width": 4
         },
         "mode": "lines",
         "name": "mu- (50)",
         "showlegend": false,
         "type": "scatter3d",
         "x": [
          -125.62242446734467,
          -127.97934790132287
         ],
         "y": [
          40.34571418456653,
          695.7519605593695
         ],
         "z": [
          115.59643314129436,
          113.47876225222754
         ]
        },
        {
         "line": {
          "color": "green",
          "width": 4
         },
         "mode": "lines",
         "name": "pi+ (50)",
         "showlegend": false,
         "type": "scatter3d",
         "x": [
          -125.62242446734467,
          -134.45891597945263
         ],
         "y": [
          40.34571418456653,
          1173.0789870814883
         ],
         "z": [
          115.59643314129436,
          135.0696046653641
         ]
        },
        {
         "marker": {
          "color": "blue",
          "size": 6,
          "symbol": "cross"
         },
         "mode": "markers",
         "name": "MeVPRTL Decay Point",
         "showlegend": false,
         "type": "scatter3d",
         "x": [
          205.79602990541943
         ],
         "y": [
          252.70667624703128
         ],
         "z": [
          -172.0987884485921
         ]
        },
        {
         "marker": {
          "color": "red",
          "size": 5
         },
         "mode": "markers",
         "name": "Parent Decay Point",
         "showlegend": false,
         "type": "scatter3d",
         "x": [
          -67.17376544952393
         ],
         "y": [
          -10873.769989013672
         ],
         "z": [
          5.884728908538818
         ]
        },
        {
         "line": {
          "color": "black",
          "dash": "dot",
          "width": 4
         },
         "mode": "lines",
         "name": "Decay Path",
         "showlegend": false,
         "type": "scatter3d",
         "x": [
          182.83858267648247,
          205.79602990541943
         ],
         "y": [
          -683.0580319126304,
          252.70667624703128
         ],
         "z": [
          -157.12992641008773,
          -172.0987884485921
         ]
        },
        {
         "line": {
          "color": "red",
          "width": 4
         },
         "mode": "lines",
         "name": "mu- (51)",
         "showlegend": false,
         "type": "scatter3d",
         "x": [
          205.79602990541943,
          213.18060285759498
         ],
         "y": [
          252.70667624703128,
          569.0625827539039
         ],
         "z": [
          -172.0987884485921,
          -177.3006620575313
         ]
        },
        {
         "line": {
          "color": "green",
          "width": 4
         },
         "mode": "lines",
         "name": "pi+ (51)",
         "showlegend": false,
         "type": "scatter3d",
         "x": [
          205.79602990541943,
          221.36598864111258
         ],
         "y": [
          252.70667624703128,
          872.1151476777752
         ],
         "z": [
          -172.0987884485921,
          -181.86686232973696
         ]
        },
        {
         "marker": {
          "color": "blue",
          "size": 6,
          "symbol": "cross"
         },
         "mode": "markers",
         "name": "MeVPRTL Decay Point",
         "showlegend": false,
         "type": "scatter3d",
         "x": [
          -209.94611358480512
         ],
         "y": [
          42.1219605125043
         ],
         "z": [
          -185.32771262280667
         ]
        },
        {
         "marker": {
          "color": "red",
          "size": 5
         },
         "mode": "markers",
         "name": "Parent Decay Point",
         "showlegend": false,
         "type": "scatter3d",
         "x": [
          -144.56477478027344
         ],
         "y": [
          -10731.69985961914
         ],
         "z": [
          40.3938102722168
         ]
        },
        {
         "line": {
          "color": "black",
          "dash": "dot",
          "width": 4
         },
         "mode": "lines",
         "name": "Decay Path",
         "showlegend": false,
         "type": "scatter3d",
         "x": [
          -208.27013102564766,
          -209.94611358480512
         ],
         "y": [
          -234.05374644257068,
          42.1219605125043
         ],
         "z": [
          -179.54157635647036,
          -185.32771262280667
         ]
        },
        {
         "line": {
          "color": "red",
          "width": 4
         },
         "mode": "lines",
         "name": "mu- (52)",
         "showlegend": false,
         "type": "scatter3d",
         "x": [
          -209.94611358480512,
          -202.87463584152746
         ],
         "y": [
          42.1219605125043,
          173.3002318254335
         ],
         "z": [
          -185.32771262280667,
          -179.7888503030305
         ]
        },
        {
         "line": {
          "color": "green",
          "width": 4
         },
         "mode": "lines",
         "name": "pi+ (52)",
         "showlegend": false,
         "type": "scatter3d",
         "x": [
          -209.94611358480512,
          -219.04320356485687
         ],
         "y": [
          42.1219605125043,
          186.11895608663056
         ],
         "z": [
          -185.32771262280667,
          -197.00642394517791
         ]
        },
        {
         "marker": {
          "color": "blue",
          "size": 6,
          "symbol": "cross"
         },
         "mode": "markers",
         "name": "MeVPRTL Decay Point",
         "showlegend": false,
         "type": "scatter3d",
         "x": [
          92.89713728180678
         ],
         "y": [
          369.41949791160005
         ],
         "z": [
          -114.30501529022924
         ]
        },
        {
         "marker": {
          "color": "red",
          "size": 5
         },
         "mode": "markers",
         "name": "Parent Decay Point",
         "showlegend": false,
         "type": "scatter3d",
         "x": [
          -117.58804061889649
         ],
         "y": [
          -10760.233032226562
         ],
         "z": [
          -36.135047912597656
         ]
        },
        {
         "line": {
          "color": "black",
          "dash": "dot",
          "width": 4
         },
         "mode": "lines",
         "name": "Decay Path",
         "showlegend": false,
         "type": "scatter3d",
         "x": [
          87.27643779010327,
          92.89713728180678
         ],
         "y": [
          72.21836981841284,
          369.41949791160005
         ],
         "z": [
          -112.2176003934273,
          -114.30501529022924
         ]
        },
        {
         "line": {
          "color": "red",
          "width": 4
         },
         "mode": "lines",
         "name": "mu- (53)",
         "showlegend": false,
         "type": "scatter3d",
         "x": [
          92.89713728180678,
          99.55780015131786
         ],
         "y": [
          369.41949791160005,
          476.49380132819147
         ],
         "z": [
          -114.30501529022924,
          -121.43812502548238
         ]
        },
        {
         "line": {
          "color": "green",
          "width": 4
         },
         "mode": "lines",
         "name": "pi+ (53)",
         "showlegend": false,
         "type": "scatter3d",
         "x": [
          92.89713728180678,
          92.14268256253928
         ],
         "y": [
          369.41949791160005,
          559.1046047888003
         ],
         "z": [
          -114.30501529022924,
          -109.66072453333052
         ]
        },
        {
         "marker": {
          "color": "blue",
          "size": 6,
          "symbol": "cross"
         },
         "mode": "markers",
         "name": "MeVPRTL Decay Point",
         "showlegend": false,
         "type": "scatter3d",
         "x": [
          31.36341671859259
         ],
         "y": [
          158.9931653485819
         ],
         "z": [
          -24.37160272560255
         ]
        },
        {
         "marker": {
          "color": "red",
          "size": 5
         },
         "mode": "markers",
         "name": "Parent Decay Point",
         "showlegend": false,
         "type": "scatter3d",
         "x": [
          -92.26227310180664
         ],
         "y": [
          -10655.502258300781
         ],
         "z": [
          11.928625106811523
         ]
        },
        {
         "line": {
          "color": "black",
          "dash": "dot",
          "width": 4
         },
         "mode": "lines",
         "name": "Decay Path",
         "showlegend": false,
         "type": "scatter3d",
         "x": [
          20.017825194961915,
          31.36341671859259
         ],
         "y": [
          -833.4934916654278,
          158.9931653485819
         ],
         "z": [
          -21.040195169457686,
          -24.37160272560255
         ]
        },
        {
         "line": {
          "color": "red",
          "width": 4
         },
         "mode": "lines",
         "name": "mu- (54)",
         "showlegend": false,
         "type": "scatter3d",
         "x": [
          31.36341671859259,
          43.28830874059619
         ],
         "y": [
          158.9931653485819,
          518.2846309214156
         ],
         "z": [
          -24.37160272560255,
          -23.434252420758245
         ]
        },
        {
         "line": {
          "color": "green",
          "width": 4
         },
         "mode": "lines",
         "name": "pi+ (54)",
         "showlegend": false,
         "type": "scatter3d",
         "x": [
          31.36341671859259,
          30.819940452713585
         ],
         "y": [
          158.9931653485819,
          792.045179463308
         ],
         "z": [
          -24.37160272560255,
          -28.62960936866493
         ]
        },
        {
         "marker": {
          "color": "blue",
          "size": 6,
          "symbol": "cross"
         },
         "mode": "markers",
         "name": "MeVPRTL Decay Point",
         "showlegend": false,
         "type": "scatter3d",
         "x": [
          130.3788895585554
         ],
         "y": [
          162.70840904262332
         ],
         "z": [
          168.16850291268273
         ]
        },
        {
         "marker": {
          "color": "red",
          "size": 5
         },
         "mode": "markers",
         "name": "Parent Decay Point",
         "showlegend": false,
         "type": "scatter3d",
         "x": [
          -56.67455795288086
         ],
         "y": [
          -9637.356567382812
         ],
         "z": [
          -5.792165756225586
         ]
        },
        {
         "line": {
          "color": "black",
          "dash": "dot",
          "width": 4
         },
         "mode": "lines",
         "name": "Decay Path",
         "showlegend": false,
         "type": "scatter3d",
         "x": [
          84.9362146974128,
          130.3788895585554
         ],
         "y": [
          -2218.114677976633,
          162.70840904262332
         ],
         "z": [
          125.9065814665953,
          168.16850291268273
         ]
        },
        {
         "line": {
          "color": "red",
          "width": 4
         },
         "mode": "lines",
         "name": "mu- (55)",
         "showlegend": false,
         "type": "scatter3d",
         "x": [
          130.3788895585554,
          159.21869927355885
         ],
         "y": [
          162.70840904262332,
          1363.333956977505
         ],
         "z": [
          168.16850291268273,
          183.87893420634092
         ]
        },
        {
         "line": {
          "color": "green",
          "width": 4
         },
         "mode": "lines",
         "name": "pi+ (55)",
         "showlegend": false,
         "type": "scatter3d",
         "x": [
          130.3788895585554,
          146.97605551050958
         ],
         "y": [
          162.70840904262332,
          1342.8501113018817
         ],
         "z": [
          168.16850291268273,
          194.72338372461485
         ]
        },
        {
         "marker": {
          "color": "blue",
          "size": 6,
          "symbol": "cross"
         },
         "mode": "markers",
         "name": "MeVPRTL Decay Point",
         "showlegend": false,
         "type": "scatter3d",
         "x": [
          -177.94308980668438
         ],
         "y": [
          355.1201579763456
         ],
         "z": [
          -204.2105813083791
         ]
        },
        {
         "marker": {
          "color": "red",
          "size": 5
         },
         "mode": "markers",
         "name": "Parent Decay Point",
         "showlegend": false,
         "type": "scatter3d",
         "x": [
          -69.92501357078552
         ],
         "y": [
          -8424.053955078125
         ],
         "z": [
          -19.778825759887695
         ]
        },
        {
         "line": {
          "color": "black",
          "dash": "dot",
          "width": 4
         },
         "mode": "lines",
         "name": "Decay Path",
         "showlegend": false,
         "type": "scatter3d",
         "x": [
          -154.55170375727064,
          -177.94308980668438
         ],
         "y": [
          -1546.0158187929576,
          355.1201579763456
         ],
         "z": [
          -164.27176232419032,
          -204.2105813083791
         ]
        },
        {
         "line": {
          "color": "red",
          "width": 4
         },
         "mode": "lines",
         "name": "mu- (56)",
         "showlegend": false,
         "type": "scatter3d",
         "x": [
          -177.94308980668438,
          -184.34506033125646
         ],
         "y": [
          355.1201579763456,
          1338.3864975478327
         ],
         "z": [
          -204.2105813083791,
          -226.4882253512825
         ]
        },
        {
         "line": {
          "color": "green",
          "width": 4
         },
         "mode": "lines",
         "name": "pi+ (56)",
         "showlegend": false,
         "type": "scatter3d",
         "x": [
          -177.94308980668438,
          -194.94032726284493
         ],
         "y": [
          355.1201579763456,
          1272.9527691108947
         ],
         "z": [
          -204.2105813083791,
          -221.86862231735324
         ]
        },
        {
         "marker": {
          "color": "blue",
          "size": 6,
          "symbol": "cross"
         },
         "mode": "markers",
         "name": "MeVPRTL Decay Point",
         "showlegend": false,
         "type": "scatter3d",
         "x": [
          -195.45515590305712
         ],
         "y": [
          89.37087682899983
         ],
         "z": [
          -165.56192593729347
         ]
        },
        {
         "marker": {
          "color": "red",
          "size": 5
         },
         "mode": "markers",
         "name": "Parent Decay Point",
         "showlegend": false,
         "type": "scatter3d",
         "x": [
          -43.49490859985352
         ],
         "y": [
          -8018.421142578125
         ],
         "z": [
          -60.93623733520508
         ]
        },
        {
         "line": {
          "color": "black",
          "dash": "dot",
          "width": 4
         },
         "mode": "lines",
         "name": "Decay Path",
         "showlegend": false,
         "type": "scatter3d",
         "x": [
          -179.85298293282918,
          -195.45515590305712
         ],
         "y": [
          -743.0782388994184,
          89.37087682899983
         ],
         "z": [
          -154.81972118527096,
          -165.56192593729347
         ]
        },
        {
         "line": {
          "color": "red",
          "width": 4
         },
         "mode": "lines",
         "name": "mu- (57)",
         "showlegend": false,
         "type": "scatter3d",
         "x": [
          -195.45515590305712,
          -192.26776900011086
         ],
         "y": [
          89.37087682899983,
          429.47808467287706
         ],
         "z": [
          -165.56192593729347,
          -176.81138854553097
         ]
        },
        {
         "line": {
          "color": "green",
          "width": 4
         },
         "mode": "lines",
         "name": "pi+ (57)",
         "showlegend": false,
         "type": "scatter3d",
         "x": [
          -195.45515590305712,
          -214.21869693875124
         ],
         "y": [
          89.37087682899983,
          581.36944027236
         ],
         "z": [
          -165.56192593729347,
          -165.06428871843846
         ]
        },
        {
         "marker": {
          "color": "blue",
          "size": 6,
          "symbol": "cross"
         },
         "mode": "markers",
         "name": "MeVPRTL Decay Point",
         "showlegend": false,
         "type": "scatter3d",
         "x": [
          -16.441305795446496
         ],
         "y": [
          296.16056505149754
         ],
         "z": [
          -140.46344352445962
         ]
        },
        {
         "marker": {
          "color": "red",
          "size": 5
         },
         "mode": "markers",
         "name": "Parent Decay Point",
         "showlegend": false,
         "type": "scatter3d",
         "x": [
          -109.58889129638672
         ],
         "y": [
          -9443.989379882812
         ],
         "z": [
          -55.31975173950195
         ]
        },
        {
         "line": {
          "color": "black",
          "dash": "dot",
          "width": 4
         },
         "mode": "lines",
         "name": "Decay Path",
         "showlegend": false,
         "type": "scatter3d",
         "x": [
          -32.34978347119376,
          -16.441305795446496
         ],
         "y": [
          -1367.3388925469428,
          296.16056505149754
         ],
         "z": [
          -125.92193380408118,
          -140.46344352445962
         ]
        },
        {
         "line": {
          "color": "red",
          "width": 4
         },
         "mode": "lines",
         "name": "mu- (58)",
         "showlegend": false,
         "type": "scatter3d",
         "x": [
          -16.441305795446496,
          -8.420740273120046
         ],
         "y": [
          296.16056505149754,
          964.2175817077983
         ],
         "z": [
          -140.46344352445962,
          -135.02666216420724
         ]
        },
        {
         "line": {
          "color": "green",
          "width": 4
         },
         "mode": "lines",
         "name": "pi+ (58)",
         "showlegend": false,
         "type": "scatter3d",
         "x": [
          -16.441305795446496,
          -8.55384729645745
         ],
         "y": [
          296.16056505149754,
          1291.4408018853346
         ],
         "z": [
          -140.46344352445962,
          -160.4327318922996
         ]
        },
        {
         "marker": {
          "color": "blue",
          "size": 6,
          "symbol": "cross"
         },
         "mode": "markers",
         "name": "MeVPRTL Decay Point",
         "showlegend": false,
         "type": "scatter3d",
         "x": [
          -207.0915688880578
         ],
         "y": [
          30.21731151972199
         ],
         "z": [
          -170.01648711654545
         ]
        },
        {
         "marker": {
          "color": "red",
          "size": 5
         },
         "mode": "markers",
         "name": "Parent Decay Point",
         "showlegend": false,
         "type": "scatter3d",
         "x": [
          -119.25645568847656
         ],
         "y": [
          -8933.9140625
         ],
         "z": [
          40.1910400390625
         ]
        },
        {
         "line": {
          "color": "black",
          "dash": "dot",
          "width": 4
         },
         "mode": "lines",
         "name": "Decay Path",
         "showlegend": false,
         "type": "scatter3d",
         "x": [
          -192.1491065109043,
          -207.0915688880578
         ],
         "y": [
          -1494.7559129787198,
          30.21731151972199
         ],
         "z": [
          -134.25609526983555,
          -170.01648711654545
         ]
        },
        {
         "line": {
          "color": "red",
          "width": 4
         },
         "mode": "lines",
         "name": "mu- (59)",
         "showlegend": false,
         "type": "scatter3d",
         "x": [
          -207.0915688880578,
          -218.12653931651465
         ],
         "y": [
          30.21731151972199,
          643.820496779492
         ],
         "z": [
          -170.01648711654545,
          -194.6925727657495
         ]
        },
        {
         "line": {
          "color": "green",
          "width": 4
         },
         "mode": "lines",
         "name": "pi+ (59)",
         "showlegend": false,
         "type": "scatter3d",
         "x": [
          -207.0915688880578,
          -211.0011871992212
         ],
         "y": [
          30.21731151972199,
          941.4088056069635
         ],
         "z": [
          -170.01648711654545,
          -181.1045449081819
         ]
        },
        {
         "marker": {
          "color": "blue",
          "size": 6,
          "symbol": "cross"
         },
         "mode": "markers",
         "name": "MeVPRTL Decay Point",
         "showlegend": false,
         "type": "scatter3d",
         "x": [
          -117.21291111664624
         ],
         "y": [
          380.83000537689804
         ],
         "z": [
          159.74693304260288
         ]
        },
        {
         "marker": {
          "color": "red",
          "size": 5
         },
         "mode": "markers",
         "name": "Parent Decay Point",
         "showlegend": false,
         "type": "scatter3d",
         "x": [
          -85.90090587615967
         ],
         "y": [
          -10778.682922363281
         ],
         "z": [
          32.013458251953125
         ]
        },
        {
         "line": {
          "color": "black",
          "dash": "dot",
          "width": 4
         },
         "mode": "lines",
         "name": "Decay Path",
         "showlegend": false,
         "type": "scatter3d",
         "x": [
          -116.24617935606074,
          -117.21291111664624
         ],
         "y": [
          36.28945305348191,
          380.83000537689804
         ],
         "z": [
          155.80326970894953,
          159.74693304260288
         ]
        },
        {
         "line": {
          "color": "red",
          "width": 4
         },
         "mode": "lines",
         "name": "mu- (60)",
         "showlegend": false,
         "type": "scatter3d",
         "x": [
          -117.21291111664624,
          -128.8295889941819
         ],
         "y": [
          380.83000537689804,
          516.5140994254995
         ],
         "z": [
          159.74693304260288,
          157.62780775385224
         ]
        },
        {
         "line": {
          "color": "green",
          "width": 4
         },
         "mode": "lines",
         "name": "pi+ (60)",
         "showlegend": false,
         "type": "scatter3d",
         "x": [
          -117.21291111664624,
          -106.80558167688679
         ],
         "y": [
          380.83000537689804,
          588.8517159017493
         ],
         "z": [
          159.74693304260288,
          165.7201085355475
         ]
        },
        {
         "marker": {
          "color": "blue",
          "size": 6,
          "symbol": "cross"
         },
         "mode": "markers",
         "name": "MeVPRTL Decay Point",
         "showlegend": false,
         "type": "scatter3d",
         "x": [
          154.31881560034728
         ],
         "y": [
          420.7187247200709
         ],
         "z": [
          -150.4860936886534
         ]
        },
        {
         "marker": {
          "color": "red",
          "size": 5
         },
         "mode": "markers",
         "name": "Parent Decay Point",
         "showlegend": false,
         "type": "scatter3d",
         "x": [
          -53.9627449798584
         ],
         "y": [
          -8939.98046875
         ],
         "z": [
          -58.3922119140625
         ]
        },
        {
         "line": {
          "color": "black",
          "dash": "dot",
          "width": 4
         },
         "mode": "lines",
         "name": "Decay Path",
         "showlegend": false,
         "type": "scatter3d",
         "x": [
          96.81216639212951,
          154.31881560034728
         ],
         "y": [
          -2163.7752811966907,
          420.7187247200709
         ],
         "z": [
          -125.05892414622491,
          -150.4860936886534
         ]
        },
        {
         "line": {
          "color": "red",
          "width": 4
         },
         "mode": "lines",
         "name": "mu- (61)",
         "showlegend": false,
         "type": "scatter3d",
         "x": [
          154.31881560034728,
          185.45056498280962
         ],
         "y": [
          420.7187247200709,
          1470.2490675280355
         ],
         "z": [
          -150.4860936886534,
          -169.36830960332202
         ]
        },
        {
         "line": {
          "color": "green",
          "width": 4
         },
         "mode": "lines",
         "name": "pi+ (61)",
         "showlegend": false,
         "type": "scatter3d",
         "x": [
          154.31881560034728,
          180.69313948528134
         ],
         "y": [
          420.7187247200709,
          1955.5752034013901
         ],
         "z": [
          -150.4860936886534,
          -157.0319825926768
         ]
        },
        {
         "marker": {
          "color": "blue",
          "size": 6,
          "symbol": "cross"
         },
         "mode": "markers",
         "name": "MeVPRTL Decay Point",
         "showlegend": false,
         "type": "scatter3d",
         "x": [
          54.23346761725685
         ],
         "y": [
          353.41729036220204
         ],
         "z": [
          -130.4068408026358
         ]
        },
        {
         "marker": {
          "color": "red",
          "size": 5
         },
         "mode": "markers",
         "name": "Parent Decay Point",
         "showlegend": false,
         "type": "scatter3d",
         "x": [
          -85.80254104614258
         ],
         "y": [
          -10802.012649536133
         ],
         "z": [
          6.914638519287109
         ]
        },
        {
         "line": {
          "color": "black",
          "dash": "dot",
          "width": 4
         },
         "mode": "lines",
         "name": "Decay Path",
         "showlegend": false,
         "type": "scatter3d",
         "x": [
          40.79529829406803,
          54.23346761725685
         ],
         "y": [
          -717.0827748435609,
          353.41729036220204
         ],
         "z": [
          -117.22916380046998,
          -130.4068408026358
         ]
        },
        {
         "line": {
          "color": "red",
          "width": 4
         },
         "mode": "lines",
         "name": "mu- (62)",
         "showlegend": false,
         "type": "scatter3d",
         "x": [
          54.23346761725685,
          60.31478671509968
         ],
         "y": [
          353.41729036220204,
          857.5301430522393
         ],
         "z": [
          -130.4068408026358,
          -147.7381281451587
         ]
        },
        {
         "line": {
          "color": "green",
          "width": 4
         },
         "mode": "lines",
         "name": "pi+ (62)",
         "showlegend": false,
         "type": "scatter3d",
         "x": [
          54.23346761725685,
          61.587931085429176
         ],
         "y": [
          353.41729036220204,
          919.5722534062721
         ],
         "z": [
          -130.4068408026358,
          -126.22654646506375
         ]
        },
        {
         "marker": {
          "color": "blue",
          "size": 6,
          "symbol": "cross"
         },
         "mode": "markers",
         "name": "MeVPRTL Decay Point",
         "showlegend": false,
         "type": "scatter3d",
         "x": [
          138.71028501744962
         ],
         "y": [
          307.2364161765927
         ],
         "z": [
          12.756207024741238
         ]
        },
        {
         "marker": {
          "color": "red",
          "size": 5
         },
         "mode": "markers",
         "name": "Parent Decay Point",
         "showlegend": false,
         "type": "scatter3d",
         "x": [
          -62.66618755340576
         ],
         "y": [
          -10427.774841308594
         ],
         "z": [
          -0.9044979810714722
         ]
        },
        {
         "line": {
          "color": "black",
          "dash": "dot",
          "width": 4
         },
         "mode": "lines",
         "name": "Decay Path",
         "showlegend": false,
         "type": "scatter3d",
         "x": [
          118.84918005289265,
          138.71028501744962
         ],
         "y": [
          -751.5227459971079,
          307.2364161765927
         ],
         "z": [
          11.408896226480875,
          12.756207024741238
         ]
        },
        {
         "line": {
          "color": "red",
          "width": 4
         },
         "mode": "lines",
         "name": "mu- (63)",
         "showlegend": false,
         "type": "scatter3d",
         "x": [
          138.71028501744962,
          151.67615160117583
         ],
         "y": [
          307.2364161765927,
          865.1843124405913
         ],
         "z": [
          12.756207024741238,
          13.217787941612567
         ]
        },
        {
         "line": {
          "color": "green",
          "width": 4
         },
         "mode": "lines",
         "name": "pi+ (63)",
         "showlegend": false,
         "type": "scatter3d",
         "x": [
          138.71028501744962,
          145.59201544454928
         ],
         "y": [
          307.2364161765927,
          808.0359185503282
         ],
         "z": [
          12.756207024741238,
          13.643242627932656
         ]
        },
        {
         "marker": {
          "color": "blue",
          "size": 6,
          "symbol": "cross"
         },
         "mode": "markers",
         "name": "MeVPRTL Decay Point",
         "showlegend": false,
         "type": "scatter3d",
         "x": [
          209.92117038464872
         ],
         "y": [
          6.076412880942371
         ],
         "z": [
          176.61934961578964
         ]
        },
        {
         "marker": {
          "color": "red",
          "size": 5
         },
         "mode": "markers",
         "name": "Parent Decay Point",
         "showlegend": false,
         "type": "scatter3d",
         "x": [
          -69.70713403701782
         ],
         "y": [
          -10784.67268371582
         ],
         "z": [
          -29.744754791259766
         ]
        },
        {
         "line": {
          "color": "black",
          "dash": "dot",
          "width": 4
         },
         "mode": "lines",
         "name": "Decay Path",
         "showlegend": false,
         "type": "scatter3d",
         "x": [
          197.21048637973274,
          209.92117038464872
         ],
         "y": [
          -484.424011340585,
          6.076412880942371
         ],
         "z": [
          167.2389368335411,
          176.61934961578964
         ]
        },
        {
         "line": {
          "color": "red",
          "width": 4
         },
         "mode": "lines",
         "name": "mu- (64)",
         "showlegend": false,
         "type": "scatter3d",
         "x": [
          209.92117038464872,
          212.65028881509375
         ],
         "y": [
          6.076412880942371,
          197.5420075963269
         ],
         "z": [
          176.61934961578964,
          169.3941148777707
         ]
        },
        {
         "line": {
          "color": "green",
          "width": 4
         },
         "mode": "lines",
         "name": "pi+ (64)",
         "showlegend": false,
         "type": "scatter3d",
         "x": [
          209.92117038464872,
          219.86361643668633
         ],
         "y": [
          6.076412880942371,
          304.590525850934
         ],
         "z": [
          176.61934961578964,
          193.09007175922108
         ]
        },
        {
         "marker": {
          "color": "blue",
          "size": 6,
          "symbol": "cross"
         },
         "mode": "markers",
         "name": "MeVPRTL Decay Point",
         "showlegend": false,
         "type": "scatter3d",
         "x": [
          74.7514762600577
         ],
         "y": [
          372.97232189614806
         ],
         "z": [
          144.92410712950672
         ]
        },
        {
         "marker": {
          "color": "red",
          "size": 5
         },
         "mode": "markers",
         "name": "Parent Decay Point",
         "showlegend": false,
         "type": "scatter3d",
         "x": [
          -75.56041470050812
         ],
         "y": [
          -10415.905944824219
         ],
         "z": [
          -5.645276069641113
         ]
        },
        {
         "line": {
          "color": "black",
          "dash": "dot",
          "width": 4
         },
         "mode": "lines",
         "name": "Decay Path",
         "showlegend": false,
         "type": "scatter3d",
         "x": [
          47.98677477103104,
          74.7514762600577
         ],
         "y": [
          -1548.1072704427852,
          372.97232189614806
         ],
         "z": [
          118.11355628779513,
          144.92410712950672
         ]
        },
        {
         "line": {
          "color": "red",
          "width": 4
         },
         "mode": "lines",
         "name": "mu- (65)",
         "showlegend": false,
         "type": "scatter3d",
         "x": [
          74.7514762600577,
          84.3240065199905
         ],
         "y": [
          372.97232189614806,
          1044.3439653289697
         ],
         "z": [
          144.92410712950672,
          160.17452338518783
         ]
        },
        {
         "line": {
          "color": "green",
          "width": 4
         },
         "mode": "lines",
         "name": "pi+ (65)",
         "showlegend": false,
         "type": "scatter3d",
         "x": [
          74.7514762600577,
          91.94343156090333
         ],
         "y": [
          372.97232189614806,
          1622.640561248058
         ],
         "z": [
          144.92410712950672,
          156.49274924346818
         ]
        },
        {
         "marker": {
          "color": "blue",
          "size": 6,
          "symbol": "cross"
         },
         "mode": "markers",
         "name": "MeVPRTL Decay Point",
         "showlegend": false,
         "type": "scatter3d",
         "x": [
          155.6358856079056
         ],
         "y": [
          448.86667196227245
         ],
         "z": [
          130.7528794314754
         ]
        },
        {
         "marker": {
          "color": "red",
          "size": 5
         },
         "mode": "markers",
         "name": "Parent Decay Point",
         "showlegend": false,
         "type": "scatter3d",
         "x": [
          -48.09930732727051
         ],
         "y": [
          -10446.477783203125
         ],
         "z": [
          -18.844518661499023
         ]
        },
        {
         "line": {
          "color": "black",
          "dash": "dot",
          "width": 4
         },
         "mode": "lines",
         "name": "Decay Path",
         "showlegend": false,
         "type": "scatter3d",
         "x": [
          139.79247868082228,
          155.6358856079056
         ],
         "y": [
          -398.4065621168779,
          448.86667196227245
         ],
         "z": [
          119.11948208331084,
          130.7528794314754
         ]
        },
        {
         "line": {
          "color": "red",
          "width": 4
         },
         "mode": "lines",
         "name": "mu- (66)",
         "showlegend": false,
         "type": "scatter3d",
         "x": [
          155.6358856079056,
          155.97064748555857
         ],
         "y": [
          448.86667196227245,
          852.1065015115904
         ],
         "z": [
          130.7528794314754,
          128.13462618743407
         ]
        },
        {
         "line": {
          "color": "green",
          "width": 4
         },
         "mode": "lines",
         "name": "pi+ (66)",
         "showlegend": false,
         "type": "scatter3d",
         "x": [
          155.6358856079056,
          171.16695504797443
         ],
         "y": [
          448.86667196227245,
          892.6181577122857
         ],
         "z": [
          130.7528794314754,
          145.03200431261
         ]
        },
        {
         "marker": {
          "color": "blue",
          "size": 6,
          "symbol": "cross"
         },
         "mode": "markers",
         "name": "MeVPRTL Decay Point",
         "showlegend": false,
         "type": "scatter3d",
         "x": [
          156.34754948652323
         ],
         "y": [
          155.20544408766727
         ],
         "z": [
          -202.88851953291964
         ]
        },
        {
         "marker": {
          "color": "red",
          "size": 5
         },
         "mode": "markers",
         "name": "Parent Decay Point",
         "showlegend": false,
         "type": "scatter3d",
         "x": [
          -83.9550602722168
         ],
         "y": [
          -10713.04946899414
         ],
         "z": [
          -42.593685150146484
         ]
        },
        {
         "line": {
          "color": "black",
          "dash": "dot",
          "width": 4
         },
         "mode": "lines",
         "name": "Decay Path",
         "showlegend": false,
         "type": "scatter3d",
         "x": [
          148.3071494395295,
          156.34754948652323
         ],
         "y": [
          -208.44069942120342,
          155.20544408766727
         ],
         "z": [
          -197.52513794002695,
          -202.88851953291964
         ]
        },
        {
         "line": {
          "color": "red",
          "width": 4
         },
         "mode": "lines",
         "name": "mu- (67)",
         "showlegend": false,
         "type": "scatter3d",
         "x": [
          156.34754948652323,
          165.6778288140514
         ],
         "y": [
          155.20544408766727,
          326.4472936127298
         ],
         "z": [
          -202.88851953291964,
          -215.38032891642555
         ]
        },
        {
         "line": {
          "color": "green",
          "width": 4
         },
         "mode": "lines",
         "name": "pi+ (67)",
         "showlegend": false,
         "type": "scatter3d",
         "x": [
          156.34754948652323,
          154.92164929466145
         ],
         "y": [
          155.20544408766727,
          346.8834566014941
         ],
         "z": [
          -202.88851953291964,
          -195.5337305677954
         ]
        },
        {
         "marker": {
          "color": "blue",
          "size": 6,
          "symbol": "cross"
         },
         "mode": "markers",
         "name": "MeVPRTL Decay Point",
         "showlegend": false,
         "type": "scatter3d",
         "x": [
          -191.00538391916484
         ],
         "y": [
          213.15600652876492
         ],
         "z": [
          -129.1519239931492
         ]
        },
        {
         "marker": {
          "color": "red",
          "size": 5
         },
         "mode": "markers",
         "name": "Parent Decay Point",
         "showlegend": false,
         "type": "scatter3d",
         "x": [
          -96.00665786743164
         ],
         "y": [
          -8856.544677734375
         ],
         "z": [
          -139.56814575195312
         ]
        },
        {
         "line": {
          "color": "black",
          "dash": "dot",
          "width": 4
         },
         "mode": "lines",
         "name": "Decay Path",
         "showlegend": false,
         "type": "scatter3d",
         "x": [
          -188.84063706031432,
          -191.00538391916484
         ],
         "y": [
          6.483697509786481,
          213.15600652876492
         ],
         "z": [
          -129.3892796322257,
          -129.1519239931492
         ]
        },
        {
         "line": {
          "color": "red",
          "width": 4
         },
         "mode": "lines",
         "name": "mu- (68)",
         "showlegend": false,
         "type": "scatter3d",
         "x": [
          -191.00538391916484,
          -177.96949821717146
         ],
         "y": [
          213.15600652876492,
          303.1597447241807
         ],
         "z": [
          -129.1519239931492,
          -124.44138753279663
         ]
        },
        {
         "line": {
          "color": "green",
          "width": 4
         },
         "mode": "lines",
         "name": "pi+ (68)",
         "showlegend": false,
         "type": "scatter3d",
         "x": [
          -191.00538391916484,
          -206.48511386893594
         ],
         "y": [
          213.15600652876492,
          327.6426708216597
         ],
         "z": [
          -129.1519239931492,
          -133.727129924811
         ]
        },
        {
         "marker": {
          "color": "blue",
          "size": 6,
          "symbol": "cross"
         },
         "mode": "markers",
         "name": "MeVPRTL Decay Point",
         "showlegend": false,
         "type": "scatter3d",
         "x": [
          90.4988780030221
         ],
         "y": [
          175.97245426834525
         ],
         "z": [
          -68.48868494484275
         ]
        },
        {
         "marker": {
          "color": "red",
          "size": 5
         },
         "mode": "markers",
         "name": "Parent Decay Point",
         "showlegend": false,
         "type": "scatter3d",
         "x": [
          -95.75458076477051
         ],
         "y": [
          -10527.444732666016
         ],
         "z": [
          -20.600563049316406
         ]
        },
        {
         "line": {
          "color": "black",
          "dash": "dot",
          "width": 4
         },
         "mode": "lines",
         "name": "Decay Path",
         "showlegend": false,
         "type": "scatter3d",
         "x": [
          86.44220759513512,
          90.4988780030221
         ],
         "y": [
          -57.15199911235061,
          175.97245426834525
         ],
         "z": [
          -67.44566363255096,
          -68.48868494484275
         ]
        },
        {
         "line": {
          "color": "red",
          "width": 4
         },
         "mode": "lines",
         "name": "mu- (69)",
         "showlegend": false,
         "type": "scatter3d",
         "x": [
          90.4988780030221,
          80.05578319151103
         ],
         "y": [
          175.97245426834525,
          277.22311209952693
         ],
         "z": [
          -68.48868494484275,
          -61.960975852035645
         ]
        },
        {
         "line": {
          "color": "green",
          "width": 4
         },
         "mode": "lines",
         "name": "pi+ (69)",
         "showlegend": false,
         "type": "scatter3d",
         "x": [
          90.4988780030221,
          105.09354423637856
         ],
         "y": [
          175.97245426834525,
          306.09937930605065
         ],
         "z": [
          -68.48868494484275,
          -76.1232650866288
         ]
        },
        {
         "marker": {
          "color": "blue",
          "size": 6,
          "symbol": "cross"
         },
         "mode": "markers",
         "name": "MeVPRTL Decay Point",
         "showlegend": false,
         "type": "scatter3d",
         "x": [
          -102.0417190067039
         ],
         "y": [
          344.66202889322176
         ],
         "z": [
          207.6623089757715
         ]
        },
        {
         "marker": {
          "color": "red",
          "size": 5
         },
         "mode": "markers",
         "name": "Parent Decay Point",
         "showlegend": false,
         "type": "scatter3d",
         "x": [
          -86.37714794158936
         ],
         "y": [
          -6700.6982421875
         ],
         "z": [
          68.54013061523438
         ]
        },
        {
         "line": {
          "color": "black",
          "dash": "dot",
          "width": 4
         },
         "mode": "lines",
         "name": "Decay Path",
         "showlegend": false,
         "type": "scatter3d",
         "x": [
          -98.70023726294659,
          -102.0417190067039
         ],
         "y": [
          -1158.2161939543766,
          344.66202889322176
         ],
         "z": [
          177.9855168560836,
          207.6623089757715
         ]
        },
        {
         "line": {
          "color": "red",
          "width": 4
         },
         "mode": "lines",
         "name": "mu- (70)",
         "showlegend": false,
         "type": "scatter3d",
         "x": [
          -102.0417190067039,
          -112.56901524352915
         ],
         "y": [
          344.66202889322176,
          1078.4355104013632
         ],
         "z": [
          207.6623089757715,
          217.7778519818714
         ]
        },
        {
         "line": {
          "color": "green",
          "width": 4
         },
         "mode": "lines",
         "name": "pi+ (70)",
         "showlegend": false,
         "type": "scatter3d",
         "x": [
          -102.0417190067039,
          -94.84195265070274
         ],
         "y": [
          344.66202889322176,
          1113.6356783751776
         ],
         "z": [
          207.6623089757715,
          227.2276861825659
         ]
        },
        {
         "marker": {
          "color": "blue",
          "size": 6,
          "symbol": "cross"
         },
         "mode": "markers",
         "name": "MeVPRTL Decay Point",
         "showlegend": false,
         "type": "scatter3d",
         "x": [
          40.38709550868242
         ],
         "y": [
          21.189142143453864
         ],
         "z": [
          -168.6454607585985
         ]
        },
        {
         "marker": {
          "color": "red",
          "size": 5
         },
         "mode": "markers",
         "name": "Parent Decay Point",
         "showlegend": false,
         "type": "scatter3d",
         "x": [
          -77.60717275619507
         ],
         "y": [
          -10833.751235961914
         ],
         "z": [
          -37.34639358520508
         ]
        },
        {
         "line": {
          "color": "black",
          "dash": "dot",
          "width": 4
         },
         "mode": "lines",
         "name": "Decay Path",
         "showlegend": false,
         "type": "scatter3d",
         "x": [
          37.64163761391582,
          40.38709550868242
         ],
         "y": [
          -231.3805987137044,
          21.189142143453864
         ],
         "z": [
          -165.5904304944379,
          -168.6454607585985
         ]
        },
        {
         "line": {
          "color": "red",
          "width": 4
         },
         "mode": "lines",
         "name": "mu- (71)",
         "showlegend": false,
         "type": "scatter3d",
         "x": [
          40.38709550868242,
          36.215578395758655
         ],
         "y": [
          21.189142143453864,
          135.46894770573203
         ],
         "z": [
          -168.6454607585985,
          -158.07615361796394
         ]
        },
        {
         "line": {
          "color": "green",
          "width": 4
         },
         "mode": "lines",
         "name": "pi+ (71)",
         "showlegend": false,
         "type": "scatter3d",
         "x": [
          40.38709550868242,
          47.45008217082838
         ],
         "y": [
          21.189142143453864,
          158.05733459214366
         ],
         "z": [
          -168.6454607585985,
          -182.60906019502812
         ]
        },
        {
         "marker": {
          "color": "blue",
          "size": 6,
          "symbol": "cross"
         },
         "mode": "markers",
         "name": "MeVPRTL Decay Point",
         "showlegend": false,
         "type": "scatter3d",
         "x": [
          -195.5834452383044
         ],
         "y": [
          -3.698742808406678
         ],
         "z": [
          197.11827776213897
         ]
        },
        {
         "marker": {
          "color": "red",
          "size": 5
         },
         "mode": "markers",
         "name": "Parent Decay Point",
         "showlegend": false,
         "type": "scatter3d",
         "x": [
          -63.05605152130127
         ],
         "y": [
          -10652.208679199219
         ],
         "z": [
          15.518548011779785
         ]
        },
        {
         "line": {
          "color": "black",
          "dash": "dot",
          "width": 4
         },
         "mode": "lines",
         "name": "Decay Path",
         "showlegend": false,
         "type": "scatter3d",
         "x": [
          -178.14667608837925,
          -195.5834452383044
         ],
         "y": [
          -1404.7344407413143,
          -3.698742808406678
         ],
         "z": [
          173.22500953634463,
          197.11827776213897
         ]
        },
        {
         "line": {
          "color": "red",
          "width": 4
         },
         "mode": "lines",
         "name": "mu- (72)",
         "showlegend": false,
         "type": "scatter3d",
         "x": [
          -195.5834452383044,
          -196.87461391145783
         ],
         "y": [
          -3.698742808406678,
          614.1330702407656
         ],
         "z": [
          197.11827776213897,
          217.86108309158314
         ]
        },
        {
         "line": {
          "color": "green",
          "width": 4
         },
         "mode": "lines",
         "name": "pi+ (72)",
         "showlegend": false,
         "type": "scatter3d",
         "x": [
          -195.5834452383044,
          -211.72848510372646
         ],
         "y": [
          -3.698742808406678,
          779.2951520575294
         ],
         "z": [
          197.11827776213897,
          200.26188478998148
         ]
        },
        {
         "marker": {
          "color": "blue",
          "size": 6,
          "symbol": "cross"
         },
         "mode": "markers",
         "name": "MeVPRTL Decay Point",
         "showlegend": false,
         "type": "scatter3d",
         "x": [
          87.38440835997415
         ],
         "y": [
          493.47700033100773
         ],
         "z": [
          -80.91012643380208
         ]
        },
        {
         "marker": {
          "color": "red",
          "size": 5
         },
         "mode": "markers",
         "name": "Parent Decay Point",
         "showlegend": false,
         "type": "scatter3d",
         "x": [
          -70.28248646736145
         ],
         "y": [
          -8599.58740234375
         ],
         "z": [
          7.552052974700928
         ]
        },
        {
         "line": {
          "color": "black",
          "dash": "dot",
          "width": 4
         },
         "mode": "lines",
         "name": "Decay Path",
         "showlegend": false,
         "type": "scatter3d",
         "x": [
          63.81868332784526,
          87.38440835997415
         ],
         "y": [
          -865.620327281998,
          493.47700033100773
         ],
         "z": [
          -67.68810288874141,
          -80.91012643380208
         ]
        },
        {
         "line": {
          "color": "red",
          "width": 4
         },
         "mode": "lines",
         "name": "mu- (73)",
         "showlegend": false,
         "type": "scatter3d",
         "x": [
          87.38440835997415,
          93.55360768530919
         ],
         "y": [
          493.47700033100773,
          1172.9833215866752
         ],
         "z": [
          -80.91012643380208,
          -80.85580907570181
         ]
        },
        {
         "line": {
          "color": "green",
          "width": 4
         },
         "mode": "lines",
         "name": "pi+ (73)",
         "showlegend": false,
         "type": "scatter3d",
         "x": [
          87.38440835997415,
          104.79171708208028
         ],
         "y": [
          493.47700033100773,
          1172.9557336421628
         ],
         "z": [
          -80.91012643380208,
          -94.20049066882956
         ]
        },
        {
         "marker": {
          "color": "blue",
          "size": 6,
          "symbol": "cross"
         },
         "mode": "markers",
         "name": "MeVPRTL Decay Point",
         "showlegend": false,
         "type": "scatter3d",
         "x": [
          -200.38518135995102
         ],
         "y": [
          8.460015960821693
         ],
         "z": [
          -209.75693047647172
         ]
        },
        {
         "marker": {
          "color": "red",
          "size": 5
         },
         "mode": "markers",
         "name": "Parent Decay Point",
         "showlegend": false,
         "type": "scatter3d",
         "x": [
          -62.731648712158204
         ],
         "y": [
          -10200.817504882812
         ],
         "z": [
          -23.985332489013672
         ]
        },
        {
         "line": {
          "color": "black",
          "dash": "dot",
          "width": 4
         },
         "mode": "lines",
         "name": "Decay Path",
         "showlegend": false,
         "type": "scatter3d",
         "x": [
          -171.65619786832866,
          -200.38518135995102
         ],
         "y": [
          -2122.2674685866723,
          8.460015960821693
         ],
         "z": [
          -170.98546512331166,
          -209.75693047647172
         ]
        },
        {
         "line": {
          "color": "red",
          "width": 4
         },
         "mode": "lines",
         "name": "mu- (74)",
         "showlegend": false,
         "type": "scatter3d",
         "x": [
          -200.38518135995102,
          -212.54003811011125
         ],
         "y": [
          8.460015960821693,
          1076.9614321192284
         ],
         "z": [
          -209.75693047647172,
          -220.96920433424032
         ]
        },
        {
         "line": {
          "color": "green",
          "width": 4
         },
         "mode": "lines",
         "name": "pi+ (74)",
         "showlegend": false,
         "type": "scatter3d",
         "x": [
          -200.38518135995102,
          -216.96049658601424
         ],
         "y": [
          8.460015960821693,
          1070.6175691509734
         ],
         "z": [
          -209.75693047647172,
          -237.32259538307045
         ]
        },
        {
         "marker": {
          "color": "blue",
          "size": 6,
          "symbol": "cross"
         },
         "mode": "markers",
         "name": "MeVPRTL Decay Point",
         "showlegend": false,
         "type": "scatter3d",
         "x": [
          135.19340748959675
         ],
         "y": [
          249.04939674984234
         ],
         "z": [
          -46.00638597081973
         ]
        },
        {
         "marker": {
          "color": "red",
          "size": 5
         },
         "mode": "markers",
         "name": "Parent Decay Point",
         "showlegend": false,
         "type": "scatter3d",
         "x": [
          -39.825669555664064
         ],
         "y": [
          -8874.6025390625
         ],
         "z": [
          -9.024043083190918
         ]
        },
        {
         "line": {
          "color": "black",
          "dash": "dot",
          "width": 4
         },
         "mode": "lines",
         "name": "Decay Path",
         "showlegend": false,
         "type": "scatter3d",
         "x": [
          90.3918247221568,
          135.19340748959675
         ],
         "y": [
          -2086.4334217197384,
          249.04939674984234
         ],
         "z": [
          -36.539603698933604,
          -46.00638597081973
         ]
        },
        {
         "line": {
          "color": "red",
          "width": 4
         },
         "mode": "lines",
         "name": "mu- (75)",
         "showlegend": false,
         "type": "scatter3d",
         "x": [
          135.19340748959675,
          147.62632744908944
         ],
         "y": [
          249.04939674984234,
          1356.97151673772
         ],
         "z": [
          -46.00638597081973,
          -44.0696284915775
         ]
        },
        {
         "line": {
          "color": "green",
          "width": 4
         },
         "mode": "lines",
         "name": "pi+ (75)",
         "showlegend": false,
         "type": "scatter3d",
         "x": [
          135.19340748959675,
          167.564337580484
         ],
         "y": [
          249.04939674984234,
          1476.5077517129032
         ],
         "z": [
          -46.00638597081973,
          -57.412593804624876
         ]
        },
        {
         "marker": {
          "color": "blue",
          "size": 6,
          "symbol": "cross"
         },
         "mode": "markers",
         "name": "MeVPRTL Decay Point",
         "showlegend": false,
         "type": "scatter3d",
         "x": [
          147.72695899156233
         ],
         "y": [
          24.190743997809477
         ],
         "z": [
          39.74311775036404
         ]
        },
        {
         "marker": {
          "color": "red",
          "size": 5
         },
         "mode": "markers",
         "name": "Parent Decay Point",
         "showlegend": false,
         "type": "scatter3d",
         "x": [
          -142.87325408935547
         ],
         "y": [
          -8844.686767578125
         ],
         "z": [
          85.09402465820312
         ]
        },
        {
         "line": {
          "color": "black",
          "dash": "dot",
          "width": 4
         },
         "mode": "lines",
         "name": "Decay Path",
         "showlegend": false,
         "type": "scatter3d",
         "x": [
          142.83383565805468,
          147.72695899156233
         ],
         "y": [
          -125.14332232591215,
          24.190743997809477
         ],
         "z": [
          40.50673584421826,
          39.74311775036404
         ]
        },
        {
         "line": {
          "color": "red",
          "width": 4
         },
         "mode": "lines",
         "name": "mu- (76)",
         "showlegend": false,
         "type": "scatter3d",
         "x": [
          147.72695899156233,
          138.21700804700154
         ],
         "y": [
          24.190743997809477,
          87.20886063369045
         ],
         "z": [
          39.74311775036404,
          55.83794184877158
         ]
        },
        {
         "line": {
          "color": "green",
          "width": 4
         },
         "mode": "lines",
         "name": "pi+ (76)",
         "showlegend": false,
         "type": "scatter3d",
         "x": [
          147.72695899156233,
          162.8375077995723
         ],
         "y": [
          24.190743997809477,
          104.48152715673557
         ],
         "z": [
          39.74311775036404,
          21.632030985154994
         ]
        },
        {
         "marker": {
          "color": "blue",
          "size": 6,
          "symbol": "cross"
         },
         "mode": "markers",
         "name": "MeVPRTL Decay Point",
         "showlegend": false,
         "type": "scatter3d",
         "x": [
          -143.63097051816058
         ],
         "y": [
          252.84910822348684
         ],
         "z": [
          65.83003909113623
         ]
        },
        {
         "marker": {
          "color": "red",
          "size": 5
         },
         "mode": "markers",
         "name": "Parent Decay Point",
         "showlegend": false,
         "type": "scatter3d",
         "x": [
          -68.11301210403442
         ],
         "y": [
          -10939.267078399658
         ],
         "z": [
          -4.171996116638184
         ]
        },
        {
         "line": {
          "color": "black",
          "dash": "dot",
          "width": 4
         },
         "mode": "lines",
         "name": "Decay Path",
         "showlegend": false,
         "type": "scatter3d",
         "x": [
          -140.27628723284639,
          -143.63097051816058
         ],
         "y": [
          -244.3307134642743,
          252.84910822348684
         ],
         "z": [
          62.72038593868066,
          65.83003909113623
         ]
        },
        {
         "line": {
          "color": "red",
          "width": 4
         },
         "mode": "lines",
         "name": "mu- (77)",
         "showlegend": false,
         "type": "scatter3d",
         "x": [
          -143.63097051816058,
          -147.68700985967052
         ],
         "y": [
          252.84910822348684,
          426.54707814238446
         ],
         "z": [
          65.83003909113623,
          71.63460400543163
         ]
        },
        {
         "line": {
          "color": "green",
          "width": 4
         },
         "mode": "lines",
         "name": "pi+ (77)",
         "showlegend": false,
         "type": "scatter3d",
         "x": [
          -143.63097051816058,
          -142.99879273167574
         ],
         "y": [
          252.84910822348684,
          576.1967987622252
         ],
         "z": [
          65.83003909113623,
          63.24894217760688
         ]
        },
        {
         "marker": {
          "color": "blue",
          "size": 6,
          "symbol": "cross"
         },
         "mode": "markers",
         "name": "MeVPRTL Decay Point",
         "showlegend": false,
         "type": "scatter3d",
         "x": [
          -174.844502160788
         ],
         "y": [
          127.03145193356704
         ],
         "z": [
          4.287158687872388
         ]
        },
        {
         "marker": {
          "color": "red",
          "size": 5
         },
         "mode": "markers",
         "name": "Parent Decay Point",
         "showlegend": false,
         "type": "scatter3d",
         "x": [
          -46.36571243286133
         ],
         "y": [
          -7632.59765625
         ],
         "z": [
          27.263378143310547
         ]
        },
        {
         "line": {
          "color": "black",
          "dash": "dot",
          "width": 4
         },
         "mode": "lines",
         "name": "Decay Path",
         "showlegend": false,
         "type": "scatter3d",
         "x": [
          -133.86788132434526,
          -174.844502160788
         ],
         "y": [
          -2347.8002340653284,
          127.03145193356704
         ],
         "z": [
          11.615121808276399,
          4.287158687872388
         ]
        },
        {
         "line": {
          "color": "red",
          "width": 4
         },
         "mode": "lines",
         "name": "mu- (78)",
         "showlegend": false,
         "type": "scatter3d",
         "x": [
          -174.844502160788,
          -200.53121053286878
         ],
         "y": [
          127.03145193356704,
          1407.5503278574517
         ],
         "z": [
          4.287158687872388,
          -3.301660754852988
         ]
        },
        {
         "line": {
          "color": "green",
          "width": 4
         },
         "mode": "lines",
         "name": "pi+ (78)",
         "showlegend": false,
         "type": "scatter3d",
         "x": [
          -174.844502160788,
          -190.13010151044944
         ],
         "y": [
          127.03145193356704,
          1321.3163839797087
         ],
         "z": [
          4.287158687872388,
          4.551358639515128
         ]
        },
        {
         "marker": {
          "color": "blue",
          "size": 6,
          "symbol": "cross"
         },
         "mode": "markers",
         "name": "MeVPRTL Decay Point",
         "showlegend": false,
         "type": "scatter3d",
         "x": [
          206.79665991574976
         ],
         "y": [
          333.86836515558025
         ],
         "z": [
          66.6708566601234
         ]
        },
        {
         "marker": {
          "color": "red",
          "size": 5
         },
         "mode": "markers",
         "name": "Parent Decay Point",
         "showlegend": false,
         "type": "scatter3d",
         "x": [
          -22.148072509765626
         ],
         "y": [
          -8574.93798828125
         ],
         "z": [
          -75.76314544677734
         ]
        },
        {
         "line": {
          "color": "black",
          "dash": "dot",
          "width": 4
         },
         "mode": "lines",
         "name": "Decay Path",
         "showlegend": false,
         "type": "scatter3d",
         "x": [
          172.04356130632925,
          206.79665991574976
         ],
         "y": [
          -1018.4607424553571,
          333.86836515558025
         ],
         "z": [
          45.04981795740521,
          66.6708566601234
         ]
        },
        {
         "line": {
          "color": "red",
          "width": 4
         },
         "mode": "lines",
         "name": "mu- (79)",
         "showlegend": false,
         "type": "scatter3d",
         "x": [
          206.79665991574976,
          233.66016011516842
         ],
         "y": [
          333.86836515558025,
          961.9677060281954
         ],
         "z": [
          66.6708566601234,
          72.76303605147056
         ]
        },
        {
         "line": {
          "color": "green",
          "width": 4
         },
         "mode": "lines",
         "name": "pi+ (79)",
         "showlegend": false,
         "type": "scatter3d",
         "x": [
          206.79665991574976,
          214.6692521286818
         ],
         "y": [
          333.86836515558025,
          1057.9043318848874
         ],
         "z": [
          66.6708566601234,
          82.20104760452446
         ]
        },
        {
         "marker": {
          "color": "blue",
          "size": 6,
          "symbol": "cross"
         },
         "mode": "markers",
         "name": "MeVPRTL Decay Point",
         "showlegend": false,
         "type": "scatter3d",
         "x": [
          83.40702912879203
         ],
         "y": [
          174.7271934945784
         ],
         "z": [
          -90.5223428107171
         ]
        },
        {
         "marker": {
          "color": "red",
          "size": 5
         },
         "mode": "markers",
         "name": "Parent Decay Point",
         "showlegend": false,
         "type": "scatter3d",
         "x": [
          -70.32714751243591
         ],
         "y": [
          -10161.001831054688
         ],
         "z": [
          -0.20221106708049774
         ]
        },
        {
         "line": {
          "color": "black",
          "dash": "dot",
          "width": 4
         },
         "mode": "lines",
         "name": "Decay Path",
         "showlegend": false,
         "type": "scatter3d",
         "x": [
          74.84409076964303,
          83.40702912879203
         ],
         "y": [
          -400.96919664921097,
          174.7271934945784
         ],
         "z": [
          -85.49154394992841,
          -90.5223428107171
         ]
        },
        {
         "line": {
          "color": "red",
          "width": 4
         },
         "mode": "lines",
         "name": "mu- (80)",
         "showlegend": false,
         "type": "scatter3d",
         "x": [
          83.40702912879203,
          75.37001708744823
         ],
         "y": [
          174.7271934945784,
          404.72378590250844
         ],
         "z": [
          -90.5223428107171,
          -91.10858298752429
         ]
        },
        {
         "line": {
          "color": "green",
          "width": 4
         },
         "mode": "lines",
         "name": "pi+ (80)",
         "showlegend": false,
         "type": "scatter3d",
         "x": [
          83.40702912879203,
          99.92836758766046
         ],
         "y": [
          174.7271934945784,
          519.9480056708383
         ],
         "z": [
          -90.5223428107171,
          -94.9538337475491
         ]
        },
        {
         "marker": {
          "color": "blue",
          "size": 6,
          "symbol": "cross"
         },
         "mode": "markers",
         "name": "MeVPRTL Decay Point",
         "showlegend": false,
         "type": "scatter3d",
         "x": [
          58.14036899536336
         ],
         "y": [
          345.9403507108382
         ],
         "z": [
          -45.36193409670301
         ]
        },
        {
         "marker": {
          "color": "red",
          "size": 5
         },
         "mode": "markers",
         "name": "Parent Decay Point",
         "showlegend": false,
         "type": "scatter3d",
         "x": [
          -81.23359992980957
         ],
         "y": [
          -10713.123992919922
         ],
         "z": [
          23.25461196899414
         ]
        },
        {
         "line": {
          "color": "black",
          "dash": "dot",
          "width": 4
         },
         "mode": "lines",
         "name": "Decay Path",
         "showlegend": false,
         "type": "scatter3d",
         "x": [
          46.58315704791877,
          58.14036899536336
         ],
         "y": [
          -571.1028500061303,
          345.9403507108382
         ],
         "z": [
          -39.67209135132915,
          -45.36193409670301
         ]
        },
        {
         "line": {
          "color": "red",
          "width": 4
         },
         "mode": "lines",
         "name": "mu- (81)",
         "showlegend": false,
         "type": "scatter3d",
         "x": [
          58.14036899536336,
          52.33088810582158
         ],
         "y": [
          345.9403507108382,
          696.993434394084
         ],
         "z": [
          -45.36193409670301,
          -46.187979304154425
         ]
        },
        {
         "line": {
          "color": "green",
          "width": 4
         },
         "mode": "lines",
         "name": "pi+ (81)",
         "showlegend": false,
         "type": "scatter3d",
         "x": [
          58.14036899536336,
          75.46524790190306
         ],
         "y": [
          345.9403507108382,
          911.6858537517658
         ],
         "z": [
          -45.36193409670301,
          -50.21909673233479
         ]
        },
        {
         "marker": {
          "color": "blue",
          "size": 6,
          "symbol": "cross"
         },
         "mode": "markers",
         "name": "MeVPRTL Decay Point",
         "showlegend": false,
         "type": "scatter3d",
         "x": [
          163.24703042625993
         ],
         "y": [
          391.22078938976483
         ],
         "z": [
          161.95536192267207
         ]
        },
        {
         "marker": {
          "color": "red",
          "size": 5
         },
         "mode": "markers",
         "name": "Parent Decay Point",
         "showlegend": false,
         "type": "scatter3d",
         "x": [
          -73.50408497333527
         ],
         "y": [
          -10897.157470703125
         ],
         "z": [
          4.496582984924316
         ]
        },
        {
         "line": {
          "color": "black",
          "dash": "dot",
          "width": 4
         },
         "mode": "lines",
         "name": "Decay Path",
         "showlegend": false,
         "type": "scatter3d",
         "x": [
          159.40818127408494,
          163.24703042625993
         ],
         "y": [
          208.18308230210428,
          391.22078938976483
         ],
         "z": [
          159.4022145002937,
          161.95536192267207
         ]
        },
        {
         "line": {
          "color": "red",
          "width": 4
         },
         "mode": "lines",
         "name": "mu- (82)",
         "showlegend": false,
         "type": "scatter3d",
         "x": [
          163.24703042625993,
          167.30274022138974
         ],
         "y": [
          391.22078938976483,
          459.6170694257105
         ],
         "z": [
          161.95536192267207,
          151.6043064376632
         ]
        },
        {
         "line": {
          "color": "green",
          "width": 4
         },
         "mode": "lines",
         "name": "pi+ (82)",
         "showlegend": false,
         "type": "scatter3d",
         "x": [
          163.24703042625993,
          163.47556730939084
         ],
         "y": [
          391.22078938976483,
          504.5048255773426
         ],
         "z": [
          161.95536192267207,
          172.79689855150448
         ]
        },
        {
         "marker": {
          "color": "blue",
          "size": 6,
          "symbol": "cross"
         },
         "mode": "markers",
         "name": "MeVPRTL Decay Point",
         "showlegend": false,
         "type": "scatter3d",
         "x": [
          -59.24665230882294
         ],
         "y": [
          471.4310110723909
         ],
         "z": [
          -205.80794051335957
         ]
        },
        {
         "marker": {
          "color": "red",
          "size": 5
         },
         "mode": "markers",
         "name": "Parent Decay Point",
         "showlegend": false,
         "type": "scatter3d",
         "x": [
          -20.821236877441407
         ],
         "y": [
          -10042.885986328125
         ],
         "z": [
          33.96223068237305
         ]
        },
        {
         "line": {
          "color": "black",
          "dash": "dot",
          "width": 4
         },
         "mode": "lines",
         "name": "Decay Path",
         "showlegend": false,
         "type": "scatter3d",
         "x": [
          -56.059623258829255,
          -59.24665230882294
         ],
         "y": [
          -400.63330717545,
          471.4310110723909
         ],
         "z": [
          -185.9212459299958,
          -205.80794051335957
         ]
        },
        {
         "line": {
          "color": "red",
          "width": 4
         },
         "mode": "lines",
         "name": "mu- (83)",
         "showlegend": false,
         "type": "scatter3d",
         "x": [
          -59.24665230882294,
          -68.06507002782396
         ],
         "y": [
          471.4310110723909,
          799.2685516090253
         ],
         "z": [
          -205.80794051335957,
          -219.38565359386894
         ]
        },
        {
         "line": {
          "color": "green",
          "width": 4
         },
         "mode": "lines",
         "name": "pi+ (83)",
         "showlegend": false,
         "type": "scatter3d",
         "x": [
          -59.24665230882294,
          -53.651117095093454
         ],
         "y": [
          471.4310110723909,
          1015.425167168047
         ],
         "z": [
          -205.80794051335957,
          -212.1410061852452
         ]
        },
        {
         "marker": {
          "color": "blue",
          "size": 6,
          "symbol": "cross"
         },
         "mode": "markers",
         "name": "MeVPRTL Decay Point",
         "showlegend": false,
         "type": "scatter3d",
         "x": [
          159.8957744892679
         ],
         "y": [
          392.6100809801628
         ],
         "z": [
          53.8604347400275
         ]
        },
        {
         "marker": {
          "color": "red",
          "size": 5
         },
         "mode": "markers",
         "name": "Parent Decay Point",
         "showlegend": false,
         "type": "scatter3d",
         "x": [
          -91.94779899597168
         ],
         "y": [
          -10792.473449707031
         ],
         "z": [
          -34.04615783691406
         ]
        },
        {
         "line": {
          "color": "black",
          "dash": "dot",
          "width": 4
         },
         "mode": "lines",
         "name": "Decay Path",
         "showlegend": false,
         "type": "scatter3d",
         "x": [
          153.19681177566324,
          159.8957744892679
         ],
         "y": [
          95.09024958760818,
          392.6100809801628
         ],
         "z": [
          51.52214602452259,
          53.8604347400275
         ]
        },
        {
         "line": {
          "color": "red",
          "width": 4
         },
         "mode": "lines",
         "name": "mu- (84)",
         "showlegend": false,
         "type": "scatter3d",
         "x": [
          159.8957744892679,
          150.2522567038516
         ],
         "y": [
          392.6100809801628,
          525.1101039553205
         ],
         "z": [
          53.8604347400275,
          57.88557458037869
         ]
        },
        {
         "line": {
          "color": "green",
          "width": 4
         },
         "mode": "lines",
         "name": "pi+ (84)",
         "showlegend": false,
         "type": "scatter3d",
         "x": [
          159.8957744892679,
          176.37689446546813
         ],
         "y": [
          392.6100809801628,
          556.4671422788148
         ],
         "z": [
          53.8604347400275,
          52.12549764654037
         ]
        },
        {
         "marker": {
          "color": "blue",
          "size": 6,
          "symbol": "cross"
         },
         "mode": "markers",
         "name": "MeVPRTL Decay Point",
         "showlegend": false,
         "type": "scatter3d",
         "x": [
          -192.97287380821547
         ],
         "y": [
          18.69852900684964
         ],
         "z": [
          68.80071463244485
         ]
        },
        {
         "marker": {
          "color": "red",
          "size": 5
         },
         "mode": "markers",
         "name": "Parent Decay Point",
         "showlegend": false,
         "type": "scatter3d",
         "x": [
          -109.42068603515625
         ],
         "y": [
          -10545.103454589844
         ],
         "z": [
          0.8521835803985596
         ]
        },
        {
         "line": {
          "color": "black",
          "dash": "dot",
          "width": 4
         },
         "mode": "lines",
         "name": "Decay Path",
         "showlegend": false,
         "type": "scatter3d",
         "x": [
          -189.83810191251646,
          -192.97287380821547
         ],
         "y": [
          -377.6418954935118,
          18.69852900684964
         ],
         "z": [
          66.25137210565747,
          68.80071463244485
         ]
        },
        {
         "line": {
          "color": "red",
          "width": 4
         },
         "mode": "lines",
         "name": "mu- (85)",
         "showlegend": false,
         "type": "scatter3d",
         "x": [
          -192.97287380821547,
          -195.40786937954513
         ],
         "y": [
          18.69852900684964,
          178.77561233027404
         ],
         "z": [
          68.80071463244485,
          81.90119369177854
         ]
        },
        {
         "line": {
          "color": "green",
          "width": 4
         },
         "mode": "lines",
         "name": "pi+ (85)",
         "showlegend": false,
         "type": "scatter3d",
         "x": [
          -192.97287380821547,
          -193.6798280584481
         ],
         "y": [
          18.69852900684964,
          254.19739174121764
         ],
         "z": [
          68.80071463244485,
          58.381224848105724
         ]
        },
        {
         "marker": {
          "color": "blue",
          "size": 6,
          "symbol": "cross"
         },
         "mode": "markers",
         "name": "MeVPRTL Decay Point",
         "showlegend": false,
         "type": "scatter3d",
         "x": [
          -126.32982990326752
         ],
         "y": [
          104.0355414559217
         ],
         "z": [
          -169.72595340318264
         ]
        },
        {
         "marker": {
          "color": "red",
          "size": 5
         },
         "mode": "markers",
         "name": "Parent Decay Point",
         "showlegend": false,
         "type": "scatter3d",
         "x": [
          -102.44225242614746
         ],
         "y": [
          -8200.324462890625
         ],
         "z": [
          -44.70653533935547
         ]
        },
        {
         "line": {
          "color": "black",
          "dash": "dot",
          "width": 4
         },
         "mode": "lines",
         "name": "Decay Path",
         "showlegend": false,
         "type": "scatter3d",
         "x": [
          -124.21525952433879,
          -126.32982990326752
         ],
         "y": [
          -631.0810143342627,
          104.0355414559217
         ],
         "z": [
          -158.65901459442787,
          -169.72595340318264
         ]
        },
        {
         "line": {
          "color": "red",
          "width": 4
         },
         "mode": "lines",
         "name": "mu- (86)",
         "showlegend": false,
         "type": "scatter3d",
         "x": [
          -126.32982990326752,
          -119.11575036484864
         ],
         "y": [
          104.0355414559217,
          411.3474966576724
         ],
         "z": [
          -169.72595340318264,
          -165.41219163425777
         ]
        },
        {
         "line": {
          "color": "green",
          "width": 4
         },
         "mode": "lines",
         "name": "pi+ (86)",
         "showlegend": false,
         "type": "scatter3d",
         "x": [
          -126.32982990326752,
          -135.64516871216648
         ],
         "y": [
          104.0355414559217,
          531.4341552522206
         ],
         "z": [
          -169.72595340318264,
          -185.08713583082957
         ]
        },
        {
         "marker": {
          "color": "blue",
          "size": 6,
          "symbol": "cross"
         },
         "mode": "markers",
         "name": "MeVPRTL Decay Point",
         "showlegend": false,
         "type": "scatter3d",
         "x": [
          -164.53209488958956
         ],
         "y": [
          281.3574448874606
         ],
         "z": [
          -92.43196037284837
         ]
        },
        {
         "marker": {
          "color": "red",
          "size": 5
         },
         "mode": "markers",
         "name": "Parent Decay Point",
         "showlegend": false,
         "type": "scatter3d",
         "x": [
          -64.11966064453125
         ],
         "y": [
          -10751.178237915039
         ],
         "z": [
          0.4323851466178894
         ]
        },
        {
         "line": {
          "color": "black",
          "dash": "dot",
          "width": 4
         },
         "mode": "lines",
         "name": "Decay Path",
         "showlegend": false,
         "type": "scatter3d",
         "x": [
          -152.75592415970084,
          -164.53209488958956
         ],
         "y": [
          -1012.5164140730465,
          281.3574448874606
         ],
         "z": [
          -81.54101448772327,
          -92.43196037284837
         ]
        },
        {
         "line": {
          "color": "red",
          "width": 4
         },
         "mode": "lines",
         "name": "mu- (87)",
         "showlegend": false,
         "type": "scatter3d",
         "x": [
          -164.53209488958956,
          -160.6119103262654
         ],
         "y": [
          281.3574448874606,
          871.4670796452073
         ],
         "z": [
          -92.43196037284837,
          -104.58444920364484
         ]
        },
        {
         "line": {
          "color": "green",
          "width": 4
         },
         "mode": "lines",
         "name": "pi+ (87)",
         "showlegend": false,
         "type": "scatter3d",
         "x": [
          -164.53209488958956,
          -180.23504118180074
         ],
         "y": [
          281.3574448874606,
          984.9065890663096
         ],
         "z": [
          -92.43196037284837,
          -91.1619959110896
         ]
        },
        {
         "marker": {
          "color": "blue",
          "size": 6,
          "symbol": "cross"
         },
         "mode": "markers",
         "name": "MeVPRTL Decay Point",
         "showlegend": false,
         "type": "scatter3d",
         "x": [
          -195.07095675876076
         ],
         "y": [
          434.73616431449136
         ],
         "z": [
          204.32745764479847
         ]
        },
        {
         "marker": {
          "color": "red",
          "size": 5
         },
         "mode": "markers",
         "name": "Parent Decay Point",
         "showlegend": false,
         "type": "scatter3d",
         "x": [
          -112.946748046875
         ],
         "y": [
          -6189.54345703125
         ],
         "z": [
          73.32205963134766
         ]
        },
        {
         "line": {
          "color": "black",
          "dash": "dot",
          "width": 4
         },
         "mode": "lines",
         "name": "Decay Path",
         "showlegend": false,
         "type": "scatter3d",
         "x": [
          -178.84701173924714,
          -195.07095675876076
         ],
         "y": [
          -873.9150854971067,
          434.73616431449136
         ],
         "z": [
          178.44685059887493,
          204.32745764479847
         ]
        },
        {
         "line": {
          "color": "red",
          "width": 4
         },
         "mode": "lines",
         "name": "mu- (88)",
         "showlegend": false,
         "type": "scatter3d",
         "x": [
          -195.07095675876076,
          -194.15078897196423
         ],
         "y": [
          434.73616431449136,
          897.734494834125
         ],
         "z": [
          204.32745764479847,
          214.52231617504012
         ]
        },
        {
         "line": {
          "color": "green",
          "width": 4
         },
         "mode": "lines",
         "name": "pi+ (88)",
         "showlegend": false,
         "type": "scatter3d",
         "x": [
          -195.07095675876076,
          -212.19328923187754
         ],
         "y": [
          434.73616431449136,
          1280.3135576098425
         ],
         "z": [
          204.32745764479847,
          220.0149621861709
         ]
        },
        {
         "marker": {
          "color": "blue",
          "size": 6,
          "symbol": "cross"
         },
         "mode": "markers",
         "name": "MeVPRTL Decay Point",
         "showlegend": false,
         "type": "scatter3d",
         "x": [
          174.32498125240394
         ],
         "y": [
          -9.093655869592112
         ],
         "z": [
          -209.70889083960654
         ]
        },
        {
         "marker": {
          "color": "red",
          "size": 5
         },
         "mode": "markers",
         "name": "Parent Decay Point",
         "showlegend": false,
         "type": "scatter3d",
         "x": [
          -83.71874263763428
         ],
         "y": [
          -10917.84903717041
         ],
         "z": [
          2.922693967819214
         ]
        },
        {
         "line": {
          "color": "black",
          "dash": "dot",
          "width": 4
         },
         "mode": "lines",
         "name": "Decay Path",
         "showlegend": false,
         "type": "scatter3d",
         "x": [
          169.83576516185028,
          174.32498125240394
         ],
         "y": [
          -198.8745172189585,
          -9.093655869592112
         ],
         "z": [
          -206.00971491125034,
          -209.70889083960654
         ]
        },
        {
         "line": {
          "color": "red",
          "width": 4
         },
         "mode": "lines",
         "name": "mu- (89)",
         "showlegend": false,
         "type": "scatter3d",
         "x": [
          174.32498125240394,
          174.42498981209195
         ],
         "y": [
          -9.093655869592112,
          80.90330650832615
         ],
         "z": [
          -209.70889083960654,
          -199.76054619557834
         ]
        },
        {
         "line": {
          "color": "green",
          "width": 4
         },
         "mode": "lines",
         "name": "pi+ (89)",
         "showlegend": false,
         "type": "scatter3d",
         "x": [
          174.32498125240394,
          178.95951585697676
         ],
         "y": [
          -9.093655869592112,
          88.94128603256381
         ],
         "z": [
          -209.70889083960654,
          -224.97601987009793
         ]
        },
        {
         "marker": {
          "color": "blue",
          "size": 6,
          "symbol": "cross"
         },
         "mode": "markers",
         "name": "MeVPRTL Decay Point",
         "showlegend": false,
         "type": "scatter3d",
         "x": [
          155.11584205757475
         ],
         "y": [
          169.42503674098407
         ],
         "z": [
          98.65637371636545
         ]
        },
        {
         "marker": {
          "color": "red",
          "size": 5
         },
         "mode": "markers",
         "name": "Parent Decay Point",
         "showlegend": false,
         "type": "scatter3d",
         "x": [
          -70.34068468093872
         ],
         "y": [
          -10932.9468460083
         ],
         "z": [
          -4.853102684020996
         ]
        },
        {
         "line": {
          "color": "black",
          "dash": "dot",
          "width": 4
         },
         "mode": "lines",
         "name": "Decay Path",
         "showlegend": false,
         "type": "scatter3d",
         "x": [
          150.57827772806218,
          155.11584205757475
         ],
         "y": [
          -54.02259352689009,
          169.42503674098407
         ],
         "z": [
          96.5731299324068,
          98.65637371636545
         ]
        },
        {
         "line": {
          "color": "red",
          "width": 4
         },
         "mode": "lines",
         "name": "mu- (90)",
         "showlegend": false,
         "type": "scatter3d",
         "x": [
          155.11584205757475,
          148.21669063131006
         ],
         "y": [
          169.42503674098407,
          253.79649578576314
         ],
         "z": [
          98.65637371636545,
          91.95384211666212
         ]
        },
        {
         "line": {
          "color": "green",
          "width": 4
         },
         "mode": "lines",
         "name": "pi+ (90)",
         "showlegend": false,
         "type": "scatter3d",
         "x": [
          155.11584205757475,
          165.72167188869946
         ],
         "y": [
          169.42503674098407,
          307.3680141566944
         ],
         "z": [
          98.65637371636545,
          106.72908278680259
         ]
        },
        {
         "marker": {
          "color": "blue",
          "size": 6,
          "symbol": "cross"
         },
         "mode": "markers",
         "name": "MeVPRTL Decay Point",
         "showlegend": false,
         "type": "scatter3d",
         "x": [
          -122.51048949256166
         ],
         "y": [
          403.83133007095967
         ],
         "z": [
          44.60357777296343
         ]
        },
        {
         "marker": {
          "color": "red",
          "size": 5
         },
         "mode": "markers",
         "name": "Parent Decay Point",
         "showlegend": false,
         "type": "scatter3d",
         "x": [
          2.3112322998046864
         ],
         "y": [
          -8458.05419921875
         ],
         "z": [
          -104.40792083740234
         ]
        },
        {
         "line": {
          "color": "black",
          "dash": "dot",
          "width": 4
         },
         "mode": "lines",
         "name": "Decay Path",
         "showlegend": false,
         "type": "scatter3d",
         "x": [
          -120.08049402912384,
          -122.51048949256166
         ],
         "y": [
          231.31054342854793,
          403.83133007095967
         ],
         "z": [
          41.70266228787192,
          44.60357777296343
         ]
        },
        {
         "line": {
          "color": "red",
          "width": 4
         },
         "mode": "lines",
         "name": "mu- (91)",
         "showlegend": false,
         "type": "scatter3d",
         "x": [
          -122.51048949256166,
          -116.75338109925332
         ],
         "y": [
          403.83133007095967,
          469.6097677582793
         ],
         "z": [
          44.60357777296343,
          59.17197731887889
         ]
        },
        {
         "line": {
          "color": "green",
          "width": 4
         },
         "mode": "lines",
         "name": "pi+ (91)",
         "showlegend": false,
         "type": "scatter3d",
         "x": [
          -122.51048949256166,
          -129.56483471678825
         ],
         "y": [
          403.83133007095967,
          508.1067019597366
         ],
         "z": [
          44.60357777296343,
          35.10625942513694
         ]
        },
        {
         "marker": {
          "color": "blue",
          "size": 6,
          "symbol": "cross"
         },
         "mode": "markers",
         "name": "MeVPRTL Decay Point",
         "showlegend": false,
         "type": "scatter3d",
         "x": [
          207.89901628800763
         ],
         "y": [
          508.0246013224514
         ],
         "z": [
          158.9151987972717
         ]
        },
        {
         "marker": {
          "color": "red",
          "size": 5
         },
         "mode": "markers",
         "name": "Parent Decay Point",
         "showlegend": false,
         "type": "scatter3d",
         "x": [
          -59.48218086242676
         ],
         "y": [
          -10634.173095703125
         ],
         "z": [
          -46.50748825073242
         ]
        },
        {
         "line": {
          "color": "black",
          "dash": "dot",
          "width": 4
         },
         "mode": "lines",
         "name": "Decay Path",
         "showlegend": false,
         "type": "scatter3d",
         "x": [
          200.87142830262803,
          207.89901628800763
         ],
         "y": [
          215.17388668418016,
          508.0246013224514
         ],
         "z": [
          153.51606818222425,
          158.9151987972717
         ]
        },
        {
         "line": {
          "color": "red",
          "width": 4
         },
         "mode": "lines",
         "name": "mu- (92)",
         "showlegend": false,
         "type": "scatter3d",
         "x": [
          207.89901628800763,
          210.4018166974733
         ],
         "y": [
          508.0246013224514,
          626.1466983049021
         ],
         "z": [
          158.9151987972717,
          173.86340059960727
         ]
        },
        {
         "line": {
          "color": "green",
          "width": 4
         },
         "mode": "lines",
         "name": "pi+ (92)",
         "showlegend": false,
         "type": "scatter3d",
         "x": [
          207.89901628800763,
          212.3892794701997
         ],
         "y": [
          508.0246013224514,
          681.6122263408308
         ],
         "z": [
          158.9151987972717,
          149.6200489087397
         ]
        },
        {
         "marker": {
          "color": "blue",
          "size": 6,
          "symbol": "cross"
         },
         "mode": "markers",
         "name": "MeVPRTL Decay Point",
         "showlegend": false,
         "type": "scatter3d",
         "x": [
          83.60240053604963
         ],
         "y": [
          45.361693629170986
         ],
         "z": [
          -18.79377409729904
         ]
        },
        {
         "marker": {
          "color": "red",
          "size": 5
         },
         "mode": "markers",
         "name": "Parent Decay Point",
         "showlegend": false,
         "type": "scatter3d",
         "x": [
          -69.56828382492066
         ],
         "y": [
          -10905.605461120605
         ],
         "z": [
          -4.431676387786865
         ]
        },
        {
         "line": {
          "color": "black",
          "dash": "dot",
          "width": 4
         },
         "mode": "lines",
         "name": "Decay Path",
         "showlegend": false,
         "type": "scatter3d",
         "x": [
          69.25141488609435,
          83.60240053604963
         ],
         "y": [
          -980.664749659288,
          45.361693629170986
         ],
         "z": [
          -17.44814938463056,
          -18.79377409729904
         ]
        },
        {
         "line": {
          "color": "red",
          "width": 4
         },
         "mode": "lines",
         "name": "mu- (93)",
         "showlegend": false,
         "type": "scatter3d",
         "x": [
          83.60240053604963,
          94.3183013969471
         ],
         "y": [
          45.361693629170986,
          496.98555151242977
         ],
         "z": [
          -18.79377409729904,
          -8.123104144618532
         ]
        },
        {
         "line": {
          "color": "green",
          "width": 4
         },
         "mode": "lines",
         "name": "pi+ (93)",
         "showlegend": false,
         "type": "scatter3d",
         "x": [
          83.60240053604963,
          87.23098520328179
         ],
         "y": [
          45.361693629170986,
          619.4750744314221
         ],
         "z": [
          -18.79377409729904,
          -30.815975121274523
         ]
        },
        {
         "marker": {
          "color": "blue",
          "size": 6,
          "symbol": "cross"
         },
         "mode": "markers",
         "name": "MeVPRTL Decay Point",
         "showlegend": false,
         "type": "scatter3d",
         "x": [
          -204.04555189729936
         ],
         "y": [
          429.1424893364838
         ],
         "z": [
          -59.49537797477359
         ]
        },
        {
         "marker": {
          "color": "red",
          "size": 5
         },
         "mode": "markers",
         "name": "Parent Decay Point",
         "showlegend": false,
         "type": "scatter3d",
         "x": [
          -114.49650314331055
         ],
         "y": [
          -10818.458618164062
         ],
         "z": [
          45.85167694091797
         ]
        },
        {
         "line": {
          "color": "black",
          "dash": "dot",
          "width": 4
         },
         "mode": "lines",
         "name": "Decay Path",
         "showlegend": false,
         "type": "scatter3d",
         "x": [
          -201.91757532921108,
          -204.04555189729936
         ],
         "y": [
          161.8629153265054,
          429.1424893364838
         ],
         "z": [
          -56.9919894128966,
          -59.49537797477359
         ]
        },
        {
         "line": {
          "color": "red",
          "width": 4
         },
         "mode": "lines",
         "name": "mu- (94)",
         "showlegend": false,
         "type": "scatter3d",
         "x": [
          -204.04555189729936,
          -199.41326187586557
         ],
         "y": [
          429.1424893364838,
          542.9121929458747
         ],
         "z": [
          -59.49537797477359,
          -48.1978108281
         ]
        },
        {
         "line": {
          "color": "green",
          "width": 4
         },
         "mode": "lines",
         "name": "pi+ (94)",
         "showlegend": false,
         "type": "scatter3d",
         "x": [
          -204.04555189729936,
          -210.77786713950002
         ],
         "y": [
          429.1424893364838,
          581.2506392227667
         ],
         "z": [
          -59.49537797477359,
          -73.24571998573882
         ]
        },
        {
         "marker": {
          "color": "blue",
          "size": 6,
          "symbol": "cross"
         },
         "mode": "markers",
         "name": "MeVPRTL Decay Point",
         "showlegend": false,
         "type": "scatter3d",
         "x": [
          -106.14943588565272
         ],
         "y": [
          410.0632470355886
         ],
         "z": [
          -196.51828656310536
         ]
        },
        {
         "marker": {
          "color": "red",
          "size": 5
         },
         "mode": "markers",
         "name": "Parent Decay Point",
         "showlegend": false,
         "type": "scatter3d",
         "x": [
          -138.88128784179688
         ],
         "y": [
          -8243.8154296875
         ],
         "z": [
          -1.0557893514633179
         ]
        },
        {
         "line": {
          "color": "black",
          "dash": "dot",
          "width": 4
         },
         "mode": "lines",
         "name": "Decay Path",
         "showlegend": false,
         "type": "scatter3d",
         "x": [
          -114.76058650293498,
          -106.14943588565272
         ],
         "y": [
          -1866.6136977579845,
          410.0632470355886
         ],
         "z": [
          -145.09568432920963,
          -196.51828656310536
         ]
        },
        {
         "line": {
          "color": "red",
          "width": 4
         },
         "mode": "lines",
         "name": "mu- (95)",
         "showlegend": false,
         "type": "scatter3d",
         "x": [
          -106.14943588565272,
          -113.37884304137351
         ],
         "y": [
          410.0632470355886,
          1299.9837818869241
         ],
         "z": [
          -196.51828656310536,
          -218.79440497224496
         ]
        },
        {
         "line": {
          "color": "green",
          "width": 4
         },
         "mode": "lines",
         "name": "pi+ (95)",
         "showlegend": false,
         "type": "scatter3d",
         "x": [
          -106.14943588565272,
          -90.31454700862731
         ],
         "y": [
          410.0632470355886,
          1796.711833822964
         ],
         "z": [
          -196.51828656310536,
          -225.663415378227
         ]
        },
        {
         "marker": {
          "color": "blue",
          "size": 6,
          "symbol": "cross"
         },
         "mode": "markers",
         "name": "MeVPRTL Decay Point",
         "showlegend": false,
         "type": "scatter3d",
         "x": [
          208.29277540663227
         ],
         "y": [
          23.446986924060184
         ],
         "z": [
          112.37156974911069
         ]
        },
        {
         "marker": {
          "color": "red",
          "size": 5
         },
         "mode": "markers",
         "name": "Parent Decay Point",
         "showlegend": false,
         "type": "scatter3d",
         "x": [
          -98.5888321685791
         ],
         "y": [
          -10520.553985595703
         ],
         "z": [
          3.877554416656494
         ]
        },
        {
         "line": {
          "color": "black",
          "dash": "dot",
          "width": 4
         },
         "mode": "lines",
         "name": "Decay Path",
         "showlegend": false,
         "type": "scatter3d",
         "x": [
          178.145968854233,
          208.29277540663227
         ],
         "y": [
          -1012.3529755385293,
          23.446986924060184
         ],
         "z": [
          101.71355697941763,
          112.37156974911069
         ]
        },
        {
         "line": {
          "color": "red",
          "width": 4
         },
         "mode": "lines",
         "name": "mu- (96)",
         "showlegend": false,
         "type": "scatter3d",
         "x": [
          208.29277540663227,
          225.23942204572643
         ],
         "y": [
          23.446986924060184,
          569.1666187724788
         ],
         "z": [
          112.37156974911069,
          120.3188452815441
         ]
        },
        {
         "line": {
          "color": "green",
          "width": 4
         },
         "mode": "lines",
         "name": "pi+ (96)",
         "showlegend": false,
         "type": "scatter3d",
         "x": [
          208.29277540663227,
          221.48667145845656
         ],
         "y": [
          23.446986924060184,
          513.5148438625224
         ],
         "z": [
          112.37156974911069,
          115.06924016765373
         ]
        },
        {
         "marker": {
          "color": "blue",
          "size": 6,
          "symbol": "cross"
         },
         "mode": "markers",
         "name": "MeVPRTL Decay Point",
         "showlegend": false,
         "type": "scatter3d",
         "x": [
          -20.580914858280593
         ],
         "y": [
          389.96977809654527
         ],
         "z": [
          -148.19257386872016
         ]
        },
        {
         "marker": {
          "color": "red",
          "size": 5
         },
         "mode": "markers",
         "name": "Parent Decay Point",
         "showlegend": false,
         "type": "scatter3d",
         "x": [
          -105.31178787231445
         ],
         "y": [
          -10658.279266357422
         ],
         "z": [
          -60.21078872680664
         ]
        },
        {
         "line": {
          "color": "black",
          "dash": "dot",
          "width": 4
         },
         "mode": "lines",
         "name": "Decay Path",
         "showlegend": false,
         "type": "scatter3d",
         "x": [
          -21.842869509021043,
          -20.580914858280593
         ],
         "y": [
          225.42067375911986,
          389.96977809654527
         ],
         "z": [
          -146.88220116759274,
          -148.19257386872016
         ]
        },
        {
         "line": {
          "color": "red",
          "width": 4
         },
         "mode": "lines",
         "name": "mu- (97)",
         "showlegend": false,
         "type": "scatter3d",
         "x": [
          -20.580914858280593,
          -34.48952586754821
         ],
         "y": [
          389.96977809654527,
          456.7616148366099
         ],
         "z": [
          -148.19257386872016,
          -159.89014991333286
         ]
        },
        {
         "line": {
          "color": "green",
          "width": 4
         },
         "mode": "lines",
         "name": "pi+ (97)",
         "showlegend": false,
         "type": "scatter3d",
         "x": [
          -20.580914858280593,
          -6.185863814265094
         ],
         "y": [
          389.96977809654527,
          483.7003822300724
         ],
         "z": [
          -148.19257386872016,
          -138.34985469176445
         ]
        },
        {
         "marker": {
          "color": "blue",
          "size": 6,
          "symbol": "cross"
         },
         "mode": "markers",
         "name": "MeVPRTL Decay Point",
         "showlegend": false,
         "type": "scatter3d",
         "x": [
          -183.70147215633455
         ],
         "y": [
          84.99899636060945
         ],
         "z": [
          -51.601430075296506
         ]
        },
        {
         "marker": {
          "color": "red",
          "size": 5
         },
         "mode": "markers",
         "name": "Parent Decay Point",
         "showlegend": false,
         "type": "scatter3d",
         "x": [
          -98.90490463256836
         ],
         "y": [
          -9097.796142578125
         ],
         "z": [
          -7.903017044067383
         ]
        },
        {
         "line": {
          "color": "black",
          "dash": "dot",
          "width": 4
         },
         "mode": "lines",
         "name": "Decay Path",
         "showlegend": false,
         "type": "scatter3d",
         "x": [
          -160.85567636313084,
          -183.70147215633455
         ],
         "y": [
          -2389.019335763741,
          84.99899636060945
         ],
         "z": [
          -39.82825281409748,
          -51.601430075296506
         ]
        },
        {
         "line": {
          "color": "red",
          "width": 4
         },
         "mode": "lines",
         "name": "mu- (98)",
         "showlegend": false,
         "type": "scatter3d",
         "x": [
          -183.70147215633455,
          -186.44707564216193
         ],
         "y": [
          84.99899636060945,
          1017.4630514053943
         ],
         "z": [
          -51.601430075296506,
          -63.834014131920185
         ]
        },
        {
         "line": {
          "color": "green",
          "width": 4
         },
         "mode": "lines",
         "name": "pi+ (98)",
         "showlegend": false,
         "type": "scatter3d",
         "x": [
          -183.70147215633455,
          -203.7974988014412
         ],
         "y": [
          84.99899636060945,
          1626.4714329061908
         ],
         "z": [
          -51.601430075296506,
          -51.146165964481696
         ]
        },
        {
         "marker": {
          "color": "blue",
          "size": 6,
          "symbol": "cross"
         },
         "mode": "markers",
         "name": "MeVPRTL Decay Point",
         "showlegend": false,
         "type": "scatter3d",
         "x": [
          136.8135020997843
         ],
         "y": [
          111.2785383902301
         ],
         "z": [
          -197.1995524180409
         ]
        },
        {
         "marker": {
          "color": "red",
          "size": 5
         },
         "mode": "markers",
         "name": "Parent Decay Point",
         "showlegend": false,
         "type": "scatter3d",
         "x": [
          -50.713176040649415
         ],
         "y": [
          -10644.370635986328
         ],
         "z": [
          -2.141873836517334
         ]
        },
        {
         "line": {
          "color": "black",
          "dash": "dot",
          "width": 4
         },
         "mode": "lines",
         "name": "Decay Path",
         "showlegend": false,
         "type": "scatter3d",
         "x": [
          132.50065586042732,
          136.8135020997843
         ],
         "y": [
          -136.08605822900296,
          111.2785383902301
         ],
         "z": [
          -192.71350390552985,
          -197.1995524180409
         ]
        },
        {
         "line": {
          "color": "red",
          "width": 4
         },
         "mode": "lines",
         "name": "mu- (99)",
         "showlegend": false,
         "type": "scatter3d",
         "x": [
          136.8135020997843,
          145.14187472481143
         ],
         "y": [
          111.2785383902301,
          202.63579653708504
         ],
         "z": [
          -197.1995524180409,
          -206.2424812738949
         ]
        },
        {
         "line": {
          "color": "green",
          "width": 4
         },
         "mode": "lines",
         "name": "pi+ (99)",
         "showlegend": false,
         "type": "scatter3d",
         "x": [
          136.8135020997843,
          133.33999367343168
         ],
         "y": [
          111.2785383902301,
          266.45125557130905
         ],
         "z": [
          -197.1995524180409,
          -193.23786493643422
         ]
        }
       ],
       "layout": {
        "height": 800,
        "scene": {
         "aspectmode": "manual",
         "aspectratio": {
          "x": 1,
          "y": 1,
          "z": 1
         },
         "camera": {
          "center": {
           "x": 0,
           "y": 0,
           "z": 0
          },
          "eye": {
           "x": 1.25,
           "y": -1.25,
           "z": 1.25
          },
          "up": {
           "x": 0,
           "y": 0,
           "z": 1
          }
         },
         "xaxis": {
          "range": [
           -240,
           240
          ],
          "title": {
           "text": "X (cm)"
          }
         },
         "yaxis": {
          "range": [
           -50,
           550
          ],
          "title": {
           "text": "Z (cm)"
          }
         },
         "zaxis": {
          "range": [
           -240,
           240
          ],
          "title": {
           "text": "Y (cm)"
          }
         }
        },
        "template": {
         "data": {
          "bar": [
           {
            "error_x": {
             "color": "#2a3f5f"
            },
            "error_y": {
             "color": "#2a3f5f"
            },
            "marker": {
             "line": {
              "color": "#E5ECF6",
              "width": 0.5
             },
             "pattern": {
              "fillmode": "overlay",
              "size": 10,
              "solidity": 0.2
             }
            },
            "type": "bar"
           }
          ],
          "barpolar": [
           {
            "marker": {
             "line": {
              "color": "#E5ECF6",
              "width": 0.5
             },
             "pattern": {
              "fillmode": "overlay",
              "size": 10,
              "solidity": 0.2
             }
            },
            "type": "barpolar"
           }
          ],
          "carpet": [
           {
            "aaxis": {
             "endlinecolor": "#2a3f5f",
             "gridcolor": "white",
             "linecolor": "white",
             "minorgridcolor": "white",
             "startlinecolor": "#2a3f5f"
            },
            "baxis": {
             "endlinecolor": "#2a3f5f",
             "gridcolor": "white",
             "linecolor": "white",
             "minorgridcolor": "white",
             "startlinecolor": "#2a3f5f"
            },
            "type": "carpet"
           }
          ],
          "choropleth": [
           {
            "colorbar": {
             "outlinewidth": 0,
             "ticks": ""
            },
            "type": "choropleth"
           }
          ],
          "contour": [
           {
            "colorbar": {
             "outlinewidth": 0,
             "ticks": ""
            },
            "colorscale": [
             [
              0,
              "#0d0887"
             ],
             [
              0.1111111111111111,
              "#46039f"
             ],
             [
              0.2222222222222222,
              "#7201a8"
             ],
             [
              0.3333333333333333,
              "#9c179e"
             ],
             [
              0.4444444444444444,
              "#bd3786"
             ],
             [
              0.5555555555555556,
              "#d8576b"
             ],
             [
              0.6666666666666666,
              "#ed7953"
             ],
             [
              0.7777777777777778,
              "#fb9f3a"
             ],
             [
              0.8888888888888888,
              "#fdca26"
             ],
             [
              1,
              "#f0f921"
             ]
            ],
            "type": "contour"
           }
          ],
          "contourcarpet": [
           {
            "colorbar": {
             "outlinewidth": 0,
             "ticks": ""
            },
            "type": "contourcarpet"
           }
          ],
          "heatmap": [
           {
            "colorbar": {
             "outlinewidth": 0,
             "ticks": ""
            },
            "colorscale": [
             [
              0,
              "#0d0887"
             ],
             [
              0.1111111111111111,
              "#46039f"
             ],
             [
              0.2222222222222222,
              "#7201a8"
             ],
             [
              0.3333333333333333,
              "#9c179e"
             ],
             [
              0.4444444444444444,
              "#bd3786"
             ],
             [
              0.5555555555555556,
              "#d8576b"
             ],
             [
              0.6666666666666666,
              "#ed7953"
             ],
             [
              0.7777777777777778,
              "#fb9f3a"
             ],
             [
              0.8888888888888888,
              "#fdca26"
             ],
             [
              1,
              "#f0f921"
             ]
            ],
            "type": "heatmap"
           }
          ],
          "heatmapgl": [
           {
            "colorbar": {
             "outlinewidth": 0,
             "ticks": ""
            },
            "colorscale": [
             [
              0,
              "#0d0887"
             ],
             [
              0.1111111111111111,
              "#46039f"
             ],
             [
              0.2222222222222222,
              "#7201a8"
             ],
             [
              0.3333333333333333,
              "#9c179e"
             ],
             [
              0.4444444444444444,
              "#bd3786"
             ],
             [
              0.5555555555555556,
              "#d8576b"
             ],
             [
              0.6666666666666666,
              "#ed7953"
             ],
             [
              0.7777777777777778,
              "#fb9f3a"
             ],
             [
              0.8888888888888888,
              "#fdca26"
             ],
             [
              1,
              "#f0f921"
             ]
            ],
            "type": "heatmapgl"
           }
          ],
          "histogram": [
           {
            "marker": {
             "pattern": {
              "fillmode": "overlay",
              "size": 10,
              "solidity": 0.2
             }
            },
            "type": "histogram"
           }
          ],
          "histogram2d": [
           {
            "colorbar": {
             "outlinewidth": 0,
             "ticks": ""
            },
            "colorscale": [
             [
              0,
              "#0d0887"
             ],
             [
              0.1111111111111111,
              "#46039f"
             ],
             [
              0.2222222222222222,
              "#7201a8"
             ],
             [
              0.3333333333333333,
              "#9c179e"
             ],
             [
              0.4444444444444444,
              "#bd3786"
             ],
             [
              0.5555555555555556,
              "#d8576b"
             ],
             [
              0.6666666666666666,
              "#ed7953"
             ],
             [
              0.7777777777777778,
              "#fb9f3a"
             ],
             [
              0.8888888888888888,
              "#fdca26"
             ],
             [
              1,
              "#f0f921"
             ]
            ],
            "type": "histogram2d"
           }
          ],
          "histogram2dcontour": [
           {
            "colorbar": {
             "outlinewidth": 0,
             "ticks": ""
            },
            "colorscale": [
             [
              0,
              "#0d0887"
             ],
             [
              0.1111111111111111,
              "#46039f"
             ],
             [
              0.2222222222222222,
              "#7201a8"
             ],
             [
              0.3333333333333333,
              "#9c179e"
             ],
             [
              0.4444444444444444,
              "#bd3786"
             ],
             [
              0.5555555555555556,
              "#d8576b"
             ],
             [
              0.6666666666666666,
              "#ed7953"
             ],
             [
              0.7777777777777778,
              "#fb9f3a"
             ],
             [
              0.8888888888888888,
              "#fdca26"
             ],
             [
              1,
              "#f0f921"
             ]
            ],
            "type": "histogram2dcontour"
           }
          ],
          "mesh3d": [
           {
            "colorbar": {
             "outlinewidth": 0,
             "ticks": ""
            },
            "type": "mesh3d"
           }
          ],
          "parcoords": [
           {
            "line": {
             "colorbar": {
              "outlinewidth": 0,
              "ticks": ""
             }
            },
            "type": "parcoords"
           }
          ],
          "pie": [
           {
            "automargin": true,
            "type": "pie"
           }
          ],
          "scatter": [
           {
            "fillpattern": {
             "fillmode": "overlay",
             "size": 10,
             "solidity": 0.2
            },
            "type": "scatter"
           }
          ],
          "scatter3d": [
           {
            "line": {
             "colorbar": {
              "outlinewidth": 0,
              "ticks": ""
             }
            },
            "marker": {
             "colorbar": {
              "outlinewidth": 0,
              "ticks": ""
             }
            },
            "type": "scatter3d"
           }
          ],
          "scattercarpet": [
           {
            "marker": {
             "colorbar": {
              "outlinewidth": 0,
              "ticks": ""
             }
            },
            "type": "scattercarpet"
           }
          ],
          "scattergeo": [
           {
            "marker": {
             "colorbar": {
              "outlinewidth": 0,
              "ticks": ""
             }
            },
            "type": "scattergeo"
           }
          ],
          "scattergl": [
           {
            "marker": {
             "colorbar": {
              "outlinewidth": 0,
              "ticks": ""
             }
            },
            "type": "scattergl"
           }
          ],
          "scattermapbox": [
           {
            "marker": {
             "colorbar": {
              "outlinewidth": 0,
              "ticks": ""
             }
            },
            "type": "scattermapbox"
           }
          ],
          "scatterpolar": [
           {
            "marker": {
             "colorbar": {
              "outlinewidth": 0,
              "ticks": ""
             }
            },
            "type": "scatterpolar"
           }
          ],
          "scatterpolargl": [
           {
            "marker": {
             "colorbar": {
              "outlinewidth": 0,
              "ticks": ""
             }
            },
            "type": "scatterpolargl"
           }
          ],
          "scatterternary": [
           {
            "marker": {
             "colorbar": {
              "outlinewidth": 0,
              "ticks": ""
             }
            },
            "type": "scatterternary"
           }
          ],
          "surface": [
           {
            "colorbar": {
             "outlinewidth": 0,
             "ticks": ""
            },
            "colorscale": [
             [
              0,
              "#0d0887"
             ],
             [
              0.1111111111111111,
              "#46039f"
             ],
             [
              0.2222222222222222,
              "#7201a8"
             ],
             [
              0.3333333333333333,
              "#9c179e"
             ],
             [
              0.4444444444444444,
              "#bd3786"
             ],
             [
              0.5555555555555556,
              "#d8576b"
             ],
             [
              0.6666666666666666,
              "#ed7953"
             ],
             [
              0.7777777777777778,
              "#fb9f3a"
             ],
             [
              0.8888888888888888,
              "#fdca26"
             ],
             [
              1,
              "#f0f921"
             ]
            ],
            "type": "surface"
           }
          ],
          "table": [
           {
            "cells": {
             "fill": {
              "color": "#EBF0F8"
             },
             "line": {
              "color": "white"
             }
            },
            "header": {
             "fill": {
              "color": "#C8D4E3"
             },
             "line": {
              "color": "white"
             }
            },
            "type": "table"
           }
          ]
         },
         "layout": {
          "annotationdefaults": {
           "arrowcolor": "#2a3f5f",
           "arrowhead": 0,
           "arrowwidth": 1
          },
          "autosize": false,
          "autotypenumbers": "strict",
          "coloraxis": {
           "colorbar": {
            "outlinewidth": 0,
            "ticks": ""
           }
          },
          "colorscale": {
           "diverging": [
            [
             0,
             "#8e0152"
            ],
            [
             0.1,
             "#c51b7d"
            ],
            [
             0.2,
             "#de77ae"
            ],
            [
             0.3,
             "#f1b6da"
            ],
            [
             0.4,
             "#fde0ef"
            ],
            [
             0.5,
             "#f7f7f7"
            ],
            [
             0.6,
             "#e6f5d0"
            ],
            [
             0.7,
             "#b8e186"
            ],
            [
             0.8,
             "#7fbc41"
            ],
            [
             0.9,
             "#4d9221"
            ],
            [
             1,
             "#276419"
            ]
           ],
           "sequential": [
            [
             0,
             "#0d0887"
            ],
            [
             0.1111111111111111,
             "#46039f"
            ],
            [
             0.2222222222222222,
             "#7201a8"
            ],
            [
             0.3333333333333333,
             "#9c179e"
            ],
            [
             0.4444444444444444,
             "#bd3786"
            ],
            [
             0.5555555555555556,
             "#d8576b"
            ],
            [
             0.6666666666666666,
             "#ed7953"
            ],
            [
             0.7777777777777778,
             "#fb9f3a"
            ],
            [
             0.8888888888888888,
             "#fdca26"
            ],
            [
             1,
             "#f0f921"
            ]
           ],
           "sequentialminus": [
            [
             0,
             "#0d0887"
            ],
            [
             0.1111111111111111,
             "#46039f"
            ],
            [
             0.2222222222222222,
             "#7201a8"
            ],
            [
             0.3333333333333333,
             "#9c179e"
            ],
            [
             0.4444444444444444,
             "#bd3786"
            ],
            [
             0.5555555555555556,
             "#d8576b"
            ],
            [
             0.6666666666666666,
             "#ed7953"
            ],
            [
             0.7777777777777778,
             "#fb9f3a"
            ],
            [
             0.8888888888888888,
             "#fdca26"
            ],
            [
             1,
             "#f0f921"
            ]
           ]
          },
          "colorway": [
           "#636efa",
           "#EF553B",
           "#00cc96",
           "#ab63fa",
           "#FFA15A",
           "#19d3f3",
           "#FF6692",
           "#B6E880",
           "#FF97FF",
           "#FECB52"
          ],
          "font": {
           "color": "#2a3f5f"
          },
          "geo": {
           "bgcolor": "white",
           "lakecolor": "white",
           "landcolor": "#E5ECF6",
           "showlakes": true,
           "showland": true,
           "subunitcolor": "white"
          },
          "hoverlabel": {
           "align": "left"
          },
          "hovermode": "closest",
          "mapbox": {
           "style": "light"
          },
          "paper_bgcolor": "white",
          "plot_bgcolor": "#E5ECF6",
          "polar": {
           "angularaxis": {
            "gridcolor": "white",
            "linecolor": "white",
            "ticks": ""
           },
           "bgcolor": "#E5ECF6",
           "radialaxis": {
            "gridcolor": "white",
            "linecolor": "white",
            "ticks": ""
           }
          },
          "scene": {
           "xaxis": {
            "backgroundcolor": "#E5ECF6",
            "gridcolor": "white",
            "gridwidth": 2,
            "linecolor": "white",
            "showbackground": true,
            "ticks": "",
            "zerolinecolor": "white"
           },
           "yaxis": {
            "backgroundcolor": "#E5ECF6",
            "gridcolor": "white",
            "gridwidth": 2,
            "linecolor": "white",
            "showbackground": true,
            "ticks": "",
            "zerolinecolor": "white"
           },
           "zaxis": {
            "backgroundcolor": "#E5ECF6",
            "gridcolor": "white",
            "gridwidth": 2,
            "linecolor": "white",
            "showbackground": true,
            "ticks": "",
            "zerolinecolor": "white"
           }
          },
          "shapedefaults": {
           "line": {
            "color": "#2a3f5f"
           }
          },
          "ternary": {
           "aaxis": {
            "gridcolor": "white",
            "linecolor": "white",
            "ticks": ""
           },
           "baxis": {
            "gridcolor": "white",
            "linecolor": "white",
            "ticks": ""
           },
           "bgcolor": "#E5ECF6",
           "caxis": {
            "gridcolor": "white",
            "linecolor": "white",
            "ticks": ""
           }
          },
          "title": {
           "x": 0.05
          },
          "xaxis": {
           "automargin": true,
           "gridcolor": "white",
           "linecolor": "white",
           "ticks": "",
           "title": {
            "standoff": 15
           },
           "zerolinecolor": "white",
           "zerolinewidth": 2
          },
          "yaxis": {
           "automargin": true,
           "gridcolor": "white",
           "linecolor": "white",
           "ticks": "",
           "title": {
            "standoff": 15
           },
           "zerolinecolor": "white",
           "zerolinewidth": 2
          }
         }
        },
        "width": 1200
       }
      },
      "text/html": [
       "<div>                            <div id=\"6a76d65c-44de-4075-a03c-29ada72569fb\" class=\"plotly-graph-div\" style=\"height:800px; width:1200px;\"></div>            <script type=\"text/javascript\">                require([\"plotly\"], function(Plotly) {                    window.PLOTLYENV=window.PLOTLYENV || {};                                    if (document.getElementById(\"6a76d65c-44de-4075-a03c-29ada72569fb\")) {                    Plotly.newPlot(                        \"6a76d65c-44de-4075-a03c-29ada72569fb\",                        [{\"line\":{\"color\":\"lightgrey\",\"width\":2},\"mode\":\"lines\",\"name\":\"Detector Box\",\"x\":[-200,200,200,-200,-200,-200,200,200,-200,-200,-200,-200,200,200,200,200,0,0,0,0,0],\"y\":[0,0,500,500,0,0,0,500,500,0,500,500,500,500,0,0,0,0,500,500,0],\"z\":[-200,-200,-200,-200,-200,200,200,200,200,200,200,-200,-200,200,200,-200,-200,200,200,-200,-200],\"type\":\"scatter3d\"},{\"marker\":{\"color\":\"blue\",\"size\":6,\"symbol\":\"cross\"},\"mode\":\"markers\",\"name\":\"MeVPRTL Decay Point\",\"showlegend\":true,\"x\":[173.96912316867596],\"y\":[175.5183630259362],\"z\":[7.958934626802683],\"type\":\"scatter3d\"},{\"marker\":{\"color\":\"red\",\"size\":5},\"mode\":\"markers\",\"name\":\"Parent Decay Point\",\"showlegend\":true,\"x\":[-88.10411670684815],\"y\":[-10748.019989013672],\"z\":[0.8224661946296692],\"type\":\"scatter3d\"},{\"line\":{\"color\":\"black\",\"dash\":\"dot\",\"width\":4},\"mode\":\"lines\",\"name\":\"Decay Path\",\"showlegend\":true,\"x\":[153.07532487821734,173.96912316867596],\"y\":[-695.3611172827284,175.5183630259362],\"z\":[7.389979429397295,7.958934626802683],\"type\":\"scatter3d\"},{\"line\":{\"color\":\"red\",\"dash\":\"dash\",\"width\":4},\"mode\":\"lines\",\"name\":\"nu_mu (0)\",\"showlegend\":true,\"x\":[173.96912316867596,194.18024161055797],\"y\":[175.5183630259362,454.59472530737395],\"z\":[7.958934626802683,64.47068803378659],\"type\":\"scatter3d\"},{\"line\":{\"color\":\"blue\",\"width\":4},\"mode\":\"lines\",\"name\":\"e- (0)\",\"showlegend\":true,\"x\":[173.96912316867596,180.29629285984456],\"y\":[175.5183630259362,335.4266629592212],\"z\":[7.958934626802683,-10.3845227942405],\"type\":\"scatter3d\"},{\"line\":{\"color\":\"blue\",\"width\":4},\"mode\":\"lines\",\"name\":\"e- (0)\",\"showlegend\":false,\"x\":[173.96912316867596,168.10842105250714],\"y\":[175.5183630259362,598.4011750387331],\"z\":[7.958934626802683,-29.646323869961268],\"type\":\"scatter3d\"},{\"marker\":{\"color\":\"blue\",\"size\":6,\"symbol\":\"cross\"},\"mode\":\"markers\",\"name\":\"MeVPRTL Decay Point\",\"showlegend\":false,\"x\":[96.93109598959188],\"y\":[40.77348702267682],\"z\":[54.77963053165668],\"type\":\"scatter3d\"},{\"marker\":{\"color\":\"red\",\"size\":5},\"mode\":\"markers\",\"name\":\"Parent Decay Point\",\"showlegend\":false,\"x\":[15.239813537597655],\"y\":[-7538.174072265625],\"z\":[-15.181720733642578],\"type\":\"scatter3d\"},{\"line\":{\"color\":\"black\",\"dash\":\"dot\",\"width\":4},\"mode\":\"lines\",\"name\":\"Decay Path\",\"showlegend\":false,\"x\":[93.77509713746825,96.93109598959188],\"y\":[-252.02580660421762,40.77348702267682],\"z\":[52.07679691638012,54.77963053165668],\"type\":\"scatter3d\"},{\"line\":{\"color\":\"red\",\"width\":4},\"mode\":\"lines\",\"name\":\"mu- (1)\",\"showlegend\":true,\"x\":[96.93109598959188,108.18363590332855],\"y\":[40.77348702267682,176.74788060934824],\"z\":[54.77963053165668,63.08556566769089],\"type\":\"scatter3d\"},{\"line\":{\"color\":\"green\",\"width\":4},\"mode\":\"lines\",\"name\":\"pi+ (1)\",\"showlegend\":true,\"x\":[96.93109598959188,88.52007092520934],\"y\":[40.77348702267682,196.57468176570927],\"z\":[54.77963053165668,48.94846579751609],\"type\":\"scatter3d\"},{\"marker\":{\"color\":\"blue\",\"size\":6,\"symbol\":\"cross\"},\"mode\":\"markers\",\"name\":\"MeVPRTL Decay Point\",\"showlegend\":false,\"x\":[-186.88032270829837],\"y\":[198.43118414813216],\"z\":[-88.85684917890936],\"type\":\"scatter3d\"},{\"marker\":{\"color\":\"red\",\"size\":5},\"mode\":\"markers\",\"name\":\"Parent Decay Point\",\"showlegend\":false,\"x\":[-45.89623001098633],\"y\":[-10796.98942565918],\"z\":[-25.210966110229492],\"type\":\"scatter3d\"},{\"line\":{\"color\":\"black\",\"dash\":\"dot\",\"width\":4},\"mode\":\"lines\",\"name\":\"Decay Path\",\"showlegend\":false,\"x\":[-181.99754380271375,-186.88032270829837],\"y\":[-182.3792093113928,198.43118414813216],\"z\":[-86.65256662951377,-88.85684917890936],\"type\":\"scatter3d\"},{\"line\":{\"color\":\"red\",\"width\":4},\"mode\":\"lines\",\"name\":\"mu- (2)\",\"showlegend\":false,\"x\":[-186.88032270829837,-187.84603509146564],\"y\":[198.43118414813216,337.56447154292766],\"z\":[-88.85684917890936,-98.38156925424866],\"type\":\"scatter3d\"},{\"line\":{\"color\":\"green\",\"width\":4},\"mode\":\"lines\",\"name\":\"pi+ (2)\",\"showlegend\":false,\"x\":[-186.88032270829837,-190.76473868787227],\"y\":[198.43118414813216,439.68324041818073],\"z\":[-88.85684917890936,-81.82379776177197],\"type\":\"scatter3d\"},{\"marker\":{\"color\":\"blue\",\"size\":6,\"symbol\":\"cross\"},\"mode\":\"markers\",\"name\":\"MeVPRTL Decay Point\",\"showlegend\":false,\"x\":[-72.15978307416052],\"y\":[249.91224061929643],\"z\":[-55.15809283114445],\"type\":\"scatter3d\"},{\"marker\":{\"color\":\"red\",\"size\":5},\"mode\":\"markers\",\"name\":\"Parent Decay Point\",\"showlegend\":false,\"x\":[-77.7878182220459],\"y\":[-10865.16683959961],\"z\":[2.2654407024383545],\"type\":\"scatter3d\"},{\"line\":{\"color\":\"black\",\"dash\":\"dot\",\"width\":4},\"mode\":\"lines\",\"name\":\"Decay Path\",\"showlegend\":false,\"x\":[-72.54713696526979,-72.15978307416052],\"y\":[-515.0917116619557,249.91224061929643],\"z\":[-51.20587352707084,-55.15809283114445],\"type\":\"scatter3d\"},{\"line\":{\"color\":\"red\",\"width\":4},\"mode\":\"lines\",\"name\":\"mu- (3)\",\"showlegend\":false,\"x\":[-72.15978307416052,-66.6418101253437],\"y\":[249.91224061929643,519.8094613392436],\"z\":[-55.15809283114445,-60.227913895141214],\"type\":\"scatter3d\"},{\"line\":{\"color\":\"green\",\"width\":4},\"mode\":\"lines\",\"name\":\"pi+ (3)\",\"showlegend\":false,\"x\":[-72.15978307416052,-77.23968561455825],\"y\":[249.91224061929643,744.8980241690647],\"z\":[-55.15809283114445,-54.074547635918364],\"type\":\"scatter3d\"},{\"marker\":{\"color\":\"blue\",\"size\":6,\"symbol\":\"cross\"},\"mode\":\"markers\",\"name\":\"MeVPRTL Decay Point\",\"showlegend\":false,\"x\":[88.70922987745118],\"y\":[355.92736876052186],\"z\":[-99.2476562027975],\"type\":\"scatter3d\"},{\"marker\":{\"color\":\"red\",\"size\":5},\"mode\":\"markers\",\"name\":\"Parent Decay Point\",\"showlegend\":false,\"x\":[-121.6876156616211],\"y\":[-10624.900970458984],\"z\":[-34.05895233154297],\"type\":\"scatter3d\"},{\"line\":{\"color\":\"black\",\"dash\":\"dot\",\"width\":4},\"mode\":\"lines\",\"name\":\"Decay Path\",\"showlegend\":false,\"x\":[75.02940532836024,88.70922987745118],\"y\":[-358.03678169682064,355.92736876052186],\"z\":[-95.00914193583432,-99.2476562027975],\"type\":\"scatter3d\"},{\"line\":{\"color\":\"red\",\"width\":4},\"mode\":\"lines\",\"name\":\"mu- (4)\",\"showlegend\":false,\"x\":[88.70922987745118,90.77250528918945],\"y\":[355.92736876052186,638.3388659648449],\"z\":[-99.2476562027975,-90.19215236280007],\"type\":\"scatter3d\"},{\"line\":{\"color\":\"green\",\"width\":4},\"mode\":\"lines\",\"name\":\"pi+ (4)\",\"showlegend\":false,\"x\":[88.70922987745118,100.30355587536192],\"y\":[355.92736876052186,787.1118601661975],\"z\":[-99.2476562027975,-112.4908617807752],\"type\":\"scatter3d\"},{\"marker\":{\"color\":\"blue\",\"size\":6,\"symbol\":\"cross\"},\"mode\":\"markers\",\"name\":\"MeVPRTL Decay Point\",\"showlegend\":false,\"x\":[89.26889650057325],\"y\":[509.2601632988062],\"z\":[-209.41259565349384],\"type\":\"scatter3d\"},{\"marker\":{\"color\":\"red\",\"size\":5},\"mode\":\"markers\",\"name\":\"Parent Decay Point\",\"showlegend\":false,\"x\":[-72.6819900560379],\"y\":[-10745.599822998047],\"z\":[4.354379653930664],\"type\":\"scatter3d\"},{\"line\":{\"color\":\"black\",\"dash\":\"dot\",\"width\":4},\"mode\":\"lines\",\"name\":\"Decay Path\",\"showlegend\":false,\"x\":[73.03351191895032,89.26889650057325],\"y\":[-619.0262213884123,509.2601632988062],\"z\":[-187.9827095395135,-209.41259565349384],\"type\":\"scatter3d\"},{\"line\":{\"color\":\"red\",\"width\":4},\"mode\":\"lines\",\"name\":\"mu- (5)\",\"showlegend\":false,\"x\":[89.26889650057325,92.40035980638379],\"y\":[509.2601632988062,1009.2322411622742],\"z\":[-209.41259565349384,-207.56368539282997],\"type\":\"scatter3d\"},{\"line\":{\"color\":\"green\",\"width\":4},\"mode\":\"lines\",\"name\":\"pi+ (5)\",\"showlegend\":false,\"x\":[89.26889650057325,102.37144862495964],\"y\":[509.2601632988062,1137.3136262478065],\"z\":[-209.41259565349384,-232.69309546187893],\"type\":\"scatter3d\"},{\"marker\":{\"color\":\"blue\",\"size\":6,\"symbol\":\"cross\"},\"mode\":\"markers\",\"name\":\"MeVPRTL Decay Point\",\"showlegend\":false,\"x\":[29.608043561753092],\"y\":[205.96965752142205],\"z\":[184.54654132366562],\"type\":\"scatter3d\"},{\"marker\":{\"color\":\"red\",\"size\":5},\"mode\":\"markers\",\"name\":\"Parent Decay Point\",\"showlegend\":false,\"x\":[-81.42864540100098],\"y\":[-10926.445289611816],\"z\":[-3.7898151874542236],\"type\":\"scatter3d\"},{\"line\":{\"color\":\"black\",\"dash\":\"dot\",\"width\":4},\"mode\":\"lines\",\"name\":\"Decay Path\",\"showlegend\":false,\"x\":[23.3185103804864,29.608043561753092],\"y\":[-424.6119443949533,205.96965752142205],\"z\":[173.87846598225389,184.54654132366562],\"type\":\"scatter3d\"},{\"line\":{\"color\":\"red\",\"width\":4},\"mode\":\"lines\",\"name\":\"mu- (6)\",\"showlegend\":false,\"x\":[29.608043561753092,43.98922229269647],\"y\":[205.96965752142205,495.79518643674544],\"z\":[184.54654132366562,191.8721599380312],\"type\":\"scatter3d\"},{\"line\":{\"color\":\"green\",\"width\":4},\"mode\":\"lines\",\"name\":\"pi+ (6)\",\"showlegend\":false,\"x\":[29.608043561753092,21.458752765001037],\"y\":[205.96965752142205,546.284509555531],\"z\":[184.54654132366562,187.870308600275],\"type\":\"scatter3d\"},{\"marker\":{\"color\":\"blue\",\"size\":6,\"symbol\":\"cross\"},\"mode\":\"markers\",\"name\":\"MeVPRTL Decay Point\",\"showlegend\":false,\"x\":[-15.77078690829287],\"y\":[101.16884011346338],\"z\":[62.30092221779428],\"type\":\"scatter3d\"},{\"marker\":{\"color\":\"red\",\"size\":5},\"mode\":\"markers\",\"name\":\"Parent Decay Point\",\"showlegend\":false,\"x\":[-75.49351706981659],\"y\":[-10273.532531738281],\"z\":[-1.9533271789550781],\"type\":\"scatter3d\"},{\"line\":{\"color\":\"black\",\"dash\":\"dot\",\"width\":4},\"mode\":\"lines\",\"name\":\"Decay Path\",\"showlegend\":false,\"x\":[-21.843764859438608,-15.77078690829287],\"y\":[-953.7951997181945,101.16884011346338],\"z\":[55.7671512599275,62.30092221779428],\"type\":\"scatter3d\"},{\"line\":{\"color\":\"red\",\"width\":4},\"mode\":\"lines\",\"name\":\"mu- (7)\",\"showlegend\":false,\"x\":[-15.77078690829287,-8.000662694372533],\"y\":[101.16884011346338,645.7738613415863],\"z\":[62.30092221779428,61.776675711886305],\"type\":\"scatter3d\"},{\"line\":{\"color\":\"green\",\"width\":4},\"mode\":\"lines\",\"name\":\"pi+ (7)\",\"showlegend\":false,\"x\":[-15.77078690829287,-17.49022525587655],\"y\":[101.16884011346338,611.4579371385139],\"z\":[62.30092221779428,69.37691147211864],\"type\":\"scatter3d\"},{\"marker\":{\"color\":\"blue\",\"size\":6,\"symbol\":\"cross\"},\"mode\":\"markers\",\"name\":\"MeVPRTL Decay Point\",\"showlegend\":false,\"x\":[-57.919463776690584],\"y\":[201.4362603075042],\"z\":[103.45812999680848],\"type\":\"scatter3d\"},{\"marker\":{\"color\":\"red\",\"size\":5},\"mode\":\"markers\",\"name\":\"Parent Decay Point\",\"showlegend\":false,\"x\":[-17.664490966796876],\"y\":[-5889.74365234375],\"z\":[-59.72340774536133],\"type\":\"scatter3d\"},{\"line\":{\"color\":\"black\",\"dash\":\"dot\",\"width\":4},\"mode\":\"lines\",\"name\":\"Decay Path\",\"showlegend\":false,\"x\":[-56.71274172631812,-57.919463776690584],\"y\":[18.84115216783229,201.4362603075042],\"z\":[98.56644218628371,103.45812999680848],\"type\":\"scatter3d\"},{\"line\":{\"color\":\"red\",\"width\":4},\"mode\":\"lines\",\"name\":\"mu- (8)\",\"showlegend\":false,\"x\":[-57.919463776690584,-55.84067836088333],\"y\":[201.4362603075042,273.5006163213017],\"z\":[103.45812999680848,120.98588149303285],\"type\":\"scatter3d\"},{\"line\":{\"color\":\"green\",\"width\":4},\"mode\":\"lines\",\"name\":\"pi+ (8)\",\"showlegend\":false,\"x\":[-57.919463776690584,-60.9754137058607],\"y\":[201.4362603075042,309.2606711940424],\"z\":[103.45812999680848,92.04170964792202],\"type\":\"scatter3d\"},{\"marker\":{\"color\":\"blue\",\"size\":6,\"symbol\":\"cross\"},\"mode\":\"markers\",\"name\":\"MeVPRTL Decay Point\",\"showlegend\":false,\"x\":[-107.88799834337985],\"y\":[144.97594193147052],\"z\":[-56.25972578299318],\"type\":\"scatter3d\"},{\"marker\":{\"color\":\"red\",\"size\":5},\"mode\":\"markers\",\"name\":\"Parent Decay Point\",\"showlegend\":false,\"x\":[-83.65480163574219],\"y\":[-10769.182907104492],\"z\":[2.596592426300049],\"type\":\"scatter3d\"},{\"line\":{\"color\":\"black\",\"dash\":\"dot\",\"width\":4},\"mode\":\"lines\",\"name\":\"Decay Path\",\"showlegend\":false,\"x\":[-105.56721720587313,-107.88799834337985],\"y\":[-900.2585887902419,144.97594193147052],\"z\":[-50.623134178049455,-56.25972578299318],\"type\":\"scatter3d\"},{\"line\":{\"color\":\"red\",\"width\":4},\"mode\":\"lines\",\"name\":\"mu- (9)\",\"showlegend\":false,\"x\":[-107.88799834337985,-98.23985698171491],\"y\":[144.97594193147052,549.1818793739521],\"z\":[-56.25972578299318,-57.35770874741941],\"type\":\"scatter3d\"},{\"line\":{\"color\":\"green\",\"width\":4},\"mode\":\"lines\",\"name\":\"pi+ (9)\",\"showlegend\":false,\"x\":[-107.88799834337985,-119.82854268167436],\"y\":[144.97594193147052,785.7784078925418],\"z\":[-56.25972578299318,-60.794255490170414],\"type\":\"scatter3d\"},{\"marker\":{\"color\":\"blue\",\"size\":6,\"symbol\":\"cross\"},\"mode\":\"markers\",\"name\":\"MeVPRTL Decay Point\",\"showlegend\":false,\"x\":[77.65357757916826],\"y\":[204.8297609282381],\"z\":[-141.78128560420978],\"type\":\"scatter3d\"},{\"marker\":{\"color\":\"red\",\"size\":5},\"mode\":\"markers\",\"name\":\"Parent Decay Point\",\"showlegend\":false,\"x\":[-38.67751434326172],\"y\":[-8665.193115234375],\"z\":[29.35749053955078],\"type\":\"scatter3d\"},{\"line\":{\"color\":\"black\",\"dash\":\"dot\",\"width\":4},\"mode\":\"lines\",\"name\":\"Decay Path\",\"showlegend\":false,\"x\":[73.0766152507449,77.65357757916826],\"y\":[-144.15484744731583,204.8297609282381],\"z\":[-135.04795474314662,-141.78128560420978],\"type\":\"scatter3d\"},{\"line\":{\"color\":\"red\",\"width\":4},\"mode\":\"lines\",\"name\":\"mu- (10)\",\"showlegend\":false,\"x\":[77.65357757916826,83.57435888596827],\"y\":[204.8297609282381,374.47139230984754],\"z\":[-141.78128560420978,-154.46966472944322],\"type\":\"scatter3d\"},{\"line\":{\"color\":\"green\",\"width\":4},\"mode\":\"lines\",\"name\":\"pi+ (10)\",\"showlegend\":false,\"x\":[77.65357757916826,76.18200267427883],\"y\":[204.8297609282381,383.5747769441098],\"z\":[-141.78128560420978,-135.50922179310788],\"type\":\"scatter3d\"},{\"marker\":{\"color\":\"blue\",\"size\":6,\"symbol\":\"cross\"},\"mode\":\"markers\",\"name\":\"MeVPRTL Decay Point\",\"showlegend\":false,\"x\":[-13.829529816671865],\"y\":[398.5909103740487],\"z\":[-80.43982456424038],\"type\":\"scatter3d\"},{\"marker\":{\"color\":\"red\",\"size\":5},\"mode\":\"markers\",\"name\":\"Parent Decay Point\",\"showlegend\":false,\"x\":[-100.7464134979248],\"y\":[-9934.623168945312],\"z\":[-41.60801696777344],\"type\":\"scatter3d\"},{\"line\":{\"color\":\"black\",\"dash\":\"dot\",\"width\":4},\"mode\":\"lines\",\"name\":\"Decay Path\",\"showlegend\":false,\"x\":[-27.328342065220077,-13.829529816671865],\"y\":[-1206.2309708650362,398.5909103740487],\"z\":[-74.4089677523605,-80.43982456424038],\"type\":\"scatter3d\"},{\"line\":{\"color\":\"red\",\"width\":4},\"mode\":\"lines\",\"name\":\"mu- (11)\",\"showlegend\":false,\"x\":[-13.829529816671865,-0.012921864211421052],\"y\":[398.5909103740487,1014.1272269902356],\"z\":[-80.43982456424038,-77.08895058961555],\"type\":\"scatter3d\"},{\"line\":{\"color\":\"green\",\"width\":4},\"mode\":\"lines\",\"name\":\"pi+ (11)\",\"showlegend\":false,\"x\":[-13.829529816671865,-14.138146787429317],\"y\":[398.5909103740487,1387.7359424687302],\"z\":[-80.43982456424038,-89.81423438399702],\"type\":\"scatter3d\"},{\"marker\":{\"color\":\"blue\",\"size\":6,\"symbol\":\"cross\"},\"mode\":\"markers\",\"name\":\"MeVPRTL Decay Point\",\"showlegend\":false,\"x\":[-16.004065448223827],\"y\":[461.9202823494452],\"z\":[-82.0184554281892],\"type\":\"scatter3d\"},{\"marker\":{\"color\":\"red\",\"size\":5},\"mode\":\"markers\",\"name\":\"Parent Decay Point\",\"showlegend\":false,\"x\":[-50.60486724853516],\"y\":[-9953.1142578125],\"z\":[4.8438520431518555],\"type\":\"scatter3d\"},{\"line\":{\"color\":\"black\",\"dash\":\"dot\",\"width\":4},\"mode\":\"lines\",\"name\":\"Decay Path\",\"showlegend\":false,\"x\":[-20.306408360374302,-16.004065448223827],\"y\":[-833.1089569228348,461.9202823494452],\"z\":[-71.21779725156287,-82.0184554281892],\"type\":\"scatter3d\"},{\"line\":{\"color\":\"red\",\"width\":4},\"mode\":\"lines\",\"name\":\"mu- (12)\",\"showlegend\":false,\"x\":[-16.004065448223827,-25.645426789910513],\"y\":[461.9202823494452,985.0205026255395],\"z\":[-82.0184554281892,-84.6150933422595],\"type\":\"scatter3d\"},{\"line\":{\"color\":\"green\",\"width\":4},\"mode\":\"lines\",\"name\":\"pi+ (12)\",\"showlegend\":false,\"x\":[-16.004065448223827,-2.0726721331909914],\"y\":[461.9202823494452,1233.63689968486],\"z\":[-82.0184554281892,-90.21890308787542],\"type\":\"scatter3d\"},{\"marker\":{\"color\":\"blue\",\"size\":6,\"symbol\":\"cross\"},\"mode\":\"markers\",\"name\":\"MeVPRTL Decay Point\",\"showlegend\":false,\"x\":[3.4968295217480687],\"y\":[230.29925950223515],\"z\":[177.47766587361644],\"type\":\"scatter3d\"},{\"marker\":{\"color\":\"red\",\"size\":5},\"mode\":\"markers\",\"name\":\"Parent Decay Point\",\"showlegend\":false,\"x\":[-72.97007962942124],\"y\":[-10508.336242675781],\"z\":[9.325315475463867],\"type\":\"scatter3d\"},{\"line\":{\"color\":\"black\",\"dash\":\"dot\",\"width\":4},\"mode\":\"lines\",\"name\":\"Decay Path\",\"showlegend\":false,\"x\":[-5.5758213806191055,3.4968295217480687],\"y\":[-1043.819076919863,230.29925950223515],\"z\":[157.5267146646564,177.47766587361644],\"type\":\"scatter3d\"},{\"line\":{\"color\":\"red\",\"width\":4},\"mode\":\"lines\",\"name\":\"mu- (13)\",\"showlegend\":false,\"x\":[3.4968295217480687,2.4134798434050566],\"y\":[230.29925950223515,718.9873741252347],\"z\":[177.47766587361644,194.42288341400786],\"type\":\"scatter3d\"},{\"line\":{\"color\":\"green\",\"width\":4},\"mode\":\"lines\",\"name\":\"pi+ (13)\",\"showlegend\":false,\"x\":[3.4968295217480687,13.642872187711326],\"y\":[230.29925950223515,1015.5517190512064],\"z\":[177.47766587361644,180.49831780102383],\"type\":\"scatter3d\"},{\"marker\":{\"color\":\"blue\",\"size\":6,\"symbol\":\"cross\"},\"mode\":\"markers\",\"name\":\"MeVPRTL Decay Point\",\"showlegend\":false,\"x\":[-45.11774061666781],\"y\":[231.25507261082385],\"z\":[79.36659475704172],\"type\":\"scatter3d\"},{\"marker\":{\"color\":\"red\",\"size\":5},\"mode\":\"markers\",\"name\":\"Parent Decay Point\",\"showlegend\":false,\"x\":[-104.47806671142578],\"y\":[-10704.03384399414],\"z\":[38.854305267333984],\"type\":\"scatter3d\"},{\"line\":{\"color\":\"black\",\"dash\":\"dot\",\"width\":4},\"mode\":\"lines\",\"name\":\"Decay Path\",\"showlegend\":false,\"x\":[-47.06111837378658,-45.11774061666781],\"y\":[-126.75167442546268,231.25507261082385],\"z\":[78.04027653300476,79.36659475704172],\"type\":\"scatter3d\"},{\"line\":{\"color\":\"red\",\"width\":4},\"mode\":\"lines\",\"name\":\"mu- (14)\",\"showlegend\":false,\"x\":[-45.11774061666781,-37.193088521603464],\"y\":[231.25507261082385,360.776436873968],\"z\":[79.36659475704172,83.67113374406037],\"type\":\"scatter3d\"},{\"line\":{\"color\":\"green\",\"width\":4},\"mode\":\"lines\",\"name\":\"pi+ (14)\",\"showlegend\":false,\"x\":[-45.11774061666781,-50.80830046769901],\"y\":[231.25507261082385,459.34614808523315],\"z\":[79.36659475704172,76.54201544378746],\"type\":\"scatter3d\"},{\"marker\":{\"color\":\"blue\",\"size\":6,\"symbol\":\"cross\"},\"mode\":\"markers\",\"name\":\"MeVPRTL Decay Point\",\"showlegend\":false,\"x\":[-209.16428625339253],\"y\":[0.644912000900149],\"z\":[143.41781595551336],\"type\":\"scatter3d\"},{\"marker\":{\"color\":\"red\",\"size\":5},\"mode\":\"markers\",\"name\":\"Parent Decay Point\",\"showlegend\":false,\"x\":[-53.98966339111328],\"y\":[-10716.013275146484],\"z\":[67.80176544189453],\"type\":\"scatter3d\"},{\"line\":{\"color\":\"black\",\"dash\":\"dot\",\"width\":4},\"mode\":\"lines\",\"name\":\"Decay Path\",\"showlegend\":false,\"x\":[-204.94375044005375,-209.16428625339253],\"y\":[-290.83341637440736,0.644912000900149],\"z\":[141.36116362815952,143.41781595551336],\"type\":\"scatter3d\"},{\"line\":{\"color\":\"red\",\"width\":4},\"mode\":\"lines\",\"name\":\"mu- (15)\",\"showlegend\":false,\"x\":[-209.16428625339253,-203.07372425415357],\"y\":[0.644912000900149,109.35744258077709],\"z\":[143.41781595551336,137.6812583601868],\"type\":\"scatter3d\"},{\"line\":{\"color\":\"green\",\"width\":4},\"mode\":\"lines\",\"name\":\"pi+ (15)\",\"showlegend\":false,\"x\":[-209.16428625339253,-219.05700031827695],\"y\":[0.644912000900149,182.70664926674488],\"z\":[143.41781595551336,150.859702464545],\"type\":\"scatter3d\"},{\"marker\":{\"color\":\"blue\",\"size\":6,\"symbol\":\"cross\"},\"mode\":\"markers\",\"name\":\"MeVPRTL Decay Point\",\"showlegend\":false,\"x\":[127.03682828879704],\"y\":[436.33969030053413],\"z\":[206.19172043133622],\"type\":\"scatter3d\"},{\"marker\":{\"color\":\"red\",\"size\":5},\"mode\":\"markers\",\"name\":\"Parent Decay Point\",\"showlegend\":false,\"x\":[-71.51653984069824],\"y\":[-10928.214981079102],\"z\":[3.367506742477417],\"type\":\"scatter3d\"},{\"line\":{\"color\":\"black\",\"dash\":\"dot\",\"width\":4},\"mode\":\"lines\",\"name\":\"Decay Path\",\"showlegend\":false,\"x\":[109.61463392490052,127.03682828879704],\"y\":[-560.8505473124223,436.33969030053413],\"z\":[188.39477794740333,206.19172043133622],\"type\":\"scatter3d\"},{\"line\":{\"color\":\"red\",\"width\":4},\"mode\":\"lines\",\"name\":\"mu- (16)\",\"showlegend\":false,\"x\":[127.03682828879704,134.09233353301525],\"y\":[436.33969030053413,957.3439616501391],\"z\":[206.19172043133622,211.5550688494879],\"type\":\"scatter3d\"},{\"line\":{\"color\":\"green\",\"width\":4},\"mode\":\"lines\",\"name\":\"pi+ (16)\",\"showlegend\":false,\"x\":[127.03682828879704,137.4144706676539],\"y\":[436.33969030053413,912.4853232211019],\"z\":[206.19172043133622,218.64700416546614],\"type\":\"scatter3d\"},{\"marker\":{\"color\":\"blue\",\"size\":6,\"symbol\":\"cross\"},\"mode\":\"markers\",\"name\":\"MeVPRTL Decay Point\",\"showlegend\":false,\"x\":[-85.15317604711944],\"y\":[86.26315039663405],\"z\":[2.2372444736509465],\"type\":\"scatter3d\"},{\"marker\":{\"color\":\"red\",\"size\":5},\"mode\":\"markers\",\"name\":\"Parent Decay Point\",\"showlegend\":false,\"x\":[5.408407897949218],\"y\":[-6930.60205078125],\"z\":[100.21456146240234],\"type\":\"scatter3d\"},{\"line\":{\"color\":\"black\",\"dash\":\"dot\",\"width\":4},\"mode\":\"lines\",\"name\":\"Decay Path\",\"showlegend\":false,\"x\":[-83.22511865920185,-85.15317604711944],\"y\":[-63.126007807124694,86.26315039663405],\"z\":[4.323182921713967,2.2372444736509465],\"type\":\"scatter3d\"},{\"line\":{\"color\":\"red\",\"width\":4},\"mode\":\"lines\",\"name\":\"mu- (17)\",\"showlegend\":false,\"x\":[-85.15317604711944,-80.25557622489774],\"y\":[86.26315039663405,151.47821464013077],\"z\":[2.2372444736509465,-15.506220317922285],\"type\":\"scatter3d\"},{\"line\":{\"color\":\"green\",\"width\":4},\"mode\":\"lines\",\"name\":\"pi+ (17)\",\"showlegend\":false,\"x\":[-85.15317604711944,-93.09503566580334],\"y\":[86.26315039663405,165.22822921919936],\"z\":[2.2372444736509465,21.438414563219258],\"type\":\"scatter3d\"},{\"marker\":{\"color\":\"blue\",\"size\":6,\"symbol\":\"cross\"},\"mode\":\"markers\",\"name\":\"MeVPRTL Decay Point\",\"showlegend\":false,\"x\":[-144.87111376492163],\"y\":[234.27159324222157],\"z\":[56.65030608623266],\"type\":\"scatter3d\"},{\"marker\":{\"color\":\"red\",\"size\":5},\"mode\":\"markers\",\"name\":\"Parent Decay Point\",\"showlegend\":false,\"x\":[-82.30094650268555],\"y\":[-10827.264877319336],\"z\":[-3.4962222576141357],\"type\":\"scatter3d\"},{\"line\":{\"color\":\"black\",\"dash\":\"dot\",\"width\":4},\"mode\":\"lines\",\"name\":\"Decay Path\",\"showlegend\":false,\"x\":[-139.65130128904502,-144.87111376492163],\"y\":[-688.518749149102,234.27159324222157],\"z\":[51.63268166924693,56.65030608623266],\"type\":\"scatter3d\"},{\"line\":{\"color\":\"red\",\"width\":4},\"mode\":\"lines\",\"name\":\"mu- (18)\",\"showlegend\":false,\"x\":[-144.87111376492163,-139.79380641874823],\"y\":[234.27159324222157,586.0580298513577],\"z\":[56.65030608623266,65.92337686787769],\"type\":\"scatter3d\"},{\"line\":{\"color\":\"green\",\"width\":4},\"mode\":\"lines\",\"name\":\"pi+ (18)\",\"showlegend\":false,\"x\":[-144.87111376492163,-155.13961040180342],\"y\":[234.27159324222157,805.037059141497],\"z\":[56.65030608623266,52.42196859940664],\"type\":\"scatter3d\"},{\"marker\":{\"color\":\"blue\",\"size\":6,\"symbol\":\"cross\"},\"mode\":\"markers\",\"name\":\"MeVPRTL Decay Point\",\"showlegend\":false,\"x\":[166.16069220028194],\"y\":[334.34351534513735],\"z\":[157.64341914565074],\"type\":\"scatter3d\"},{\"marker\":{\"color\":\"red\",\"size\":5},\"mode\":\"markers\",\"name\":\"Parent Decay Point\",\"showlegend\":false,\"x\":[-97.12054565429688],\"y\":[-9873.344360351562],\"z\":[38.78080368041992],\"type\":\"scatter3d\"},{\"line\":{\"color\":\"black\",\"dash\":\"dot\",\"width\":4},\"mode\":\"lines\",\"name\":\"Decay Path\",\"showlegend\":false,\"x\":[124.67714941277174,166.16069220028194],\"y\":[-1274.0166557161324,334.34351534513735],\"z\":[138.914996130522,157.64341914565074],\"type\":\"scatter3d\"},{\"line\":{\"color\":\"red\",\"width\":4},\"mode\":\"lines\",\"name\":\"mu- (19)\",\"showlegend\":false,\"x\":[166.16069220028194,183.72692049626357],\"y\":[334.34351534513735,1064.4564422466594],\"z\":[157.64341914565074,177.86803752988257],\"type\":\"scatter3d\"},{\"line\":{\"color\":\"green\",\"width\":4},\"mode\":\"lines\",\"name\":\"pi+ (19)\",\"showlegend\":false,\"x\":[166.16069220028194,190.0742019786224],\"y\":[334.34351534513735,1212.4165222505362],\"z\":[157.64341914565074,156.13880800959782],\"type\":\"scatter3d\"},{\"marker\":{\"color\":\"blue\",\"size\":6,\"symbol\":\"cross\"},\"mode\":\"markers\",\"name\":\"MeVPRTL Decay Point\",\"showlegend\":false,\"x\":[7.475584447754088],\"y\":[76.77242606862819],\"z\":[86.4727198539376],\"type\":\"scatter3d\"},{\"marker\":{\"color\":\"red\",\"size\":5},\"mode\":\"markers\",\"name\":\"Parent Decay Point\",\"showlegend\":false,\"x\":[-63.85404613494873],\"y\":[-10660.154235839844],\"z\":[1.9522255659103394],\"type\":\"scatter3d\"},{\"line\":{\"color\":\"black\",\"dash\":\"dot\",\"width\":4},\"mode\":\"lines\",\"name\":\"Decay Path\",\"showlegend\":false,\"x\":[-2.222289351325557,7.475584447754088],\"y\":[-1383.0046526368917,76.77242606862819],\"z\":[74.98143523147263,86.4727198539376],\"type\":\"scatter3d\"},{\"line\":{\"color\":\"red\",\"width\":4},\"mode\":\"lines\",\"name\":\"mu- (20)\",\"showlegend\":false,\"x\":[7.475584447754088,12.701358364932982],\"y\":[76.77242606862819,847.7543403224612],\"z\":[86.4727198539376,94.49853534122819],\"type\":\"scatter3d\"},{\"line\":{\"color\":\"green\",\"width\":4},\"mode\":\"lines\",\"name\":\"pi+ (20)\",\"showlegend\":false,\"x\":[7.475584447754088,11.947357716996713],\"y\":[76.77242606862819,765.5623439432492],\"z\":[86.4727198539376,89.9326498827093],\"type\":\"scatter3d\"},{\"marker\":{\"color\":\"blue\",\"size\":6,\"symbol\":\"cross\"},\"mode\":\"markers\",\"name\":\"MeVPRTL Decay Point\",\"showlegend\":false,\"x\":[170.3810396594658],\"y\":[426.9862209053972],\"z\":[134.28323745086783],\"type\":\"scatter3d\"},{\"marker\":{\"color\":\"red\",\"size\":5},\"mode\":\"markers\",\"name\":\"Parent Decay Point\",\"showlegend\":false,\"x\":[-73.38474249720574],\"y\":[-10615.138732910156],\"z\":[-1.2070890665054321],\"type\":\"scatter3d\"},{\"line\":{\"color\":\"black\",\"dash\":\"dot\",\"width\":4},\"mode\":\"lines\",\"name\":\"Decay Path\",\"showlegend\":false,\"x\":[158.32346855635566,170.3810396594658],\"y\":[-119.19875051313522,426.9862209053972],\"z\":[127.58137703669023,134.28323745086783],\"type\":\"scatter3d\"},{\"line\":{\"color\":\"red\",\"width\":4},\"mode\":\"lines\",\"name\":\"mu- (21)\",\"showlegend\":false,\"x\":[170.3810396594658,174.14977699794827],\"y\":[426.9862209053972,612.5551537538054],\"z\":[134.28323745086783,136.46547675214342],\"type\":\"scatter3d\"},{\"line\":{\"color\":\"green\",\"width\":4},\"mode\":\"lines\",\"name\":\"pi+ (21)\",\"showlegend\":false,\"x\":[170.3810396594658,178.66235923792956],\"y\":[426.9862209053972,787.601984250062],\"z\":[134.28323745086783,138.8006855182641],\"type\":\"scatter3d\"},{\"marker\":{\"color\":\"blue\",\"size\":6,\"symbol\":\"cross\"},\"mode\":\"markers\",\"name\":\"MeVPRTL Decay Point\",\"showlegend\":false,\"x\":[-142.7019490537217],\"y\":[232.91899572685543],\"z\":[51.42944955631099],\"type\":\"scatter3d\"},{\"marker\":{\"color\":\"red\",\"size\":5},\"mode\":\"markers\",\"name\":\"Parent Decay Point\",\"showlegend\":false,\"x\":[-63.836504249572755],\"y\":[-10569.820678710938],\"z\":[7.840574264526367],\"type\":\"scatter3d\"},{\"line\":{\"color\":\"black\",\"dash\":\"dot\",\"width\":4},\"mode\":\"lines\",\"name\":\"Decay Path\",\"showlegend\":false,\"x\":[-136.53432974530028,-142.7019490537217],\"y\":[-611.9020277945601,232.91899572685543],\"z\":[48.02061074801403,51.42944955631099],\"type\":\"scatter3d\"},{\"line\":{\"color\":\"red\",\"width\":4},\"mode\":\"lines\",\"name\":\"mu- (22)\",\"showlegend\":false,\"x\":[-142.7019490537217,-151.26605649954897],\"y\":[232.91899572685543,595.4260439941588],\"z\":[51.42944955631099,42.27117777623442],\"type\":\"scatter3d\"},{\"line\":{\"color\":\"green\",\"width\":4},\"mode\":\"lines\",\"name\":\"pi+ (22)\",\"showlegend\":false,\"x\":[-142.7019490537217,-140.30364485198024],\"y\":[232.91899572685543,714.8758703762294],\"z\":[51.42944955631099,63.993699648267395],\"type\":\"scatter3d\"},{\"marker\":{\"color\":\"blue\",\"size\":6,\"symbol\":\"cross\"},\"mode\":\"markers\",\"name\":\"MeVPRTL Decay Point\",\"showlegend\":false,\"x\":[-3.955947116653064],\"y\":[-9.091057851772348],\"z\":[179.28293580672081],\"type\":\"scatter3d\"},{\"marker\":{\"color\":\"red\",\"size\":5},\"mode\":\"markers\",\"name\":\"Parent Decay Point\",\"showlegend\":false,\"x\":[-65.18880393981934],\"y\":[-10393.817565917969],\"z\":[-7.17985200881958],\"type\":\"scatter3d\"},{\"line\":{\"color\":\"black\",\"dash\":\"dot\",\"width\":4},\"mode\":\"lines\",\"name\":\"Decay Path\",\"showlegend\":false,\"x\":[-15.426821905951446,-3.955947116653064],\"y\":[-1954.4828568845373,-9.091057851772348],\"z\":[144.35248501830736,179.28293580672081],\"type\":\"scatter3d\"},{\"line\":{\"color\":\"red\",\"width\":4},\"mode\":\"lines\",\"name\":\"mu- (23)\",\"showlegend\":false,\"x\":[-3.955947116653064,1.351979451649207],\"y\":[-9.091057851772348,963.0427218767701],\"z\":[179.28293580672081,205.45466413518682],\"type\":\"scatter3d\"},{\"line\":{\"color\":\"green\",\"width\":4},\"mode\":\"lines\",\"name\":\"pi+ (23)\",\"showlegend\":false,\"x\":[-3.955947116653064,2.2070069644048838],\"y\":[-9.091057851772348,964.0887986616622],\"z\":[179.28293580672081,188.03066397403592],\"type\":\"scatter3d\"},{\"marker\":{\"color\":\"blue\",\"size\":6,\"symbol\":\"cross\"},\"mode\":\"markers\",\"name\":\"MeVPRTL Decay Point\",\"showlegend\":false,\"x\":[-35.21432421781115],\"y\":[151.0361434170918],\"z\":[93.39170642458647],\"type\":\"scatter3d\"},{\"marker\":{\"color\":\"red\",\"size\":5},\"mode\":\"markers\",\"name\":\"Parent Decay Point\",\"showlegend\":false,\"x\":[-66.95170715332031],\"y\":[-10762.520965576172],\"z\":[46.571571350097656],\"type\":\"scatter3d\"},{\"line\":{\"color\":\"black\",\"dash\":\"dot\",\"width\":4},\"mode\":\"lines\",\"name\":\"Decay Path\",\"showlegend\":false,\"x\":[-36.524576699370996,-35.21432421781115],\"y\":[-299.5213368187648,151.0361434170918],\"z\":[91.45877457910406,93.39170642458647],\"type\":\"scatter3d\"},{\"line\":{\"color\":\"red\",\"dash\":\"dash\",\"width\":4},\"mode\":\"lines\",\"name\":\"nu_mu (24)\",\"showlegend\":false,\"x\":[-35.21432421781115,-61.801915854243546],\"y\":[151.0361434170918,221.3561313080476],\"z\":[93.39170642458647,86.59119672508865],\"type\":\"scatter3d\"},{\"line\":{\"color\":\"blue\",\"width\":4},\"mode\":\"lines\",\"name\":\"e- (24)\",\"showlegend\":false,\"x\":[-35.21432421781115,-3.1929428811478644],\"y\":[151.0361434170918,238.24949146757996],\"z\":[93.39170642458647,126.48997405211178],\"type\":\"scatter3d\"},{\"line\":{\"color\":\"blue\",\"width\":4},\"mode\":\"lines\",\"name\":\"e- (24)\",\"showlegend\":false,\"x\":[-35.21432421781115,-39.389188745176334],\"y\":[151.0361434170918,426.3744026008717],\"z\":[93.39170642458647,68.95110518128094],\"type\":\"scatter3d\"},{\"marker\":{\"color\":\"blue\",\"size\":6,\"symbol\":\"cross\"},\"mode\":\"markers\",\"name\":\"MeVPRTL Decay Point\",\"showlegend\":false,\"x\":[48.95478532302633],\"y\":[46.76904798893338],\"z\":[70.62750997487564],\"type\":\"scatter3d\"},{\"marker\":{\"color\":\"red\",\"size\":5},\"mode\":\"markers\",\"name\":\"Parent Decay Point\",\"showlegend\":false,\"x\":[-103.64544227600098],\"y\":[-9392.251220703125],\"z\":[-77.32392883300781],\"type\":\"scatter3d\"},{\"line\":{\"color\":\"black\",\"dash\":\"dot\",\"width\":4},\"mode\":\"lines\",\"name\":\"Decay Path\",\"showlegend\":false,\"x\":[43.41467526605796,48.95478532302633],\"y\":[-295.9120340859562,46.76904798893338],\"z\":[65.25617293967636,70.62750997487564],\"type\":\"scatter3d\"},{\"line\":{\"color\":\"red\",\"width\":4},\"mode\":\"lines\",\"name\":\"mu- (25)\",\"showlegend\":false,\"x\":[48.95478532302633,61.27579340659307],\"y\":[46.76904798893338,182.10987628086932],\"z\":[70.62750997487564,66.47911222644193],\"type\":\"scatter3d\"},{\"line\":{\"color\":\"green\",\"width\":4},\"mode\":\"lines\",\"name\":\"pi+ (25)\",\"showlegend\":false,\"x\":[48.95478532302633,42.37450094245703],\"y\":[46.76904798893338,253.25582374404397],\"z\":[70.62750997487564,80.00119919452602],\"type\":\"scatter3d\"},{\"marker\":{\"color\":\"blue\",\"size\":6,\"symbol\":\"cross\"},\"mode\":\"markers\",\"name\":\"MeVPRTL Decay Point\",\"showlegend\":false,\"x\":[206.9567831024124],\"y\":[152.55357055417517],\"z\":[9.126794595971134],\"type\":\"scatter3d\"},{\"marker\":{\"color\":\"red\",\"size\":5},\"mode\":\"markers\",\"name\":\"Parent Decay Point\",\"showlegend\":false,\"x\":[-76.55125859260559],\"y\":[-10526.023223876953],\"z\":[-30.986494064331055],\"type\":\"scatter3d\"},{\"line\":{\"color\":\"black\",\"dash\":\"dot\",\"width\":4},\"mode\":\"lines\",\"name\":\"Decay Path\",\"showlegend\":false,\"x\":[179.44669759863024,206.9567831024124],\"y\":[-883.6377096548154,152.55357055417517],\"z\":[5.2344182306124605,9.126794595971134],\"type\":\"scatter3d\"},{\"line\":{\"color\":\"red\",\"width\":4},\"mode\":\"lines\",\"name\":\"mu- (26)\",\"showlegend\":false,\"x\":[206.9567831024124,231.12095449046416],\"y\":[152.55357055417517,607.8438148688756],\"z\":[9.126794595971134,11.571686749993786],\"type\":\"scatter3d\"},{\"line\":{\"color\":\"green\",\"width\":4},\"mode\":\"lines\",\"name\":\"pi+ (26)\",\"showlegend\":false,\"x\":[206.9567831024124,210.28884996892558],\"y\":[152.55357055417517,733.1683229271104],\"z\":[9.126794595971134,10.572823415742443],\"type\":\"scatter3d\"},{\"marker\":{\"color\":\"blue\",\"size\":6,\"symbol\":\"cross\"},\"mode\":\"markers\",\"name\":\"MeVPRTL Decay Point\",\"showlegend\":false,\"x\":[66.8159985739985],\"y\":[43.850530953188354],\"z\":[1.0849451071834508],\"type\":\"scatter3d\"},{\"marker\":{\"color\":\"red\",\"size\":5},\"mode\":\"markers\",\"name\":\"Parent Decay Point\",\"showlegend\":false,\"x\":[-37.76484802246094],\"y\":[-9566.917358398438],\"z\":[63.84428787231445],\"type\":\"scatter3d\"},{\"line\":{\"color\":\"black\",\"dash\":\"dot\",\"width\":4},\"mode\":\"lines\",\"name\":\"Decay Path\",\"showlegend\":false,\"x\":[51.440291499984035,66.8159985739985],\"y\":[-1369.1457932515314,43.850530953188354],\"z\":[10.311962308887688,1.0849451071834508],\"type\":\"scatter3d\"},{\"line\":{\"color\":\"red\",\"width\":4},\"mode\":\"lines\",\"name\":\"mu- (27)\",\"showlegend\":false,\"x\":[66.8159985739985,65.47951430502678],\"y\":[43.850530953188354,563.0293296651131],\"z\":[1.0849451071834508,3.008017007703386],\"type\":\"scatter3d\"},{\"line\":{\"color\":\"green\",\"width\":4},\"mode\":\"lines\",\"name\":\"pi+ (27)\",\"showlegend\":false,\"x\":[66.8159985739985,83.51193237079735],\"y\":[43.850530953188354,937.5512222351567],\"z\":[1.0849451071834508,-10.052982947855067],\"type\":\"scatter3d\"},{\"marker\":{\"color\":\"blue\",\"size\":6,\"symbol\":\"cross\"},\"mode\":\"markers\",\"name\":\"MeVPRTL Decay Point\",\"showlegend\":false,\"x\":[200.10991825904605],\"y\":[7.825539134173596],\"z\":[175.73062857183484],\"type\":\"scatter3d\"},{\"marker\":{\"color\":\"red\",\"size\":5},\"mode\":\"markers\",\"name\":\"Parent Decay Point\",\"showlegend\":false,\"x\":[-90.292113571167],\"y\":[-10456.563903808594],\"z\":[30.81542205810547],\"type\":\"scatter3d\"},{\"line\":{\"color\":\"black\",\"dash\":\"dot\",\"width\":4},\"mode\":\"lines\",\"name\":\"Decay Path\",\"showlegend\":false,\"x\":[190.45951631894442,200.10991825904605],\"y\":[-339.918460953251,7.825539134173596],\"z\":[170.91492538519884,175.73062857183484],\"type\":\"scatter3d\"},{\"line\":{\"color\":\"red\",\"width\":4},\"mode\":\"lines\",\"name\":\"mu- (28)\",\"showlegend\":false,\"x\":[200.10991825904605,214.83436276096717],\"y\":[7.825539134173596,160.6390087131995],\"z\":[175.73062857183484,185.1327562747387],\"type\":\"scatter3d\"},{\"line\":{\"color\":\"green\",\"width\":4},\"mode\":\"lines\",\"name\":\"pi+ (28)\",\"showlegend\":false,\"x\":[200.10991825904605,194.9417124180664],\"y\":[7.825539134173596,201.80342514249202],\"z\":[175.73062857183484,171.08394336395207],\"type\":\"scatter3d\"},{\"marker\":{\"color\":\"blue\",\"size\":6,\"symbol\":\"cross\"},\"mode\":\"markers\",\"name\":\"MeVPRTL Decay Point\",\"showlegend\":false,\"x\":[-104.51960455314506],\"y\":[353.5939963101464],\"z\":[125.86102648072526],\"type\":\"scatter3d\"},{\"marker\":{\"color\":\"red\",\"size\":5},\"mode\":\"markers\",\"name\":\"Parent Decay Point\",\"showlegend\":false,\"x\":[-4.455781250000001],\"y\":[-9853.111572265625],\"z\":[-50.16044998168945],\"type\":\"scatter3d\"},{\"line\":{\"color\":\"black\",\"dash\":\"dot\",\"width\":4},\"mode\":\"lines\",\"name\":\"Decay Path\",\"showlegend\":false,\"x\":[-101.53587574697823,-104.51960455314506],\"y\":[49.24782587888308,353.5939963101464],\"z\":[120.61237284659599,125.86102648072526],\"type\":\"scatter3d\"},{\"line\":{\"color\":\"red\",\"width\":4},\"mode\":\"lines\",\"name\":\"mu- (29)\",\"showlegend\":false,\"x\":[-104.51960455314506,-112.00843400251144],\"y\":[353.5939963101464,506.3395752117908],\"z\":[125.86102648072526,123.28522167576664],\"type\":\"scatter3d\"},{\"line\":{\"color\":\"green\",\"width\":4},\"mode\":\"lines\",\"name\":\"pi+ (29)\",\"showlegend\":false,\"x\":[-104.51960455314506,-99.66635184398176],\"y\":[353.5939963101464,504.75380952484306],\"z\":[125.86102648072526,133.9768743299344],\"type\":\"scatter3d\"},{\"marker\":{\"color\":\"blue\",\"size\":6,\"symbol\":\"cross\"},\"mode\":\"markers\",\"name\":\"MeVPRTL Decay Point\",\"showlegend\":false,\"x\":[-117.84784441239783],\"y\":[155.80845939239043],\"z\":[27.927978300582446],\"type\":\"scatter3d\"},{\"marker\":{\"color\":\"red\",\"size\":5},\"mode\":\"markers\",\"name\":\"Parent Decay Point\",\"showlegend\":false,\"x\":[-73.06771847486496],\"y\":[-10856.460891723633],\"z\":[13.74860954284668],\"type\":\"scatter3d\"},{\"line\":{\"color\":\"black\",\"dash\":\"dot\",\"width\":4},\"mode\":\"lines\",\"name\":\"Decay Path\",\"showlegend\":false,\"x\":[-116.75826294207101,-117.84784441239783],\"y\":[-112.13997487422921,155.80845939239043],\"z\":[27.582968608539336,27.927978300582446],\"type\":\"scatter3d\"},{\"line\":{\"color\":\"red\",\"width\":4},\"mode\":\"lines\",\"name\":\"mu- (30)\",\"showlegend\":false,\"x\":[-117.84784441239783,-128.15128330372102],\"y\":[155.80845939239043,279.97985271012715],\"z\":[27.927978300582446,35.507667442840436],\"type\":\"scatter3d\"},{\"line\":{\"color\":\"green\",\"width\":4},\"mode\":\"lines\",\"name\":\"pi+ (30)\",\"showlegend\":false,\"x\":[-117.84784441239783,-108.25932998558362],\"y\":[155.80845939239043,298.4113596897479],\"z\":[27.927978300582446,20.411697867286534],\"type\":\"scatter3d\"},{\"marker\":{\"color\":\"blue\",\"size\":6,\"symbol\":\"cross\"},\"mode\":\"markers\",\"name\":\"MeVPRTL Decay Point\",\"showlegend\":false,\"x\":[193.65418137340507],\"y\":[263.44564348030326],\"z\":[194.5803596146729],\"type\":\"scatter3d\"},{\"marker\":{\"color\":\"red\",\"size\":5},\"mode\":\"markers\",\"name\":\"Parent Decay Point\",\"showlegend\":false,\"x\":[-69.09466770172119],\"y\":[-10788.534896850586],\"z\":[-6.377176761627197],\"type\":\"scatter3d\"},{\"line\":{\"color\":\"black\",\"dash\":\"dot\",\"width\":4},\"mode\":\"lines\",\"name\":\"Decay Path\",\"showlegend\":false,\"x\":[173.3849720341219,193.65418137340507],\"y\":[-589.136234515286,263.44564348030326],\"z\":[179.0779116022243,194.5803596146729],\"type\":\"scatter3d\"},{\"line\":{\"color\":\"red\",\"width\":4},\"mode\":\"lines\",\"name\":\"mu- (31)\",\"showlegend\":false,\"x\":[193.65418137340507,193.93993054849437],\"y\":[263.44564348030326,645.9570566919278],\"z\":[194.5803596146729,193.37022947667973],\"type\":\"scatter3d\"},{\"line\":{\"color\":\"green\",\"width\":4},\"mode\":\"lines\",\"name\":\"pi+ (31)\",\"showlegend\":false,\"x\":[193.65418137340507,213.64268051880345],\"y\":[263.44564348030326,733.1736237312846],\"z\":[194.5803596146729,211.29892972474488],\"type\":\"scatter3d\"},{\"marker\":{\"color\":\"blue\",\"size\":6,\"symbol\":\"cross\"},\"mode\":\"markers\",\"name\":\"MeVPRTL Decay Point\",\"showlegend\":false,\"x\":[208.75435697888324],\"y\":[171.4079446301712],\"z\":[-202.94844465257898],\"type\":\"scatter3d\"},{\"marker\":{\"color\":\"red\",\"size\":5},\"mode\":\"markers\",\"name\":\"Parent Decay Point\",\"showlegend\":false,\"x\":[-79.73168542861939],\"y\":[-10603.126770019531],\"z\":[-5.463525772094727],\"type\":\"scatter3d\"},{\"line\":{\"color\":\"black\",\"dash\":\"dot\",\"width\":4},\"mode\":\"lines\",\"name\":\"Decay Path\",\"showlegend\":false,\"x\":[193.83865662693935,208.75435697888324],\"y\":[-385.6718013920665,171.4079446301712],\"z\":[-192.73780898553903,-202.94844465257898],\"type\":\"scatter3d\"},{\"line\":{\"color\":\"red\",\"width\":4},\"mode\":\"lines\",\"name\":\"mu- (32)\",\"showlegend\":false,\"x\":[208.75435697888324,209.0967459023861],\"y\":[171.4079446301712,451.80981476797405],\"z\":[-202.94844465257898,-204.04240149005747],\"type\":\"scatter3d\"},{\"line\":{\"color\":\"green\",\"width\":4},\"mode\":\"lines\",\"name\":\"pi+ (32)\",\"showlegend\":false,\"x\":[208.75435697888324,223.4272497676035],\"y\":[171.4079446301712,447.8355965204449],\"z\":[-202.94844465257898,-212.12054273479242],\"type\":\"scatter3d\"},{\"marker\":{\"color\":\"blue\",\"size\":6,\"symbol\":\"cross\"},\"mode\":\"markers\",\"name\":\"MeVPRTL Decay Point\",\"showlegend\":false,\"x\":[-50.93536754956098],\"y\":[11.643253533708048],\"z\":[-158.60060306291328],\"type\":\"scatter3d\"},{\"marker\":{\"color\":\"red\",\"size\":5},\"mode\":\"markers\",\"name\":\"Parent Decay Point\",\"showlegend\":false,\"x\":[-59.13690498352051],\"y\":[-10461.209106445312],\"z\":[34.51724624633789],\"type\":\"scatter3d\"},{\"line\":{\"color\":\"black\",\"dash\":\"dot\",\"width\":4},\"mode\":\"lines\",\"name\":\"Decay Path\",\"showlegend\":false,\"x\":[-51.049840455479846,-50.93536754956098],\"y\":[-134.53151583844016,11.643253533708048],\"z\":[-155.9051619248047,-158.60060306291328],\"type\":\"scatter3d\"},{\"line\":{\"color\":\"red\",\"width\":4},\"mode\":\"lines\",\"name\":\"mu- (33)\",\"showlegend\":false,\"x\":[-50.93536754956098,-65.35650458233528],\"y\":[11.643253533708048,67.821034579853],\"z\":[-158.60060306291328,-177.2279072955982],\"type\":\"scatter3d\"},{\"line\":{\"color\":\"green\",\"width\":4},\"mode\":\"lines\",\"name\":\"pi+ (33)\",\"showlegend\":false,\"x\":[-50.93536754956098,-38.340528113545794],\"y\":[11.643253533708048,94.87018089375867],\"z\":[-158.60060306291328,-144.897671135393],\"type\":\"scatter3d\"},{\"marker\":{\"color\":\"blue\",\"size\":6,\"symbol\":\"cross\"},\"mode\":\"markers\",\"name\":\"MeVPRTL Decay Point\",\"showlegend\":false,\"x\":[-88.78376077152721],\"y\":[11.733698194233511],\"z\":[-209.07282889129877],\"type\":\"scatter3d\"},{\"marker\":{\"color\":\"red\",\"size\":5},\"mode\":\"markers\",\"name\":\"Parent Decay Point\",\"showlegend\":false,\"x\":[-86.5772526550293],\"y\":[-10866.194381713867],\"z\":[-3.1782941818237305],\"type\":\"scatter3d\"},{\"line\":{\"color\":\"black\",\"dash\":\"dot\",\"width\":4},\"mode\":\"lines\",\"name\":\"Decay Path\",\"showlegend\":false,\"x\":[-88.73613252933751,-88.78376077152721],\"y\":[-223.07014831703478,11.733698194233511],\"z\":[-204.62852402273404,-209.07282889129877],\"type\":\"scatter3d\"},{\"line\":{\"color\":\"red\",\"width\":4},\"mode\":\"lines\",\"name\":\"mu- (34)\",\"showlegend\":false,\"x\":[-88.78376077152721,-82.3523377578736],\"y\":[11.733698194233511,103.08330461356881],\"z\":[-209.07282889129877,-221.87143164779857],\"type\":\"scatter3d\"},{\"line\":{\"color\":\"green\",\"width\":4},\"mode\":\"lines\",\"name\":\"pi+ (34)\",\"showlegend\":false,\"x\":[-88.78376077152721,-94.8856370526825],\"y\":[11.733698194233511,153.77261139328155],\"z\":[-209.07282889129877,-201.33856600090104],\"type\":\"scatter3d\"},{\"marker\":{\"color\":\"blue\",\"size\":6,\"symbol\":\"cross\"},\"mode\":\"markers\",\"name\":\"MeVPRTL Decay Point\",\"showlegend\":false,\"x\":[145.42000410296438],\"y\":[194.25814858111153],\"z\":[-129.25220254228404],\"type\":\"scatter3d\"},{\"marker\":{\"color\":\"red\",\"size\":5},\"mode\":\"markers\",\"name\":\"Parent Decay Point\",\"showlegend\":false,\"x\":[-51.95685699462891],\"y\":[-10634.396667480469],\"z\":[-9.256425857543945],\"type\":\"scatter3d\"},{\"line\":{\"color\":\"black\",\"dash\":\"dot\",\"width\":4},\"mode\":\"lines\",\"name\":\"Decay Path\",\"showlegend\":false,\"x\":[119.2911241217883,145.42000410296438],\"y\":[-1239.2463689851954,194.25814858111153],\"z\":[-113.36708191665356,-129.25220254228404],\"type\":\"scatter3d\"},{\"line\":{\"color\":\"red\",\"width\":4},\"mode\":\"lines\",\"name\":\"mu- (35)\",\"showlegend\":false,\"x\":[145.42000410296438,149.1926395084842],\"y\":[194.25814858111153,846.3636978459879],\"z\":[-129.25220254228404,-127.93830261941399],\"type\":\"scatter3d\"},{\"line\":{\"color\":\"green\",\"width\":4},\"mode\":\"lines\",\"name\":\"pi+ (35)\",\"showlegend\":false,\"x\":[145.42000410296438,167.77843839393594],\"y\":[194.25814858111153,975.4617848303502],\"z\":[-129.25220254228404,-146.45511098815328],\"type\":\"scatter3d\"},{\"marker\":{\"color\":\"blue\",\"size\":6,\"symbol\":\"cross\"},\"mode\":\"markers\",\"name\":\"MeVPRTL Decay Point\",\"showlegend\":false,\"x\":[50.41055454689541],\"y\":[37.18986813328411],\"z\":[-208.98658907286287],\"type\":\"scatter3d\"},{\"marker\":{\"color\":\"red\",\"size\":5},\"mode\":\"markers\",\"name\":\"Parent Decay Point\",\"showlegend\":false,\"x\":[-7.173531799316407],\"y\":[-10689.994598388672],\"z\":[-7.545459270477295],\"type\":\"scatter3d\"},{\"line\":{\"color\":\"black\",\"dash\":\"dot\",\"width\":4},\"mode\":\"lines\",\"name\":\"Decay Path\",\"showlegend\":false,\"x\":[49.28407217966725,50.41055454689541],\"y\":[-172.6595002996635,37.18986813328411],\"z\":[-205.04591908649545,-208.98658907286287],\"type\":\"scatter3d\"},{\"line\":{\"color\":\"red\",\"width\":4},\"mode\":\"lines\",\"name\":\"mu- (36)\",\"showlegend\":false,\"x\":[50.41055454689541,55.45093468060208],\"y\":[37.18986813328411,138.7178340802722],\"z\":[-208.98658907286287,-201.51379724170155],\"type\":\"scatter3d\"},{\"line\":{\"color\":\"green\",\"width\":4},\"mode\":\"lines\",\"name\":\"pi+ (36)\",\"showlegend\":false,\"x\":[50.41055454689541,45.94718554867212],\"y\":[37.18986813328411,144.3300865436865],\"z\":[-208.98658907286287,-221.51108122315367],\"type\":\"scatter3d\"},{\"marker\":{\"color\":\"blue\",\"size\":6,\"symbol\":\"cross\"},\"mode\":\"markers\",\"name\":\"MeVPRTL Decay Point\",\"showlegend\":false,\"x\":[-7.121890921049726],\"y\":[369.2418055930211],\"z\":[-183.79244182655248],\"type\":\"scatter3d\"},{\"marker\":{\"color\":\"red\",\"size\":5},\"mode\":\"markers\",\"name\":\"Parent Decay Point\",\"showlegend\":false,\"x\":[-77.07632353782654],\"y\":[-10974.726392745972],\"z\":[-0.4842665195465088],\"type\":\"scatter3d\"},{\"line\":{\"color\":\"black\",\"dash\":\"dot\",\"width\":4},\"mode\":\"lines\",\"name\":\"Decay Path\",\"showlegend\":false,\"x\":[-8.89502588867047,-7.121890921049726],\"y\":[81.70624949405527,369.2418055930211],\"z\":[-179.1461296011617,-183.79244182655248],\"type\":\"scatter3d\"},{\"line\":{\"color\":\"red\",\"width\":4},\"mode\":\"lines\",\"name\":\"mu- (37)\",\"showlegend\":false,\"x\":[-7.121890921049726,3.5117057398733547],\"y\":[369.2418055930211,506.79950757356187],\"z\":[-183.79244182655248,-190.95019066711106],\"type\":\"scatter3d\"},{\"line\":{\"color\":\"green\",\"width\":4},\"mode\":\"lines\",\"name\":\"pi+ (37)\",\"showlegend\":false,\"x\":[-7.121890921049726,-16.42765001492735],\"y\":[369.2418055930211,518.3513688762841],\"z\":[-183.79244182655248,-181.04510208495645],\"type\":\"scatter3d\"},{\"marker\":{\"color\":\"blue\",\"size\":6,\"symbol\":\"cross\"},\"mode\":\"markers\",\"name\":\"MeVPRTL Decay Point\",\"showlegend\":false,\"x\":[157.43328985640326],\"y\":[320.39716977551325],\"z\":[147.14236509601],\"type\":\"scatter3d\"},{\"marker\":{\"color\":\"red\",\"size\":5},\"mode\":\"markers\",\"name\":\"Parent Decay Point\",\"showlegend\":false,\"x\":[-116.75526550292969],\"y\":[-9921.122680664062],\"z\":[-54.95256042480469],\"type\":\"scatter3d\"},{\"line\":{\"color\":\"black\",\"dash\":\"dot\",\"width\":4},\"mode\":\"lines\",\"name\":\"Decay Path\",\"showlegend\":false,\"x\":[134.22078550808655,157.43328985640326],\"y\":[-546.6387418807773,320.39716977551325],\"z\":[130.03322889856085,147.14236509601],\"type\":\"scatter3d\"},{\"line\":{\"color\":\"red\",\"width\":4},\"mode\":\"lines\",\"name\":\"mu- (38)\",\"showlegend\":false,\"x\":[157.43328985640326,156.7343993322514],\"y\":[320.39716977551325,651.8205345270931],\"z\":[147.14236509601,157.44420799399867],\"type\":\"scatter3d\"},{\"line\":{\"color\":\"green\",\"width\":4},\"mode\":\"lines\",\"name\":\"pi+ (38)\",\"showlegend\":false,\"x\":[157.43328985640326,181.29669839797538],\"y\":[320.39716977551325,855.7533438055098],\"z\":[147.14236509601,153.9607613217596],\"type\":\"scatter3d\"},{\"marker\":{\"color\":\"blue\",\"size\":6,\"symbol\":\"cross\"},\"mode\":\"markers\",\"name\":\"MeVPRTL Decay Point\",\"showlegend\":false,\"x\":[54.67978535555872],\"y\":[483.31518134500584],\"z\":[-122.34379021904907],\"type\":\"scatter3d\"},{\"marker\":{\"color\":\"red\",\"size\":5},\"mode\":\"markers\",\"name\":\"Parent Decay Point\",\"showlegend\":false,\"x\":[-136.4571469116211],\"y\":[-10873.606323242188],\"z\":[2.3528127670288086],\"type\":\"scatter3d\"},{\"line\":{\"color\":\"black\",\"dash\":\"dot\",\"width\":4},\"mode\":\"lines\",\"name\":\"Decay Path\",\"showlegend\":false,\"x\":[52.02718484040472,54.67978535555872],\"y\":[325.7036958183842,483.31518134500584],\"z\":[-120.61324934766762,-122.34379021904907],\"type\":\"scatter3d\"},{\"line\":{\"color\":\"red\",\"width\":4},\"mode\":\"lines\",\"name\":\"mu- (39)\",\"showlegend\":false,\"x\":[54.67978535555872,71.19089891404337],\"y\":[483.31518134500584,553.0211108469501],\"z\":[-122.34379021904907,-117.13641631972276],\"type\":\"scatter3d\"},{\"line\":{\"color\":\"green\",\"width\":4},\"mode\":\"lines\",\"name\":\"pi+ (39)\",\"showlegend\":false,\"x\":[54.67978535555872,38.23803390401147],\"y\":[483.31518134500584,567.1762725863819],\"z\":[-122.34379021904907,-130.21672575362047],\"type\":\"scatter3d\"},{\"marker\":{\"color\":\"blue\",\"size\":6,\"symbol\":\"cross\"},\"mode\":\"markers\",\"name\":\"MeVPRTL Decay Point\",\"showlegend\":false,\"x\":[33.84013740399968],\"y\":[409.9177526059284],\"z\":[-144.67126138430683],\"type\":\"scatter3d\"},{\"marker\":{\"color\":\"red\",\"size\":5},\"mode\":\"markers\",\"name\":\"Parent Decay Point\",\"showlegend\":false,\"x\":[-81.33653524398804],\"y\":[-10895.510353088379],\"z\":[-60.444828033447266],\"type\":\"scatter3d\"},{\"line\":{\"color\":\"black\",\"dash\":\"dot\",\"width\":4},\"mode\":\"lines\",\"name\":\"Decay Path\",\"showlegend\":false,\"x\":[31.73371820641923,33.84013740399968],\"y\":[203.15738827866377,409.9177526059284],\"z\":[-143.13087849187676,-144.67126138430683],\"type\":\"scatter3d\"},{\"line\":{\"color\":\"red\",\"width\":4},\"mode\":\"lines\",\"name\":\"mu- (40)\",\"showlegend\":false,\"x\":[33.84013740399968,47.81325281755939],\"y\":[409.9177526059284,504.9153323972645],\"z\":[-144.67126138430683,-143.16090172532702],\"type\":\"scatter3d\"},{\"line\":{\"color\":\"green\",\"width\":4},\"mode\":\"lines\",\"name\":\"pi+ (40)\",\"showlegend\":false,\"x\":[33.84013740399968,20.973403298839536],\"y\":[409.9177526059284,519.8662973579023],\"z\":[-144.67126138430683,-147.8758952837152],\"type\":\"scatter3d\"},{\"marker\":{\"color\":\"blue\",\"size\":6,\"symbol\":\"cross\"},\"mode\":\"markers\",\"name\":\"MeVPRTL Decay Point\",\"showlegend\":false,\"x\":[-209.59538256884497],\"y\":[446.4157463092288],\"z\":[32.06000180936084],\"type\":\"scatter3d\"},{\"marker\":{\"color\":\"red\",\"size\":5},\"mode\":\"markers\",\"name\":\"Parent Decay Point\",\"showlegend\":false,\"x\":[-53.17601707458496],\"y\":[-10682.145629882812],\"z\":[44.121856689453125],\"type\":\"scatter3d\"},{\"line\":{\"color\":\"black\",\"dash\":\"dot\",\"width\":4},\"mode\":\"lines\",\"name\":\"Decay Path\",\"showlegend\":false,\"x\":[-206.20429704645943,-209.59538256884497],\"y\":[205.15467707692588,446.4157463092288],\"z\":[32.32149616671071,32.06000180936084],\"type\":\"scatter3d\"},{\"line\":{\"color\":\"red\",\"width\":4},\"mode\":\"lines\",\"name\":\"mu- (41)\",\"showlegend\":false,\"x\":[-209.59538256884497,-210.7614689426004],\"y\":[446.4157463092288,531.2161971160823],\"z\":[32.06000180936084,30.31415705840679],\"type\":\"scatter3d\"},{\"line\":{\"color\":\"green\",\"width\":4},\"mode\":\"lines\",\"name\":\"pi+ (41)\",\"showlegend\":false,\"x\":[-209.59538256884497,-211.8168067720924],\"y\":[446.4157463092288,602.8533757147048],\"z\":[32.06000180936084,33.33624396510599],\"type\":\"scatter3d\"},{\"marker\":{\"color\":\"blue\",\"size\":6,\"symbol\":\"cross\"},\"mode\":\"markers\",\"name\":\"MeVPRTL Decay Point\",\"showlegend\":false,\"x\":[101.8900655696201],\"y\":[18.078172640580306],\"z\":[-45.81760688102304],\"type\":\"scatter3d\"},{\"marker\":{\"color\":\"red\",\"size\":5},\"mode\":\"markers\",\"name\":\"Parent Decay Point\",\"showlegend\":false,\"x\":[-108.80911758422852],\"y\":[-10666.032958984375],\"z\":[-121.34376525878906],\"type\":\"scatter3d\"},{\"line\":{\"color\":\"black\",\"dash\":\"dot\",\"width\":4},\"mode\":\"lines\",\"name\":\"Decay Path\",\"showlegend\":false,\"x\":[96.52566442243284,101.8900655696201],\"y\":[-253.9392939355273,18.078172640580306],\"z\":[-47.74050285327985,-45.81760688102304],\"type\":\"scatter3d\"},{\"line\":{\"color\":\"red\",\"width\":4},\"mode\":\"lines\",\"name\":\"mu- (42)\",\"showlegend\":false,\"x\":[101.8900655696201,116.77698557273881],\"y\":[18.078172640580306,143.28887795906883],\"z\":[-45.81760688102304,-45.24105841166325],\"type\":\"scatter3d\"},{\"line\":{\"color\":\"green\",\"width\":4},\"mode\":\"lines\",\"name\":\"pi+ (42)\",\"showlegend\":false,\"x\":[101.8900655696201,91.92513115138875],\"y\":[18.078172640580306,163.71466944409732],\"z\":[-45.81760688102304,-44.469111840195666],\"type\":\"scatter3d\"},{\"marker\":{\"color\":\"blue\",\"size\":6,\"symbol\":\"cross\"},\"mode\":\"markers\",\"name\":\"MeVPRTL Decay Point\",\"showlegend\":false,\"x\":[14.279975548436653],\"y\":[36.802713860692165],\"z\":[93.34065272904309],\"type\":\"scatter3d\"},{\"marker\":{\"color\":\"red\",\"size\":5},\"mode\":\"markers\",\"name\":\"Parent Decay Point\",\"showlegend\":false,\"x\":[-55.0638306427002],\"y\":[-10555.641418457031],\"z\":[-22.350446701049805],\"type\":\"scatter3d\"},{\"line\":{\"color\":\"black\",\"dash\":\"dot\",\"width\":4},\"mode\":\"lines\",\"name\":\"Decay Path\",\"showlegend\":false,\"x\":[13.42482028871019,14.279975548436653],\"y\":[-93.82444392961634,36.802713860692165],\"z\":[91.91393767523593,93.34065272904309],\"type\":\"scatter3d\"},{\"line\":{\"color\":\"red\",\"width\":4},\"mode\":\"lines\",\"name\":\"mu- (43)\",\"showlegend\":false,\"x\":[14.279975548436653,-16.712013231325567],\"y\":[36.802713860692165,78.91633760211289],\"z\":[93.34065272904309,74.25672365341703],\"type\":\"scatter3d\"},{\"line\":{\"color\":\"green\",\"width\":4},\"mode\":\"lines\",\"name\":\"pi+ (43)\",\"showlegend\":false,\"x\":[14.279975548436653,41.65801326812601],\"y\":[36.802713860692165,104.35240365622136],\"z\":[93.34065272904309,110.91469233386204],\"type\":\"scatter3d\"},{\"marker\":{\"color\":\"blue\",\"size\":6,\"symbol\":\"cross\"},\"mode\":\"markers\",\"name\":\"MeVPRTL Decay Point\",\"showlegend\":false,\"x\":[171.9226370172823],\"y\":[326.8416532923002],\"z\":[14.705593884030794],\"type\":\"scatter3d\"},{\"marker\":{\"color\":\"red\",\"size\":5},\"mode\":\"markers\",\"name\":\"Parent Decay Point\",\"showlegend\":false,\"x\":[-48.65921524047852],\"y\":[-10915.880073547363],\"z\":[34.936614990234375],\"type\":\"scatter3d\"},{\"line\":{\"color\":\"black\",\"dash\":\"dot\",\"width\":4},\"mode\":\"lines\",\"name\":\"Decay Path\",\"showlegend\":false,\"x\":[168.31793291765405,171.9226370172823],\"y\":[143.11536445707344,326.8416532923002],\"z\":[15.036205146810378,14.705593884030794],\"type\":\"scatter3d\"},{\"line\":{\"color\":\"red\",\"width\":4},\"mode\":\"lines\",\"name\":\"mu- (44)\",\"showlegend\":false,\"x\":[171.9226370172823,179.35226075544318],\"y\":[326.8416532923002,412.6788561129037],\"z\":[14.705593884030794,25.775242149233936],\"type\":\"scatter3d\"},{\"line\":{\"color\":\"green\",\"width\":4},\"mode\":\"lines\",\"name\":\"pi+ (44)\",\"showlegend\":false,\"x\":[171.9226370172823,167.23012801006837],\"y\":[326.8416532923002,422.7443975095719],\"z\":[14.705593884030794,1.690164948410228],\"type\":\"scatter3d\"},{\"marker\":{\"color\":\"blue\",\"size\":6,\"symbol\":\"cross\"},\"mode\":\"markers\",\"name\":\"MeVPRTL Decay Point\",\"showlegend\":false,\"x\":[202.0121840817872],\"y\":[71.96193704620964],\"z\":[9.684745946787153],\"type\":\"scatter3d\"},{\"marker\":{\"color\":\"red\",\"size\":5},\"mode\":\"markers\",\"name\":\"Parent Decay Point\",\"showlegend\":false,\"x\":[-39.60268524169922],\"y\":[-8286.88427734375],\"z\":[56.61178970336914],\"type\":\"scatter3d\"},{\"line\":{\"color\":\"black\",\"dash\":\"dot\",\"width\":4},\"mode\":\"lines\",\"name\":\"Decay Path\",\"showlegend\":false,\"x\":[146.83726799732162,202.0121840817872],\"y\":[-1836.8553461502247,71.96193704620964],\"z\":[20.400956040193726,9.684745946787153],\"type\":\"scatter3d\"},{\"line\":{\"color\":\"red\",\"width\":4},\"mode\":\"lines\",\"name\":\"mu- (45)\",\"showlegend\":false,\"x\":[202.0121840817872,221.15426742261707],\"y\":[71.96193704620964,754.9623445512769],\"z\":[9.684745946787153,13.272653135108321],\"type\":\"scatter3d\"},{\"line\":{\"color\":\"green\",\"width\":4},\"mode\":\"lines\",\"name\":\"pi+ (45)\",\"showlegend\":false,\"x\":[202.0121840817872,238.042369912305],\"y\":[71.96193704620964,1297.7158008666909],\"z\":[9.684745946787153,-4.6088093680449305],\"type\":\"scatter3d\"},{\"marker\":{\"color\":\"blue\",\"size\":6,\"symbol\":\"cross\"},\"mode\":\"markers\",\"name\":\"MeVPRTL Decay Point\",\"showlegend\":false,\"x\":[43.38136941386742],\"y\":[355.0526462705402],\"z\":[-159.7610072873056],\"type\":\"scatter3d\"},{\"marker\":{\"color\":\"red\",\"size\":5},\"mode\":\"markers\",\"name\":\"Parent Decay Point\",\"showlegend\":false,\"x\":[-65.15566089630127],\"y\":[-10771.94384765625],\"z\":[16.916770935058594],\"type\":\"scatter3d\"},{\"line\":{\"color\":\"black\",\"dash\":\"dot\",\"width\":4},\"mode\":\"lines\",\"name\":\"Decay Path\",\"showlegend\":false,\"x\":[40.95213652688787,43.38136941386742],\"y\":[106.01261137085083,355.0526462705402],\"z\":[-155.80667512961034,-159.7610072873056],\"type\":\"scatter3d\"},{\"line\":{\"color\":\"red\",\"width\":4},\"mode\":\"lines\",\"name\":\"mu- (46)\",\"showlegend\":false,\"x\":[43.38136941386742,54.761455989835234],\"y\":[355.0526462705402,472.5411243160395],\"z\":[-159.7610072873056,-167.25898050898763],\"type\":\"scatter3d\"},{\"line\":{\"color\":\"green\",\"width\":4},\"mode\":\"lines\",\"name\":\"pi+ (46)\",\"showlegend\":false,\"x\":[43.38136941386742,33.827570807215054],\"y\":[355.0526462705402,485.45238573850327],\"z\":[-159.7610072873056,-155.87342171261528],\"type\":\"scatter3d\"},{\"marker\":{\"color\":\"blue\",\"size\":6,\"symbol\":\"cross\"},\"mode\":\"markers\",\"name\":\"MeVPRTL Decay Point\",\"showlegend\":false,\"x\":[-51.65534850248583],\"y\":[74.67923618881832],\"z\":[-147.04231043748595],\"type\":\"scatter3d\"},{\"marker\":{\"color\":\"red\",\"size\":5},\"mode\":\"markers\",\"name\":\"Parent Decay Point\",\"showlegend\":false,\"x\":[-75.47700050354004],\"y\":[-10278.644836425781],\"z\":[13.538534164428711],\"type\":\"scatter3d\"},{\"line\":{\"color\":\"black\",\"dash\":\"dot\",\"width\":4},\"mode\":\"lines\",\"name\":\"Decay Path\",\"showlegend\":false,\"x\":[-52.50288016096836,-51.65534850248583],\"y\":[-293.6734675481782,74.67923618881832],\"z\":[-141.32913195851384,-147.04231043748595],\"type\":\"scatter3d\"},{\"line\":{\"color\":\"red\",\"width\":4},\"mode\":\"lines\",\"name\":\"mu- (47)\",\"showlegend\":false,\"x\":[-51.65534850248583,-58.43205131952456],\"y\":[74.67923618881832,223.0776634453308],\"z\":[-147.04231043748595,-159.25901649811334],\"type\":\"scatter3d\"},{\"line\":{\"color\":\"green\",\"width\":4},\"mode\":\"lines\",\"name\":\"pi+ (47)\",\"showlegend\":false,\"x\":[-51.65534850248583,-44.1303047670833],\"y\":[74.67923618881832,293.80063990807366],\"z\":[-147.04231043748595,-140.6613607330196],\"type\":\"scatter3d\"},{\"marker\":{\"color\":\"blue\",\"size\":6,\"symbol\":\"cross\"},\"mode\":\"markers\",\"name\":\"MeVPRTL Decay Point\",\"showlegend\":false,\"x\":[198.4326251219882],\"y\":[97.68140388533538],\"z\":[-33.730777057989755],\"type\":\"scatter3d\"},{\"marker\":{\"color\":\"red\",\"size\":5},\"mode\":\"markers\",\"name\":\"Parent Decay Point\",\"showlegend\":false,\"x\":[-93.64581420898438],\"y\":[-10162.055541992188],\"z\":[13.194009780883789],\"type\":\"scatter3d\"},{\"line\":{\"color\":\"black\",\"dash\":\"dot\",\"width\":4},\"mode\":\"lines\",\"name\":\"Decay Path\",\"showlegend\":false,\"x\":[176.3186561789938,198.4326251219882],\"y\":[-679.1082307899295,97.68140388533538],\"z\":[-30.177987330721987,-33.730777057989755],\"type\":\"scatter3d\"},{\"line\":{\"color\":\"red\",\"dash\":\"dash\",\"width\":4},\"mode\":\"lines\",\"name\":\"nu_mu (48)\",\"showlegend\":false,\"x\":[198.4326251219882,189.09112334460812],\"y\":[97.68140388533538,379.6678275636028],\"z\":[-33.730777057989755,19.882993935467006],\"type\":\"scatter3d\"},{\"line\":{\"color\":\"blue\",\"width\":4},\"mode\":\"lines\",\"name\":\"e- (48)\",\"showlegend\":false,\"x\":[198.4326251219882,228.99419235531826],\"y\":[97.68140388533538,538.5051883368939],\"z\":[-33.730777057989755,-77.38599781912924],\"type\":\"scatter3d\"},{\"line\":{\"color\":\"blue\",\"width\":4},\"mode\":\"lines\",\"name\":\"e- (48)\",\"showlegend\":false,\"x\":[198.4326251219882,199.0385872887385],\"y\":[97.68140388533538,141.54666185773473],\"z\":[-33.730777057989755,-47.196070507941386],\"type\":\"scatter3d\"},{\"marker\":{\"color\":\"blue\",\"size\":6,\"symbol\":\"cross\"},\"mode\":\"markers\",\"name\":\"MeVPRTL Decay Point\",\"showlegend\":false,\"x\":[-183.69793162800744],\"y\":[183.99521573202765],\"z\":[-4.910083917045059],\"type\":\"scatter3d\"},{\"marker\":{\"color\":\"red\",\"size\":5},\"mode\":\"markers\",\"name\":\"Parent Decay Point\",\"showlegend\":false,\"x\":[-75.02555659294129],\"y\":[-10055.663696289062],\"z\":[1.056585431098938],\"type\":\"scatter3d\"},{\"line\":{\"color\":\"black\",\"dash\":\"dot\",\"width\":4},\"mode\":\"lines\",\"name\":\"Decay Path\",\"showlegend\":false,\"x\":[-168.53344464005016,-183.69793162800744],\"y\":[-1244.8791811177648,183.99521573202765],\"z\":[-4.077476001167847,-4.910083917045059],\"type\":\"scatter3d\"},{\"line\":{\"color\":\"red\",\"width\":4},\"mode\":\"lines\",\"name\":\"mu- (49)\",\"showlegend\":false,\"x\":[-183.69793162800744,-190.78346349730916],\"y\":[183.99521573202765,677.0653450552059],\"z\":[-4.910083917045059,-9.538293495924874],\"type\":\"scatter3d\"},{\"line\":{\"color\":\"green\",\"width\":4},\"mode\":\"lines\",\"name\":\"pi+ (49)\",\"showlegend\":false,\"x\":[-183.69793162800744,-191.7820391719112],\"y\":[183.99521573202765,1119.7650029348833],\"z\":[-4.910083917045059,-1.1273922129093208],\"type\":\"scatter3d\"},{\"marker\":{\"color\":\"blue\",\"size\":6,\"symbol\":\"cross\"},\"mode\":\"markers\",\"name\":\"MeVPRTL Decay Point\",\"showlegend\":false,\"x\":[-125.62242446734467],\"y\":[40.34571418456653],\"z\":[115.59643314129436],\"type\":\"scatter3d\"},{\"marker\":{\"color\":\"red\",\"size\":5},\"mode\":\"markers\",\"name\":\"Parent Decay Point\",\"showlegend\":false,\"x\":[-70.51897457122803],\"y\":[-8760.524169921875],\"z\":[30.119403839111328],\"type\":\"scatter3d\"},{\"line\":{\"color\":\"black\",\"dash\":\"dot\",\"width\":4},\"mode\":\"lines\",\"name\":\"Decay Path\",\"showlegend\":false,\"x\":[-114.4260742474109,-125.62242446734467],\"y\":[-1747.8839093379365,40.34571418456653],\"z\":[98.22854133722367,115.59643314129436],\"type\":\"scatter3d\"},{\"line\":{\"color\":\"red\",\"width\":4},\"mode\":\"lines\",\"name\":\"mu- (50)\",\"showlegend\":false,\"x\":[-125.62242446734467,-127.97934790132287],\"y\":[40.34571418456653,695.7519605593695],\"z\":[115.59643314129436,113.47876225222754],\"type\":\"scatter3d\"},{\"line\":{\"color\":\"green\",\"width\":4},\"mode\":\"lines\",\"name\":\"pi+ (50)\",\"showlegend\":false,\"x\":[-125.62242446734467,-134.45891597945263],\"y\":[40.34571418456653,1173.0789870814883],\"z\":[115.59643314129436,135.0696046653641],\"type\":\"scatter3d\"},{\"marker\":{\"color\":\"blue\",\"size\":6,\"symbol\":\"cross\"},\"mode\":\"markers\",\"name\":\"MeVPRTL Decay Point\",\"showlegend\":false,\"x\":[205.79602990541943],\"y\":[252.70667624703128],\"z\":[-172.0987884485921],\"type\":\"scatter3d\"},{\"marker\":{\"color\":\"red\",\"size\":5},\"mode\":\"markers\",\"name\":\"Parent Decay Point\",\"showlegend\":false,\"x\":[-67.17376544952393],\"y\":[-10873.769989013672],\"z\":[5.884728908538818],\"type\":\"scatter3d\"},{\"line\":{\"color\":\"black\",\"dash\":\"dot\",\"width\":4},\"mode\":\"lines\",\"name\":\"Decay Path\",\"showlegend\":false,\"x\":[182.83858267648247,205.79602990541943],\"y\":[-683.0580319126304,252.70667624703128],\"z\":[-157.12992641008773,-172.0987884485921],\"type\":\"scatter3d\"},{\"line\":{\"color\":\"red\",\"width\":4},\"mode\":\"lines\",\"name\":\"mu- (51)\",\"showlegend\":false,\"x\":[205.79602990541943,213.18060285759498],\"y\":[252.70667624703128,569.0625827539039],\"z\":[-172.0987884485921,-177.3006620575313],\"type\":\"scatter3d\"},{\"line\":{\"color\":\"green\",\"width\":4},\"mode\":\"lines\",\"name\":\"pi+ (51)\",\"showlegend\":false,\"x\":[205.79602990541943,221.36598864111258],\"y\":[252.70667624703128,872.1151476777752],\"z\":[-172.0987884485921,-181.86686232973696],\"type\":\"scatter3d\"},{\"marker\":{\"color\":\"blue\",\"size\":6,\"symbol\":\"cross\"},\"mode\":\"markers\",\"name\":\"MeVPRTL Decay Point\",\"showlegend\":false,\"x\":[-209.94611358480512],\"y\":[42.1219605125043],\"z\":[-185.32771262280667],\"type\":\"scatter3d\"},{\"marker\":{\"color\":\"red\",\"size\":5},\"mode\":\"markers\",\"name\":\"Parent Decay Point\",\"showlegend\":false,\"x\":[-144.56477478027344],\"y\":[-10731.69985961914],\"z\":[40.3938102722168],\"type\":\"scatter3d\"},{\"line\":{\"color\":\"black\",\"dash\":\"dot\",\"width\":4},\"mode\":\"lines\",\"name\":\"Decay Path\",\"showlegend\":false,\"x\":[-208.27013102564766,-209.94611358480512],\"y\":[-234.05374644257068,42.1219605125043],\"z\":[-179.54157635647036,-185.32771262280667],\"type\":\"scatter3d\"},{\"line\":{\"color\":\"red\",\"width\":4},\"mode\":\"lines\",\"name\":\"mu- (52)\",\"showlegend\":false,\"x\":[-209.94611358480512,-202.87463584152746],\"y\":[42.1219605125043,173.3002318254335],\"z\":[-185.32771262280667,-179.7888503030305],\"type\":\"scatter3d\"},{\"line\":{\"color\":\"green\",\"width\":4},\"mode\":\"lines\",\"name\":\"pi+ (52)\",\"showlegend\":false,\"x\":[-209.94611358480512,-219.04320356485687],\"y\":[42.1219605125043,186.11895608663056],\"z\":[-185.32771262280667,-197.00642394517791],\"type\":\"scatter3d\"},{\"marker\":{\"color\":\"blue\",\"size\":6,\"symbol\":\"cross\"},\"mode\":\"markers\",\"name\":\"MeVPRTL Decay Point\",\"showlegend\":false,\"x\":[92.89713728180678],\"y\":[369.41949791160005],\"z\":[-114.30501529022924],\"type\":\"scatter3d\"},{\"marker\":{\"color\":\"red\",\"size\":5},\"mode\":\"markers\",\"name\":\"Parent Decay Point\",\"showlegend\":false,\"x\":[-117.58804061889649],\"y\":[-10760.233032226562],\"z\":[-36.135047912597656],\"type\":\"scatter3d\"},{\"line\":{\"color\":\"black\",\"dash\":\"dot\",\"width\":4},\"mode\":\"lines\",\"name\":\"Decay Path\",\"showlegend\":false,\"x\":[87.27643779010327,92.89713728180678],\"y\":[72.21836981841284,369.41949791160005],\"z\":[-112.2176003934273,-114.30501529022924],\"type\":\"scatter3d\"},{\"line\":{\"color\":\"red\",\"width\":4},\"mode\":\"lines\",\"name\":\"mu- (53)\",\"showlegend\":false,\"x\":[92.89713728180678,99.55780015131786],\"y\":[369.41949791160005,476.49380132819147],\"z\":[-114.30501529022924,-121.43812502548238],\"type\":\"scatter3d\"},{\"line\":{\"color\":\"green\",\"width\":4},\"mode\":\"lines\",\"name\":\"pi+ (53)\",\"showlegend\":false,\"x\":[92.89713728180678,92.14268256253928],\"y\":[369.41949791160005,559.1046047888003],\"z\":[-114.30501529022924,-109.66072453333052],\"type\":\"scatter3d\"},{\"marker\":{\"color\":\"blue\",\"size\":6,\"symbol\":\"cross\"},\"mode\":\"markers\",\"name\":\"MeVPRTL Decay Point\",\"showlegend\":false,\"x\":[31.36341671859259],\"y\":[158.9931653485819],\"z\":[-24.37160272560255],\"type\":\"scatter3d\"},{\"marker\":{\"color\":\"red\",\"size\":5},\"mode\":\"markers\",\"name\":\"Parent Decay Point\",\"showlegend\":false,\"x\":[-92.26227310180664],\"y\":[-10655.502258300781],\"z\":[11.928625106811523],\"type\":\"scatter3d\"},{\"line\":{\"color\":\"black\",\"dash\":\"dot\",\"width\":4},\"mode\":\"lines\",\"name\":\"Decay Path\",\"showlegend\":false,\"x\":[20.017825194961915,31.36341671859259],\"y\":[-833.4934916654278,158.9931653485819],\"z\":[-21.040195169457686,-24.37160272560255],\"type\":\"scatter3d\"},{\"line\":{\"color\":\"red\",\"width\":4},\"mode\":\"lines\",\"name\":\"mu- (54)\",\"showlegend\":false,\"x\":[31.36341671859259,43.28830874059619],\"y\":[158.9931653485819,518.2846309214156],\"z\":[-24.37160272560255,-23.434252420758245],\"type\":\"scatter3d\"},{\"line\":{\"color\":\"green\",\"width\":4},\"mode\":\"lines\",\"name\":\"pi+ (54)\",\"showlegend\":false,\"x\":[31.36341671859259,30.819940452713585],\"y\":[158.9931653485819,792.045179463308],\"z\":[-24.37160272560255,-28.62960936866493],\"type\":\"scatter3d\"},{\"marker\":{\"color\":\"blue\",\"size\":6,\"symbol\":\"cross\"},\"mode\":\"markers\",\"name\":\"MeVPRTL Decay Point\",\"showlegend\":false,\"x\":[130.3788895585554],\"y\":[162.70840904262332],\"z\":[168.16850291268273],\"type\":\"scatter3d\"},{\"marker\":{\"color\":\"red\",\"size\":5},\"mode\":\"markers\",\"name\":\"Parent Decay Point\",\"showlegend\":false,\"x\":[-56.67455795288086],\"y\":[-9637.356567382812],\"z\":[-5.792165756225586],\"type\":\"scatter3d\"},{\"line\":{\"color\":\"black\",\"dash\":\"dot\",\"width\":4},\"mode\":\"lines\",\"name\":\"Decay Path\",\"showlegend\":false,\"x\":[84.9362146974128,130.3788895585554],\"y\":[-2218.114677976633,162.70840904262332],\"z\":[125.9065814665953,168.16850291268273],\"type\":\"scatter3d\"},{\"line\":{\"color\":\"red\",\"width\":4},\"mode\":\"lines\",\"name\":\"mu- (55)\",\"showlegend\":false,\"x\":[130.3788895585554,159.21869927355885],\"y\":[162.70840904262332,1363.333956977505],\"z\":[168.16850291268273,183.87893420634092],\"type\":\"scatter3d\"},{\"line\":{\"color\":\"green\",\"width\":4},\"mode\":\"lines\",\"name\":\"pi+ (55)\",\"showlegend\":false,\"x\":[130.3788895585554,146.97605551050958],\"y\":[162.70840904262332,1342.8501113018817],\"z\":[168.16850291268273,194.72338372461485],\"type\":\"scatter3d\"},{\"marker\":{\"color\":\"blue\",\"size\":6,\"symbol\":\"cross\"},\"mode\":\"markers\",\"name\":\"MeVPRTL Decay Point\",\"showlegend\":false,\"x\":[-177.94308980668438],\"y\":[355.1201579763456],\"z\":[-204.2105813083791],\"type\":\"scatter3d\"},{\"marker\":{\"color\":\"red\",\"size\":5},\"mode\":\"markers\",\"name\":\"Parent Decay Point\",\"showlegend\":false,\"x\":[-69.92501357078552],\"y\":[-8424.053955078125],\"z\":[-19.778825759887695],\"type\":\"scatter3d\"},{\"line\":{\"color\":\"black\",\"dash\":\"dot\",\"width\":4},\"mode\":\"lines\",\"name\":\"Decay Path\",\"showlegend\":false,\"x\":[-154.55170375727064,-177.94308980668438],\"y\":[-1546.0158187929576,355.1201579763456],\"z\":[-164.27176232419032,-204.2105813083791],\"type\":\"scatter3d\"},{\"line\":{\"color\":\"red\",\"width\":4},\"mode\":\"lines\",\"name\":\"mu- (56)\",\"showlegend\":false,\"x\":[-177.94308980668438,-184.34506033125646],\"y\":[355.1201579763456,1338.3864975478327],\"z\":[-204.2105813083791,-226.4882253512825],\"type\":\"scatter3d\"},{\"line\":{\"color\":\"green\",\"width\":4},\"mode\":\"lines\",\"name\":\"pi+ (56)\",\"showlegend\":false,\"x\":[-177.94308980668438,-194.94032726284493],\"y\":[355.1201579763456,1272.9527691108947],\"z\":[-204.2105813083791,-221.86862231735324],\"type\":\"scatter3d\"},{\"marker\":{\"color\":\"blue\",\"size\":6,\"symbol\":\"cross\"},\"mode\":\"markers\",\"name\":\"MeVPRTL Decay Point\",\"showlegend\":false,\"x\":[-195.45515590305712],\"y\":[89.37087682899983],\"z\":[-165.56192593729347],\"type\":\"scatter3d\"},{\"marker\":{\"color\":\"red\",\"size\":5},\"mode\":\"markers\",\"name\":\"Parent Decay Point\",\"showlegend\":false,\"x\":[-43.49490859985352],\"y\":[-8018.421142578125],\"z\":[-60.93623733520508],\"type\":\"scatter3d\"},{\"line\":{\"color\":\"black\",\"dash\":\"dot\",\"width\":4},\"mode\":\"lines\",\"name\":\"Decay Path\",\"showlegend\":false,\"x\":[-179.85298293282918,-195.45515590305712],\"y\":[-743.0782388994184,89.37087682899983],\"z\":[-154.81972118527096,-165.56192593729347],\"type\":\"scatter3d\"},{\"line\":{\"color\":\"red\",\"width\":4},\"mode\":\"lines\",\"name\":\"mu- (57)\",\"showlegend\":false,\"x\":[-195.45515590305712,-192.26776900011086],\"y\":[89.37087682899983,429.47808467287706],\"z\":[-165.56192593729347,-176.81138854553097],\"type\":\"scatter3d\"},{\"line\":{\"color\":\"green\",\"width\":4},\"mode\":\"lines\",\"name\":\"pi+ (57)\",\"showlegend\":false,\"x\":[-195.45515590305712,-214.21869693875124],\"y\":[89.37087682899983,581.36944027236],\"z\":[-165.56192593729347,-165.06428871843846],\"type\":\"scatter3d\"},{\"marker\":{\"color\":\"blue\",\"size\":6,\"symbol\":\"cross\"},\"mode\":\"markers\",\"name\":\"MeVPRTL Decay Point\",\"showlegend\":false,\"x\":[-16.441305795446496],\"y\":[296.16056505149754],\"z\":[-140.46344352445962],\"type\":\"scatter3d\"},{\"marker\":{\"color\":\"red\",\"size\":5},\"mode\":\"markers\",\"name\":\"Parent Decay Point\",\"showlegend\":false,\"x\":[-109.58889129638672],\"y\":[-9443.989379882812],\"z\":[-55.31975173950195],\"type\":\"scatter3d\"},{\"line\":{\"color\":\"black\",\"dash\":\"dot\",\"width\":4},\"mode\":\"lines\",\"name\":\"Decay Path\",\"showlegend\":false,\"x\":[-32.34978347119376,-16.441305795446496],\"y\":[-1367.3388925469428,296.16056505149754],\"z\":[-125.92193380408118,-140.46344352445962],\"type\":\"scatter3d\"},{\"line\":{\"color\":\"red\",\"width\":4},\"mode\":\"lines\",\"name\":\"mu- (58)\",\"showlegend\":false,\"x\":[-16.441305795446496,-8.420740273120046],\"y\":[296.16056505149754,964.2175817077983],\"z\":[-140.46344352445962,-135.02666216420724],\"type\":\"scatter3d\"},{\"line\":{\"color\":\"green\",\"width\":4},\"mode\":\"lines\",\"name\":\"pi+ (58)\",\"showlegend\":false,\"x\":[-16.441305795446496,-8.55384729645745],\"y\":[296.16056505149754,1291.4408018853346],\"z\":[-140.46344352445962,-160.4327318922996],\"type\":\"scatter3d\"},{\"marker\":{\"color\":\"blue\",\"size\":6,\"symbol\":\"cross\"},\"mode\":\"markers\",\"name\":\"MeVPRTL Decay Point\",\"showlegend\":false,\"x\":[-207.0915688880578],\"y\":[30.21731151972199],\"z\":[-170.01648711654545],\"type\":\"scatter3d\"},{\"marker\":{\"color\":\"red\",\"size\":5},\"mode\":\"markers\",\"name\":\"Parent Decay Point\",\"showlegend\":false,\"x\":[-119.25645568847656],\"y\":[-8933.9140625],\"z\":[40.1910400390625],\"type\":\"scatter3d\"},{\"line\":{\"color\":\"black\",\"dash\":\"dot\",\"width\":4},\"mode\":\"lines\",\"name\":\"Decay Path\",\"showlegend\":false,\"x\":[-192.1491065109043,-207.0915688880578],\"y\":[-1494.7559129787198,30.21731151972199],\"z\":[-134.25609526983555,-170.01648711654545],\"type\":\"scatter3d\"},{\"line\":{\"color\":\"red\",\"width\":4},\"mode\":\"lines\",\"name\":\"mu- (59)\",\"showlegend\":false,\"x\":[-207.0915688880578,-218.12653931651465],\"y\":[30.21731151972199,643.820496779492],\"z\":[-170.01648711654545,-194.6925727657495],\"type\":\"scatter3d\"},{\"line\":{\"color\":\"green\",\"width\":4},\"mode\":\"lines\",\"name\":\"pi+ (59)\",\"showlegend\":false,\"x\":[-207.0915688880578,-211.0011871992212],\"y\":[30.21731151972199,941.4088056069635],\"z\":[-170.01648711654545,-181.1045449081819],\"type\":\"scatter3d\"},{\"marker\":{\"color\":\"blue\",\"size\":6,\"symbol\":\"cross\"},\"mode\":\"markers\",\"name\":\"MeVPRTL Decay Point\",\"showlegend\":false,\"x\":[-117.21291111664624],\"y\":[380.83000537689804],\"z\":[159.74693304260288],\"type\":\"scatter3d\"},{\"marker\":{\"color\":\"red\",\"size\":5},\"mode\":\"markers\",\"name\":\"Parent Decay Point\",\"showlegend\":false,\"x\":[-85.90090587615967],\"y\":[-10778.682922363281],\"z\":[32.013458251953125],\"type\":\"scatter3d\"},{\"line\":{\"color\":\"black\",\"dash\":\"dot\",\"width\":4},\"mode\":\"lines\",\"name\":\"Decay Path\",\"showlegend\":false,\"x\":[-116.24617935606074,-117.21291111664624],\"y\":[36.28945305348191,380.83000537689804],\"z\":[155.80326970894953,159.74693304260288],\"type\":\"scatter3d\"},{\"line\":{\"color\":\"red\",\"width\":4},\"mode\":\"lines\",\"name\":\"mu- (60)\",\"showlegend\":false,\"x\":[-117.21291111664624,-128.8295889941819],\"y\":[380.83000537689804,516.5140994254995],\"z\":[159.74693304260288,157.62780775385224],\"type\":\"scatter3d\"},{\"line\":{\"color\":\"green\",\"width\":4},\"mode\":\"lines\",\"name\":\"pi+ (60)\",\"showlegend\":false,\"x\":[-117.21291111664624,-106.80558167688679],\"y\":[380.83000537689804,588.8517159017493],\"z\":[159.74693304260288,165.7201085355475],\"type\":\"scatter3d\"},{\"marker\":{\"color\":\"blue\",\"size\":6,\"symbol\":\"cross\"},\"mode\":\"markers\",\"name\":\"MeVPRTL Decay Point\",\"showlegend\":false,\"x\":[154.31881560034728],\"y\":[420.7187247200709],\"z\":[-150.4860936886534],\"type\":\"scatter3d\"},{\"marker\":{\"color\":\"red\",\"size\":5},\"mode\":\"markers\",\"name\":\"Parent Decay Point\",\"showlegend\":false,\"x\":[-53.9627449798584],\"y\":[-8939.98046875],\"z\":[-58.3922119140625],\"type\":\"scatter3d\"},{\"line\":{\"color\":\"black\",\"dash\":\"dot\",\"width\":4},\"mode\":\"lines\",\"name\":\"Decay Path\",\"showlegend\":false,\"x\":[96.81216639212951,154.31881560034728],\"y\":[-2163.7752811966907,420.7187247200709],\"z\":[-125.05892414622491,-150.4860936886534],\"type\":\"scatter3d\"},{\"line\":{\"color\":\"red\",\"width\":4},\"mode\":\"lines\",\"name\":\"mu- (61)\",\"showlegend\":false,\"x\":[154.31881560034728,185.45056498280962],\"y\":[420.7187247200709,1470.2490675280355],\"z\":[-150.4860936886534,-169.36830960332202],\"type\":\"scatter3d\"},{\"line\":{\"color\":\"green\",\"width\":4},\"mode\":\"lines\",\"name\":\"pi+ (61)\",\"showlegend\":false,\"x\":[154.31881560034728,180.69313948528134],\"y\":[420.7187247200709,1955.5752034013901],\"z\":[-150.4860936886534,-157.0319825926768],\"type\":\"scatter3d\"},{\"marker\":{\"color\":\"blue\",\"size\":6,\"symbol\":\"cross\"},\"mode\":\"markers\",\"name\":\"MeVPRTL Decay Point\",\"showlegend\":false,\"x\":[54.23346761725685],\"y\":[353.41729036220204],\"z\":[-130.4068408026358],\"type\":\"scatter3d\"},{\"marker\":{\"color\":\"red\",\"size\":5},\"mode\":\"markers\",\"name\":\"Parent Decay Point\",\"showlegend\":false,\"x\":[-85.80254104614258],\"y\":[-10802.012649536133],\"z\":[6.914638519287109],\"type\":\"scatter3d\"},{\"line\":{\"color\":\"black\",\"dash\":\"dot\",\"width\":4},\"mode\":\"lines\",\"name\":\"Decay Path\",\"showlegend\":false,\"x\":[40.79529829406803,54.23346761725685],\"y\":[-717.0827748435609,353.41729036220204],\"z\":[-117.22916380046998,-130.4068408026358],\"type\":\"scatter3d\"},{\"line\":{\"color\":\"red\",\"width\":4},\"mode\":\"lines\",\"name\":\"mu- (62)\",\"showlegend\":false,\"x\":[54.23346761725685,60.31478671509968],\"y\":[353.41729036220204,857.5301430522393],\"z\":[-130.4068408026358,-147.7381281451587],\"type\":\"scatter3d\"},{\"line\":{\"color\":\"green\",\"width\":4},\"mode\":\"lines\",\"name\":\"pi+ (62)\",\"showlegend\":false,\"x\":[54.23346761725685,61.587931085429176],\"y\":[353.41729036220204,919.5722534062721],\"z\":[-130.4068408026358,-126.22654646506375],\"type\":\"scatter3d\"},{\"marker\":{\"color\":\"blue\",\"size\":6,\"symbol\":\"cross\"},\"mode\":\"markers\",\"name\":\"MeVPRTL Decay Point\",\"showlegend\":false,\"x\":[138.71028501744962],\"y\":[307.2364161765927],\"z\":[12.756207024741238],\"type\":\"scatter3d\"},{\"marker\":{\"color\":\"red\",\"size\":5},\"mode\":\"markers\",\"name\":\"Parent Decay Point\",\"showlegend\":false,\"x\":[-62.66618755340576],\"y\":[-10427.774841308594],\"z\":[-0.9044979810714722],\"type\":\"scatter3d\"},{\"line\":{\"color\":\"black\",\"dash\":\"dot\",\"width\":4},\"mode\":\"lines\",\"name\":\"Decay Path\",\"showlegend\":false,\"x\":[118.84918005289265,138.71028501744962],\"y\":[-751.5227459971079,307.2364161765927],\"z\":[11.408896226480875,12.756207024741238],\"type\":\"scatter3d\"},{\"line\":{\"color\":\"red\",\"width\":4},\"mode\":\"lines\",\"name\":\"mu- (63)\",\"showlegend\":false,\"x\":[138.71028501744962,151.67615160117583],\"y\":[307.2364161765927,865.1843124405913],\"z\":[12.756207024741238,13.217787941612567],\"type\":\"scatter3d\"},{\"line\":{\"color\":\"green\",\"width\":4},\"mode\":\"lines\",\"name\":\"pi+ (63)\",\"showlegend\":false,\"x\":[138.71028501744962,145.59201544454928],\"y\":[307.2364161765927,808.0359185503282],\"z\":[12.756207024741238,13.643242627932656],\"type\":\"scatter3d\"},{\"marker\":{\"color\":\"blue\",\"size\":6,\"symbol\":\"cross\"},\"mode\":\"markers\",\"name\":\"MeVPRTL Decay Point\",\"showlegend\":false,\"x\":[209.92117038464872],\"y\":[6.076412880942371],\"z\":[176.61934961578964],\"type\":\"scatter3d\"},{\"marker\":{\"color\":\"red\",\"size\":5},\"mode\":\"markers\",\"name\":\"Parent Decay Point\",\"showlegend\":false,\"x\":[-69.70713403701782],\"y\":[-10784.67268371582],\"z\":[-29.744754791259766],\"type\":\"scatter3d\"},{\"line\":{\"color\":\"black\",\"dash\":\"dot\",\"width\":4},\"mode\":\"lines\",\"name\":\"Decay Path\",\"showlegend\":false,\"x\":[197.21048637973274,209.92117038464872],\"y\":[-484.424011340585,6.076412880942371],\"z\":[167.2389368335411,176.61934961578964],\"type\":\"scatter3d\"},{\"line\":{\"color\":\"red\",\"width\":4},\"mode\":\"lines\",\"name\":\"mu- (64)\",\"showlegend\":false,\"x\":[209.92117038464872,212.65028881509375],\"y\":[6.076412880942371,197.5420075963269],\"z\":[176.61934961578964,169.3941148777707],\"type\":\"scatter3d\"},{\"line\":{\"color\":\"green\",\"width\":4},\"mode\":\"lines\",\"name\":\"pi+ (64)\",\"showlegend\":false,\"x\":[209.92117038464872,219.86361643668633],\"y\":[6.076412880942371,304.590525850934],\"z\":[176.61934961578964,193.09007175922108],\"type\":\"scatter3d\"},{\"marker\":{\"color\":\"blue\",\"size\":6,\"symbol\":\"cross\"},\"mode\":\"markers\",\"name\":\"MeVPRTL Decay Point\",\"showlegend\":false,\"x\":[74.7514762600577],\"y\":[372.97232189614806],\"z\":[144.92410712950672],\"type\":\"scatter3d\"},{\"marker\":{\"color\":\"red\",\"size\":5},\"mode\":\"markers\",\"name\":\"Parent Decay Point\",\"showlegend\":false,\"x\":[-75.56041470050812],\"y\":[-10415.905944824219],\"z\":[-5.645276069641113],\"type\":\"scatter3d\"},{\"line\":{\"color\":\"black\",\"dash\":\"dot\",\"width\":4},\"mode\":\"lines\",\"name\":\"Decay Path\",\"showlegend\":false,\"x\":[47.98677477103104,74.7514762600577],\"y\":[-1548.1072704427852,372.97232189614806],\"z\":[118.11355628779513,144.92410712950672],\"type\":\"scatter3d\"},{\"line\":{\"color\":\"red\",\"width\":4},\"mode\":\"lines\",\"name\":\"mu- (65)\",\"showlegend\":false,\"x\":[74.7514762600577,84.3240065199905],\"y\":[372.97232189614806,1044.3439653289697],\"z\":[144.92410712950672,160.17452338518783],\"type\":\"scatter3d\"},{\"line\":{\"color\":\"green\",\"width\":4},\"mode\":\"lines\",\"name\":\"pi+ (65)\",\"showlegend\":false,\"x\":[74.7514762600577,91.94343156090333],\"y\":[372.97232189614806,1622.640561248058],\"z\":[144.92410712950672,156.49274924346818],\"type\":\"scatter3d\"},{\"marker\":{\"color\":\"blue\",\"size\":6,\"symbol\":\"cross\"},\"mode\":\"markers\",\"name\":\"MeVPRTL Decay Point\",\"showlegend\":false,\"x\":[155.6358856079056],\"y\":[448.86667196227245],\"z\":[130.7528794314754],\"type\":\"scatter3d\"},{\"marker\":{\"color\":\"red\",\"size\":5},\"mode\":\"markers\",\"name\":\"Parent Decay Point\",\"showlegend\":false,\"x\":[-48.09930732727051],\"y\":[-10446.477783203125],\"z\":[-18.844518661499023],\"type\":\"scatter3d\"},{\"line\":{\"color\":\"black\",\"dash\":\"dot\",\"width\":4},\"mode\":\"lines\",\"name\":\"Decay Path\",\"showlegend\":false,\"x\":[139.79247868082228,155.6358856079056],\"y\":[-398.4065621168779,448.86667196227245],\"z\":[119.11948208331084,130.7528794314754],\"type\":\"scatter3d\"},{\"line\":{\"color\":\"red\",\"width\":4},\"mode\":\"lines\",\"name\":\"mu- (66)\",\"showlegend\":false,\"x\":[155.6358856079056,155.97064748555857],\"y\":[448.86667196227245,852.1065015115904],\"z\":[130.7528794314754,128.13462618743407],\"type\":\"scatter3d\"},{\"line\":{\"color\":\"green\",\"width\":4},\"mode\":\"lines\",\"name\":\"pi+ (66)\",\"showlegend\":false,\"x\":[155.6358856079056,171.16695504797443],\"y\":[448.86667196227245,892.6181577122857],\"z\":[130.7528794314754,145.03200431261],\"type\":\"scatter3d\"},{\"marker\":{\"color\":\"blue\",\"size\":6,\"symbol\":\"cross\"},\"mode\":\"markers\",\"name\":\"MeVPRTL Decay Point\",\"showlegend\":false,\"x\":[156.34754948652323],\"y\":[155.20544408766727],\"z\":[-202.88851953291964],\"type\":\"scatter3d\"},{\"marker\":{\"color\":\"red\",\"size\":5},\"mode\":\"markers\",\"name\":\"Parent Decay Point\",\"showlegend\":false,\"x\":[-83.9550602722168],\"y\":[-10713.04946899414],\"z\":[-42.593685150146484],\"type\":\"scatter3d\"},{\"line\":{\"color\":\"black\",\"dash\":\"dot\",\"width\":4},\"mode\":\"lines\",\"name\":\"Decay Path\",\"showlegend\":false,\"x\":[148.3071494395295,156.34754948652323],\"y\":[-208.44069942120342,155.20544408766727],\"z\":[-197.52513794002695,-202.88851953291964],\"type\":\"scatter3d\"},{\"line\":{\"color\":\"red\",\"width\":4},\"mode\":\"lines\",\"name\":\"mu- (67)\",\"showlegend\":false,\"x\":[156.34754948652323,165.6778288140514],\"y\":[155.20544408766727,326.4472936127298],\"z\":[-202.88851953291964,-215.38032891642555],\"type\":\"scatter3d\"},{\"line\":{\"color\":\"green\",\"width\":4},\"mode\":\"lines\",\"name\":\"pi+ (67)\",\"showlegend\":false,\"x\":[156.34754948652323,154.92164929466145],\"y\":[155.20544408766727,346.8834566014941],\"z\":[-202.88851953291964,-195.5337305677954],\"type\":\"scatter3d\"},{\"marker\":{\"color\":\"blue\",\"size\":6,\"symbol\":\"cross\"},\"mode\":\"markers\",\"name\":\"MeVPRTL Decay Point\",\"showlegend\":false,\"x\":[-191.00538391916484],\"y\":[213.15600652876492],\"z\":[-129.1519239931492],\"type\":\"scatter3d\"},{\"marker\":{\"color\":\"red\",\"size\":5},\"mode\":\"markers\",\"name\":\"Parent Decay Point\",\"showlegend\":false,\"x\":[-96.00665786743164],\"y\":[-8856.544677734375],\"z\":[-139.56814575195312],\"type\":\"scatter3d\"},{\"line\":{\"color\":\"black\",\"dash\":\"dot\",\"width\":4},\"mode\":\"lines\",\"name\":\"Decay Path\",\"showlegend\":false,\"x\":[-188.84063706031432,-191.00538391916484],\"y\":[6.483697509786481,213.15600652876492],\"z\":[-129.3892796322257,-129.1519239931492],\"type\":\"scatter3d\"},{\"line\":{\"color\":\"red\",\"width\":4},\"mode\":\"lines\",\"name\":\"mu- (68)\",\"showlegend\":false,\"x\":[-191.00538391916484,-177.96949821717146],\"y\":[213.15600652876492,303.1597447241807],\"z\":[-129.1519239931492,-124.44138753279663],\"type\":\"scatter3d\"},{\"line\":{\"color\":\"green\",\"width\":4},\"mode\":\"lines\",\"name\":\"pi+ (68)\",\"showlegend\":false,\"x\":[-191.00538391916484,-206.48511386893594],\"y\":[213.15600652876492,327.6426708216597],\"z\":[-129.1519239931492,-133.727129924811],\"type\":\"scatter3d\"},{\"marker\":{\"color\":\"blue\",\"size\":6,\"symbol\":\"cross\"},\"mode\":\"markers\",\"name\":\"MeVPRTL Decay Point\",\"showlegend\":false,\"x\":[90.4988780030221],\"y\":[175.97245426834525],\"z\":[-68.48868494484275],\"type\":\"scatter3d\"},{\"marker\":{\"color\":\"red\",\"size\":5},\"mode\":\"markers\",\"name\":\"Parent Decay Point\",\"showlegend\":false,\"x\":[-95.75458076477051],\"y\":[-10527.444732666016],\"z\":[-20.600563049316406],\"type\":\"scatter3d\"},{\"line\":{\"color\":\"black\",\"dash\":\"dot\",\"width\":4},\"mode\":\"lines\",\"name\":\"Decay Path\",\"showlegend\":false,\"x\":[86.44220759513512,90.4988780030221],\"y\":[-57.15199911235061,175.97245426834525],\"z\":[-67.44566363255096,-68.48868494484275],\"type\":\"scatter3d\"},{\"line\":{\"color\":\"red\",\"width\":4},\"mode\":\"lines\",\"name\":\"mu- (69)\",\"showlegend\":false,\"x\":[90.4988780030221,80.05578319151103],\"y\":[175.97245426834525,277.22311209952693],\"z\":[-68.48868494484275,-61.960975852035645],\"type\":\"scatter3d\"},{\"line\":{\"color\":\"green\",\"width\":4},\"mode\":\"lines\",\"name\":\"pi+ (69)\",\"showlegend\":false,\"x\":[90.4988780030221,105.09354423637856],\"y\":[175.97245426834525,306.09937930605065],\"z\":[-68.48868494484275,-76.1232650866288],\"type\":\"scatter3d\"},{\"marker\":{\"color\":\"blue\",\"size\":6,\"symbol\":\"cross\"},\"mode\":\"markers\",\"name\":\"MeVPRTL Decay Point\",\"showlegend\":false,\"x\":[-102.0417190067039],\"y\":[344.66202889322176],\"z\":[207.6623089757715],\"type\":\"scatter3d\"},{\"marker\":{\"color\":\"red\",\"size\":5},\"mode\":\"markers\",\"name\":\"Parent Decay Point\",\"showlegend\":false,\"x\":[-86.37714794158936],\"y\":[-6700.6982421875],\"z\":[68.54013061523438],\"type\":\"scatter3d\"},{\"line\":{\"color\":\"black\",\"dash\":\"dot\",\"width\":4},\"mode\":\"lines\",\"name\":\"Decay Path\",\"showlegend\":false,\"x\":[-98.70023726294659,-102.0417190067039],\"y\":[-1158.2161939543766,344.66202889322176],\"z\":[177.9855168560836,207.6623089757715],\"type\":\"scatter3d\"},{\"line\":{\"color\":\"red\",\"width\":4},\"mode\":\"lines\",\"name\":\"mu- (70)\",\"showlegend\":false,\"x\":[-102.0417190067039,-112.56901524352915],\"y\":[344.66202889322176,1078.4355104013632],\"z\":[207.6623089757715,217.7778519818714],\"type\":\"scatter3d\"},{\"line\":{\"color\":\"green\",\"width\":4},\"mode\":\"lines\",\"name\":\"pi+ (70)\",\"showlegend\":false,\"x\":[-102.0417190067039,-94.84195265070274],\"y\":[344.66202889322176,1113.6356783751776],\"z\":[207.6623089757715,227.2276861825659],\"type\":\"scatter3d\"},{\"marker\":{\"color\":\"blue\",\"size\":6,\"symbol\":\"cross\"},\"mode\":\"markers\",\"name\":\"MeVPRTL Decay Point\",\"showlegend\":false,\"x\":[40.38709550868242],\"y\":[21.189142143453864],\"z\":[-168.6454607585985],\"type\":\"scatter3d\"},{\"marker\":{\"color\":\"red\",\"size\":5},\"mode\":\"markers\",\"name\":\"Parent Decay Point\",\"showlegend\":false,\"x\":[-77.60717275619507],\"y\":[-10833.751235961914],\"z\":[-37.34639358520508],\"type\":\"scatter3d\"},{\"line\":{\"color\":\"black\",\"dash\":\"dot\",\"width\":4},\"mode\":\"lines\",\"name\":\"Decay Path\",\"showlegend\":false,\"x\":[37.64163761391582,40.38709550868242],\"y\":[-231.3805987137044,21.189142143453864],\"z\":[-165.5904304944379,-168.6454607585985],\"type\":\"scatter3d\"},{\"line\":{\"color\":\"red\",\"width\":4},\"mode\":\"lines\",\"name\":\"mu- (71)\",\"showlegend\":false,\"x\":[40.38709550868242,36.215578395758655],\"y\":[21.189142143453864,135.46894770573203],\"z\":[-168.6454607585985,-158.07615361796394],\"type\":\"scatter3d\"},{\"line\":{\"color\":\"green\",\"width\":4},\"mode\":\"lines\",\"name\":\"pi+ (71)\",\"showlegend\":false,\"x\":[40.38709550868242,47.45008217082838],\"y\":[21.189142143453864,158.05733459214366],\"z\":[-168.6454607585985,-182.60906019502812],\"type\":\"scatter3d\"},{\"marker\":{\"color\":\"blue\",\"size\":6,\"symbol\":\"cross\"},\"mode\":\"markers\",\"name\":\"MeVPRTL Decay Point\",\"showlegend\":false,\"x\":[-195.5834452383044],\"y\":[-3.698742808406678],\"z\":[197.11827776213897],\"type\":\"scatter3d\"},{\"marker\":{\"color\":\"red\",\"size\":5},\"mode\":\"markers\",\"name\":\"Parent Decay Point\",\"showlegend\":false,\"x\":[-63.05605152130127],\"y\":[-10652.208679199219],\"z\":[15.518548011779785],\"type\":\"scatter3d\"},{\"line\":{\"color\":\"black\",\"dash\":\"dot\",\"width\":4},\"mode\":\"lines\",\"name\":\"Decay Path\",\"showlegend\":false,\"x\":[-178.14667608837925,-195.5834452383044],\"y\":[-1404.7344407413143,-3.698742808406678],\"z\":[173.22500953634463,197.11827776213897],\"type\":\"scatter3d\"},{\"line\":{\"color\":\"red\",\"width\":4},\"mode\":\"lines\",\"name\":\"mu- (72)\",\"showlegend\":false,\"x\":[-195.5834452383044,-196.87461391145783],\"y\":[-3.698742808406678,614.1330702407656],\"z\":[197.11827776213897,217.86108309158314],\"type\":\"scatter3d\"},{\"line\":{\"color\":\"green\",\"width\":4},\"mode\":\"lines\",\"name\":\"pi+ (72)\",\"showlegend\":false,\"x\":[-195.5834452383044,-211.72848510372646],\"y\":[-3.698742808406678,779.2951520575294],\"z\":[197.11827776213897,200.26188478998148],\"type\":\"scatter3d\"},{\"marker\":{\"color\":\"blue\",\"size\":6,\"symbol\":\"cross\"},\"mode\":\"markers\",\"name\":\"MeVPRTL Decay Point\",\"showlegend\":false,\"x\":[87.38440835997415],\"y\":[493.47700033100773],\"z\":[-80.91012643380208],\"type\":\"scatter3d\"},{\"marker\":{\"color\":\"red\",\"size\":5},\"mode\":\"markers\",\"name\":\"Parent Decay Point\",\"showlegend\":false,\"x\":[-70.28248646736145],\"y\":[-8599.58740234375],\"z\":[7.552052974700928],\"type\":\"scatter3d\"},{\"line\":{\"color\":\"black\",\"dash\":\"dot\",\"width\":4},\"mode\":\"lines\",\"name\":\"Decay Path\",\"showlegend\":false,\"x\":[63.81868332784526,87.38440835997415],\"y\":[-865.620327281998,493.47700033100773],\"z\":[-67.68810288874141,-80.91012643380208],\"type\":\"scatter3d\"},{\"line\":{\"color\":\"red\",\"width\":4},\"mode\":\"lines\",\"name\":\"mu- (73)\",\"showlegend\":false,\"x\":[87.38440835997415,93.55360768530919],\"y\":[493.47700033100773,1172.9833215866752],\"z\":[-80.91012643380208,-80.85580907570181],\"type\":\"scatter3d\"},{\"line\":{\"color\":\"green\",\"width\":4},\"mode\":\"lines\",\"name\":\"pi+ (73)\",\"showlegend\":false,\"x\":[87.38440835997415,104.79171708208028],\"y\":[493.47700033100773,1172.9557336421628],\"z\":[-80.91012643380208,-94.20049066882956],\"type\":\"scatter3d\"},{\"marker\":{\"color\":\"blue\",\"size\":6,\"symbol\":\"cross\"},\"mode\":\"markers\",\"name\":\"MeVPRTL Decay Point\",\"showlegend\":false,\"x\":[-200.38518135995102],\"y\":[8.460015960821693],\"z\":[-209.75693047647172],\"type\":\"scatter3d\"},{\"marker\":{\"color\":\"red\",\"size\":5},\"mode\":\"markers\",\"name\":\"Parent Decay Point\",\"showlegend\":false,\"x\":[-62.731648712158204],\"y\":[-10200.817504882812],\"z\":[-23.985332489013672],\"type\":\"scatter3d\"},{\"line\":{\"color\":\"black\",\"dash\":\"dot\",\"width\":4},\"mode\":\"lines\",\"name\":\"Decay Path\",\"showlegend\":false,\"x\":[-171.65619786832866,-200.38518135995102],\"y\":[-2122.2674685866723,8.460015960821693],\"z\":[-170.98546512331166,-209.75693047647172],\"type\":\"scatter3d\"},{\"line\":{\"color\":\"red\",\"width\":4},\"mode\":\"lines\",\"name\":\"mu- (74)\",\"showlegend\":false,\"x\":[-200.38518135995102,-212.54003811011125],\"y\":[8.460015960821693,1076.9614321192284],\"z\":[-209.75693047647172,-220.96920433424032],\"type\":\"scatter3d\"},{\"line\":{\"color\":\"green\",\"width\":4},\"mode\":\"lines\",\"name\":\"pi+ (74)\",\"showlegend\":false,\"x\":[-200.38518135995102,-216.96049658601424],\"y\":[8.460015960821693,1070.6175691509734],\"z\":[-209.75693047647172,-237.32259538307045],\"type\":\"scatter3d\"},{\"marker\":{\"color\":\"blue\",\"size\":6,\"symbol\":\"cross\"},\"mode\":\"markers\",\"name\":\"MeVPRTL Decay Point\",\"showlegend\":false,\"x\":[135.19340748959675],\"y\":[249.04939674984234],\"z\":[-46.00638597081973],\"type\":\"scatter3d\"},{\"marker\":{\"color\":\"red\",\"size\":5},\"mode\":\"markers\",\"name\":\"Parent Decay Point\",\"showlegend\":false,\"x\":[-39.825669555664064],\"y\":[-8874.6025390625],\"z\":[-9.024043083190918],\"type\":\"scatter3d\"},{\"line\":{\"color\":\"black\",\"dash\":\"dot\",\"width\":4},\"mode\":\"lines\",\"name\":\"Decay Path\",\"showlegend\":false,\"x\":[90.3918247221568,135.19340748959675],\"y\":[-2086.4334217197384,249.04939674984234],\"z\":[-36.539603698933604,-46.00638597081973],\"type\":\"scatter3d\"},{\"line\":{\"color\":\"red\",\"width\":4},\"mode\":\"lines\",\"name\":\"mu- (75)\",\"showlegend\":false,\"x\":[135.19340748959675,147.62632744908944],\"y\":[249.04939674984234,1356.97151673772],\"z\":[-46.00638597081973,-44.0696284915775],\"type\":\"scatter3d\"},{\"line\":{\"color\":\"green\",\"width\":4},\"mode\":\"lines\",\"name\":\"pi+ (75)\",\"showlegend\":false,\"x\":[135.19340748959675,167.564337580484],\"y\":[249.04939674984234,1476.5077517129032],\"z\":[-46.00638597081973,-57.412593804624876],\"type\":\"scatter3d\"},{\"marker\":{\"color\":\"blue\",\"size\":6,\"symbol\":\"cross\"},\"mode\":\"markers\",\"name\":\"MeVPRTL Decay Point\",\"showlegend\":false,\"x\":[147.72695899156233],\"y\":[24.190743997809477],\"z\":[39.74311775036404],\"type\":\"scatter3d\"},{\"marker\":{\"color\":\"red\",\"size\":5},\"mode\":\"markers\",\"name\":\"Parent Decay Point\",\"showlegend\":false,\"x\":[-142.87325408935547],\"y\":[-8844.686767578125],\"z\":[85.09402465820312],\"type\":\"scatter3d\"},{\"line\":{\"color\":\"black\",\"dash\":\"dot\",\"width\":4},\"mode\":\"lines\",\"name\":\"Decay Path\",\"showlegend\":false,\"x\":[142.83383565805468,147.72695899156233],\"y\":[-125.14332232591215,24.190743997809477],\"z\":[40.50673584421826,39.74311775036404],\"type\":\"scatter3d\"},{\"line\":{\"color\":\"red\",\"width\":4},\"mode\":\"lines\",\"name\":\"mu- (76)\",\"showlegend\":false,\"x\":[147.72695899156233,138.21700804700154],\"y\":[24.190743997809477,87.20886063369045],\"z\":[39.74311775036404,55.83794184877158],\"type\":\"scatter3d\"},{\"line\":{\"color\":\"green\",\"width\":4},\"mode\":\"lines\",\"name\":\"pi+ (76)\",\"showlegend\":false,\"x\":[147.72695899156233,162.8375077995723],\"y\":[24.190743997809477,104.48152715673557],\"z\":[39.74311775036404,21.632030985154994],\"type\":\"scatter3d\"},{\"marker\":{\"color\":\"blue\",\"size\":6,\"symbol\":\"cross\"},\"mode\":\"markers\",\"name\":\"MeVPRTL Decay Point\",\"showlegend\":false,\"x\":[-143.63097051816058],\"y\":[252.84910822348684],\"z\":[65.83003909113623],\"type\":\"scatter3d\"},{\"marker\":{\"color\":\"red\",\"size\":5},\"mode\":\"markers\",\"name\":\"Parent Decay Point\",\"showlegend\":false,\"x\":[-68.11301210403442],\"y\":[-10939.267078399658],\"z\":[-4.171996116638184],\"type\":\"scatter3d\"},{\"line\":{\"color\":\"black\",\"dash\":\"dot\",\"width\":4},\"mode\":\"lines\",\"name\":\"Decay Path\",\"showlegend\":false,\"x\":[-140.27628723284639,-143.63097051816058],\"y\":[-244.3307134642743,252.84910822348684],\"z\":[62.72038593868066,65.83003909113623],\"type\":\"scatter3d\"},{\"line\":{\"color\":\"red\",\"width\":4},\"mode\":\"lines\",\"name\":\"mu- (77)\",\"showlegend\":false,\"x\":[-143.63097051816058,-147.68700985967052],\"y\":[252.84910822348684,426.54707814238446],\"z\":[65.83003909113623,71.63460400543163],\"type\":\"scatter3d\"},{\"line\":{\"color\":\"green\",\"width\":4},\"mode\":\"lines\",\"name\":\"pi+ (77)\",\"showlegend\":false,\"x\":[-143.63097051816058,-142.99879273167574],\"y\":[252.84910822348684,576.1967987622252],\"z\":[65.83003909113623,63.24894217760688],\"type\":\"scatter3d\"},{\"marker\":{\"color\":\"blue\",\"size\":6,\"symbol\":\"cross\"},\"mode\":\"markers\",\"name\":\"MeVPRTL Decay Point\",\"showlegend\":false,\"x\":[-174.844502160788],\"y\":[127.03145193356704],\"z\":[4.287158687872388],\"type\":\"scatter3d\"},{\"marker\":{\"color\":\"red\",\"size\":5},\"mode\":\"markers\",\"name\":\"Parent Decay Point\",\"showlegend\":false,\"x\":[-46.36571243286133],\"y\":[-7632.59765625],\"z\":[27.263378143310547],\"type\":\"scatter3d\"},{\"line\":{\"color\":\"black\",\"dash\":\"dot\",\"width\":4},\"mode\":\"lines\",\"name\":\"Decay Path\",\"showlegend\":false,\"x\":[-133.86788132434526,-174.844502160788],\"y\":[-2347.8002340653284,127.03145193356704],\"z\":[11.615121808276399,4.287158687872388],\"type\":\"scatter3d\"},{\"line\":{\"color\":\"red\",\"width\":4},\"mode\":\"lines\",\"name\":\"mu- (78)\",\"showlegend\":false,\"x\":[-174.844502160788,-200.53121053286878],\"y\":[127.03145193356704,1407.5503278574517],\"z\":[4.287158687872388,-3.301660754852988],\"type\":\"scatter3d\"},{\"line\":{\"color\":\"green\",\"width\":4},\"mode\":\"lines\",\"name\":\"pi+ (78)\",\"showlegend\":false,\"x\":[-174.844502160788,-190.13010151044944],\"y\":[127.03145193356704,1321.3163839797087],\"z\":[4.287158687872388,4.551358639515128],\"type\":\"scatter3d\"},{\"marker\":{\"color\":\"blue\",\"size\":6,\"symbol\":\"cross\"},\"mode\":\"markers\",\"name\":\"MeVPRTL Decay Point\",\"showlegend\":false,\"x\":[206.79665991574976],\"y\":[333.86836515558025],\"z\":[66.6708566601234],\"type\":\"scatter3d\"},{\"marker\":{\"color\":\"red\",\"size\":5},\"mode\":\"markers\",\"name\":\"Parent Decay Point\",\"showlegend\":false,\"x\":[-22.148072509765626],\"y\":[-8574.93798828125],\"z\":[-75.76314544677734],\"type\":\"scatter3d\"},{\"line\":{\"color\":\"black\",\"dash\":\"dot\",\"width\":4},\"mode\":\"lines\",\"name\":\"Decay Path\",\"showlegend\":false,\"x\":[172.04356130632925,206.79665991574976],\"y\":[-1018.4607424553571,333.86836515558025],\"z\":[45.04981795740521,66.6708566601234],\"type\":\"scatter3d\"},{\"line\":{\"color\":\"red\",\"width\":4},\"mode\":\"lines\",\"name\":\"mu- (79)\",\"showlegend\":false,\"x\":[206.79665991574976,233.66016011516842],\"y\":[333.86836515558025,961.9677060281954],\"z\":[66.6708566601234,72.76303605147056],\"type\":\"scatter3d\"},{\"line\":{\"color\":\"green\",\"width\":4},\"mode\":\"lines\",\"name\":\"pi+ (79)\",\"showlegend\":false,\"x\":[206.79665991574976,214.6692521286818],\"y\":[333.86836515558025,1057.9043318848874],\"z\":[66.6708566601234,82.20104760452446],\"type\":\"scatter3d\"},{\"marker\":{\"color\":\"blue\",\"size\":6,\"symbol\":\"cross\"},\"mode\":\"markers\",\"name\":\"MeVPRTL Decay Point\",\"showlegend\":false,\"x\":[83.40702912879203],\"y\":[174.7271934945784],\"z\":[-90.5223428107171],\"type\":\"scatter3d\"},{\"marker\":{\"color\":\"red\",\"size\":5},\"mode\":\"markers\",\"name\":\"Parent Decay Point\",\"showlegend\":false,\"x\":[-70.32714751243591],\"y\":[-10161.001831054688],\"z\":[-0.20221106708049774],\"type\":\"scatter3d\"},{\"line\":{\"color\":\"black\",\"dash\":\"dot\",\"width\":4},\"mode\":\"lines\",\"name\":\"Decay Path\",\"showlegend\":false,\"x\":[74.84409076964303,83.40702912879203],\"y\":[-400.96919664921097,174.7271934945784],\"z\":[-85.49154394992841,-90.5223428107171],\"type\":\"scatter3d\"},{\"line\":{\"color\":\"red\",\"width\":4},\"mode\":\"lines\",\"name\":\"mu- (80)\",\"showlegend\":false,\"x\":[83.40702912879203,75.37001708744823],\"y\":[174.7271934945784,404.72378590250844],\"z\":[-90.5223428107171,-91.10858298752429],\"type\":\"scatter3d\"},{\"line\":{\"color\":\"green\",\"width\":4},\"mode\":\"lines\",\"name\":\"pi+ (80)\",\"showlegend\":false,\"x\":[83.40702912879203,99.92836758766046],\"y\":[174.7271934945784,519.9480056708383],\"z\":[-90.5223428107171,-94.9538337475491],\"type\":\"scatter3d\"},{\"marker\":{\"color\":\"blue\",\"size\":6,\"symbol\":\"cross\"},\"mode\":\"markers\",\"name\":\"MeVPRTL Decay Point\",\"showlegend\":false,\"x\":[58.14036899536336],\"y\":[345.9403507108382],\"z\":[-45.36193409670301],\"type\":\"scatter3d\"},{\"marker\":{\"color\":\"red\",\"size\":5},\"mode\":\"markers\",\"name\":\"Parent Decay Point\",\"showlegend\":false,\"x\":[-81.23359992980957],\"y\":[-10713.123992919922],\"z\":[23.25461196899414],\"type\":\"scatter3d\"},{\"line\":{\"color\":\"black\",\"dash\":\"dot\",\"width\":4},\"mode\":\"lines\",\"name\":\"Decay Path\",\"showlegend\":false,\"x\":[46.58315704791877,58.14036899536336],\"y\":[-571.1028500061303,345.9403507108382],\"z\":[-39.67209135132915,-45.36193409670301],\"type\":\"scatter3d\"},{\"line\":{\"color\":\"red\",\"width\":4},\"mode\":\"lines\",\"name\":\"mu- (81)\",\"showlegend\":false,\"x\":[58.14036899536336,52.33088810582158],\"y\":[345.9403507108382,696.993434394084],\"z\":[-45.36193409670301,-46.187979304154425],\"type\":\"scatter3d\"},{\"line\":{\"color\":\"green\",\"width\":4},\"mode\":\"lines\",\"name\":\"pi+ (81)\",\"showlegend\":false,\"x\":[58.14036899536336,75.46524790190306],\"y\":[345.9403507108382,911.6858537517658],\"z\":[-45.36193409670301,-50.21909673233479],\"type\":\"scatter3d\"},{\"marker\":{\"color\":\"blue\",\"size\":6,\"symbol\":\"cross\"},\"mode\":\"markers\",\"name\":\"MeVPRTL Decay Point\",\"showlegend\":false,\"x\":[163.24703042625993],\"y\":[391.22078938976483],\"z\":[161.95536192267207],\"type\":\"scatter3d\"},{\"marker\":{\"color\":\"red\",\"size\":5},\"mode\":\"markers\",\"name\":\"Parent Decay Point\",\"showlegend\":false,\"x\":[-73.50408497333527],\"y\":[-10897.157470703125],\"z\":[4.496582984924316],\"type\":\"scatter3d\"},{\"line\":{\"color\":\"black\",\"dash\":\"dot\",\"width\":4},\"mode\":\"lines\",\"name\":\"Decay Path\",\"showlegend\":false,\"x\":[159.40818127408494,163.24703042625993],\"y\":[208.18308230210428,391.22078938976483],\"z\":[159.4022145002937,161.95536192267207],\"type\":\"scatter3d\"},{\"line\":{\"color\":\"red\",\"width\":4},\"mode\":\"lines\",\"name\":\"mu- (82)\",\"showlegend\":false,\"x\":[163.24703042625993,167.30274022138974],\"y\":[391.22078938976483,459.6170694257105],\"z\":[161.95536192267207,151.6043064376632],\"type\":\"scatter3d\"},{\"line\":{\"color\":\"green\",\"width\":4},\"mode\":\"lines\",\"name\":\"pi+ (82)\",\"showlegend\":false,\"x\":[163.24703042625993,163.47556730939084],\"y\":[391.22078938976483,504.5048255773426],\"z\":[161.95536192267207,172.79689855150448],\"type\":\"scatter3d\"},{\"marker\":{\"color\":\"blue\",\"size\":6,\"symbol\":\"cross\"},\"mode\":\"markers\",\"name\":\"MeVPRTL Decay Point\",\"showlegend\":false,\"x\":[-59.24665230882294],\"y\":[471.4310110723909],\"z\":[-205.80794051335957],\"type\":\"scatter3d\"},{\"marker\":{\"color\":\"red\",\"size\":5},\"mode\":\"markers\",\"name\":\"Parent Decay Point\",\"showlegend\":false,\"x\":[-20.821236877441407],\"y\":[-10042.885986328125],\"z\":[33.96223068237305],\"type\":\"scatter3d\"},{\"line\":{\"color\":\"black\",\"dash\":\"dot\",\"width\":4},\"mode\":\"lines\",\"name\":\"Decay Path\",\"showlegend\":false,\"x\":[-56.059623258829255,-59.24665230882294],\"y\":[-400.63330717545,471.4310110723909],\"z\":[-185.9212459299958,-205.80794051335957],\"type\":\"scatter3d\"},{\"line\":{\"color\":\"red\",\"width\":4},\"mode\":\"lines\",\"name\":\"mu- (83)\",\"showlegend\":false,\"x\":[-59.24665230882294,-68.06507002782396],\"y\":[471.4310110723909,799.2685516090253],\"z\":[-205.80794051335957,-219.38565359386894],\"type\":\"scatter3d\"},{\"line\":{\"color\":\"green\",\"width\":4},\"mode\":\"lines\",\"name\":\"pi+ (83)\",\"showlegend\":false,\"x\":[-59.24665230882294,-53.651117095093454],\"y\":[471.4310110723909,1015.425167168047],\"z\":[-205.80794051335957,-212.1410061852452],\"type\":\"scatter3d\"},{\"marker\":{\"color\":\"blue\",\"size\":6,\"symbol\":\"cross\"},\"mode\":\"markers\",\"name\":\"MeVPRTL Decay Point\",\"showlegend\":false,\"x\":[159.8957744892679],\"y\":[392.6100809801628],\"z\":[53.8604347400275],\"type\":\"scatter3d\"},{\"marker\":{\"color\":\"red\",\"size\":5},\"mode\":\"markers\",\"name\":\"Parent Decay Point\",\"showlegend\":false,\"x\":[-91.94779899597168],\"y\":[-10792.473449707031],\"z\":[-34.04615783691406],\"type\":\"scatter3d\"},{\"line\":{\"color\":\"black\",\"dash\":\"dot\",\"width\":4},\"mode\":\"lines\",\"name\":\"Decay Path\",\"showlegend\":false,\"x\":[153.19681177566324,159.8957744892679],\"y\":[95.09024958760818,392.6100809801628],\"z\":[51.52214602452259,53.8604347400275],\"type\":\"scatter3d\"},{\"line\":{\"color\":\"red\",\"width\":4},\"mode\":\"lines\",\"name\":\"mu- (84)\",\"showlegend\":false,\"x\":[159.8957744892679,150.2522567038516],\"y\":[392.6100809801628,525.1101039553205],\"z\":[53.8604347400275,57.88557458037869],\"type\":\"scatter3d\"},{\"line\":{\"color\":\"green\",\"width\":4},\"mode\":\"lines\",\"name\":\"pi+ (84)\",\"showlegend\":false,\"x\":[159.8957744892679,176.37689446546813],\"y\":[392.6100809801628,556.4671422788148],\"z\":[53.8604347400275,52.12549764654037],\"type\":\"scatter3d\"},{\"marker\":{\"color\":\"blue\",\"size\":6,\"symbol\":\"cross\"},\"mode\":\"markers\",\"name\":\"MeVPRTL Decay Point\",\"showlegend\":false,\"x\":[-192.97287380821547],\"y\":[18.69852900684964],\"z\":[68.80071463244485],\"type\":\"scatter3d\"},{\"marker\":{\"color\":\"red\",\"size\":5},\"mode\":\"markers\",\"name\":\"Parent Decay Point\",\"showlegend\":false,\"x\":[-109.42068603515625],\"y\":[-10545.103454589844],\"z\":[0.8521835803985596],\"type\":\"scatter3d\"},{\"line\":{\"color\":\"black\",\"dash\":\"dot\",\"width\":4},\"mode\":\"lines\",\"name\":\"Decay Path\",\"showlegend\":false,\"x\":[-189.83810191251646,-192.97287380821547],\"y\":[-377.6418954935118,18.69852900684964],\"z\":[66.25137210565747,68.80071463244485],\"type\":\"scatter3d\"},{\"line\":{\"color\":\"red\",\"width\":4},\"mode\":\"lines\",\"name\":\"mu- (85)\",\"showlegend\":false,\"x\":[-192.97287380821547,-195.40786937954513],\"y\":[18.69852900684964,178.77561233027404],\"z\":[68.80071463244485,81.90119369177854],\"type\":\"scatter3d\"},{\"line\":{\"color\":\"green\",\"width\":4},\"mode\":\"lines\",\"name\":\"pi+ (85)\",\"showlegend\":false,\"x\":[-192.97287380821547,-193.6798280584481],\"y\":[18.69852900684964,254.19739174121764],\"z\":[68.80071463244485,58.381224848105724],\"type\":\"scatter3d\"},{\"marker\":{\"color\":\"blue\",\"size\":6,\"symbol\":\"cross\"},\"mode\":\"markers\",\"name\":\"MeVPRTL Decay Point\",\"showlegend\":false,\"x\":[-126.32982990326752],\"y\":[104.0355414559217],\"z\":[-169.72595340318264],\"type\":\"scatter3d\"},{\"marker\":{\"color\":\"red\",\"size\":5},\"mode\":\"markers\",\"name\":\"Parent Decay Point\",\"showlegend\":false,\"x\":[-102.44225242614746],\"y\":[-8200.324462890625],\"z\":[-44.70653533935547],\"type\":\"scatter3d\"},{\"line\":{\"color\":\"black\",\"dash\":\"dot\",\"width\":4},\"mode\":\"lines\",\"name\":\"Decay Path\",\"showlegend\":false,\"x\":[-124.21525952433879,-126.32982990326752],\"y\":[-631.0810143342627,104.0355414559217],\"z\":[-158.65901459442787,-169.72595340318264],\"type\":\"scatter3d\"},{\"line\":{\"color\":\"red\",\"width\":4},\"mode\":\"lines\",\"name\":\"mu- (86)\",\"showlegend\":false,\"x\":[-126.32982990326752,-119.11575036484864],\"y\":[104.0355414559217,411.3474966576724],\"z\":[-169.72595340318264,-165.41219163425777],\"type\":\"scatter3d\"},{\"line\":{\"color\":\"green\",\"width\":4},\"mode\":\"lines\",\"name\":\"pi+ (86)\",\"showlegend\":false,\"x\":[-126.32982990326752,-135.64516871216648],\"y\":[104.0355414559217,531.4341552522206],\"z\":[-169.72595340318264,-185.08713583082957],\"type\":\"scatter3d\"},{\"marker\":{\"color\":\"blue\",\"size\":6,\"symbol\":\"cross\"},\"mode\":\"markers\",\"name\":\"MeVPRTL Decay Point\",\"showlegend\":false,\"x\":[-164.53209488958956],\"y\":[281.3574448874606],\"z\":[-92.43196037284837],\"type\":\"scatter3d\"},{\"marker\":{\"color\":\"red\",\"size\":5},\"mode\":\"markers\",\"name\":\"Parent Decay Point\",\"showlegend\":false,\"x\":[-64.11966064453125],\"y\":[-10751.178237915039],\"z\":[0.4323851466178894],\"type\":\"scatter3d\"},{\"line\":{\"color\":\"black\",\"dash\":\"dot\",\"width\":4},\"mode\":\"lines\",\"name\":\"Decay Path\",\"showlegend\":false,\"x\":[-152.75592415970084,-164.53209488958956],\"y\":[-1012.5164140730465,281.3574448874606],\"z\":[-81.54101448772327,-92.43196037284837],\"type\":\"scatter3d\"},{\"line\":{\"color\":\"red\",\"width\":4},\"mode\":\"lines\",\"name\":\"mu- (87)\",\"showlegend\":false,\"x\":[-164.53209488958956,-160.6119103262654],\"y\":[281.3574448874606,871.4670796452073],\"z\":[-92.43196037284837,-104.58444920364484],\"type\":\"scatter3d\"},{\"line\":{\"color\":\"green\",\"width\":4},\"mode\":\"lines\",\"name\":\"pi+ (87)\",\"showlegend\":false,\"x\":[-164.53209488958956,-180.23504118180074],\"y\":[281.3574448874606,984.9065890663096],\"z\":[-92.43196037284837,-91.1619959110896],\"type\":\"scatter3d\"},{\"marker\":{\"color\":\"blue\",\"size\":6,\"symbol\":\"cross\"},\"mode\":\"markers\",\"name\":\"MeVPRTL Decay Point\",\"showlegend\":false,\"x\":[-195.07095675876076],\"y\":[434.73616431449136],\"z\":[204.32745764479847],\"type\":\"scatter3d\"},{\"marker\":{\"color\":\"red\",\"size\":5},\"mode\":\"markers\",\"name\":\"Parent Decay Point\",\"showlegend\":false,\"x\":[-112.946748046875],\"y\":[-6189.54345703125],\"z\":[73.32205963134766],\"type\":\"scatter3d\"},{\"line\":{\"color\":\"black\",\"dash\":\"dot\",\"width\":4},\"mode\":\"lines\",\"name\":\"Decay Path\",\"showlegend\":false,\"x\":[-178.84701173924714,-195.07095675876076],\"y\":[-873.9150854971067,434.73616431449136],\"z\":[178.44685059887493,204.32745764479847],\"type\":\"scatter3d\"},{\"line\":{\"color\":\"red\",\"width\":4},\"mode\":\"lines\",\"name\":\"mu- (88)\",\"showlegend\":false,\"x\":[-195.07095675876076,-194.15078897196423],\"y\":[434.73616431449136,897.734494834125],\"z\":[204.32745764479847,214.52231617504012],\"type\":\"scatter3d\"},{\"line\":{\"color\":\"green\",\"width\":4},\"mode\":\"lines\",\"name\":\"pi+ (88)\",\"showlegend\":false,\"x\":[-195.07095675876076,-212.19328923187754],\"y\":[434.73616431449136,1280.3135576098425],\"z\":[204.32745764479847,220.0149621861709],\"type\":\"scatter3d\"},{\"marker\":{\"color\":\"blue\",\"size\":6,\"symbol\":\"cross\"},\"mode\":\"markers\",\"name\":\"MeVPRTL Decay Point\",\"showlegend\":false,\"x\":[174.32498125240394],\"y\":[-9.093655869592112],\"z\":[-209.70889083960654],\"type\":\"scatter3d\"},{\"marker\":{\"color\":\"red\",\"size\":5},\"mode\":\"markers\",\"name\":\"Parent Decay Point\",\"showlegend\":false,\"x\":[-83.71874263763428],\"y\":[-10917.84903717041],\"z\":[2.922693967819214],\"type\":\"scatter3d\"},{\"line\":{\"color\":\"black\",\"dash\":\"dot\",\"width\":4},\"mode\":\"lines\",\"name\":\"Decay Path\",\"showlegend\":false,\"x\":[169.83576516185028,174.32498125240394],\"y\":[-198.8745172189585,-9.093655869592112],\"z\":[-206.00971491125034,-209.70889083960654],\"type\":\"scatter3d\"},{\"line\":{\"color\":\"red\",\"width\":4},\"mode\":\"lines\",\"name\":\"mu- (89)\",\"showlegend\":false,\"x\":[174.32498125240394,174.42498981209195],\"y\":[-9.093655869592112,80.90330650832615],\"z\":[-209.70889083960654,-199.76054619557834],\"type\":\"scatter3d\"},{\"line\":{\"color\":\"green\",\"width\":4},\"mode\":\"lines\",\"name\":\"pi+ (89)\",\"showlegend\":false,\"x\":[174.32498125240394,178.95951585697676],\"y\":[-9.093655869592112,88.94128603256381],\"z\":[-209.70889083960654,-224.97601987009793],\"type\":\"scatter3d\"},{\"marker\":{\"color\":\"blue\",\"size\":6,\"symbol\":\"cross\"},\"mode\":\"markers\",\"name\":\"MeVPRTL Decay Point\",\"showlegend\":false,\"x\":[155.11584205757475],\"y\":[169.42503674098407],\"z\":[98.65637371636545],\"type\":\"scatter3d\"},{\"marker\":{\"color\":\"red\",\"size\":5},\"mode\":\"markers\",\"name\":\"Parent Decay Point\",\"showlegend\":false,\"x\":[-70.34068468093872],\"y\":[-10932.9468460083],\"z\":[-4.853102684020996],\"type\":\"scatter3d\"},{\"line\":{\"color\":\"black\",\"dash\":\"dot\",\"width\":4},\"mode\":\"lines\",\"name\":\"Decay Path\",\"showlegend\":false,\"x\":[150.57827772806218,155.11584205757475],\"y\":[-54.02259352689009,169.42503674098407],\"z\":[96.5731299324068,98.65637371636545],\"type\":\"scatter3d\"},{\"line\":{\"color\":\"red\",\"width\":4},\"mode\":\"lines\",\"name\":\"mu- (90)\",\"showlegend\":false,\"x\":[155.11584205757475,148.21669063131006],\"y\":[169.42503674098407,253.79649578576314],\"z\":[98.65637371636545,91.95384211666212],\"type\":\"scatter3d\"},{\"line\":{\"color\":\"green\",\"width\":4},\"mode\":\"lines\",\"name\":\"pi+ (90)\",\"showlegend\":false,\"x\":[155.11584205757475,165.72167188869946],\"y\":[169.42503674098407,307.3680141566944],\"z\":[98.65637371636545,106.72908278680259],\"type\":\"scatter3d\"},{\"marker\":{\"color\":\"blue\",\"size\":6,\"symbol\":\"cross\"},\"mode\":\"markers\",\"name\":\"MeVPRTL Decay Point\",\"showlegend\":false,\"x\":[-122.51048949256166],\"y\":[403.83133007095967],\"z\":[44.60357777296343],\"type\":\"scatter3d\"},{\"marker\":{\"color\":\"red\",\"size\":5},\"mode\":\"markers\",\"name\":\"Parent Decay Point\",\"showlegend\":false,\"x\":[2.3112322998046864],\"y\":[-8458.05419921875],\"z\":[-104.40792083740234],\"type\":\"scatter3d\"},{\"line\":{\"color\":\"black\",\"dash\":\"dot\",\"width\":4},\"mode\":\"lines\",\"name\":\"Decay Path\",\"showlegend\":false,\"x\":[-120.08049402912384,-122.51048949256166],\"y\":[231.31054342854793,403.83133007095967],\"z\":[41.70266228787192,44.60357777296343],\"type\":\"scatter3d\"},{\"line\":{\"color\":\"red\",\"width\":4},\"mode\":\"lines\",\"name\":\"mu- (91)\",\"showlegend\":false,\"x\":[-122.51048949256166,-116.75338109925332],\"y\":[403.83133007095967,469.6097677582793],\"z\":[44.60357777296343,59.17197731887889],\"type\":\"scatter3d\"},{\"line\":{\"color\":\"green\",\"width\":4},\"mode\":\"lines\",\"name\":\"pi+ (91)\",\"showlegend\":false,\"x\":[-122.51048949256166,-129.56483471678825],\"y\":[403.83133007095967,508.1067019597366],\"z\":[44.60357777296343,35.10625942513694],\"type\":\"scatter3d\"},{\"marker\":{\"color\":\"blue\",\"size\":6,\"symbol\":\"cross\"},\"mode\":\"markers\",\"name\":\"MeVPRTL Decay Point\",\"showlegend\":false,\"x\":[207.89901628800763],\"y\":[508.0246013224514],\"z\":[158.9151987972717],\"type\":\"scatter3d\"},{\"marker\":{\"color\":\"red\",\"size\":5},\"mode\":\"markers\",\"name\":\"Parent Decay Point\",\"showlegend\":false,\"x\":[-59.48218086242676],\"y\":[-10634.173095703125],\"z\":[-46.50748825073242],\"type\":\"scatter3d\"},{\"line\":{\"color\":\"black\",\"dash\":\"dot\",\"width\":4},\"mode\":\"lines\",\"name\":\"Decay Path\",\"showlegend\":false,\"x\":[200.87142830262803,207.89901628800763],\"y\":[215.17388668418016,508.0246013224514],\"z\":[153.51606818222425,158.9151987972717],\"type\":\"scatter3d\"},{\"line\":{\"color\":\"red\",\"width\":4},\"mode\":\"lines\",\"name\":\"mu- (92)\",\"showlegend\":false,\"x\":[207.89901628800763,210.4018166974733],\"y\":[508.0246013224514,626.1466983049021],\"z\":[158.9151987972717,173.86340059960727],\"type\":\"scatter3d\"},{\"line\":{\"color\":\"green\",\"width\":4},\"mode\":\"lines\",\"name\":\"pi+ (92)\",\"showlegend\":false,\"x\":[207.89901628800763,212.3892794701997],\"y\":[508.0246013224514,681.6122263408308],\"z\":[158.9151987972717,149.6200489087397],\"type\":\"scatter3d\"},{\"marker\":{\"color\":\"blue\",\"size\":6,\"symbol\":\"cross\"},\"mode\":\"markers\",\"name\":\"MeVPRTL Decay Point\",\"showlegend\":false,\"x\":[83.60240053604963],\"y\":[45.361693629170986],\"z\":[-18.79377409729904],\"type\":\"scatter3d\"},{\"marker\":{\"color\":\"red\",\"size\":5},\"mode\":\"markers\",\"name\":\"Parent Decay Point\",\"showlegend\":false,\"x\":[-69.56828382492066],\"y\":[-10905.605461120605],\"z\":[-4.431676387786865],\"type\":\"scatter3d\"},{\"line\":{\"color\":\"black\",\"dash\":\"dot\",\"width\":4},\"mode\":\"lines\",\"name\":\"Decay Path\",\"showlegend\":false,\"x\":[69.25141488609435,83.60240053604963],\"y\":[-980.664749659288,45.361693629170986],\"z\":[-17.44814938463056,-18.79377409729904],\"type\":\"scatter3d\"},{\"line\":{\"color\":\"red\",\"width\":4},\"mode\":\"lines\",\"name\":\"mu- (93)\",\"showlegend\":false,\"x\":[83.60240053604963,94.3183013969471],\"y\":[45.361693629170986,496.98555151242977],\"z\":[-18.79377409729904,-8.123104144618532],\"type\":\"scatter3d\"},{\"line\":{\"color\":\"green\",\"width\":4},\"mode\":\"lines\",\"name\":\"pi+ (93)\",\"showlegend\":false,\"x\":[83.60240053604963,87.23098520328179],\"y\":[45.361693629170986,619.4750744314221],\"z\":[-18.79377409729904,-30.815975121274523],\"type\":\"scatter3d\"},{\"marker\":{\"color\":\"blue\",\"size\":6,\"symbol\":\"cross\"},\"mode\":\"markers\",\"name\":\"MeVPRTL Decay Point\",\"showlegend\":false,\"x\":[-204.04555189729936],\"y\":[429.1424893364838],\"z\":[-59.49537797477359],\"type\":\"scatter3d\"},{\"marker\":{\"color\":\"red\",\"size\":5},\"mode\":\"markers\",\"name\":\"Parent Decay Point\",\"showlegend\":false,\"x\":[-114.49650314331055],\"y\":[-10818.458618164062],\"z\":[45.85167694091797],\"type\":\"scatter3d\"},{\"line\":{\"color\":\"black\",\"dash\":\"dot\",\"width\":4},\"mode\":\"lines\",\"name\":\"Decay Path\",\"showlegend\":false,\"x\":[-201.91757532921108,-204.04555189729936],\"y\":[161.8629153265054,429.1424893364838],\"z\":[-56.9919894128966,-59.49537797477359],\"type\":\"scatter3d\"},{\"line\":{\"color\":\"red\",\"width\":4},\"mode\":\"lines\",\"name\":\"mu- (94)\",\"showlegend\":false,\"x\":[-204.04555189729936,-199.41326187586557],\"y\":[429.1424893364838,542.9121929458747],\"z\":[-59.49537797477359,-48.1978108281],\"type\":\"scatter3d\"},{\"line\":{\"color\":\"green\",\"width\":4},\"mode\":\"lines\",\"name\":\"pi+ (94)\",\"showlegend\":false,\"x\":[-204.04555189729936,-210.77786713950002],\"y\":[429.1424893364838,581.2506392227667],\"z\":[-59.49537797477359,-73.24571998573882],\"type\":\"scatter3d\"},{\"marker\":{\"color\":\"blue\",\"size\":6,\"symbol\":\"cross\"},\"mode\":\"markers\",\"name\":\"MeVPRTL Decay Point\",\"showlegend\":false,\"x\":[-106.14943588565272],\"y\":[410.0632470355886],\"z\":[-196.51828656310536],\"type\":\"scatter3d\"},{\"marker\":{\"color\":\"red\",\"size\":5},\"mode\":\"markers\",\"name\":\"Parent Decay Point\",\"showlegend\":false,\"x\":[-138.88128784179688],\"y\":[-8243.8154296875],\"z\":[-1.0557893514633179],\"type\":\"scatter3d\"},{\"line\":{\"color\":\"black\",\"dash\":\"dot\",\"width\":4},\"mode\":\"lines\",\"name\":\"Decay Path\",\"showlegend\":false,\"x\":[-114.76058650293498,-106.14943588565272],\"y\":[-1866.6136977579845,410.0632470355886],\"z\":[-145.09568432920963,-196.51828656310536],\"type\":\"scatter3d\"},{\"line\":{\"color\":\"red\",\"width\":4},\"mode\":\"lines\",\"name\":\"mu- (95)\",\"showlegend\":false,\"x\":[-106.14943588565272,-113.37884304137351],\"y\":[410.0632470355886,1299.9837818869241],\"z\":[-196.51828656310536,-218.79440497224496],\"type\":\"scatter3d\"},{\"line\":{\"color\":\"green\",\"width\":4},\"mode\":\"lines\",\"name\":\"pi+ (95)\",\"showlegend\":false,\"x\":[-106.14943588565272,-90.31454700862731],\"y\":[410.0632470355886,1796.711833822964],\"z\":[-196.51828656310536,-225.663415378227],\"type\":\"scatter3d\"},{\"marker\":{\"color\":\"blue\",\"size\":6,\"symbol\":\"cross\"},\"mode\":\"markers\",\"name\":\"MeVPRTL Decay Point\",\"showlegend\":false,\"x\":[208.29277540663227],\"y\":[23.446986924060184],\"z\":[112.37156974911069],\"type\":\"scatter3d\"},{\"marker\":{\"color\":\"red\",\"size\":5},\"mode\":\"markers\",\"name\":\"Parent Decay Point\",\"showlegend\":false,\"x\":[-98.5888321685791],\"y\":[-10520.553985595703],\"z\":[3.877554416656494],\"type\":\"scatter3d\"},{\"line\":{\"color\":\"black\",\"dash\":\"dot\",\"width\":4},\"mode\":\"lines\",\"name\":\"Decay Path\",\"showlegend\":false,\"x\":[178.145968854233,208.29277540663227],\"y\":[-1012.3529755385293,23.446986924060184],\"z\":[101.71355697941763,112.37156974911069],\"type\":\"scatter3d\"},{\"line\":{\"color\":\"red\",\"width\":4},\"mode\":\"lines\",\"name\":\"mu- (96)\",\"showlegend\":false,\"x\":[208.29277540663227,225.23942204572643],\"y\":[23.446986924060184,569.1666187724788],\"z\":[112.37156974911069,120.3188452815441],\"type\":\"scatter3d\"},{\"line\":{\"color\":\"green\",\"width\":4},\"mode\":\"lines\",\"name\":\"pi+ (96)\",\"showlegend\":false,\"x\":[208.29277540663227,221.48667145845656],\"y\":[23.446986924060184,513.5148438625224],\"z\":[112.37156974911069,115.06924016765373],\"type\":\"scatter3d\"},{\"marker\":{\"color\":\"blue\",\"size\":6,\"symbol\":\"cross\"},\"mode\":\"markers\",\"name\":\"MeVPRTL Decay Point\",\"showlegend\":false,\"x\":[-20.580914858280593],\"y\":[389.96977809654527],\"z\":[-148.19257386872016],\"type\":\"scatter3d\"},{\"marker\":{\"color\":\"red\",\"size\":5},\"mode\":\"markers\",\"name\":\"Parent Decay Point\",\"showlegend\":false,\"x\":[-105.31178787231445],\"y\":[-10658.279266357422],\"z\":[-60.21078872680664],\"type\":\"scatter3d\"},{\"line\":{\"color\":\"black\",\"dash\":\"dot\",\"width\":4},\"mode\":\"lines\",\"name\":\"Decay Path\",\"showlegend\":false,\"x\":[-21.842869509021043,-20.580914858280593],\"y\":[225.42067375911986,389.96977809654527],\"z\":[-146.88220116759274,-148.19257386872016],\"type\":\"scatter3d\"},{\"line\":{\"color\":\"red\",\"width\":4},\"mode\":\"lines\",\"name\":\"mu- (97)\",\"showlegend\":false,\"x\":[-20.580914858280593,-34.48952586754821],\"y\":[389.96977809654527,456.7616148366099],\"z\":[-148.19257386872016,-159.89014991333286],\"type\":\"scatter3d\"},{\"line\":{\"color\":\"green\",\"width\":4},\"mode\":\"lines\",\"name\":\"pi+ (97)\",\"showlegend\":false,\"x\":[-20.580914858280593,-6.185863814265094],\"y\":[389.96977809654527,483.7003822300724],\"z\":[-148.19257386872016,-138.34985469176445],\"type\":\"scatter3d\"},{\"marker\":{\"color\":\"blue\",\"size\":6,\"symbol\":\"cross\"},\"mode\":\"markers\",\"name\":\"MeVPRTL Decay Point\",\"showlegend\":false,\"x\":[-183.70147215633455],\"y\":[84.99899636060945],\"z\":[-51.601430075296506],\"type\":\"scatter3d\"},{\"marker\":{\"color\":\"red\",\"size\":5},\"mode\":\"markers\",\"name\":\"Parent Decay Point\",\"showlegend\":false,\"x\":[-98.90490463256836],\"y\":[-9097.796142578125],\"z\":[-7.903017044067383],\"type\":\"scatter3d\"},{\"line\":{\"color\":\"black\",\"dash\":\"dot\",\"width\":4},\"mode\":\"lines\",\"name\":\"Decay Path\",\"showlegend\":false,\"x\":[-160.85567636313084,-183.70147215633455],\"y\":[-2389.019335763741,84.99899636060945],\"z\":[-39.82825281409748,-51.601430075296506],\"type\":\"scatter3d\"},{\"line\":{\"color\":\"red\",\"width\":4},\"mode\":\"lines\",\"name\":\"mu- (98)\",\"showlegend\":false,\"x\":[-183.70147215633455,-186.44707564216193],\"y\":[84.99899636060945,1017.4630514053943],\"z\":[-51.601430075296506,-63.834014131920185],\"type\":\"scatter3d\"},{\"line\":{\"color\":\"green\",\"width\":4},\"mode\":\"lines\",\"name\":\"pi+ (98)\",\"showlegend\":false,\"x\":[-183.70147215633455,-203.7974988014412],\"y\":[84.99899636060945,1626.4714329061908],\"z\":[-51.601430075296506,-51.146165964481696],\"type\":\"scatter3d\"},{\"marker\":{\"color\":\"blue\",\"size\":6,\"symbol\":\"cross\"},\"mode\":\"markers\",\"name\":\"MeVPRTL Decay Point\",\"showlegend\":false,\"x\":[136.8135020997843],\"y\":[111.2785383902301],\"z\":[-197.1995524180409],\"type\":\"scatter3d\"},{\"marker\":{\"color\":\"red\",\"size\":5},\"mode\":\"markers\",\"name\":\"Parent Decay Point\",\"showlegend\":false,\"x\":[-50.713176040649415],\"y\":[-10644.370635986328],\"z\":[-2.141873836517334],\"type\":\"scatter3d\"},{\"line\":{\"color\":\"black\",\"dash\":\"dot\",\"width\":4},\"mode\":\"lines\",\"name\":\"Decay Path\",\"showlegend\":false,\"x\":[132.50065586042732,136.8135020997843],\"y\":[-136.08605822900296,111.2785383902301],\"z\":[-192.71350390552985,-197.1995524180409],\"type\":\"scatter3d\"},{\"line\":{\"color\":\"red\",\"width\":4},\"mode\":\"lines\",\"name\":\"mu- (99)\",\"showlegend\":false,\"x\":[136.8135020997843,145.14187472481143],\"y\":[111.2785383902301,202.63579653708504],\"z\":[-197.1995524180409,-206.2424812738949],\"type\":\"scatter3d\"},{\"line\":{\"color\":\"green\",\"width\":4},\"mode\":\"lines\",\"name\":\"pi+ (99)\",\"showlegend\":false,\"x\":[136.8135020997843,133.33999367343168],\"y\":[111.2785383902301,266.45125557130905],\"z\":[-197.1995524180409,-193.23786493643422],\"type\":\"scatter3d\"}],                        {\"template\":{\"data\":{\"histogram2dcontour\":[{\"type\":\"histogram2dcontour\",\"colorbar\":{\"outlinewidth\":0,\"ticks\":\"\"},\"colorscale\":[[0.0,\"#0d0887\"],[0.1111111111111111,\"#46039f\"],[0.2222222222222222,\"#7201a8\"],[0.3333333333333333,\"#9c179e\"],[0.4444444444444444,\"#bd3786\"],[0.5555555555555556,\"#d8576b\"],[0.6666666666666666,\"#ed7953\"],[0.7777777777777778,\"#fb9f3a\"],[0.8888888888888888,\"#fdca26\"],[1.0,\"#f0f921\"]]}],\"choropleth\":[{\"type\":\"choropleth\",\"colorbar\":{\"outlinewidth\":0,\"ticks\":\"\"}}],\"histogram2d\":[{\"type\":\"histogram2d\",\"colorbar\":{\"outlinewidth\":0,\"ticks\":\"\"},\"colorscale\":[[0.0,\"#0d0887\"],[0.1111111111111111,\"#46039f\"],[0.2222222222222222,\"#7201a8\"],[0.3333333333333333,\"#9c179e\"],[0.4444444444444444,\"#bd3786\"],[0.5555555555555556,\"#d8576b\"],[0.6666666666666666,\"#ed7953\"],[0.7777777777777778,\"#fb9f3a\"],[0.8888888888888888,\"#fdca26\"],[1.0,\"#f0f921\"]]}],\"heatmap\":[{\"type\":\"heatmap\",\"colorbar\":{\"outlinewidth\":0,\"ticks\":\"\"},\"colorscale\":[[0.0,\"#0d0887\"],[0.1111111111111111,\"#46039f\"],[0.2222222222222222,\"#7201a8\"],[0.3333333333333333,\"#9c179e\"],[0.4444444444444444,\"#bd3786\"],[0.5555555555555556,\"#d8576b\"],[0.6666666666666666,\"#ed7953\"],[0.7777777777777778,\"#fb9f3a\"],[0.8888888888888888,\"#fdca26\"],[1.0,\"#f0f921\"]]}],\"heatmapgl\":[{\"type\":\"heatmapgl\",\"colorbar\":{\"outlinewidth\":0,\"ticks\":\"\"},\"colorscale\":[[0.0,\"#0d0887\"],[0.1111111111111111,\"#46039f\"],[0.2222222222222222,\"#7201a8\"],[0.3333333333333333,\"#9c179e\"],[0.4444444444444444,\"#bd3786\"],[0.5555555555555556,\"#d8576b\"],[0.6666666666666666,\"#ed7953\"],[0.7777777777777778,\"#fb9f3a\"],[0.8888888888888888,\"#fdca26\"],[1.0,\"#f0f921\"]]}],\"contourcarpet\":[{\"type\":\"contourcarpet\",\"colorbar\":{\"outlinewidth\":0,\"ticks\":\"\"}}],\"contour\":[{\"type\":\"contour\",\"colorbar\":{\"outlinewidth\":0,\"ticks\":\"\"},\"colorscale\":[[0.0,\"#0d0887\"],[0.1111111111111111,\"#46039f\"],[0.2222222222222222,\"#7201a8\"],[0.3333333333333333,\"#9c179e\"],[0.4444444444444444,\"#bd3786\"],[0.5555555555555556,\"#d8576b\"],[0.6666666666666666,\"#ed7953\"],[0.7777777777777778,\"#fb9f3a\"],[0.8888888888888888,\"#fdca26\"],[1.0,\"#f0f921\"]]}],\"surface\":[{\"type\":\"surface\",\"colorbar\":{\"outlinewidth\":0,\"ticks\":\"\"},\"colorscale\":[[0.0,\"#0d0887\"],[0.1111111111111111,\"#46039f\"],[0.2222222222222222,\"#7201a8\"],[0.3333333333333333,\"#9c179e\"],[0.4444444444444444,\"#bd3786\"],[0.5555555555555556,\"#d8576b\"],[0.6666666666666666,\"#ed7953\"],[0.7777777777777778,\"#fb9f3a\"],[0.8888888888888888,\"#fdca26\"],[1.0,\"#f0f921\"]]}],\"mesh3d\":[{\"type\":\"mesh3d\",\"colorbar\":{\"outlinewidth\":0,\"ticks\":\"\"}}],\"scatter\":[{\"fillpattern\":{\"fillmode\":\"overlay\",\"size\":10,\"solidity\":0.2},\"type\":\"scatter\"}],\"parcoords\":[{\"type\":\"parcoords\",\"line\":{\"colorbar\":{\"outlinewidth\":0,\"ticks\":\"\"}}}],\"scatterpolargl\":[{\"type\":\"scatterpolargl\",\"marker\":{\"colorbar\":{\"outlinewidth\":0,\"ticks\":\"\"}}}],\"bar\":[{\"error_x\":{\"color\":\"#2a3f5f\"},\"error_y\":{\"color\":\"#2a3f5f\"},\"marker\":{\"line\":{\"color\":\"#E5ECF6\",\"width\":0.5},\"pattern\":{\"fillmode\":\"overlay\",\"size\":10,\"solidity\":0.2}},\"type\":\"bar\"}],\"scattergeo\":[{\"type\":\"scattergeo\",\"marker\":{\"colorbar\":{\"outlinewidth\":0,\"ticks\":\"\"}}}],\"scatterpolar\":[{\"type\":\"scatterpolar\",\"marker\":{\"colorbar\":{\"outlinewidth\":0,\"ticks\":\"\"}}}],\"histogram\":[{\"marker\":{\"pattern\":{\"fillmode\":\"overlay\",\"size\":10,\"solidity\":0.2}},\"type\":\"histogram\"}],\"scattergl\":[{\"type\":\"scattergl\",\"marker\":{\"colorbar\":{\"outlinewidth\":0,\"ticks\":\"\"}}}],\"scatter3d\":[{\"type\":\"scatter3d\",\"line\":{\"colorbar\":{\"outlinewidth\":0,\"ticks\":\"\"}},\"marker\":{\"colorbar\":{\"outlinewidth\":0,\"ticks\":\"\"}}}],\"scattermapbox\":[{\"type\":\"scattermapbox\",\"marker\":{\"colorbar\":{\"outlinewidth\":0,\"ticks\":\"\"}}}],\"scatterternary\":[{\"type\":\"scatterternary\",\"marker\":{\"colorbar\":{\"outlinewidth\":0,\"ticks\":\"\"}}}],\"scattercarpet\":[{\"type\":\"scattercarpet\",\"marker\":{\"colorbar\":{\"outlinewidth\":0,\"ticks\":\"\"}}}],\"carpet\":[{\"aaxis\":{\"endlinecolor\":\"#2a3f5f\",\"gridcolor\":\"white\",\"linecolor\":\"white\",\"minorgridcolor\":\"white\",\"startlinecolor\":\"#2a3f5f\"},\"baxis\":{\"endlinecolor\":\"#2a3f5f\",\"gridcolor\":\"white\",\"linecolor\":\"white\",\"minorgridcolor\":\"white\",\"startlinecolor\":\"#2a3f5f\"},\"type\":\"carpet\"}],\"table\":[{\"cells\":{\"fill\":{\"color\":\"#EBF0F8\"},\"line\":{\"color\":\"white\"}},\"header\":{\"fill\":{\"color\":\"#C8D4E3\"},\"line\":{\"color\":\"white\"}},\"type\":\"table\"}],\"barpolar\":[{\"marker\":{\"line\":{\"color\":\"#E5ECF6\",\"width\":0.5},\"pattern\":{\"fillmode\":\"overlay\",\"size\":10,\"solidity\":0.2}},\"type\":\"barpolar\"}],\"pie\":[{\"automargin\":true,\"type\":\"pie\"}]},\"layout\":{\"autotypenumbers\":\"strict\",\"colorway\":[\"#636efa\",\"#EF553B\",\"#00cc96\",\"#ab63fa\",\"#FFA15A\",\"#19d3f3\",\"#FF6692\",\"#B6E880\",\"#FF97FF\",\"#FECB52\"],\"font\":{\"color\":\"#2a3f5f\"},\"hovermode\":\"closest\",\"hoverlabel\":{\"align\":\"left\"},\"paper_bgcolor\":\"white\",\"plot_bgcolor\":\"#E5ECF6\",\"polar\":{\"bgcolor\":\"#E5ECF6\",\"angularaxis\":{\"gridcolor\":\"white\",\"linecolor\":\"white\",\"ticks\":\"\"},\"radialaxis\":{\"gridcolor\":\"white\",\"linecolor\":\"white\",\"ticks\":\"\"}},\"ternary\":{\"bgcolor\":\"#E5ECF6\",\"aaxis\":{\"gridcolor\":\"white\",\"linecolor\":\"white\",\"ticks\":\"\"},\"baxis\":{\"gridcolor\":\"white\",\"linecolor\":\"white\",\"ticks\":\"\"},\"caxis\":{\"gridcolor\":\"white\",\"linecolor\":\"white\",\"ticks\":\"\"}},\"coloraxis\":{\"colorbar\":{\"outlinewidth\":0,\"ticks\":\"\"}},\"colorscale\":{\"sequential\":[[0.0,\"#0d0887\"],[0.1111111111111111,\"#46039f\"],[0.2222222222222222,\"#7201a8\"],[0.3333333333333333,\"#9c179e\"],[0.4444444444444444,\"#bd3786\"],[0.5555555555555556,\"#d8576b\"],[0.6666666666666666,\"#ed7953\"],[0.7777777777777778,\"#fb9f3a\"],[0.8888888888888888,\"#fdca26\"],[1.0,\"#f0f921\"]],\"sequentialminus\":[[0.0,\"#0d0887\"],[0.1111111111111111,\"#46039f\"],[0.2222222222222222,\"#7201a8\"],[0.3333333333333333,\"#9c179e\"],[0.4444444444444444,\"#bd3786\"],[0.5555555555555556,\"#d8576b\"],[0.6666666666666666,\"#ed7953\"],[0.7777777777777778,\"#fb9f3a\"],[0.8888888888888888,\"#fdca26\"],[1.0,\"#f0f921\"]],\"diverging\":[[0,\"#8e0152\"],[0.1,\"#c51b7d\"],[0.2,\"#de77ae\"],[0.3,\"#f1b6da\"],[0.4,\"#fde0ef\"],[0.5,\"#f7f7f7\"],[0.6,\"#e6f5d0\"],[0.7,\"#b8e186\"],[0.8,\"#7fbc41\"],[0.9,\"#4d9221\"],[1,\"#276419\"]]},\"xaxis\":{\"gridcolor\":\"white\",\"linecolor\":\"white\",\"ticks\":\"\",\"title\":{\"standoff\":15},\"zerolinecolor\":\"white\",\"automargin\":true,\"zerolinewidth\":2},\"yaxis\":{\"gridcolor\":\"white\",\"linecolor\":\"white\",\"ticks\":\"\",\"title\":{\"standoff\":15},\"zerolinecolor\":\"white\",\"automargin\":true,\"zerolinewidth\":2},\"scene\":{\"xaxis\":{\"backgroundcolor\":\"#E5ECF6\",\"gridcolor\":\"white\",\"linecolor\":\"white\",\"showbackground\":true,\"ticks\":\"\",\"zerolinecolor\":\"white\",\"gridwidth\":2},\"yaxis\":{\"backgroundcolor\":\"#E5ECF6\",\"gridcolor\":\"white\",\"linecolor\":\"white\",\"showbackground\":true,\"ticks\":\"\",\"zerolinecolor\":\"white\",\"gridwidth\":2},\"zaxis\":{\"backgroundcolor\":\"#E5ECF6\",\"gridcolor\":\"white\",\"linecolor\":\"white\",\"showbackground\":true,\"ticks\":\"\",\"zerolinecolor\":\"white\",\"gridwidth\":2}},\"shapedefaults\":{\"line\":{\"color\":\"#2a3f5f\"}},\"annotationdefaults\":{\"arrowcolor\":\"#2a3f5f\",\"arrowhead\":0,\"arrowwidth\":1},\"geo\":{\"bgcolor\":\"white\",\"landcolor\":\"#E5ECF6\",\"subunitcolor\":\"white\",\"showland\":true,\"showlakes\":true,\"lakecolor\":\"white\"},\"title\":{\"x\":0.05},\"mapbox\":{\"style\":\"light\"},\"autosize\":false}},\"scene\":{\"xaxis\":{\"title\":{\"text\":\"X (cm)\"},\"range\":[-240.0,240.0]},\"yaxis\":{\"title\":{\"text\":\"Z (cm)\"},\"range\":[-50.0,550.0]},\"zaxis\":{\"title\":{\"text\":\"Y (cm)\"},\"range\":[-240.0,240.0]},\"aspectratio\":{\"x\":1,\"y\":1,\"z\":1},\"aspectmode\":\"manual\",\"camera\":{\"up\":{\"x\":0,\"y\":0,\"z\":1},\"center\":{\"x\":0,\"y\":0,\"z\":0},\"eye\":{\"x\":1.25,\"y\":-1.25,\"z\":1.25}}},\"height\":800,\"width\":1200},                        {\"responsive\": true}                    ).then(function(){\n",
       "                            \n",
       "var gd = document.getElementById('6a76d65c-44de-4075-a03c-29ada72569fb');\n",
       "var x = new MutationObserver(function (mutations, observer) {{\n",
       "        var display = window.getComputedStyle(gd).display;\n",
       "        if (!display || display === 'none') {{\n",
       "            console.log([gd, 'removed!']);\n",
       "            Plotly.purge(gd);\n",
       "            observer.disconnect();\n",
       "        }}\n",
       "}});\n",
       "\n",
       "// Listen for the removal of the full notebook cells\n",
       "var notebookContainer = gd.closest('#notebook-container');\n",
       "if (notebookContainer) {{\n",
       "    x.observe(notebookContainer, {childList: true});\n",
       "}}\n",
       "\n",
       "// Listen for the clearing of the current output cell\n",
       "var outputEl = gd.closest('.output');\n",
       "if (outputEl) {{\n",
       "    x.observe(outputEl, {childList: true});\n",
       "}}\n",
       "\n",
       "                        })                };                });            </script>        </div>"
      ]
     },
     "metadata": {},
     "output_type": "display_data"
    }
   ],
   "source": [
    "events_to_plot = list(np.arange(0, 100))  # Change this to the events you want to plot\n",
    "plot_decay_path(df, event_list=events_to_plot)\n",
    "plot_3d(df, event_list=events_to_plot, vector_scale=500)"
   ]
  },
  {
   "cell_type": "markdown",
   "id": "e2623c84",
   "metadata": {},
   "source": []
  },
  {
   "cell_type": "code",
   "execution_count": 39,
   "id": "08e8c639",
   "metadata": {},
   "outputs": [],
   "source": [
    "df_decode = get_parent_decay_point(df.copy())\n",
    "df_decode = get_mevprtl_decay_point(df_decode)\n",
    "df_decode = get_child_mom(df_decode)\n",
    "\n"
   ]
  },
  {
   "cell_type": "code",
   "execution_count": 40,
   "id": "d8e096d6",
   "metadata": {},
   "outputs": [
    {
     "data": {
      "text/plain": [
       "0    [202.03502797682845, -56.47200685565468, 15.13...\n",
       "1    [32.03870664375775, 12.63510124881065, 497.483...\n",
       "2    [-57.054841274541545, -47.37294642191247, 396....\n",
       "Name: mevprtl_dpos, dtype: object"
      ]
     },
     "execution_count": 40,
     "metadata": {},
     "output_type": "execute_result"
    }
   ],
   "source": [
    "df_decode['mevprtl_dpos']"
   ]
  },
  {
   "cell_type": "code",
   "execution_count": null,
   "id": "0adeeb3d",
   "metadata": {},
   "outputs": [],
   "source": []
  }
 ],
 "metadata": {
  "kernelspec": {
   "display_name": "crt",
   "language": "python",
   "name": "python3"
  },
  "language_info": {
   "codemirror_mode": {
    "name": "ipython",
    "version": 3
   },
   "file_extension": ".py",
   "mimetype": "text/x-python",
   "name": "python",
   "nbconvert_exporter": "python",
   "pygments_lexer": "ipython3",
   "version": "3.10.0"
  }
 },
 "nbformat": 4,
 "nbformat_minor": 5
}
